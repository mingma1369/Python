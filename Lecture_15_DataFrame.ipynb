{
  "nbformat": 4,
  "nbformat_minor": 0,
  "metadata": {
    "colab": {
      "name": "Lecture 15 DataFrame.ipynb",
      "provenance": [],
      "authorship_tag": "ABX9TyNq4y52vSjRVTGjc5EOLbqb",
      "include_colab_link": true
    },
    "kernelspec": {
      "name": "python3",
      "display_name": "Python 3"
    },
    "language_info": {
      "name": "python"
    }
  },
  "cells": [
    {
      "cell_type": "markdown",
      "metadata": {
        "id": "view-in-github",
        "colab_type": "text"
      },
      "source": [
        "<a href=\"https://colab.research.google.com/github/mingma1369/Python/blob/main/Lecture_15_DataFrame.ipynb\" target=\"_parent\"><img src=\"https://colab.research.google.com/assets/colab-badge.svg\" alt=\"Open In Colab\"/></a>"
      ]
    },
    {
      "cell_type": "markdown",
      "source": [
        "Lecture 15 DataFrame"
      ],
      "metadata": {
        "id": "SfuGH68k85lB"
      }
    },
    {
      "cell_type": "code",
      "source": [],
      "metadata": {
        "id": "pb0_8ph088Ez"
      },
      "execution_count": null,
      "outputs": []
    }
  ]
}