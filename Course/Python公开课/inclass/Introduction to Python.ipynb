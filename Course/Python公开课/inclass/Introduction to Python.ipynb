{
 "cells": [
  {
   "cell_type": "markdown",
   "id": "e117f76e",
   "metadata": {},
   "source": [
    "# Introduction to Python"
   ]
  },
  {
   "cell_type": "markdown",
   "id": "72f81d60",
   "metadata": {},
   "source": [
    "## Jupyter Notebook 编译器的使用\n",
    "\n"
   ]
  },
  {
   "cell_type": "markdown",
   "id": "38aa5489",
   "metadata": {},
   "source": [
    "1. 编辑代码和执行 - shift + enter\n",
    "2. Cell里面的内容可以选择成“markdown” - 可以把code写成“文章”\n",
    "3. Edit (green) mode - 可以编辑code\n",
    "4. Command (blue) mode - 可以使用快捷键    \n",
    "    \n",
    "    a: add a cell above\n",
    "    \n",
    "    b: add a cell below\n",
    "    \n",
    "    dd: delete a cell\n",
    "    \n",
    "    z: undo\n",
    "    \n",
    "5. 关闭文件\n",
    "\n",
    "    可以点file -> close and halt \n",
    "\n",
    "    回到Home 选择文件 点击shutdown"
   ]
  },
  {
   "cell_type": "code",
   "execution_count": 2,
   "id": "2a7ce955",
   "metadata": {},
   "outputs": [
    {
     "name": "stdout",
     "output_type": "stream",
     "text": [
      "hello world\n"
     ]
    },
    {
     "data": {
      "text/plain": [
       "-1"
      ]
     },
     "execution_count": 2,
     "metadata": {},
     "output_type": "execute_result"
    }
   ],
   "source": [
    "print(\"hello world\")\n",
    "#print(\"this is a demo\") - this is a line of comment, python will not run it\n",
    "\n",
    "\n",
    "\n",
    "x = 1 # this is an assignment statement\n",
    "y = 2\n",
    "x+y \n",
    "x-y\n"
   ]
  },
  {
   "cell_type": "markdown",
   "id": "8747d0e9",
   "metadata": {},
   "source": [
    "## Python的常用数据类型（对象）\n",
    "\n",
    "## 永远记住Python编程的核心是：\n",
    "\n",
    "### 你的对象是谁？\n",
    "### 你要对Ta做啥？\n",
    "\n",
    "\n",
    "\n",
    "\n",
    "### int, float\n",
    "\n",
    "操作：+ - * / ** (乘方/幂)\n",
    "\n"
   ]
  },
  {
   "cell_type": "code",
   "execution_count": 4,
   "id": "a33fb619",
   "metadata": {},
   "outputs": [
    {
     "name": "stdout",
     "output_type": "stream",
     "text": [
      "0.6666666666666666\n",
      "6\n"
     ]
    },
    {
     "data": {
      "text/plain": [
       "2"
      ]
     },
     "execution_count": 4,
     "metadata": {},
     "output_type": "execute_result"
    }
   ],
   "source": [
    "3**4\n",
    "print(y/3)\n",
    "print(y*3)\n",
    "x*2\n"
   ]
  },
  {
   "cell_type": "code",
   "execution_count": 6,
   "id": "03ff616d-40a2-4ec0-bd5d-774bb5f05640",
   "metadata": {},
   "outputs": [],
   "source": [
    "# By running the following python code, Jupyter Notebook will display all results\n",
    "# We will cover the details of this type of \"import\" code later\n",
    "\n",
    "from IPython.core.interactiveshell import InteractiveShell\n",
    "InteractiveShell.ast_node_interactivity = 'all'\n",
    "# 'all, last, last_expr(default), none, last_expr_or_assign'"
   ]
  },
  {
   "cell_type": "code",
   "execution_count": 7,
   "id": "897762a9-2796-42ef-abe7-06e183fcd81a",
   "metadata": {},
   "outputs": [
    {
     "data": {
      "text/plain": [
       "81"
      ]
     },
     "execution_count": 7,
     "metadata": {},
     "output_type": "execute_result"
    },
    {
     "name": "stdout",
     "output_type": "stream",
     "text": [
      "0.6666666666666666\n"
     ]
    },
    {
     "data": {
      "text/plain": [
       "2"
      ]
     },
     "execution_count": 7,
     "metadata": {},
     "output_type": "execute_result"
    }
   ],
   "source": [
    "3**4\n",
    "print(y/3)\n",
    "x*2\n"
   ]
  },
  {
   "cell_type": "markdown",
   "id": "0772fc3e",
   "metadata": {},
   "source": [
    "### Bool：只有True or False，等价于int 1 or 0\n",
    "\n",
    "产生bool的常用操作：<, >, <=, >=, ==, !=, and, or, not\n",
    "\n",
    "\n"
   ]
  },
  {
   "cell_type": "code",
   "execution_count": 8,
   "id": "e0dd8a8f",
   "metadata": {
    "scrolled": true
   },
   "outputs": [
    {
     "data": {
      "text/plain": [
       "True"
      ]
     },
     "execution_count": 8,
     "metadata": {},
     "output_type": "execute_result"
    },
    {
     "data": {
      "text/plain": [
       "True"
      ]
     },
     "execution_count": 8,
     "metadata": {},
     "output_type": "execute_result"
    },
    {
     "data": {
      "text/plain": [
       "6"
      ]
     },
     "execution_count": 8,
     "metadata": {},
     "output_type": "execute_result"
    }
   ],
   "source": [
    "x >= 1\n",
    "x == 1\n",
    "\n",
    "(x == 1)+5\n"
   ]
  },
  {
   "cell_type": "markdown",
   "id": "a7022120",
   "metadata": {},
   "source": [
    "### string / List\n",
    "\n",
    "Indexing / Slicing: Python Index永远从0开始！！\n",
    "\n",
    "s[x] - 取出第x个元素（字符）\n",
    "\n",
    "s[a:b] - 取出从第a个到第b个元素（左含右不含）- 仍然是一个string / list\n",
    "\n",
    "s[a:] - 取出从第a个到最后的所有元素\n",
    "\n",
    "len(s) - 返回s里面元素的个数\n",
    "\n",
    "s.upper(), s.lower() - 返回upper/lower case\n",
    "\n",
    "s.split() - split the string into words, return a list\n",
    "\n",
    "s.replace('old', 'new') - returns a string where all occurrences of 'old' replaced by 'new' "
   ]
  },
  {
   "cell_type": "code",
   "execution_count": 11,
   "id": "7280e729",
   "metadata": {},
   "outputs": [
    {
     "data": {
      "text/plain": [
       "'y'"
      ]
     },
     "execution_count": 11,
     "metadata": {},
     "output_type": "execute_result"
    },
    {
     "data": {
      "text/plain": [
       "'savv'"
      ]
     },
     "execution_count": 11,
     "metadata": {},
     "output_type": "execute_result"
    },
    {
     "data": {
      "text/plain": [
       "'savvy'"
      ]
     },
     "execution_count": 11,
     "metadata": {},
     "output_type": "execute_result"
    },
    {
     "data": {
      "text/plain": [
       "'savvypro is, indeed, the best! 666'"
      ]
     },
     "execution_count": 11,
     "metadata": {},
     "output_type": "execute_result"
    },
    {
     "data": {
      "text/plain": [
       "34"
      ]
     },
     "execution_count": 11,
     "metadata": {},
     "output_type": "execute_result"
    },
    {
     "data": {
      "text/plain": [
       "'SAVVYPRO IS, INDEED, THE BEST! 666'"
      ]
     },
     "execution_count": 11,
     "metadata": {},
     "output_type": "execute_result"
    },
    {
     "data": {
      "text/plain": [
       "['savvypro', 'is,', 'indeed,', 'the', 'best!', '666']"
      ]
     },
     "execution_count": 11,
     "metadata": {},
     "output_type": "execute_result"
    },
    {
     "data": {
      "text/plain": [
       "'savvypro is, absolutely, the best! 666'"
      ]
     },
     "execution_count": 11,
     "metadata": {},
     "output_type": "execute_result"
    }
   ],
   "source": [
    "s = \"savvypro is, indeed, the best! 666\"\n",
    "\n",
    "s[4]\n",
    "\n",
    "s[0:4]\n",
    "s[0:5]\n",
    "s[0:]\n",
    "\n",
    "\n",
    "len(s)\n",
    "\n",
    "s.upper()\n",
    "s.split()\n",
    "s.replace('indeed','absolutely')"
   ]
  },
  {
   "cell_type": "code",
   "execution_count": 13,
   "id": "82ef967c",
   "metadata": {},
   "outputs": [
    {
     "name": "stdout",
     "output_type": "stream",
     "text": [
      "1999\n"
     ]
    },
    {
     "data": {
      "text/plain": [
       "['Fantasy', 'Mystery', 'Triller']"
      ]
     },
     "execution_count": 13,
     "metadata": {},
     "output_type": "execute_result"
    },
    {
     "data": {
      "text/plain": [
       "'Fantasy'"
      ]
     },
     "execution_count": 13,
     "metadata": {},
     "output_type": "execute_result"
    },
    {
     "data": {
      "text/plain": [
       "['Triangle', 1999, 'Fantasy,Mystery,Triller', 'Rating: 4']"
      ]
     },
     "execution_count": 13,
     "metadata": {},
     "output_type": "execute_result"
    }
   ],
   "source": [
    "m = ['Triangle', 1999, 'Fantasy,Mystery,Triller']\n",
    "#拿取电影名\n",
    "print(m[0]) \n",
    "#电影名和年份\n",
    "\n",
    "#电影类型分开写成list   -    .split method\n",
    "m[2].split(\",\")\n",
    "m[2].split(\",\")[0]\n",
    "#给m加一个元素：评分 4分\n",
    "m.append('Rating: 4')\n",
    "m\n"
   ]
  },
  {
   "cell_type": "markdown",
   "id": "8e6e7bcd",
   "metadata": {},
   "source": [
    "### Dictionary\n",
    "\n"
   ]
  },
  {
   "cell_type": "code",
   "execution_count": 14,
   "id": "ac00165e",
   "metadata": {},
   "outputs": [
    {
     "data": {
      "text/plain": [
       "'Analytics, Visualization, Machine Learning, Big Data'"
      ]
     },
     "execution_count": 14,
     "metadata": {},
     "output_type": "execute_result"
    },
    {
     "data": {
      "text/plain": [
       "{'SAS': 'Extraction, Analytics, Visualization, Big Data',\n",
       " 'Excel': 'Analytics, Visualization',\n",
       " 'CFA': 'Financial Industry, Certification, Portfolio Management',\n",
       " 'FRM': 'Financial Industry, Certification, Risk Management',\n",
       " 'Python': 'Analytics, Visualization, Machine Learning, Big Data'}"
      ]
     },
     "execution_count": 14,
     "metadata": {},
     "output_type": "execute_result"
    },
    {
     "data": {
      "text/plain": [
       "{'SAS': 'Extraction, Analytics, Visualization, Big Data',\n",
       " 'Excel': 'Analytics, Visualization',\n",
       " 'CFA': 'Financial Industry, Certification, Portfolio Management',\n",
       " 'FRM': 'Financial Industry, Certification, Risk Management',\n",
       " 'Python': 'Analytics, Visualization, Machine Learning, Big Data',\n",
       " 'R': 'a lot more'}"
      ]
     },
     "execution_count": 14,
     "metadata": {},
     "output_type": "execute_result"
    }
   ],
   "source": [
    "D = {'SAS': 'Extraction, Analytics, Visualization', \n",
    "     'Excel': 'Analytics, Visualization', \n",
    "     'CFA': 'Financial Industry, Certification, Portfolio Management', \n",
    "     'FRM': 'Financial Industry, Certification, Risk Management', \n",
    "     'Python': 'Analytics, Visualization, Machine Learning, Big Data'}\n",
    "#访问\n",
    "D['Python']\n",
    "#修改\n",
    "D['SAS'] = 'Extraction, Analytics, Visualization, Big Data'\n",
    "D\n",
    "#添加\n",
    "D['R'] = 'a lot more'\n",
    "D"
   ]
  },
  {
   "cell_type": "code",
   "execution_count": 15,
   "id": "8f3065d0",
   "metadata": {},
   "outputs": [
    {
     "data": {
      "text/plain": [
       "{'name': 'Cat', 'age': 2}"
      ]
     },
     "execution_count": 15,
     "metadata": {},
     "output_type": "execute_result"
    },
    {
     "name": "stdout",
     "output_type": "stream",
     "text": [
      "{'animal': {'name': 'Dog', 'age': 5}, 'animal1': {'name': 'Cat', 'age': 5}, 'animal2': {'name': 'Rabbit', 'age': 1}}\n"
     ]
    }
   ],
   "source": [
    "# Sample Interview Question: explain what will happen for the following code\n",
    "animaldict = {\n",
    "    \"animal\":{\n",
    "      \"name\": \"Dog\",\n",
    "      \"age\":5\n",
    "    },\n",
    "    \"animal1\":{\n",
    "        \"name\": \"Cat\",\n",
    "        \"age\":2\n",
    "    },\n",
    "    \"animal2\":{\n",
    "        \"name\": \"Rabbit\",\n",
    "        \"age\":1\n",
    "    }   \n",
    "}\n",
    "\n",
    "animaldict[\"animal1\"]\n",
    "animaldict[\"animal1\"]['age'] = 5\n",
    " \n",
    "print(animaldict)"
   ]
  },
  {
   "cell_type": "code",
   "execution_count": 16,
   "id": "1315c143",
   "metadata": {},
   "outputs": [
    {
     "data": {
      "text/plain": [
       "226"
      ]
     },
     "execution_count": 16,
     "metadata": {},
     "output_type": "execute_result"
    }
   ],
   "source": [
    "# Sample Interview Question: calculate the sum of the values in the following dictionary\n",
    "\n",
    "my_dict = {\n",
    "    \"Anna\": 123 , \n",
    "    \"Bob\": 44,\n",
    "    \"Emma\": 59,\n",
    "}\n",
    "\n",
    "my_dict[\"Anna\"] + my_dict[\"Bob\"] + my_dict[\"Emma\"]"
   ]
  },
  {
   "cell_type": "markdown",
   "id": "1f6ed268",
   "metadata": {},
   "source": [
    "# If-else"
   ]
  },
  {
   "cell_type": "code",
   "execution_count": 19,
   "id": "b2432b7b",
   "metadata": {},
   "outputs": [
    {
     "name": "stdout",
     "output_type": "stream",
     "text": [
      "not an integer\n"
     ]
    }
   ],
   "source": [
    "a = -3937.001\n",
    "\n",
    "# % 取余数\n",
    "\n",
    "if a % 2 == 0: \n",
    "    print(\"even\")\n",
    "elif a % 2 ==1:\n",
    "    print(\"odd\")\n",
    "else:\n",
    "    print(\"not an integer\")"
   ]
  },
  {
   "cell_type": "markdown",
   "id": "600ce9e2",
   "metadata": {},
   "source": [
    "## For in Loop"
   ]
  },
  {
   "cell_type": "code",
   "execution_count": 20,
   "id": "aa611a31",
   "metadata": {},
   "outputs": [
    {
     "name": "stdout",
     "output_type": "stream",
     "text": [
      "21\n"
     ]
    }
   ],
   "source": [
    "# sum of a list\n",
    "L = [1,2,3,4,5,6]\n",
    "\n",
    "sum = 0\n",
    "for i in L:\n",
    "    sum = sum + i\n",
    "print(sum)"
   ]
  },
  {
   "cell_type": "code",
   "execution_count": 21,
   "id": "fb1cee95",
   "metadata": {},
   "outputs": [
    {
     "name": "stdout",
     "output_type": "stream",
     "text": [
      "226\n"
     ]
    }
   ],
   "source": [
    "# sum of the values of a dictionary\n",
    "# important: 当循环指标在dictionary里面循环的时候，循环的其实是disctionary里面的keys\n",
    "my_dict = {\n",
    "    \"Anna\": 123 , \n",
    "    \"Bob\": 44,\n",
    "    \"Emma\": 59,\n",
    "}\n",
    "sum = 0\n",
    "for i in my_dict:\n",
    "    sum = my_dict[i] + sum\n",
    "    \n",
    "print(sum)"
   ]
  },
  {
   "cell_type": "markdown",
   "id": "6c5f42de",
   "metadata": {},
   "source": [
    "# 练习：ChatGPT中常用的自然语言处理(NLP)分析- “统计下面这个script中每个单词出现的次数”\n",
    "- 要求：\n",
    "    - 不考虑标点：比如 color 和 color. 或者 color, 都是同一个词\n",
    "    - 不考虑大小写： 比如 Overall 和 overall 或者 OVERALL都是同一个词\n",
    "    - 统计的结果存在一个dictionary里面"
   ]
  },
  {
   "cell_type": "code",
   "execution_count": 22,
   "id": "d8711018",
   "metadata": {},
   "outputs": [
    {
     "name": "stdout",
     "output_type": "stream",
     "text": [
      "Overall, I'm really happy with this jacket. Definitely waterproof. And living in super rainy Oregon, it's absolutely perfect for the winter weather here.I did get it for a snowboarding trip, but it has quickly replaced my old rain coat. It's warm. So warm. The sleeves aren't fleece lined but they still keep you warm. I get too warm most of the time. xD True to color. I was looking for a yellow, and I got exactly the bright yellow that was pictured. Zippers, all of the pockets zip, the only one I've struggled with was the inner breast pocket, because it is fleece lined and it gets caught in the zipper. Otherwise they're all pretty awesome and durable zippers.My only real gripe about this coat is the hood. It's fleece lined, warm, and detachable, I just wish it attached to the jacket in the front instead of velcroing to itself in front of your face. Not comfortable at all. Leaving it open is easiest.My body shape is also a bit weird with a narrow waist and wide hips so it's a bit puffy at my tummy, but for the warmth and being actually water-proof I'd say it's a fair trade off.\n"
     ]
    }
   ],
   "source": [
    "script = \"Overall, I'm really happy with this jacket. Definitely waterproof. And living in super rainy Oregon, it's absolutely perfect for the winter weather here.\\\n",
    "I did get it for a snowboarding trip, but it has quickly replaced my old rain coat. It's warm. So warm. The sleeves aren't fleece lined but they still keep you warm. \\\n",
    "I get too warm most of the time. xD True to color. I was looking for a yellow, and I got exactly the bright yellow that was pictured. Zippers, all of the pockets zip, \\\n",
    "the only one I've struggled with was the inner breast pocket, because it is fleece lined and it gets caught in the zipper. Otherwise they're all pretty awesome and durable zippers.\\\n",
    "My only real gripe about this coat is the hood. It's fleece lined, warm, and detachable, I just wish it attached to the jacket in the front instead of velcroing to itself in front \\\n",
    "of your face. Not comfortable at all. Leaving it open is easiest.My body shape is also a bit weird with a narrow waist and wide hips so it's a bit puffy at my tummy, but for the warmth \\\n",
    "and being actually water-proof I'd say it's a fair trade off.\"\n",
    "\n",
    "print(script)\n"
   ]
  },
  {
   "cell_type": "code",
   "execution_count": 23,
   "id": "8c1b4b5c",
   "metadata": {},
   "outputs": [
    {
     "data": {
      "text/plain": [
       "\"OVERALL, I'M REALLY HAPPY WITH THIS JACKET. DEFINITELY WATERPROOF. AND LIVING IN SUPER RAINY OREGON, IT'S ABSOLUTELY PERFECT FOR THE WINTER WEATHER HERE.I DID GET IT FOR A SNOWBOARDING TRIP, BUT IT HAS QUICKLY REPLACED MY OLD RAIN COAT. IT'S WARM. SO WARM. THE SLEEVES AREN'T FLEECE LINED BUT THEY STILL KEEP YOU WARM. I GET TOO WARM MOST OF THE TIME. XD TRUE TO COLOR. I WAS LOOKING FOR A YELLOW, AND I GOT EXACTLY THE BRIGHT YELLOW THAT WAS PICTURED. ZIPPERS, ALL OF THE POCKETS ZIP, THE ONLY ONE I'VE STRUGGLED WITH WAS THE INNER BREAST POCKET, BECAUSE IT IS FLEECE LINED AND IT GETS CAUGHT IN THE ZIPPER. OTHERWISE THEY'RE ALL PRETTY AWESOME AND DURABLE ZIPPERS.MY ONLY REAL GRIPE ABOUT THIS COAT IS THE HOOD. IT'S FLEECE LINED, WARM, AND DETACHABLE, I JUST WISH IT ATTACHED TO THE JACKET IN THE FRONT INSTEAD OF VELCROING TO ITSELF IN FRONT OF YOUR FACE. NOT COMFORTABLE AT ALL. LEAVING IT OPEN IS EASIEST.MY BODY SHAPE IS ALSO A BIT WEIRD WITH A NARROW WAIST AND WIDE HIPS SO IT'S A BIT PUFFY AT MY TUMMY, BUT FOR THE WARMTH AND BEING ACTUALLY WATER-PROOF I'D SAY IT'S A FAIR TRADE OFF.\""
      ]
     },
     "execution_count": 23,
     "metadata": {},
     "output_type": "execute_result"
    }
   ],
   "source": [
    "script.upper()"
   ]
  },
  {
   "cell_type": "code",
   "execution_count": 24,
   "id": "c38ee260",
   "metadata": {},
   "outputs": [
    {
     "data": {
      "text/plain": [
       "'OVERALL  IM REALLY HAPPY WITH THIS JACKET  DEFINITELY WATERPROOF  AND LIVING IN SUPER RAINY OREGON  ITS ABSOLUTELY PERFECT FOR THE WINTER WEATHER HERE I DID GET IT FOR A SNOWBOARDING TRIP  BUT IT HAS QUICKLY REPLACED MY OLD RAIN COAT  ITS WARM  SO WARM  THE SLEEVES ARENT FLEECE LINED BUT THEY STILL KEEP YOU WARM  I GET TOO WARM MOST OF THE TIME  XD TRUE TO COLOR  I WAS LOOKING FOR A YELLOW  AND I GOT EXACTLY THE BRIGHT YELLOW THAT WAS PICTURED  ZIPPERS  ALL OF THE POCKETS ZIP  THE ONLY ONE IVE STRUGGLED WITH WAS THE INNER BREAST POCKET  BECAUSE IT IS FLEECE LINED AND IT GETS CAUGHT IN THE ZIPPER  OTHERWISE THEYRE ALL PRETTY AWESOME AND DURABLE ZIPPERS MY ONLY REAL GRIPE ABOUT THIS COAT IS THE HOOD  ITS FLEECE LINED  WARM  AND DETACHABLE  I JUST WISH IT ATTACHED TO THE JACKET IN THE FRONT INSTEAD OF VELCROING TO ITSELF IN FRONT OF YOUR FACE  NOT COMFORTABLE AT ALL  LEAVING IT OPEN IS EASIEST MY BODY SHAPE IS ALSO A BIT WEIRD WITH A NARROW WAIST AND WIDE HIPS SO ITS A BIT PUFFY AT MY TUMMY  BUT FOR THE WARMTH AND BEING ACTUALLY WATER-PROOF ID SAY ITS A FAIR TRADE OFF '"
      ]
     },
     "execution_count": 24,
     "metadata": {},
     "output_type": "execute_result"
    }
   ],
   "source": [
    "script.upper().replace(',',' ').replace('.',' ').replace(\"'\",'')"
   ]
  },
  {
   "cell_type": "code",
   "execution_count": 25,
   "id": "014c5705",
   "metadata": {},
   "outputs": [
    {
     "data": {
      "text/plain": [
       "['OVERALL',\n",
       " 'IM',\n",
       " 'REALLY',\n",
       " 'HAPPY',\n",
       " 'WITH',\n",
       " 'THIS',\n",
       " 'JACKET',\n",
       " 'DEFINITELY',\n",
       " 'WATERPROOF',\n",
       " 'AND',\n",
       " 'LIVING',\n",
       " 'IN',\n",
       " 'SUPER',\n",
       " 'RAINY',\n",
       " 'OREGON',\n",
       " 'ITS',\n",
       " 'ABSOLUTELY',\n",
       " 'PERFECT',\n",
       " 'FOR',\n",
       " 'THE',\n",
       " 'WINTER',\n",
       " 'WEATHER',\n",
       " 'HERE',\n",
       " 'I',\n",
       " 'DID',\n",
       " 'GET',\n",
       " 'IT',\n",
       " 'FOR',\n",
       " 'A',\n",
       " 'SNOWBOARDING',\n",
       " 'TRIP',\n",
       " 'BUT',\n",
       " 'IT',\n",
       " 'HAS',\n",
       " 'QUICKLY',\n",
       " 'REPLACED',\n",
       " 'MY',\n",
       " 'OLD',\n",
       " 'RAIN',\n",
       " 'COAT',\n",
       " 'ITS',\n",
       " 'WARM',\n",
       " 'SO',\n",
       " 'WARM',\n",
       " 'THE',\n",
       " 'SLEEVES',\n",
       " 'ARENT',\n",
       " 'FLEECE',\n",
       " 'LINED',\n",
       " 'BUT',\n",
       " 'THEY',\n",
       " 'STILL',\n",
       " 'KEEP',\n",
       " 'YOU',\n",
       " 'WARM',\n",
       " 'I',\n",
       " 'GET',\n",
       " 'TOO',\n",
       " 'WARM',\n",
       " 'MOST',\n",
       " 'OF',\n",
       " 'THE',\n",
       " 'TIME',\n",
       " 'XD',\n",
       " 'TRUE',\n",
       " 'TO',\n",
       " 'COLOR',\n",
       " 'I',\n",
       " 'WAS',\n",
       " 'LOOKING',\n",
       " 'FOR',\n",
       " 'A',\n",
       " 'YELLOW',\n",
       " 'AND',\n",
       " 'I',\n",
       " 'GOT',\n",
       " 'EXACTLY',\n",
       " 'THE',\n",
       " 'BRIGHT',\n",
       " 'YELLOW',\n",
       " 'THAT',\n",
       " 'WAS',\n",
       " 'PICTURED',\n",
       " 'ZIPPERS',\n",
       " 'ALL',\n",
       " 'OF',\n",
       " 'THE',\n",
       " 'POCKETS',\n",
       " 'ZIP',\n",
       " 'THE',\n",
       " 'ONLY',\n",
       " 'ONE',\n",
       " 'IVE',\n",
       " 'STRUGGLED',\n",
       " 'WITH',\n",
       " 'WAS',\n",
       " 'THE',\n",
       " 'INNER',\n",
       " 'BREAST',\n",
       " 'POCKET',\n",
       " 'BECAUSE',\n",
       " 'IT',\n",
       " 'IS',\n",
       " 'FLEECE',\n",
       " 'LINED',\n",
       " 'AND',\n",
       " 'IT',\n",
       " 'GETS',\n",
       " 'CAUGHT',\n",
       " 'IN',\n",
       " 'THE',\n",
       " 'ZIPPER',\n",
       " 'OTHERWISE',\n",
       " 'THEYRE',\n",
       " 'ALL',\n",
       " 'PRETTY',\n",
       " 'AWESOME',\n",
       " 'AND',\n",
       " 'DURABLE',\n",
       " 'ZIPPERS',\n",
       " 'MY',\n",
       " 'ONLY',\n",
       " 'REAL',\n",
       " 'GRIPE',\n",
       " 'ABOUT',\n",
       " 'THIS',\n",
       " 'COAT',\n",
       " 'IS',\n",
       " 'THE',\n",
       " 'HOOD',\n",
       " 'ITS',\n",
       " 'FLEECE',\n",
       " 'LINED',\n",
       " 'WARM',\n",
       " 'AND',\n",
       " 'DETACHABLE',\n",
       " 'I',\n",
       " 'JUST',\n",
       " 'WISH',\n",
       " 'IT',\n",
       " 'ATTACHED',\n",
       " 'TO',\n",
       " 'THE',\n",
       " 'JACKET',\n",
       " 'IN',\n",
       " 'THE',\n",
       " 'FRONT',\n",
       " 'INSTEAD',\n",
       " 'OF',\n",
       " 'VELCROING',\n",
       " 'TO',\n",
       " 'ITSELF',\n",
       " 'IN',\n",
       " 'FRONT',\n",
       " 'OF',\n",
       " 'YOUR',\n",
       " 'FACE',\n",
       " 'NOT',\n",
       " 'COMFORTABLE',\n",
       " 'AT',\n",
       " 'ALL',\n",
       " 'LEAVING',\n",
       " 'IT',\n",
       " 'OPEN',\n",
       " 'IS',\n",
       " 'EASIEST',\n",
       " 'MY',\n",
       " 'BODY',\n",
       " 'SHAPE',\n",
       " 'IS',\n",
       " 'ALSO',\n",
       " 'A',\n",
       " 'BIT',\n",
       " 'WEIRD',\n",
       " 'WITH',\n",
       " 'A',\n",
       " 'NARROW',\n",
       " 'WAIST',\n",
       " 'AND',\n",
       " 'WIDE',\n",
       " 'HIPS',\n",
       " 'SO',\n",
       " 'ITS',\n",
       " 'A',\n",
       " 'BIT',\n",
       " 'PUFFY',\n",
       " 'AT',\n",
       " 'MY',\n",
       " 'TUMMY',\n",
       " 'BUT',\n",
       " 'FOR',\n",
       " 'THE',\n",
       " 'WARMTH',\n",
       " 'AND',\n",
       " 'BEING',\n",
       " 'ACTUALLY',\n",
       " 'WATER-PROOF',\n",
       " 'ID',\n",
       " 'SAY',\n",
       " 'ITS',\n",
       " 'A',\n",
       " 'FAIR',\n",
       " 'TRADE',\n",
       " 'OFF']"
      ]
     },
     "execution_count": 25,
     "metadata": {},
     "output_type": "execute_result"
    }
   ],
   "source": [
    "L = script.upper().replace(',',' ').replace('.',' ').replace(\"'\",'').split()\n",
    "L"
   ]
  },
  {
   "cell_type": "markdown",
   "id": "cc20ea55",
   "metadata": {},
   "source": [
    "D = {\n",
    "    'OVERALL' : 2, \n",
    "    'IM' : 1,\n",
    "    'REALLY' : 2\n",
    "    .......}"
   ]
  },
  {
   "cell_type": "code",
   "execution_count": 26,
   "id": "b977ef99",
   "metadata": {},
   "outputs": [
    {
     "data": {
      "text/plain": [
       "{'OVERALL': 1,\n",
       " 'IM': 1,\n",
       " 'REALLY': 1,\n",
       " 'HAPPY': 1,\n",
       " 'WITH': 3,\n",
       " 'THIS': 2,\n",
       " 'JACKET': 2,\n",
       " 'DEFINITELY': 1,\n",
       " 'WATERPROOF': 1,\n",
       " 'AND': 7,\n",
       " 'LIVING': 1,\n",
       " 'IN': 4,\n",
       " 'SUPER': 1,\n",
       " 'RAINY': 1,\n",
       " 'OREGON': 1,\n",
       " 'ITS': 5,\n",
       " 'ABSOLUTELY': 1,\n",
       " 'PERFECT': 1,\n",
       " 'FOR': 4,\n",
       " 'THE': 12,\n",
       " 'WINTER': 1,\n",
       " 'WEATHER': 1,\n",
       " 'HERE': 1,\n",
       " 'I': 5,\n",
       " 'DID': 1,\n",
       " 'GET': 2,\n",
       " 'IT': 6,\n",
       " 'A': 6,\n",
       " 'SNOWBOARDING': 1,\n",
       " 'TRIP': 1,\n",
       " 'BUT': 3,\n",
       " 'HAS': 1,\n",
       " 'QUICKLY': 1,\n",
       " 'REPLACED': 1,\n",
       " 'MY': 4,\n",
       " 'OLD': 1,\n",
       " 'RAIN': 1,\n",
       " 'COAT': 2,\n",
       " 'WARM': 5,\n",
       " 'SO': 2,\n",
       " 'SLEEVES': 1,\n",
       " 'ARENT': 1,\n",
       " 'FLEECE': 3,\n",
       " 'LINED': 3,\n",
       " 'THEY': 1,\n",
       " 'STILL': 1,\n",
       " 'KEEP': 1,\n",
       " 'YOU': 1,\n",
       " 'TOO': 1,\n",
       " 'MOST': 1,\n",
       " 'OF': 4,\n",
       " 'TIME': 1,\n",
       " 'XD': 1,\n",
       " 'TRUE': 1,\n",
       " 'TO': 3,\n",
       " 'COLOR': 1,\n",
       " 'WAS': 3,\n",
       " 'LOOKING': 1,\n",
       " 'YELLOW': 2,\n",
       " 'GOT': 1,\n",
       " 'EXACTLY': 1,\n",
       " 'BRIGHT': 1,\n",
       " 'THAT': 1,\n",
       " 'PICTURED': 1,\n",
       " 'ZIPPERS': 2,\n",
       " 'ALL': 3,\n",
       " 'POCKETS': 1,\n",
       " 'ZIP': 1,\n",
       " 'ONLY': 2,\n",
       " 'ONE': 1,\n",
       " 'IVE': 1,\n",
       " 'STRUGGLED': 1,\n",
       " 'INNER': 1,\n",
       " 'BREAST': 1,\n",
       " 'POCKET': 1,\n",
       " 'BECAUSE': 1,\n",
       " 'IS': 4,\n",
       " 'GETS': 1,\n",
       " 'CAUGHT': 1,\n",
       " 'ZIPPER': 1,\n",
       " 'OTHERWISE': 1,\n",
       " 'THEYRE': 1,\n",
       " 'PRETTY': 1,\n",
       " 'AWESOME': 1,\n",
       " 'DURABLE': 1,\n",
       " 'REAL': 1,\n",
       " 'GRIPE': 1,\n",
       " 'ABOUT': 1,\n",
       " 'HOOD': 1,\n",
       " 'DETACHABLE': 1,\n",
       " 'JUST': 1,\n",
       " 'WISH': 1,\n",
       " 'ATTACHED': 1,\n",
       " 'FRONT': 2,\n",
       " 'INSTEAD': 1,\n",
       " 'VELCROING': 1,\n",
       " 'ITSELF': 1,\n",
       " 'YOUR': 1,\n",
       " 'FACE': 1,\n",
       " 'NOT': 1,\n",
       " 'COMFORTABLE': 1,\n",
       " 'AT': 2,\n",
       " 'LEAVING': 1,\n",
       " 'OPEN': 1,\n",
       " 'EASIEST': 1,\n",
       " 'BODY': 1,\n",
       " 'SHAPE': 1,\n",
       " 'ALSO': 1,\n",
       " 'BIT': 2,\n",
       " 'WEIRD': 1,\n",
       " 'NARROW': 1,\n",
       " 'WAIST': 1,\n",
       " 'WIDE': 1,\n",
       " 'HIPS': 1,\n",
       " 'PUFFY': 1,\n",
       " 'TUMMY': 1,\n",
       " 'WARMTH': 1,\n",
       " 'BEING': 1,\n",
       " 'ACTUALLY': 1,\n",
       " 'WATER-PROOF': 1,\n",
       " 'ID': 1,\n",
       " 'SAY': 1,\n",
       " 'FAIR': 1,\n",
       " 'TRADE': 1,\n",
       " 'OFF': 1}"
      ]
     },
     "execution_count": 26,
     "metadata": {},
     "output_type": "execute_result"
    }
   ],
   "source": [
    "D = {}\n",
    "\n",
    "for i in L:\n",
    "    if i not in D:\n",
    "        D[i]=1\n",
    "    else:\n",
    "        D[i]=D[i]+1\n",
    "\n",
    "D"
   ]
  },
  {
   "cell_type": "code",
   "execution_count": 27,
   "id": "4c617e28",
   "metadata": {},
   "outputs": [
    {
     "data": {
      "text/plain": [
       "{'WITH': 3,\n",
       " 'THIS': 2,\n",
       " 'JACKET': 2,\n",
       " 'AND': 7,\n",
       " 'IN': 4,\n",
       " 'ITS': 5,\n",
       " 'FOR': 4,\n",
       " 'THE': 12,\n",
       " 'I': 5,\n",
       " 'GET': 2,\n",
       " 'IT': 6,\n",
       " 'A': 6,\n",
       " 'BUT': 3,\n",
       " 'MY': 4,\n",
       " 'COAT': 2,\n",
       " 'WARM': 5,\n",
       " 'SO': 2,\n",
       " 'FLEECE': 3,\n",
       " 'LINED': 3,\n",
       " 'OF': 4,\n",
       " 'TO': 3,\n",
       " 'WAS': 3,\n",
       " 'YELLOW': 2,\n",
       " 'ZIPPERS': 2,\n",
       " 'ALL': 3,\n",
       " 'ONLY': 2,\n",
       " 'IS': 4,\n",
       " 'FRONT': 2,\n",
       " 'AT': 2,\n",
       " 'BIT': 2}"
      ]
     },
     "execution_count": 27,
     "metadata": {},
     "output_type": "execute_result"
    }
   ],
   "source": [
    "D2 = {}\n",
    "\n",
    "for i in D:\n",
    "    if D[i] > 1:\n",
    "        D2[i] = D[i]\n",
    "\n",
    "D2"
   ]
  },
  {
   "cell_type": "code",
   "execution_count": null,
   "id": "9a4233c1",
   "metadata": {},
   "outputs": [],
   "source": []
  }
 ],
 "metadata": {
  "kernelspec": {
   "display_name": "Python 3 (ipykernel)",
   "language": "python",
   "name": "python3"
  },
  "language_info": {
   "codemirror_mode": {
    "name": "ipython",
    "version": 3
   },
   "file_extension": ".py",
   "mimetype": "text/x-python",
   "name": "python",
   "nbconvert_exporter": "python",
   "pygments_lexer": "ipython3",
   "version": "3.9.7"
  }
 },
 "nbformat": 4,
 "nbformat_minor": 5
}
