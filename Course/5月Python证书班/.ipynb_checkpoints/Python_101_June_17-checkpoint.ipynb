{
 "cells": [
  {
   "cell_type": "code",
   "execution_count": 1,
   "metadata": {},
   "outputs": [],
   "source": [
    "from IPython.core.interactiveshell import InteractiveShell\n",
    "InteractiveShell.ast_node_interactivity = 'all'\n",
    "\n",
    "import math as m\n",
    "import datetime as dt\n",
    "import pandas as pd"
   ]
  },
  {
   "cell_type": "code",
   "execution_count": null,
   "metadata": {},
   "outputs": [],
   "source": [
    "\n",
    "f = open(\"temp.txt\")    \n",
    "\n"
   ]
  },
  {
   "cell_type": "code",
   "execution_count": null,
   "metadata": {},
   "outputs": [],
   "source": [
    "\n",
    "fileName=\"GuestList.txt\" \n",
    "accessMode=\"w\" \n",
    "myFile=open(fileName,accessMode)\n",
    "myFile.write(\"Hi there!\")\n",
    "myFile.write(\"How are you?\")\n",
    "\n"
   ]
  },
  {
   "cell_type": "code",
   "execution_count": null,
   "metadata": {},
   "outputs": [],
   "source": [
    "\n",
    "fileName = \"GuestList.txt\" \n",
    "accessMode = \"w\" \n",
    "myFile = open(fileName, accessMode) \n",
    "myFile.write(\"Hi there!\\n\")\n",
    "myFile.write(\"How are you?\")\n",
    "myFile.close()\n",
    "\n"
   ]
  },
  {
   "cell_type": "code",
   "execution_count": null,
   "metadata": {},
   "outputs": [],
   "source": [
    "import csv\n",
    "\n",
    "fileName = \"GuestList.txt\"\n",
    "accessMode = \"r\" \n",
    "with open(fileName, accessMode) as myCSVFile:     \t#Read the file contents\n",
    "\tdataFromFile = csv.reader(myCSVFile)\n",
    "\n"
   ]
  },
  {
   "cell_type": "code",
   "execution_count": null,
   "metadata": {},
   "outputs": [],
   "source": [
    "\n",
    "def print_quote(): # header\n",
    "    print(\"all work no play makes James?\")\n",
    "    print(\"a dull boy.\")\n",
    "\n"
   ]
  },
  {
   "cell_type": "code",
   "execution_count": null,
   "metadata": {},
   "outputs": [],
   "source": [
    "    \n",
    "def repeat_quotes():\n",
    "    print_quote()\n",
    "    print_quote()\n"
   ]
  },
  {
   "cell_type": "code",
   "execution_count": null,
   "metadata": {},
   "outputs": [],
   "source": [
    "    \n",
    "def print_your_quote(Name): # header\n",
    "    first = \"all work no play makes \"\n",
    "    second = Name\n",
    "    third = \"?\"\n",
    "    print(first + second + third)\n",
    "    print(\"a dull boy.\")\n",
    "    \n"
   ]
  },
  {
   "cell_type": "code",
   "execution_count": null,
   "metadata": {},
   "outputs": [],
   "source": [
    "    \n",
    "print_your_quote('Jack')\n",
    "\n"
   ]
  },
  {
   "cell_type": "code",
   "execution_count": null,
   "metadata": {},
   "outputs": [],
   "source": [
    "\n",
    "def print_your_quote(Name,Name2, Name3): # header\n",
    "    first = \"all work no play makes \"\n",
    "    second = Name\n",
    "    third = \"?\"\n",
    "    print(first + second + third)\n",
    "    print(\"a dull boy.\")\n",
    "    \n",
    "    print(Name2 + ' is a good girl')\n",
    "    print(Name3 + ' is a good boy')\n",
    "    \n",
    "    "
   ]
  },
  {
   "cell_type": "code",
   "execution_count": null,
   "metadata": {},
   "outputs": [],
   "source": [
    "\n",
    "xxx = 'James'\n",
    "yyy = 'Grace'\n",
    "zzz = 'Kelly'\n",
    "    \n",
    "print_your_quote(xxx,yyy, zzz)\n"
   ]
  },
  {
   "cell_type": "code",
   "execution_count": null,
   "metadata": {},
   "outputs": [],
   "source": [
    "\n",
    "def greet(name, msg = \"Good morning!\"):\n",
    "   \"\"\"\n",
    "   This function greets to the person with the\n",
    "   provided message. If message is not provided,\n",
    "   it defaults to \"Good morning!\"\n",
    "   \"\"\"\n",
    "   print(\"Hello\",name + ', ' + msg)\n",
    "\n",
    "greet(\"Kate\")\n",
    "greet(\"Bruce\",\"How do you do?\")\n",
    "\n"
   ]
  },
  {
   "cell_type": "code",
   "execution_count": null,
   "metadata": {},
   "outputs": [],
   "source": [
    "\n",
    "def justry(name, msg = 10):\n",
    "   \"\"\"\n",
    "   This function greets to the person with the\n",
    "   provided message. If message is not provided,\n",
    "   it defaults to \"Good morning!\"\n",
    "   \n",
    "   \"\"\"\n",
    "   power = 2**msg\n",
    "   \n",
    "   print(\"Hello\",name + ', ' + str(power))\n"
   ]
  },
  {
   "cell_type": "code",
   "execution_count": null,
   "metadata": {},
   "outputs": [],
   "source": [
    "justry(\"Kate\")\n",
    "justry(\"Bruce\",20)\n"
   ]
  },
  {
   "cell_type": "code",
   "execution_count": null,
   "metadata": {},
   "outputs": [],
   "source": [
    "\n",
    "\n",
    "def greet(*names):\n",
    "   \"\"\"This function greets all\n",
    "   the person(s) in the names tuple.\"\"\"\n",
    "   \n",
    "# This function grees all\n",
    "# the person(s) in the names tuple   \n",
    "\n",
    "   # names is a tuple with arguments\n",
    "   for name in names:\n",
    "       print(\"Hello\",name)\n",
    "\n",
    "greet(\"Monica\",\"Luke\",\"John\", 'James', 'Husky')\n",
    "\n"
   ]
  },
  {
   "cell_type": "code",
   "execution_count": null,
   "metadata": {},
   "outputs": [],
   "source": [
    "\n",
    "def greet(*names):\n",
    "   \"\"\"\n",
    "   Version number: 1.0.01\n",
    "   Date: June 17, 2018\n",
    "   Author: James W. Jiang\n",
    "   Production: No\n",
    "   Validation: No\n",
    "   Debugged: Twice\n",
    "   \n",
    "   This function greets all\n",
    "   the person(s) in the names tuple.\"\"\"\n",
    "    \n",
    "\n",
    "   # names is a tuple with arguments\n",
    "   for name in names:\n",
    "       print(\"Hello\",name)\n",
    "\n",
    "greet(\"Monica\",\"Luke\",\"John\", 'James', 'Husky')\n"
   ]
  },
  {
   "cell_type": "code",
   "execution_count": null,
   "metadata": {},
   "outputs": [],
   "source": [
    "\n",
    "n = 10\n",
    "\n",
    "def countdown(n):\n",
    "    if n <= 0:\n",
    "        print('Blastoff!')\n",
    "    else:\n",
    "        print(n)\n",
    "        countdown(n-1)\n",
    "        \n",
    "        "
   ]
  },
  {
   "cell_type": "code",
   "execution_count": null,
   "metadata": {},
   "outputs": [],
   "source": [
    "        \n",
    "def calc_factorial(x):\n",
    "    \"\"\"This is a recursive function\n",
    "    to find the factorial of an integer\"\"\"\n",
    "    if x == 1:\n",
    "        return 1\n",
    "    \n",
    "    elif x == 0:\n",
    "        \n",
    "        return 1\n",
    "    elif x < 0 :\n",
    "        \n",
    "        print('Input is negative')\n",
    "    \n",
    "    else:\n",
    "        return (x * calc_factorial(x-1))\n",
    "\n",
    "num = -5\n",
    "\n",
    "print(\"The factorial of\", num, \"is\",calc_factorial(num))\n"
   ]
  },
  {
   "cell_type": "code",
   "execution_count": null,
   "metadata": {},
   "outputs": [],
   "source": [
    "\n",
    "import math\n",
    "\n",
    "def area(radius):\n",
    "    a = math.pi * radius**2\n",
    "    return a\n",
    "\n",
    "r = 10\n",
    "area_eg = area(r)\n",
    "\n",
    "print('The area of the circle is', area_eg)\n"
   ]
  },
  {
   "cell_type": "code",
   "execution_count": null,
   "metadata": {},
   "outputs": [],
   "source": [
    "\n",
    "import math\n",
    "\n",
    "def area(radius):\n",
    "    a = math.pi * radius**2\n",
    "    circ = 2*math.pi*radius\n",
    "    return a, circ\n"
   ]
  },
  {
   "cell_type": "code",
   "execution_count": null,
   "metadata": {},
   "outputs": [],
   "source": [
    "r = 10\n",
    "Answer = area(r)\n",
    "\n",
    "print('The area of the circle with a radius of', r, ' is', Answer[0])\n",
    "print('The peripheral of the circle with a radius of', r ,' is', Answer[1])\n",
    "\n"
   ]
  },
  {
   "cell_type": "code",
   "execution_count": null,
   "metadata": {},
   "outputs": [],
   "source": [
    "\n",
    "#-------------------\n",
    "def my_func():\n",
    "\tx = 10 # local variable \n",
    "\tprint(\"Value inside function:\",x)\n",
    "#------------------\n",
    "\n",
    "# main function\n",
    "    \n",
    "x = 20\n",
    "my_func()\n",
    "print(\"Value outside function:\",x)\n"
   ]
  },
  {
   "cell_type": "code",
   "execution_count": null,
   "metadata": {},
   "outputs": [],
   "source": [
    "\n",
    "double = lambda x: x * 2\n",
    "\n",
    "# Output: 10\n",
    "print(double(5))\n",
    "\n"
   ]
  },
  {
   "cell_type": "code",
   "execution_count": null,
   "metadata": {},
   "outputs": [],
   "source": [
    "\n",
    "class Parrot:\n",
    "    \n",
    "    '''This is a docstring. This is the introduction for a class\n",
    "    called Parrot. Parrot currently has two members, Blu and Woo'''\n",
    "\n",
    "\n",
    "    # class attribute\n",
    "    species = \"bird\"\n",
    "\n",
    "    # instance attribute\n",
    "    def __init__(self, name, age):\n",
    "        self.name = name\n",
    "        self.age = age\n"
   ]
  },
  {
   "cell_type": "code",
   "execution_count": null,
   "metadata": {},
   "outputs": [],
   "source": [
    "# instantiate the Parrot class\n",
    "blu = Parrot(\"Blu\", 10)\n",
    "woo = Parrot(\"Woo\", 15)\n",
    "\n",
    "# access the class attributes\n",
    "print(\"Blu is a {}\".format(blu.__class__.species))\n",
    "print(\"Woo is also a {}\".format(woo.__class__.species))\n",
    "\n",
    "# access the instance attributes\n",
    "print(\"{} is {} years old\".format( blu.name, blu.age))\n",
    "print(\"{} is {} years old\".format( woo.name, woo.age))\n"
   ]
  },
  {
   "cell_type": "code",
   "execution_count": null,
   "metadata": {},
   "outputs": [],
   "source": [
    "\n",
    "class MyClass:\n",
    "\t\"This is my second class\"\n",
    "\ta = 10\n",
    "\tdef func(self):\n",
    "\t\tprint('Hello')\n",
    "# Output: 10\n",
    "print(MyClass.a)\n",
    "# Output: <function MyClass.func at 0x0000000003079BF8>\n",
    "print(MyClass.func)\n",
    "# Output: 'This is my second class'\n",
    "print(MyClass.__doc__)\n",
    "\n"
   ]
  },
  {
   "cell_type": "code",
   "execution_count": null,
   "metadata": {},
   "outputs": [],
   "source": [
    "\n",
    "class ComplexNumber:\n",
    "    def __init__(self,r = 0,i = 0):\n",
    "        self.real = r\n",
    "        self.imag = i\n",
    "\n",
    "    def getData(self):\n",
    "        print(\"{0}+{1}j\".format(self.real,self.imag))\n",
    "\n",
    "# Create a new ComplexNumber object\n",
    "c1 = ComplexNumber(2,3)\n",
    "\n",
    "# Call getData() function; Output: 2+3j\n",
    "c1.getData()\n"
   ]
  },
  {
   "cell_type": "code",
   "execution_count": null,
   "metadata": {},
   "outputs": [],
   "source": [
    "\n",
    "class Parrot:\n",
    "    # instance attributes\n",
    "    def __init__(self, name, age):\n",
    "        self.name = name\n",
    "        self.age = age\n",
    "    # instance method\n",
    "    def sing(self, song):\n",
    "        return \"{} sings {}\".format(self.name, song)\n",
    "    def dance(self):\n",
    "        return \"{} is now dancing\".format(self.name)\n",
    "    \n",
    "    \n",
    "    \n",
    "# instantiate the object\n",
    "blu = Parrot(\"Blu\", 10)\n",
    "# call our instance methods\n",
    "print(blu.sing(\"'Happy'\"))\n",
    "print(blu.dance())\n"
   ]
  },
  {
   "cell_type": "code",
   "execution_count": null,
   "metadata": {},
   "outputs": [],
   "source": [
    "\n",
    "x = 'boy'; y = 'friend'; print(x + y)\n",
    "\n",
    "x = 'boy'\n",
    "y = 'friend'\n",
    "print(x + y)\n"
   ]
  },
  {
   "cell_type": "code",
   "execution_count": null,
   "metadata": {},
   "outputs": [],
   "source": [
    "\n",
    "x = 'boy'; y = 'friend'\n",
    "total = x + \\\n",
    "        y + \\\n",
    "        ' add as many lines as you want'\n",
    "print(total)\n",
    "\n",
    "\n",
    "a = 1 + 2 + 3 + \\ # ... (Matlab)\n",
    "    4 + 5 + 6 + \\\n",
    "    7 + 8 + 9\n",
    "\n",
    "a = (1 + 2 + 3 +\n",
    "    4 + 5 + 6 +\n",
    "    7 + 8 + 9)\n"
   ]
  },
  {
   "cell_type": "code",
   "execution_count": null,
   "metadata": {},
   "outputs": [],
   "source": [
    "\n",
    "a = b + c; # It performs an addition\n",
    "# Reference: 'Market Derivatives, second edition' McDonald\n",
    "# Michael Lewis: Liar's Poke, Big Short, Moneyball\n",
    "\n",
    "#-------------------- Step 1: Inialization \n",
    "\n",
    "\n",
    "\n",
    "#-------------------- \n",
    "\n",
    "xxxyyyyzzzz = zzzz + xxxx;\n",
    "\n",
    "Noise_Base = Noise_source_1 + Noise_source_2; #at the same frequency, unit: W\n",
    "\n",
    "Noise_Base\n",
    "\n",
    "NoiseBase\n"
   ]
  },
  {
   "cell_type": "code",
   "execution_count": null,
   "metadata": {},
   "outputs": [],
   "source": [
    "\n",
    "\n",
    "first = input(\"Enter the first number \") \n",
    "second = input(\"Enter the second number \") \n",
    "firstNumber = float(first) \n",
    "secondNumber = float(second) \n",
    "result = firstNumber / secondNumber\n",
    "print(first + \" / \" + second + \" = \" + str(result))\n"
   ]
  },
  {
   "cell_type": "code",
   "execution_count": null,
   "metadata": {},
   "outputs": [],
   "source": [
    "\n",
    "\n",
    "first = input(\"Enter the first number \") \n",
    "second = input(\"Enter the second number \") \n",
    "firstNumber = float(first) \n",
    "secondNumber = float(second) \n",
    "try :\n",
    "     result = firstNumber / secondNumber\n",
    "     print(first + \" / \" + second + \" = \" + str(result))\n",
    "except :\n",
    "     print(\"I am sorry something went wrong\")\n",
    "     \n",
    "     "
   ]
  },
  {
   "cell_type": "code",
   "execution_count": null,
   "metadata": {},
   "outputs": [],
   "source": [
    "\n",
    "import sys \n",
    "\n",
    "first = input(\"Enter the first number \") \n",
    "second = input(\"Enter the second number \") \n",
    "firstNumber = float(first) \n",
    "secondNumber = float(second) \n",
    "try :\n",
    "    result = firstNumber / secondNumber\n",
    "    print (first + \" / \" + second + \" = \" + str(result))\n",
    "except :\n",
    "    error = sys.exc_info()[0] # tuple \n",
    "    print(sys.exc_info()[1])\n",
    "    print(sys.exc_info()[2])\n",
    "    print(\"I am sorry something went wrong\")\n",
    "    print(error)\n",
    "\n"
   ]
  },
  {
   "cell_type": "code",
   "execution_count": null,
   "metadata": {},
   "outputs": [],
   "source": [
    "first = input(\"Enter the first number \") \n",
    "second = input(\"Enter the second number \") \n",
    "firstNumber = float(first) \n",
    "secondNumber = float(second) \n",
    "try :\n",
    "    \tresult = firstNumber / secondNumber\n",
    "    \tprint (first+\" / \"+second+\" = \"+str(result))\n",
    "except ZeroDivisionError :\n",
    "    \tprint(\"The answer is infinity\")\n",
    "    \tprint(ZeroDivisionError)\n",
    "\n"
   ]
  },
  {
   "cell_type": "code",
   "execution_count": null,
   "metadata": {},
   "outputs": [],
   "source": [
    "\n",
    "\n",
    "first = input(\"Enter the first number \") \n",
    "second = input(\"Enter the second number \") \n",
    "firstNumber = float(first) \n",
    "secondNumber = second\n",
    "try :\n",
    "    \tresult = firstNumber / secondNumber\n",
    "    \tprint (first + \" / \" +second+ \" = \"+str(result))\n",
    "except ZeroDivisionError :\n",
    "    \tprint(\"The answer is infinity\")\n",
    "except :\n",
    "\terror = sys.exc_info()[0]\n",
    "\tprint(\"I am sorry something went wrong\")\n",
    "\tprint(error)\n"
   ]
  },
  {
   "cell_type": "code",
   "execution_count": null,
   "metadata": {},
   "outputs": [],
   "source": [
    "    \n",
    "try :\n",
    "    result = firstNumber/secondNumber\n",
    "    print (first+\" / \" +second + \" = \" + str(result))\n",
    "except ZeroDivisionError :\n",
    "    \n",
    "    print(\"The answer is infinity\")\n",
    "    sys.exit() \n",
    "    \n",
    "print(\"This message only displays if there is no error!\")\n",
    "\n",
    "\n",
    "xxx_flag = True # default value\n",
    "\n",
    "if x < 10:\n",
    "    \n",
    "    xxx_flag = False\n",
    "\n",
    "while xxx_flag:\n",
    "    \n",
    "    XXXXX\n",
    "    "
   ]
  },
  {
   "cell_type": "code",
   "execution_count": null,
   "metadata": {},
   "outputs": [],
   "source": [
    "    \n",
    "firstNumber = 10\n",
    "secondNumber = 0\n",
    "\n",
    "try :\n",
    "    result = firstNumber / secondNumber\n",
    "    print (first+\" / \" + second + \" = \" + str(result))\n",
    "    errorFlag = False # default value\n",
    "except ZeroDivisionError :\n",
    "    print(\"The answer is infinity\")\n",
    "    errorFlag = True\n",
    "if not errorFlag :  \n",
    "\tprint(\"This message only displays if there is no error!\") \n",
    "\n"
   ]
  },
  {
   "cell_type": "code",
   "execution_count": null,
   "metadata": {},
   "outputs": [],
   "source": [
    "    \n",
    "# Python program to display all the prime numbers within an interval\n",
    "\n",
    "# change the values of lower and upper for a different result\n",
    "lower = 900\n",
    "upper = 1000\n",
    "\n",
    "# uncomment the following lines to take input from the user\n",
    "#lower = int(input(\"Enter lower range: \"))\n",
    "#upper = int(input(\"Enter upper range: \"))\n",
    "\n",
    "print(\"Prime numbers between\",lower,\"and\",upper,\"are:\")\n",
    "\n",
    "for num in range(lower,upper + 1): # test\n",
    "    \n",
    "    # A: range(lower,upper + 1)\n",
    "    # B: range(lower,upper)\n",
    "    # C: range(lower,upper - 1)\n",
    "    \n",
    "    \n",
    "   # prime numbers are greater than 1\n",
    "   if num > 1:\n",
    "       for i in range(2,num):\n",
    "           if (num % i) == 0:\n",
    "               \n",
    "               # (num % i) == 0\n",
    "               # (num % i) == 1\n",
    "               # (num % i+1) == 0\n",
    "               \n",
    "               break\n",
    "       else:\n",
    "           print(num)\n"
   ]
  },
  {
   "cell_type": "code",
   "execution_count": null,
   "metadata": {},
   "outputs": [],
   "source": [
    "\n",
    "# local function:           \n",
    "def listsum(numList):\n",
    "    theSum = 0\n",
    "    for i in numList:\n",
    "        theSum = theSum + i\n",
    "    return theSum\n",
    "\n",
    "# Main function\n",
    "    \n",
    "print('The sum is',listsum([1,3,5,7,199]))\n",
    "\n"
   ]
  },
  {
   "cell_type": "code",
   "execution_count": null,
   "metadata": {},
   "outputs": [],
   "source": [
    "\n",
    "def listsum(numList):\n",
    "   if len(numList) == 1:\n",
    "        return numList[0]\n",
    "   else:\n",
    "        return numList[0] + listsum(numList[1:])\n",
    "\n",
    "print('The sum is',listsum([1,3,5,7,199]))\n",
    "\n"
   ]
  },
  {
   "cell_type": "code",
   "execution_count": null,
   "metadata": {},
   "outputs": [],
   "source": [
    "\n",
    "def shortBubbleSort(alist):\n",
    "    exchanges = True # flag: default value\n",
    "    passnum = len(alist)-1\n",
    "    # question:\n",
    "    # A: len(alist)-1\n",
    "    # B: len(alist)\n",
    "    # C: len(alist)+1\n",
    "    \n",
    "    while passnum > 0 and exchanges:\n",
    "       exchanges = False\n",
    "       for i in range(passnum):\n",
    "           if alist[i]>alist[i+1]:\n",
    "               exchanges = True\n",
    "               temp = alist[i]\n",
    "               alist[i] = alist[i+1]\n",
    "               alist[i+1] = temp\n",
    "               # Put them in the right order\n",
    "               #temp = alist[i]\n",
    "               #alist[i] = alist[i+1]\n",
    "               #alist[i+1] = temp\n",
    "               \n",
    "       passnum = passnum-1\n",
    "\n",
    "alist=[20,15,66,88,55,5,77,8,3,111]\n",
    "shortBubbleSort(alist)\n",
    "print(alist)\n"
   ]
  },
  {
   "cell_type": "code",
   "execution_count": null,
   "metadata": {},
   "outputs": [],
   "source": [
    "\n",
    "def selectionSort(alist):\n",
    "   for fillslot in range(len(alist)-1,0,-1):\n",
    "       positionOfMax=0\n",
    "       for location in range(1,fillslot+1):\n",
    "           if alist[location]>alist[positionOfMax]:\n",
    "               positionOfMax = location # switch index\n",
    "\n",
    "# switch values ----------------------\n",
    "               \n",
    "       temp = alist[fillslot]\n",
    "       alist[fillslot] = alist[positionOfMax]\n",
    "       alist[positionOfMax] = temp\n",
    "       \n",
    "# switch values ----------------------       \n",
    "\n",
    "alist = [54,26,93,17,77,31,44,55,20]\n",
    "selectionSort(alist)\n",
    "print(alist)\n",
    "\n"
   ]
  },
  {
   "cell_type": "code",
   "execution_count": null,
   "metadata": {},
   "outputs": [],
   "source": [
    "\n",
    "for i in range(10,0,-1):\n",
    "    \n",
    "    print('The value is',i)\n",
    "    \n",
    "    "
   ]
  },
  {
   "cell_type": "code",
   "execution_count": null,
   "metadata": {},
   "outputs": [],
   "source": [
    "for i in range(10):\n",
    "    \n",
    "    print('The value is',i)\n"
   ]
  },
  {
   "cell_type": "code",
   "execution_count": null,
   "metadata": {},
   "outputs": [],
   "source": [
    "    \n",
    "    \n",
    "# Python program to find the factorial of a number provided by the user.\n",
    "\n",
    "# change the value for a different result\n",
    "num = 5\n",
    "\n",
    "# uncomment to take input from the user\n",
    "#num = int(input(\"Enter a number: \"))\n",
    "\n",
    "factorial = 1\n",
    "\n",
    "# check if the number is negative, positive or zero\n",
    "if num < 0:\n",
    "   print(\"Sorry, factorial does not exist for negative numbers\")\n",
    "elif num == 0:\n",
    "   print(\"The factorial of 0 is 1\")\n",
    "else:\n",
    "   for i in range(1,num + 1):\n",
    "       factorial = factorial*i # no recursion\n",
    "   print(\"The factorial of\",num,\"is\",factorial)\n"
   ]
  },
  {
   "cell_type": "code",
   "execution_count": null,
   "metadata": {},
   "outputs": [],
   "source": [
    "\n",
    "# Python program to check if the input year is a leap year or not\n",
    "\n",
    "year = 1900\n",
    "\n",
    "# To get year (integer input) from the user\n",
    "# year = int(input(\"Enter a year: \"))\n",
    "\n",
    "if (year % 4) == 0:\n",
    "   if (year % 100) == 0:\n",
    "       if (year % 400) == 0:\n",
    "           print(\"{0} is a leap year\".format(year))\n",
    "       else:\n",
    "           print(\"{0} is not a leap year\".format(year))\n",
    "   else:\n",
    "       print(\"{0} is a leap year\".format(year))\n",
    "else:\n",
    "   print(\"{0} is not a leap year\".format(year))\n",
    "    "
   ]
  },
  {
   "cell_type": "code",
   "execution_count": null,
   "metadata": {},
   "outputs": [],
   "source": [
    "   \n",
    "year = 2005\n",
    "   \n",
    "if (year % 4 == 0) and (year % 100 != 0) or (year % 400 == 0):\n",
    "    \n",
    "    print(\"{0} is a leap year\".format(year))\n",
    "else:\n",
    "    \n",
    "    print(\"{0} is not a leap year\".format(year))\n",
    "\n",
    "print('Done')\n"
   ]
  },
  {
   "cell_type": "code",
   "execution_count": null,
   "metadata": {},
   "outputs": [],
   "source": [
    "\n",
    "# Program to display the Fibonacci sequence up to n-th term where n is provided by the user\n",
    "\n",
    "# change this value for a different result\n",
    "nterms = 100\n",
    "\n",
    "# uncomment to take input from the user\n",
    "#nterms = int(input(\"How many terms? \"))\n",
    "\n",
    "# first two terms\n",
    "n1 = 0\n",
    "n2 = 1\n",
    "count = 0\n",
    "\n",
    "# check if the number of terms is valid\n",
    "if nterms <= 0:\n",
    "   print(\"Please enter a positive integer\")\n",
    "elif nterms == 1:\n",
    "   print(\"Fibonacci sequence upto\",nterms,\":\")\n",
    "   print(n1)\n",
    "else:\n",
    "   print(\"Fibonacci sequence upto\",nterms,\":\")\n",
    "   while count < nterms:\n",
    "       print(n1,end=' , ')\n",
    "       nth = n1 + n2\n",
    "       # update values\n",
    "       n1 = n2\n",
    "       n2 = nth\n",
    "       count += 1 # a must: count = count + 1\n",
    "       "
   ]
  },
  {
   "cell_type": "code",
   "execution_count": null,
   "metadata": {},
   "outputs": [],
   "source": [
    "\n",
    "# Python Program to find the L.C.M. of two input number\n",
    "\n",
    "# define a function\n",
    "def lcm(x, y):\n",
    "   \"\"\"This function takes two\n",
    "   integers and returns the L.C.M.\"\"\"\n",
    "\n",
    "   # choose the greater number\n",
    "   if x > y:\n",
    "       greater = x\n",
    "   else:\n",
    "       greater = y\n",
    "\n",
    "   while(True):\n",
    "       if((greater % x == 0) and (greater % y == 0)):\n",
    "           lcm = greater\n",
    "           break\n",
    "       greater += 1\n",
    "\n",
    "   return lcm\n",
    "\n",
    "# change the values of num1 and num2 for a different result\n",
    "num1 = 54342\n",
    "num2 = 2423\n",
    "\n",
    "# uncomment the following lines to take input from the user\n",
    "#num1 = int(input(\"Enter first number: \"))\n",
    "#num2 = int(input(\"Enter second number: \"))\n",
    "\n",
    "print(\"The L.C.M. of\", num1,\"and\", num2,\"is\", lcm(num1, num2))\n",
    "       \n"
   ]
  },
  {
   "cell_type": "code",
   "execution_count": null,
   "metadata": {},
   "outputs": [],
   "source": [
    "\n",
    "# Python Program to find the factors of a number\n",
    "\n",
    "# define a function\n",
    "def print_factors(x):\n",
    "   # This function takes a number and prints the factors\n",
    "\n",
    "   print(\"The factors of\",x,\"are:\")\n",
    "   for i in range(1, x + 1):\n",
    "       if x % i == 0:\n",
    "           print(i)\n",
    "\n",
    "# change this value for a different result.\n",
    "num = 50000\n",
    "\n",
    "# uncomment the following line to take input from the user\n",
    "#num = int(input(\"Enter a number: \"))\n",
    "\n",
    "print_factors(num)\n",
    "       \n"
   ]
  }
 ],
 "metadata": {
  "kernelspec": {
   "display_name": "Python 3 (ipykernel)",
   "language": "python",
   "name": "python3"
  },
  "language_info": {
   "codemirror_mode": {
    "name": "ipython",
    "version": 3
   },
   "file_extension": ".py",
   "mimetype": "text/x-python",
   "name": "python",
   "nbconvert_exporter": "python",
   "pygments_lexer": "ipython3",
   "version": "3.9.7"
  }
 },
 "nbformat": 4,
 "nbformat_minor": 2
}
