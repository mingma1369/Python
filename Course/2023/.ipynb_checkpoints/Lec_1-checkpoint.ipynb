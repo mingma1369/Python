{
 "cells": [
  {
   "cell_type": "code",
   "execution_count": 1,
   "id": "664591c3-0f3a-4f85-88e6-74944653bbce",
   "metadata": {},
   "outputs": [],
   "source": [
    "from IPython.core.interactiveshell import InteractiveShell\n",
    "InteractiveShell.ast_node_interactivity = 'all'\n",
    "\n",
    "import math as m\n",
    "import datetime as dt\n",
    "import pandas as pd"
   ]
  },
  {
   "cell_type": "code",
   "execution_count": 2,
   "id": "b1f8e332-a1c1-46a2-b211-d92031b1cdea",
   "metadata": {},
   "outputs": [
    {
     "data": {
      "text/plain": [
       "2"
      ]
     },
     "execution_count": 2,
     "metadata": {},
     "output_type": "execute_result"
    },
    {
     "data": {
      "text/plain": [
       "4"
      ]
     },
     "execution_count": 2,
     "metadata": {},
     "output_type": "execute_result"
    },
    {
     "data": {
      "text/plain": [
       "2.9"
      ]
     },
     "execution_count": 2,
     "metadata": {},
     "output_type": "execute_result"
    }
   ],
   "source": [
    "round(2.5)\n",
    "round(3.5)\n",
    "round(2.88,1)\n"
   ]
  },
  {
   "cell_type": "code",
   "execution_count": 3,
   "id": "f136bdb6-029b-4590-b29f-8d6c4b4ffc4b",
   "metadata": {},
   "outputs": [
    {
     "data": {
      "text/plain": [
       "int"
      ]
     },
     "execution_count": 3,
     "metadata": {},
     "output_type": "execute_result"
    }
   ],
   "source": [
    "type(5//2)"
   ]
  },
  {
   "cell_type": "code",
   "execution_count": 4,
   "id": "c8930583-b936-479c-81d5-9bc4a495ff06",
   "metadata": {},
   "outputs": [
    {
     "data": {
      "text/plain": [
       "True"
      ]
     },
     "execution_count": 4,
     "metadata": {},
     "output_type": "execute_result"
    }
   ],
   "source": [
    "4>2"
   ]
  },
  {
   "cell_type": "code",
   "execution_count": 5,
   "id": "71876e4e-45da-454a-931c-74930f9c92b1",
   "metadata": {},
   "outputs": [
    {
     "data": {
      "text/plain": [
       "False"
      ]
     },
     "execution_count": 5,
     "metadata": {},
     "output_type": "execute_result"
    }
   ],
   "source": [
    "4==2"
   ]
  },
  {
   "cell_type": "code",
   "execution_count": 6,
   "id": "d37cd125-b4eb-4271-a5cc-16df0276691c",
   "metadata": {},
   "outputs": [
    {
     "data": {
      "text/plain": [
       "True"
      ]
     },
     "execution_count": 6,
     "metadata": {},
     "output_type": "execute_result"
    }
   ],
   "source": [
    "True==1"
   ]
  },
  {
   "cell_type": "code",
   "execution_count": 7,
   "id": "cc5e7fe3-fa9f-4948-9cd5-7249f7f7de81",
   "metadata": {},
   "outputs": [
    {
     "name": "stderr",
     "output_type": "stream",
     "text": [
      "<>:1: SyntaxWarning: \"is\" with a literal. Did you mean \"==\"?\n",
      "<>:1: SyntaxWarning: \"is\" with a literal. Did you mean \"==\"?\n",
      "/var/folders/90/qwvkhjks3x3dzmgv1rlkbkyr0000gn/T/ipykernel_11094/812578685.py:1: SyntaxWarning: \"is\" with a literal. Did you mean \"==\"?\n",
      "  True is 1\n"
     ]
    },
    {
     "data": {
      "text/plain": [
       "False"
      ]
     },
     "execution_count": 7,
     "metadata": {},
     "output_type": "execute_result"
    }
   ],
   "source": [
    "True is 1"
   ]
  },
  {
   "cell_type": "code",
   "execution_count": 14,
   "id": "1ebedb63-8e88-44ec-b527-504937aff66e",
   "metadata": {},
   "outputs": [
    {
     "data": {
      "text/plain": [
       "13"
      ]
     },
     "execution_count": 14,
     "metadata": {},
     "output_type": "execute_result"
    }
   ],
   "source": [
    "def f(x, y):  \n",
    "    return x ** 2 + 3 * y\n",
    "\n",
    "f(2,3)"
   ]
  },
  {
   "cell_type": "code",
   "execution_count": null,
   "id": "ba67a888-b24b-4dd8-bf01-eaf4a51a3882",
   "metadata": {},
   "outputs": [],
   "source": [
    "def f(x, y):  \n",
    "    return 1\n",
    "    return 2\n",
    "    return 3"
   ]
  },
  {
   "cell_type": "code",
   "execution_count": 15,
   "id": "d91365a5-2d70-4769-87f5-fcb2f3253c20",
   "metadata": {},
   "outputs": [
    {
     "name": "stdout",
     "output_type": "stream",
     "text": [
      "1\n",
      "2\n",
      "3\n"
     ]
    },
    {
     "data": {
      "text/plain": [
       "4"
      ]
     },
     "execution_count": 15,
     "metadata": {},
     "output_type": "execute_result"
    }
   ],
   "source": [
    "def f(x, y):  \n",
    "    print(1)\n",
    "    print(2)\n",
    "    print(3)\n",
    "    return 4\n",
    "\n",
    "f(2,3)"
   ]
  },
  {
   "cell_type": "code",
   "execution_count": null,
   "id": "c7f958c0-1b5b-462b-9f53-343adb149681",
   "metadata": {},
   "outputs": [],
   "source": [
    "def num_bus(n):\n",
    "    return (n+39)//40"
   ]
  },
  {
   "cell_type": "code",
   "execution_count": null,
   "id": "cdf8a796-dcb2-4f8b-8e70-64f7a83f1287",
   "metadata": {},
   "outputs": [],
   "source": [
    "def num_bus(n):\n",
    "    return n//40+min(1,n%40)"
   ]
  },
  {
   "cell_type": "code",
   "execution_count": null,
   "id": "b9db8628-ff19-432f-85f6-a6c2d7382d1d",
   "metadata": {},
   "outputs": [],
   "source": [
    "def num_bus(n):\n",
    "    return n//40+n % 40 > 0"
   ]
  },
  {
   "cell_type": "code",
   "execution_count": null,
   "id": "925aa2f1-483a-42fd-869d-11d65780df17",
   "metadata": {},
   "outputs": [],
   "source": [
    "def num_bus(n):\n",
    "    return math.ceil(n//40)"
   ]
  },
  {
   "cell_type": "code",
   "execution_count": null,
   "id": "d16c4834-f9bc-4faf-bb68-361c2e9d3d07",
   "metadata": {},
   "outputs": [],
   "source": [
    "def can_marry(pretty, rich, smart):\n",
    "    return pretty and rich and smart"
   ]
  },
  {
   "cell_type": "code",
   "execution_count": 16,
   "id": "6c43a534-fc48-40c8-9194-73b1d12b6275",
   "metadata": {},
   "outputs": [],
   "source": [
    "def can_marry(pretty, rich, smart):\n",
    "    return (pretty + rich + smart)>=2"
   ]
  },
  {
   "cell_type": "code",
   "execution_count": null,
   "id": "78c16cf1-ebcb-4930-9659-fd365c30574a",
   "metadata": {},
   "outputs": [],
   "source": [
    "def can_marry(pretty, rich, smart):\n",
    "    return (pretty and rich) or \\\n",
    "           (pretty and smart) or \\\n",
    "           (rich and smart)"
   ]
  },
  {
   "cell_type": "code",
   "execution_count": null,
   "id": "8263e17d-9f4b-44d0-88be-17ab1f46f045",
   "metadata": {},
   "outputs": [],
   "source": [
    "def can_marry(pretty, rich, smart):\n",
    "    return pretty or rich or smart"
   ]
  },
  {
   "cell_type": "code",
   "execution_count": null,
   "id": "a827ea18-8f54-496c-a621-d5207863cf62",
   "metadata": {},
   "outputs": [],
   "source": [
    "def can_marry(pretty, rich, smart):\n",
    "    return True"
   ]
  },
  {
   "cell_type": "code",
   "execution_count": null,
   "id": "e980f096-3db7-4553-b51c-a3b2349eb04f",
   "metadata": {},
   "outputs": [],
   "source": [
    "def can_marry(pretty, rich, smart):\n",
    "    return smart and (rich or pretty)"
   ]
  },
  {
   "cell_type": "code",
   "execution_count": 10,
   "id": "097f6b44-e753-46e5-8597-4de4c97490d7",
   "metadata": {},
   "outputs": [
    {
     "data": {
      "text/plain": [
       "'inUyvvaS'"
      ]
     },
     "execution_count": 10,
     "metadata": {},
     "output_type": "execute_result"
    },
    {
     "data": {
      "text/plain": [
       "'SavvyUni'"
      ]
     },
     "execution_count": 10,
     "metadata": {},
     "output_type": "execute_result"
    }
   ],
   "source": [
    "a='SavvyUni'\n",
    "\n",
    "a[::-1]\n",
    "a[0:8]"
   ]
  },
  {
   "cell_type": "code",
   "execution_count": 13,
   "id": "87db5df0-36de-42b3-9e41-8ad1389547d7",
   "metadata": {},
   "outputs": [
    {
     "data": {
      "text/plain": [
       "6"
      ]
     },
     "execution_count": 13,
     "metadata": {},
     "output_type": "execute_result"
    }
   ],
   "source": [
    "def foo(x):\n",
    "    if x % 2 == 0:\n",
    "         return 'x is even' \n",
    "    elif x > 0:\n",
    "         return 'pos odd'\n",
    "    else:\n",
    "         return abs(x) + 3\n",
    "        \n",
    "\n",
    "foo(-3)\n"
   ]
  },
  {
   "cell_type": "code",
   "execution_count": null,
   "id": "adc22897-97fd-419c-a002-5c0ac24667ef",
   "metadata": {},
   "outputs": [],
   "source": []
  },
  {
   "cell_type": "code",
   "execution_count": null,
   "id": "7e63f950-3ac1-4bf5-bc61-f7a590156654",
   "metadata": {},
   "outputs": [],
   "source": []
  },
  {
   "cell_type": "code",
   "execution_count": null,
   "id": "fd140637-9e85-4eee-a0e7-4ad5f996310e",
   "metadata": {},
   "outputs": [],
   "source": []
  },
  {
   "cell_type": "code",
   "execution_count": null,
   "id": "65248345-78a4-4261-93d4-d60bd2f88d6b",
   "metadata": {},
   "outputs": [],
   "source": []
  },
  {
   "cell_type": "code",
   "execution_count": null,
   "id": "c378413c-2e3c-4f13-8db6-1335b3ce5474",
   "metadata": {},
   "outputs": [],
   "source": []
  },
  {
   "cell_type": "code",
   "execution_count": null,
   "id": "8e10b27f-2538-4719-8df6-c96805829bc9",
   "metadata": {},
   "outputs": [],
   "source": []
  },
  {
   "cell_type": "code",
   "execution_count": null,
   "id": "7774be8e-2696-4d1e-8335-01cb0f038f4c",
   "metadata": {},
   "outputs": [],
   "source": []
  },
  {
   "cell_type": "code",
   "execution_count": null,
   "id": "8017be94-be4d-4f0f-9e75-89d19437ff5e",
   "metadata": {},
   "outputs": [],
   "source": []
  }
 ],
 "metadata": {
  "kernelspec": {
   "display_name": "Python 3 (ipykernel)",
   "language": "python",
   "name": "python3"
  },
  "language_info": {
   "codemirror_mode": {
    "name": "ipython",
    "version": 3
   },
   "file_extension": ".py",
   "mimetype": "text/x-python",
   "name": "python",
   "nbconvert_exporter": "python",
   "pygments_lexer": "ipython3",
   "version": "3.9.7"
  }
 },
 "nbformat": 4,
 "nbformat_minor": 5
}
