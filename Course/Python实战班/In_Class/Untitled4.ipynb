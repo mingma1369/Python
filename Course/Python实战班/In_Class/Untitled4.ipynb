{
 "cells": [
  {
   "cell_type": "markdown",
   "id": "48180100-9de8-4f21-b197-b87bdc0b6bf7",
   "metadata": {},
   "source": [
    "#Introduction"
   ]
  },
  {
   "cell_type": "code",
   "execution_count": null,
   "id": "ee79cde9-885c-4ce5-bf6a-f9c6bc5f6cd2",
   "metadata": {},
   "outputs": [],
   "source": []
  }
 ],
 "metadata": {
  "kernelspec": {
   "display_name": "Python 3 (ipykernel)",
   "language": "python",
   "name": "python3"
  },
  "language_info": {
   "codemirror_mode": {
    "name": "ipython",
    "version": 3
   },
   "file_extension": ".py",
   "mimetype": "text/x-python",
   "name": "python",
   "nbconvert_exporter": "python",
   "pygments_lexer": "ipython3",
   "version": "3.9.7"
  }
 },
 "nbformat": 4,
 "nbformat_minor": 5
}
