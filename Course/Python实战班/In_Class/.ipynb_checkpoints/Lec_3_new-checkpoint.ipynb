{
 "cells": [
  {
   "cell_type": "code",
   "execution_count": 5,
   "id": "b3505417-4648-4126-a4a0-5b115d839125",
   "metadata": {},
   "outputs": [],
   "source": [
    "# By running the following python code, Jupyter Notebook will display all results\n",
    "# We will cover the details of this type of \"import\" code later\n",
    "\n",
    "from IPython.core.interactiveshell import InteractiveShell\n",
    "InteractiveShell.ast_node_interactivity = 'all'\n",
    "# 'all, last, last_expr(default), none, last_expr_or_assign'"
   ]
  },
  {
   "cell_type": "markdown",
   "id": "ba3ba41f-f223-4374-9716-6052f43cd41f",
   "metadata": {},
   "source": [
    "# 1. Conditionals"
   ]
  },
  {
   "cell_type": "code",
   "execution_count": 13,
   "id": "545e4fa7-91f8-4a60-ad2b-5826c98890f4",
   "metadata": {},
   "outputs": [
    {
     "ename": "IndentationError",
     "evalue": "expected an indented block (320125845.py, line 6)",
     "output_type": "error",
     "traceback": [
      "\u001b[0;36m  File \u001b[0;32m\"/var/folders/90/qwvkhjks3x3dzmgv1rlkbkyr0000gn/T/ipykernel_41254/320125845.py\"\u001b[0;36m, line \u001b[0;32m6\u001b[0m\n\u001b[0;31m    print('x is positive')\u001b[0m\n\u001b[0m    ^\u001b[0m\n\u001b[0;31mIndentationError\u001b[0m\u001b[0;31m:\u001b[0m expected an indented block\n"
     ]
    }
   ],
   "source": [
    "# Conditionals \n",
    "\n",
    "x = 5\n",
    "\n",
    "if x > 0:\n",
    "    print('x is positive')\n",
    "\n"
   ]
  },
  {
   "cell_type": "code",
   "execution_count": 14,
   "id": "4446a8e0-36e4-48d1-8e85-49eb1f7bf2c5",
   "metadata": {},
   "outputs": [
    {
     "name": "stdin",
     "output_type": "stream",
     "text": [
      "Would you like express shipping? Yes\n"
     ]
    }
   ],
   "source": [
    "answer = input(\"Would you like express shipping?\")\n",
    "if answer == \"yes\" :\n",
    "    print(\"That will be an extra $10\")"
   ]
  },
  {
   "cell_type": "code",
   "execution_count": 16,
   "id": "c2f44cf3-cb66-402c-8102-a69e001f1525",
   "metadata": {},
   "outputs": [
    {
     "name": "stdin",
     "output_type": "stream",
     "text": [
      "Would you like express shipping? yES\n"
     ]
    },
    {
     "name": "stdout",
     "output_type": "stream",
     "text": [
      "That will be an extra $10\n"
     ]
    }
   ],
   "source": [
    "answer=input(\"Would you like express shipping?\")\n",
    "if answer.lower() == \"yes\" :\n",
    "    print(\"That will be an extra $10\")"
   ]
  },
  {
   "cell_type": "code",
   "execution_count": 18,
   "id": "3d42caac-7f48-41d1-b6a5-d2fde700d681",
   "metadata": {},
   "outputs": [
    {
     "name": "stdin",
     "output_type": "stream",
     "text": [
      "Would you like express shipping?  no\n"
     ]
    },
    {
     "name": "stdout",
     "output_type": "stream",
     "text": [
      "Have a nice day\n"
     ]
    }
   ],
   "source": [
    "answer=input(\"Would you like express shipping? \")\n",
    "if answer.lower() == \"yes\" :\n",
    "    print(\"That will be an extra $10\") \n",
    "print(\"Have a nice day\")\n"
   ]
  },
  {
   "cell_type": "code",
   "execution_count": 20,
   "id": "25830ef8-4795-40f5-96c1-8c3bfc2fafbb",
   "metadata": {},
   "outputs": [
    {
     "name": "stdout",
     "output_type": "stream",
     "text": [
      "x is even\n"
     ]
    }
   ],
   "source": [
    "#%% multiple conditions\n",
    "\n",
    "x=14\n",
    "\n",
    "if x % 2 ==0:\n",
    "    print('x is even')\n",
    "else:\n",
    "    print('x is odd')\n"
   ]
  },
  {
   "cell_type": "code",
   "execution_count": null,
   "id": "1d5a6f21-0153-47ec-8a5b-430a6bd7db74",
   "metadata": {},
   "outputs": [],
   "source": [
    "#%% multiple conditions\n",
    "\n",
    "x = 100\n",
    "y = 10\n",
    "\n",
    "if x < y :\n",
    "    print('x is less than y')\n",
    "    \n",
    "elif x > 20*y :\n",
    "    print('x is far greater than y')\n",
    "\n",
    "elif (x > y and x <= 20*y):\n",
    "    print('x is greater than y')   \n",
    "\n",
    "else:\n",
    "    print('x and y are equal')"
   ]
  },
  {
   "cell_type": "code",
   "execution_count": null,
   "id": "110f5c20-e9bf-43d3-a912-f4fa8d3f5da6",
   "metadata": {},
   "outputs": [],
   "source": [
    "#%% \n",
    "\n",
    "\n",
    "# > 90: A\n",
    "# 90 >=, > 80: B\n",
    "# 80 >=, > 70: C\n",
    "# 70 >=, > 60: D\n",
    "# 60 >=: You bloody failed\n",
    "    \n",
    "\n",
    "grade = float(input('Your grade:'))\n",
    "\n",
    "if grade > 100:\n",
    "    \n",
    "    print ('Are you kidding me?')\n",
    "    \n",
    "elif (grade > 90 and grade <= 100):   \n",
    "    \n",
    "    print ('You got an A, congrats') \n",
    "    \n",
    "elif (grade > 80 and grade <= 90):\n",
    "    \n",
    "    print ('You got a B, not bad')\n",
    "\n",
    "elif (grade > 70 and grade <= 80): \n",
    "    \n",
    "    print ('You got a C, work harder')\n",
    "    \n",
    "elif (grade > 60 and grade <= 70): \n",
    "    \n",
    "    print ('You got a C, almost a looser')   \n",
    "    \n",
    "else: \n",
    "    \n",
    "    print ('You bloody failed, sucker')      \n",
    "    "
   ]
  },
  {
   "cell_type": "code",
   "execution_count": null,
   "id": "8d4ed1bc-048c-4826-a724-1ad907b30863",
   "metadata": {},
   "outputs": [],
   "source": [
    "x=10\n",
    "\n",
    "if x > 0:\n",
    "    if x < 10:\n",
    "        print('x is positive singe-digit number.')"
   ]
  },
  {
   "cell_type": "code",
   "execution_count": 23,
   "id": "48f650f4-0d1d-49c3-a654-a74739e351d3",
   "metadata": {},
   "outputs": [
    {
     "name": "stdout",
     "output_type": "stream",
     "text": [
      "There are 30 days in this month\n"
     ]
    }
   ],
   "source": [
    "month = 'Sep'\n",
    "\n",
    "if month == 'Sep' or month == 'Apr' or \\\n",
    "month == 'June' or month == 'Nov':\n",
    "\n",
    "    print(\"There are 30 days in this month\")\n"
   ]
  },
  {
   "cell_type": "code",
   "execution_count": 24,
   "id": "1990de20-9380-455e-82d5-25856e36d7c7",
   "metadata": {},
   "outputs": [],
   "source": [
    "month = 'Sep'\n",
    "\n",
    "if month in ('Sep','Apr','June','Nov'):\n",
    "    print(\"There are 30 days in this month\")"
   ]
  },
  {
   "cell_type": "code",
   "execution_count": null,
   "id": "399eb970-dc89-4d78-bc20-8767d0c366b4",
   "metadata": {},
   "outputs": [],
   "source": [
    "monday = True \n",
    "freshCoffee = False \n",
    "\n",
    "if monday :\n",
    "#you could have code here to check for fresh coffee\n",
    "# the if statement is nested, so this if statement\n",
    "# is only executed if the other if statement is true\n",
    "    if not freshCoffee :\n",
    "        print(\"go buy a coffee!\") \n",
    "    print(\"I hate Mondays\")\n",
    "\n",
    "print(\"now you can start work\")\n",
    "\n"
   ]
  },
  {
   "cell_type": "markdown",
   "id": "7fcee4f9-e09e-4ee0-8887-47cd3e2d162f",
   "metadata": {},
   "source": [
    "# 2. Loops"
   ]
  },
  {
   "cell_type": "code",
   "execution_count": 28,
   "id": "1e5b8f78-d11b-4f63-8d08-0a7b6a3c0671",
   "metadata": {},
   "outputs": [
    {
     "name": "stdout",
     "output_type": "stream",
     "text": [
      "3\n"
     ]
    }
   ],
   "source": [
    "word = 'banana'\n",
    "count = 0\n",
    "\n",
    "for letter in word:\n",
    "    if letter == 'a':\n",
    "        #count = count + 1\n",
    "        count+=1\n",
    "print(count)\n",
    "\n",
    "#word.count('a')"
   ]
  },
  {
   "cell_type": "code",
   "execution_count": 29,
   "id": "a4aaf830-6ce4-4ee8-977a-933c9076a237",
   "metadata": {},
   "outputs": [
    {
     "name": "stdout",
     "output_type": "stream",
     "text": [
      "1\n",
      "2\n",
      "3\n"
     ]
    }
   ],
   "source": [
    "word = 'banana'\n",
    "count = 0\n",
    "\n",
    "for letter in word:\n",
    "    if letter == 'a':\n",
    "        count = count + 1\n",
    "        print(count)"
   ]
  },
  {
   "cell_type": "code",
   "execution_count": 30,
   "id": "8dfd24c8-b841-40a7-9cbf-43f107150a11",
   "metadata": {},
   "outputs": [
    {
     "name": "stdout",
     "output_type": "stream",
     "text": [
      "0\n",
      "1\n",
      "1\n",
      "2\n",
      "2\n",
      "3\n"
     ]
    }
   ],
   "source": [
    "word = 'banana'\n",
    "count = 0\n",
    "\n",
    "for letter in word:\n",
    "    if letter == 'a':\n",
    "        count = count + 1\n",
    "    print(count)"
   ]
  },
  {
   "cell_type": "code",
   "execution_count": null,
   "id": "26f4e279-2c19-4439-80be-c6445c0244de",
   "metadata": {},
   "outputs": [],
   "source": [
    "print(range(10)) \n",
    "print(type(range(10)))\n",
    "# Output: range(0, 10)\n",
    "\n",
    "\n",
    "print(list(range(10))) \n",
    "# Output: [0, 1, 2, 3, 4, 5, 6, 7, 8, 9]\n",
    "\n",
    "print(list(range(2, 8))) \n",
    "# Output: [2, 3, 4, 5, 6, 7]\n",
    "\n",
    "\n",
    "print(list(range(2, 20, 3))) \n",
    "# Output: [2, 5, 8, 11, 14, 17]\n"
   ]
  },
  {
   "cell_type": "code",
   "execution_count": null,
   "id": "48130916-001e-48c7-ae88-851130da5b41",
   "metadata": {},
   "outputs": [],
   "source": [
    "for steps in range(4): \n",
    "    print(steps)"
   ]
  },
  {
   "cell_type": "code",
   "execution_count": null,
   "id": "52a71685-4ec4-4fe3-a977-bf06ac45028e",
   "metadata": {},
   "outputs": [],
   "source": [
    "for steps in range(1,4) :\n",
    "    print(steps)"
   ]
  },
  {
   "cell_type": "code",
   "execution_count": null,
   "id": "7ee61b15-fc47-4d88-9a58-8b8590ad529c",
   "metadata": {},
   "outputs": [],
   "source": [
    "for steps in range(1,10,2) :\n",
    "    print(steps)\n"
   ]
  },
  {
   "cell_type": "code",
   "execution_count": null,
   "id": "7df01fe2-d21c-45b8-9fe1-a095e5f1d362",
   "metadata": {},
   "outputs": [],
   "source": [
    "for steps in [1,1,200,3,5] :\n",
    "    print(steps)"
   ]
  },
  {
   "cell_type": "markdown",
   "id": "6fb6336f-f4f4-4236-b2ab-b55316a40cfd",
   "metadata": {},
   "source": [
    "## Loops for String"
   ]
  },
  {
   "cell_type": "code",
   "execution_count": 31,
   "id": "0e7f41fd-a742-4dc0-b490-f17d8d1663e1",
   "metadata": {},
   "outputs": [
    {
     "name": "stdout",
     "output_type": "stream",
     "text": [
      "['h', 'u', 'm', 'a', 'n']\n"
     ]
    }
   ],
   "source": [
    "h_letters = []\n",
    "\n",
    "for letter in 'human': \n",
    "    h_letters.append(letter)\n",
    "\n",
    "\n",
    "print(h_letters)\n"
   ]
  },
  {
   "cell_type": "code",
   "execution_count": null,
   "id": "9015cb7e-7c7e-418f-90ad-c8ab87a16369",
   "metadata": {},
   "outputs": [],
   "source": [
    "h_letters = [ letter for letter in 'human'] \n",
    "print( h_letters)\n"
   ]
  },
  {
   "cell_type": "markdown",
   "id": "c7189576-1637-4ba3-b1f2-a347feb54ac1",
   "metadata": {},
   "source": [
    "## Loops for List"
   ]
  },
  {
   "cell_type": "code",
   "execution_count": null,
   "id": "41f91d43-75b4-474d-9d00-822dd7ee0f85",
   "metadata": {},
   "outputs": [
    {
     "name": "stdout",
     "output_type": "stream",
     "text": [
      "Christopher\n",
      "Susan\n",
      "Bill\n",
      "Satya\n",
      "Kevin\n"
     ]
    }
   ],
   "source": [
    "guests = ['Christopher','Susan','Bill','Satya']\n",
    "\n",
    "#Create a loop that executes four times \n",
    "#Since we have four values\n",
    "\n",
    "for steps in range(4): # range(4): 0, 1, 2, 3\n",
    "    \n",
    "    #Remember the value of steps goes up by one \n",
    "    #Each time the loop executes\n",
    "    \n",
    "    print(guests[steps])\n"
   ]
  },
  {
   "cell_type": "code",
   "execution_count": 34,
   "id": "11a324d7-63e9-463d-8ebf-5cbfabc18c4e",
   "metadata": {},
   "outputs": [
    {
     "name": "stdout",
     "output_type": "stream",
     "text": [
      "Christopher\n",
      "Susan\n",
      "Bill\n",
      "Satya\n",
      "Kevin\n"
     ]
    }
   ],
   "source": [
    "guests = ['Christopher', 'Susan','Bill','Satya'] \n",
    "\n",
    "# Find out how many entries are in the list\n",
    "nbrEntries = len(guests)\n",
    "\n",
    "# Create a loop that executes once for each entry\n",
    "for steps in range(nbrEntries):\n",
    "    print(guests[steps])\n",
    "\n",
    "# range, a must"
   ]
  },
  {
   "cell_type": "code",
   "execution_count": null,
   "id": "c25bcb1a-15be-4307-bd12-23747d702bf7",
   "metadata": {},
   "outputs": [],
   "source": [
    "nested_eg = [[1, 2],[3,4]]\n",
    "\n",
    "for i in range(2):\n",
    "    # print(nested_eg[i])\n",
    "    \n",
    "    for j in range(2):\n",
    "\n",
    "        print(nested_eg[i][j])"
   ]
  },
  {
   "cell_type": "markdown",
   "id": "4e289c40-a008-4ab7-9fbd-8f70ff637060",
   "metadata": {},
   "source": [
    "## List Comprehension"
   ]
  },
  {
   "cell_type": "code",
   "execution_count": 36,
   "id": "9795130f-f77b-4193-b8d9-d5bea71f3f49",
   "metadata": {},
   "outputs": [
    {
     "data": {
      "text/plain": [
       "[0, 1, 2, 3, 4]"
      ]
     },
     "execution_count": 36,
     "metadata": {},
     "output_type": "execute_result"
    },
    {
     "data": {
      "text/plain": [
       "[1, 2, 3, 4, 5]"
      ]
     },
     "execution_count": 36,
     "metadata": {},
     "output_type": "execute_result"
    },
    {
     "data": {
      "text/plain": [
       "[1, 3, 5, 7, 9]"
      ]
     },
     "execution_count": 36,
     "metadata": {},
     "output_type": "execute_result"
    }
   ],
   "source": [
    "[x for x in range(5)]\n",
    "\n",
    "[x + 1 for x in range(5)]\n",
    "\n",
    "[x + 1 for x in range(10) if x % 2 == 0]"
   ]
  },
  {
   "cell_type": "code",
   "execution_count": 37,
   "id": "5760bbe8-b5fe-4733-bff3-29cb386ceeea",
   "metadata": {},
   "outputs": [
    {
     "data": {
      "text/plain": [
       "[0, 2, 4, 6, 8, 10, 12, 14, 16, 18]"
      ]
     },
     "execution_count": 37,
     "metadata": {},
     "output_type": "execute_result"
    }
   ],
   "source": [
    "even = [x for x in range(20) if x % 2 == 0]\n",
    "even"
   ]
  },
  {
   "cell_type": "code",
   "execution_count": 38,
   "id": "243c30aa-9397-4433-8f07-80e6b2c28fae",
   "metadata": {},
   "outputs": [
    {
     "data": {
      "text/plain": [
       "[0, 10, 20, 30, 40, 50, 60, 70, 80, 90]"
      ]
     },
     "execution_count": 38,
     "metadata": {},
     "output_type": "execute_result"
    }
   ],
   "source": [
    "num_list = [y for y in range(100) if y % 2 == 0 if y % 5 == 0]\n",
    "num_list\n"
   ]
  },
  {
   "cell_type": "code",
   "execution_count": 39,
   "id": "222d44c9-f3e1-4469-ad52-9f40a2a7c356",
   "metadata": {},
   "outputs": [
    {
     "data": {
      "text/plain": [
       "['Even', 'Odd', 'Even', 'Odd', 'Even', 'Odd', 'Even', 'Odd', 'Even', 'Odd']"
      ]
     },
     "execution_count": 39,
     "metadata": {},
     "output_type": "execute_result"
    }
   ],
   "source": [
    "obj = [\"Even\" if i % 2== 0 else \"Odd\" for i in range(10)] \n",
    "obj\n"
   ]
  },
  {
   "cell_type": "code",
   "execution_count": 40,
   "id": "23ccddbc-6cc6-4c4c-a9ab-55690a8490d6",
   "metadata": {},
   "outputs": [
    {
     "name": "stdout",
     "output_type": "stream",
     "text": [
      "[1, 2, 4, 8, 16, 32, 64, 128, 256, 512]\n"
     ]
    }
   ],
   "source": [
    "pow2 = [2 ** x for x in range(10)]\n",
    "# Output: [1, 2, 4, 8, 16, 32, 64, 128, 256, 512]\n",
    "print(pow2)"
   ]
  },
  {
   "cell_type": "code",
   "execution_count": 41,
   "id": "10bd4ecb-3e03-4ba1-9edb-1fa85ef886e0",
   "metadata": {},
   "outputs": [
    {
     "data": {
      "text/plain": [
       "[64, 128, 256, 512]"
      ]
     },
     "execution_count": 41,
     "metadata": {},
     "output_type": "execute_result"
    }
   ],
   "source": [
    "pow2 = [2 ** x for x in range(10) if x > 5]\n",
    "pow2"
   ]
  },
  {
   "cell_type": "code",
   "execution_count": 42,
   "id": "587f6bf8-f926-40d7-a71b-ea02faeaab6f",
   "metadata": {},
   "outputs": [
    {
     "data": {
      "text/plain": [
       "[1, 3, 5, 7, 9, 11, 13, 15, 17, 19]"
      ]
     },
     "execution_count": 42,
     "metadata": {},
     "output_type": "execute_result"
    }
   ],
   "source": [
    "odd = [x for x in range(20) if x % 2 == 1]\n",
    "odd"
   ]
  },
  {
   "cell_type": "code",
   "execution_count": 43,
   "id": "32d11212-c4a7-4ad6-8b78-8bff0ea323a0",
   "metadata": {},
   "outputs": [
    {
     "data": {
      "text/plain": [
       "['Python Language', 'Python Programming', 'C Language', 'C Programming']"
      ]
     },
     "execution_count": 43,
     "metadata": {},
     "output_type": "execute_result"
    }
   ],
   "source": [
    "[x+y for x in ['Python ', 'C '] for y in ['Language','Programming']]"
   ]
  },
  {
   "cell_type": "markdown",
   "id": "2f3589fc-9f4e-415f-a87b-e360d261be2b",
   "metadata": {},
   "source": [
    "## Loops for Set"
   ]
  },
  {
   "cell_type": "code",
   "execution_count": 44,
   "id": "fc39c23d-6103-4f25-a491-e30b43c57c1f",
   "metadata": {},
   "outputs": [
    {
     "name": "stdout",
     "output_type": "stream",
     "text": [
      "l\n",
      "e\n",
      "p\n",
      "a\n"
     ]
    }
   ],
   "source": [
    "for letter in set('apple'):\n",
    "    print(letter)"
   ]
  },
  {
   "cell_type": "markdown",
   "id": "13f2179b-bf27-4ee6-abf8-7fdf41c84a52",
   "metadata": {},
   "source": [
    "## Loops for Tuple"
   ]
  },
  {
   "cell_type": "code",
   "execution_count": 45,
   "id": "ff2f12ad-c024-4bbe-92db-2f0adb2ff36c",
   "metadata": {},
   "outputs": [
    {
     "name": "stdout",
     "output_type": "stream",
     "text": [
      "Hello John\n",
      "Hello Kate\n"
     ]
    }
   ],
   "source": [
    "for name in ('John','Kate'):\n",
    "    print('Hello', name)\n"
   ]
  },
  {
   "cell_type": "markdown",
   "id": "f8357677-f7cb-480c-8789-2603ad91c52d",
   "metadata": {},
   "source": [
    "## Loops for Dictionary"
   ]
  },
  {
   "cell_type": "code",
   "execution_count": null,
   "id": "6d078c71-7a6e-4f6e-920a-fc2ab0cf0373",
   "metadata": {},
   "outputs": [],
   "source": [
    "squares = {1: 1, 3: 9, 5: 25, 7: 49, 9: 81}\n",
    "\n",
    "for i in squares:  # key at each iteration stored in i\n",
    "    print(squares[i])  # extract value only"
   ]
  },
  {
   "cell_type": "code",
   "execution_count": 46,
   "id": "d11935f7-fced-4ed4-96f4-91aac9bab884",
   "metadata": {},
   "outputs": [
    {
     "data": {
      "text/plain": [
       "{0: 0, 1: 1, 2: 4, 3: 9, 4: 16, 5: 25, 6: 36, 7: 49, 8: 64, 9: 81}"
      ]
     },
     "execution_count": 46,
     "metadata": {},
     "output_type": "execute_result"
    }
   ],
   "source": [
    "squares = {x: x*x for x in range(10)}\n",
    "squares"
   ]
  },
  {
   "cell_type": "code",
   "execution_count": null,
   "id": "1befe587-57c3-42e6-9fbc-eca30b879136",
   "metadata": {},
   "outputs": [],
   "source": [
    "inventory = {'apples': 430, 'bananas': 312, 'oranges':525, 'pears': 217}\n",
    "\n",
    "for akey in inventory.keys():\n",
    "\n",
    "    print(\"Got key\", akey, \"which maps to value\",inventory[akey])\n",
    "\n",
    "ks = list(inventory.keys()) \n",
    "print(ks)\n",
    "\n"
   ]
  },
  {
   "cell_type": "code",
   "execution_count": null,
   "id": "d5ad71af-34c8-4794-ad95-afe911a1aeb4",
   "metadata": {},
   "outputs": [],
   "source": [
    "for k in inventory:\n",
    "    print(\"Got key\", k, \"which maps to\", inventory[k])\n"
   ]
  },
  {
   "cell_type": "code",
   "execution_count": null,
   "id": "c50d9530-f068-4e54-b7e9-068bfc7f078b",
   "metadata": {},
   "outputs": [],
   "source": [
    "people = {1: {'Name': 'John', 'Age': '27', 'Sex': 'Male'},\n",
    "          2: {'Name': 'Marie', 'Age': '22', 'Sex': 'Female'}}\n",
    "\n",
    "for p_id, p_info in people.items():\n",
    "\n",
    "    print(\"\\nPerson ID:\", p_id)\n",
    "    \n",
    "    for key in p_info:\n",
    "        print(key + ':', p_info[key])"
   ]
  },
  {
   "cell_type": "markdown",
   "id": "3ddd3069-7458-42fd-a860-76d13c7a2bbc",
   "metadata": {},
   "source": [
    "## While Loops"
   ]
  },
  {
   "cell_type": "code",
   "execution_count": null,
   "id": "e5609511-fbea-4e3e-bd5a-acdc51d1a601",
   "metadata": {},
   "outputs": [],
   "source": [
    "def countdown(n):\n",
    "    while n > 0:\n",
    "        print(n)\n",
    "        n=n-1\n",
    "    print('Blastoff!')\n",
    "    \n",
    "countdown(10)"
   ]
  },
  {
   "cell_type": "code",
   "execution_count": 48,
   "id": "5fb91353-5156-453e-b6e7-471ed82d9b8a",
   "metadata": {},
   "outputs": [
    {
     "name": "stdout",
     "output_type": "stream",
     "text": [
      "10\n",
      "Blastoff!\n",
      "9\n",
      "Blastoff!\n",
      "8\n",
      "Blastoff!\n",
      "7\n",
      "Blastoff!\n",
      "6\n",
      "Blastoff!\n",
      "5\n",
      "Blastoff!\n",
      "4\n",
      "Blastoff!\n",
      "3\n",
      "Blastoff!\n",
      "2\n",
      "Blastoff!\n",
      "1\n",
      "Blastoff!\n"
     ]
    }
   ],
   "source": [
    "n = 10\n",
    "\n",
    "while n > 0:\n",
    "    print(n)\n",
    "    n=n-1\n",
    "print('Blastoff!')"
   ]
  },
  {
   "cell_type": "code",
   "execution_count": null,
   "id": "7476a08b-51db-425f-a904-c60bc47bf260",
   "metadata": {},
   "outputs": [],
   "source": [
    "def countdown(n):\n",
    "    while n > 0:\n",
    "        print(n)\n",
    "        n=n-1\n",
    "        print('Blastoff!')\n",
    "    \n",
    "countdown(10)"
   ]
  },
  {
   "cell_type": "code",
   "execution_count": null,
   "id": "59bb8f76-3a07-4ec9-a5e5-e4c2402beb69",
   "metadata": {},
   "outputs": [],
   "source": [
    "fruit = 'banana'\n",
    "# len(fruit)\n",
    "\n",
    "index = 0\n",
    "\n",
    "while index < len(fruit):\n",
    "    letter = fruit[index] \n",
    "    print(letter)\n",
    "    index = index + 1"
   ]
  },
  {
   "cell_type": "markdown",
   "id": "7c2c79d0-171e-4fae-82e7-c27f57826f4e",
   "metadata": {},
   "source": [
    "## Break"
   ]
  },
  {
   "cell_type": "code",
   "execution_count": null,
   "id": "8eb84426-2302-4946-ab34-b069fc8d3efe",
   "metadata": {},
   "outputs": [],
   "source": [
    "for letter in 'Python': \n",
    "    if letter == 'h':\n",
    "        break\n",
    "    print ('Current Letter :', letter)\n",
    "    "
   ]
  },
  {
   "cell_type": "code",
   "execution_count": null,
   "id": "073f7a58-cc35-40ab-91cc-cc335ba9a2e5",
   "metadata": {},
   "outputs": [],
   "source": [
    "var = 10 # Second Example \n",
    "\n",
    "while var > 0:\n",
    "    print ('Current variable value :', var)\n",
    "    var = var -1\n",
    "    if var == 5: \n",
    "        break\n",
    "        \n",
    "print (\"Good bye!\")"
   ]
  },
  {
   "cell_type": "markdown",
   "id": "0df375cb-37a6-45a1-abb5-42cbf137d396",
   "metadata": {},
   "source": [
    "## Continue"
   ]
  },
  {
   "cell_type": "code",
   "execution_count": null,
   "id": "3e7a7353-9ee6-4f25-bb95-108b9c522de3",
   "metadata": {},
   "outputs": [],
   "source": [
    "for letter in 'Python': \n",
    "    if letter == 'h':\n",
    "        continue\n",
    "    print ('Current Letter :', letter)"
   ]
  },
  {
   "cell_type": "code",
   "execution_count": null,
   "id": "56356a4d-69ee-40ec-a895-70d180040bd1",
   "metadata": {},
   "outputs": [],
   "source": [
    "var = 10 # Second Example \n",
    "\n",
    "while var > 0:\n",
    "    \n",
    "    var = var -1\n",
    "    if var == 5: \n",
    "        continue\n",
    "    print ('Current variable value :', var)\n",
    "    \n",
    "print (\"Good bye!\")"
   ]
  },
  {
   "cell_type": "markdown",
   "id": "81880d38-2e1b-4b4e-b248-519a5fbfb61c",
   "metadata": {},
   "source": [
    "## Case Study: Factorial"
   ]
  },
  {
   "cell_type": "code",
   "execution_count": null,
   "id": "093300b6-7991-4e79-9a2e-3c9ef288657d",
   "metadata": {},
   "outputs": [],
   "source": [
    "\n",
    "# Factorial \n",
    "\n",
    "# Python program to find the factorial of a number provided by the user.\n",
    "# change the value for a different result\n",
    "\n",
    "# num = 5\n",
    "\n",
    "# uncomment to take input from the user\n",
    "num = int(input(\"Enter a number: \"))\n",
    "\n",
    "factorial = 1\n",
    "# check if the number is negative, positive or zero\n",
    "\n",
    "if num < 0:\n",
    "    print(\"Sorry, factorial does not exist for negative numbers\")\n",
    "# to be cont’d\n",
    "\n",
    "elif num == 0:\n",
    "    print(\"The factorial of 0 is 1\")\n",
    "\n",
    "else:\n",
    "    for i in range(1,num+1):\n",
    "        factorial = factorial*i\n",
    "    print(\"The factorial of\",num,\"is\",factorial)\n",
    "\n"
   ]
  },
  {
   "cell_type": "markdown",
   "id": "b7185a3b-f134-432a-9fc0-2decb8af3443",
   "metadata": {},
   "source": [
    "# 3. Functions"
   ]
  },
  {
   "cell_type": "code",
   "execution_count": null,
   "id": "59bd61cf-4a61-49cc-9e98-6c271b5d3acd",
   "metadata": {},
   "outputs": [],
   "source": [
    "def f(x, y):\n",
    "    return x ** 2 + 3 * y\n",
    "\n",
    "\n",
    "\n",
    "\n"
   ]
  },
  {
   "cell_type": "code",
   "execution_count": null,
   "id": "0d5ba790-b01b-4586-b698-c2353c81e4a2",
   "metadata": {},
   "outputs": [],
   "source": [
    "f(2,3)"
   ]
  },
  {
   "cell_type": "code",
   "execution_count": null,
   "id": "7efa927e-907b-4009-af5d-8847d4696e0e",
   "metadata": {},
   "outputs": [],
   "source": [
    "def foo(x):\n",
    "    if x % 2==0:\n",
    "        print ('x is even')\n",
    "    if x > 0:\n",
    "        print (\"positive\")\n",
    "    else:\n",
    "        print (abs(x) + 3)\n",
    "\n",
    "foo(10)"
   ]
  },
  {
   "cell_type": "code",
   "execution_count": null,
   "id": "3b416577-c583-4033-85e9-4b89d0efccbd",
   "metadata": {},
   "outputs": [],
   "source": [
    "def foo2(x):\n",
    "    if x % 2==0:\n",
    "        return 'x is even'\n",
    "    if x > 0:\n",
    "        return \"positive\"\n",
    "    else:\n",
    "        return abs(x) + 3\n",
    "\n",
    "foo2(10)"
   ]
  },
  {
   "cell_type": "code",
   "execution_count": null,
   "id": "2d52a0fd-a880-4261-958d-7c59aa473b16",
   "metadata": {},
   "outputs": [],
   "source": [
    "#%% Define functions\n",
    "\n",
    "def print_quote(): # header\n",
    "    print(\"all work no play makes James?\")\n",
    "    print(\"a dull boy.\")"
   ]
  },
  {
   "cell_type": "code",
   "execution_count": null,
   "id": "cf6b7bb6-0726-4e02-ba95-00782c8677ac",
   "metadata": {},
   "outputs": [],
   "source": [
    "print_quote()"
   ]
  },
  {
   "cell_type": "code",
   "execution_count": null,
   "id": "4743bdd2-bfbd-4379-bf72-2ffff0b3202e",
   "metadata": {},
   "outputs": [],
   "source": [
    "#%% nested fuctions\n",
    "    \n",
    "def repeat_quotes():\n",
    "    print_quote()\n",
    "    print_quote()\n",
    "\n",
    "repeat_quotes()"
   ]
  },
  {
   "cell_type": "code",
   "execution_count": null,
   "id": "170ea19a-50f9-4a0d-a9e3-17b7e5458429",
   "metadata": {},
   "outputs": [],
   "source": [
    "#%% define functions with arguments\n",
    "    \n",
    "def print_your_quote(Name): # header\n",
    "    first = \"all work no play makes \"\n",
    "    second = Name\n",
    "    third = \"?\"\n",
    "    print(first + second + third)\n",
    "    print(\"a dull boy.\")"
   ]
  },
  {
   "cell_type": "code",
   "execution_count": null,
   "id": "dac8d81b-b9dc-46ca-ac15-12c014cb87fe",
   "metadata": {},
   "outputs": [],
   "source": [
    "print_your_quote('Kevin')\n",
    "print_your_quote('Jack')\n",
    "\n",
    "input='Lingjie'\n",
    "print_your_quote(input)"
   ]
  },
  {
   "cell_type": "code",
   "execution_count": null,
   "id": "158f3245-3acf-4f7f-a184-160818815356",
   "metadata": {},
   "outputs": [],
   "source": [
    "def displayMessage(greeting, name): \n",
    "    message = greeting + ', ' + name \n",
    "    print(message)\n",
    "\n",
    "\n",
    "displayMessage('Hi', 'Christopher')\n"
   ]
  },
  {
   "cell_type": "code",
   "execution_count": null,
   "id": "c9bad62f-46c2-4e57-956b-02d8bfe97ec0",
   "metadata": {},
   "outputs": [],
   "source": [
    "#%% default argument\n",
    "\n",
    "def greet(name, msg = \"Good morning!\"):\n",
    "    \n",
    "   \"\"\"\n",
    "   This function greets to the person with the\n",
    "   provided message. If message is not provided,\n",
    "   it defaults to \"Good morning!\"\n",
    "   \"\"\"\n",
    "   print(\"Hello\",name + ', ' + msg)\n",
    "\n",
    "greet(\"Kate\")\n",
    "greet(\"Bruce\",\"How do you do?\")"
   ]
  },
  {
   "cell_type": "code",
   "execution_count": null,
   "id": "5ff668fc-c375-4141-83b8-016eaf9aea6d",
   "metadata": {},
   "outputs": [],
   "source": [
    "help(greet)\n",
    "help(print)"
   ]
  },
  {
   "cell_type": "code",
   "execution_count": null,
   "id": "ac2ced69-696d-40de-86e9-5fb0c40da6a2",
   "metadata": {},
   "outputs": [],
   "source": [
    "print(greet.__doc__)"
   ]
  },
  {
   "cell_type": "code",
   "execution_count": null,
   "id": "c05d1863-d9a9-4953-96a0-127422235454",
   "metadata": {},
   "outputs": [],
   "source": [
    "help(print)"
   ]
  },
  {
   "cell_type": "code",
   "execution_count": null,
   "id": "e850b337-1e91-4318-920e-068ec61306eb",
   "metadata": {},
   "outputs": [],
   "source": [
    "#%%\n",
    "\n",
    "def justry(name, msg = 10):\n",
    "#def justry(msg = 10, name):\n",
    "   \"\"\"\n",
    "   This function greets to the person with the\n",
    "   provided message. If message is not provided,\n",
    "   it defaults to \"Good morning!\"\n",
    "   \n",
    "   \"\"\"\n",
    "   power = 2**msg\n",
    "   \n",
    "   print(\"Hello\",name + ', ' + str(power))\n",
    "\n",
    "#%%\n",
    "justry(\"Kate\")\n",
    "justry(\"Bruce\",20)"
   ]
  },
  {
   "cell_type": "code",
   "execution_count": null,
   "id": "4444eb01-76dc-4e8e-98f2-335f7ab8493b",
   "metadata": {},
   "outputs": [],
   "source": [
    "#%% Arbitrary Arguments\n",
    "\n",
    "\n",
    "def greet(*names):\n",
    "    \n",
    "   \"\"\"\n",
    "   This function greets all\n",
    "   the person(s) in the names tuple.\n",
    "   \"\"\"\n",
    "   \n",
    "# This function greets all\n",
    "# the person(s) in the names tuple   \n",
    "\n",
    "# names is a tuple with arguments\n",
    "   for name in names:\n",
    "        print(\"Hello\",name)\n",
    "\n",
    "greet(\"Monica\",\"Luke\",\"John\", 'James', 'Husky')"
   ]
  },
  {
   "cell_type": "code",
   "execution_count": null,
   "id": "ed9a93d8-0ffc-470b-aa6c-6db54b851a6d",
   "metadata": {},
   "outputs": [],
   "source": [
    "#%% doc string\n",
    "\n",
    "def greet(*names):\n",
    "   \n",
    "    \"\"\"\n",
    "   Version number: 1.0.01\n",
    "   Date: Jan 17, 2023\n",
    "   Author: Kevin M.\n",
    "   Production: No\n",
    "   Validation: No\n",
    "   Debugged: Twice\n",
    "   \n",
    "   This function greets all\n",
    "   the person(s) in the names tuple.\n",
    "   \"\"\"\n",
    "    \n",
    "\n",
    "   # names is a tuple with arguments\n",
    "    for name in names:\n",
    "        print(\"Hello\",name)\n",
    "\n",
    "greet(\"Monica\",\"Luke\",\"John\", 'James', 'Husky')"
   ]
  },
  {
   "cell_type": "code",
   "execution_count": null,
   "id": "eca964ef-3b65-43ae-b80d-c13951286d6e",
   "metadata": {},
   "outputs": [],
   "source": [
    "#greet.__doc__\n",
    "#help(greet)\n",
    "#help(print)"
   ]
  },
  {
   "cell_type": "code",
   "execution_count": null,
   "id": "a7c42f7d-b23f-47af-bb7b-73b5d85fa191",
   "metadata": {},
   "outputs": [],
   "source": [
    "#%% lambda function\n",
    "\n",
    "double = lambda x: x ** 2\n",
    "\n",
    "# Output: 10\n",
    "print(double(5))\n"
   ]
  },
  {
   "cell_type": "markdown",
   "id": "cb4ff55a-443f-4d6b-bb1c-fae76d17aa62",
   "metadata": {},
   "source": [
    "## Bonus Section"
   ]
  },
  {
   "cell_type": "code",
   "execution_count": null,
   "id": "210e0ddb-e738-4c12-a0ef-8dcaa9893b25",
   "metadata": {},
   "outputs": [],
   "source": [
    "def foo(x):\n",
    "    if x % 2 == 0:\n",
    "        n = 5\n",
    "    else:\n",
    "        n = 8\n",
    "    return n\n",
    "\n",
    "a=foo(10)\n",
    "a"
   ]
  },
  {
   "cell_type": "code",
   "execution_count": null,
   "id": "7b7a33ae-91a7-4d16-9350-e12029717fbf",
   "metadata": {},
   "outputs": [],
   "source": [
    "def foo2(x):\n",
    "    return 5 if x % 2 == 0 else 8\n",
    "\n",
    "a=foo2(10)\n",
    "a"
   ]
  },
  {
   "cell_type": "code",
   "execution_count": null,
   "id": "ca29860d-a8d4-4835-9a1f-de30f6301c39",
   "metadata": {},
   "outputs": [],
   "source": [
    "#named parameters\n",
    "\n",
    "def my_div(a: int, b: int):\n",
    "    return (a // b, a % b)\n",
    "\n",
    "my_div(5, 2)\n",
    "my_div(a=5, b=2)\n",
    "my_div(b=2, a=5)\n",
    "my_div(5, b=2)\n"
   ]
  },
  {
   "cell_type": "code",
   "execution_count": null,
   "id": "7980ca15-f4a5-45b1-8ac4-297a8f788861",
   "metadata": {},
   "outputs": [],
   "source": []
  }
 ],
 "metadata": {
  "kernelspec": {
   "display_name": "Python 3 (ipykernel)",
   "language": "python",
   "name": "python3"
  },
  "language_info": {
   "codemirror_mode": {
    "name": "ipython",
    "version": 3
   },
   "file_extension": ".py",
   "mimetype": "text/x-python",
   "name": "python",
   "nbconvert_exporter": "python",
   "pygments_lexer": "ipython3",
   "version": "3.9.7"
  }
 },
 "nbformat": 4,
 "nbformat_minor": 5
}
