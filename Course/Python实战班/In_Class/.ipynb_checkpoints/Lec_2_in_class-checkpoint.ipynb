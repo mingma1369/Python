{
 "cells": [
  {
   "cell_type": "markdown",
   "id": "ccd06a08-1ff3-4be5-b332-7cd49bf5ef0f",
   "metadata": {},
   "source": [
    "# Lec 2- List, Set, Dictionary, Tuple"
   ]
  },
  {
   "cell_type": "code",
   "execution_count": 85,
   "id": "99f63337-07a7-4825-a019-6b91e4d2a2c2",
   "metadata": {
    "tags": []
   },
   "outputs": [],
   "source": [
    "from IPython.core.interactiveshell import InteractiveShell\n",
    "InteractiveShell.ast_node_interactivity = 'all'\n",
    "# 'all, last, last_expr(default), none, last_expr_or_assign'"
   ]
  },
  {
   "cell_type": "markdown",
   "id": "536a4e09-8581-4095-a6cf-b176fcfe296c",
   "metadata": {},
   "source": [
    "## 1. Data types other than Int, Float, Boolean, String"
   ]
  },
  {
   "cell_type": "code",
   "execution_count": null,
   "id": "8615fa5a-4bea-4a01-b637-ea42d23b4de6",
   "metadata": {},
   "outputs": [],
   "source": [
    "# Introduction to Data Types\n",
    "\n",
    "str_eg = 'this is a string'\n",
    "\n",
    "#list\n",
    "fruits = [\"apple\", \"mango\", \"orange\"] \n",
    "\n",
    "#tuple\n",
    "numbers = (1, 2, 3) \n",
    "\n",
    "#dictionary\n",
    "# 'a', key; 'apple', value; key-value pair\n",
    "alphabets = {'a':'apple', 'b':'ball', 'c':'cat'} \n",
    "\n",
    "#set, no order no duplicate\n",
    "vowels = {'a', 'e', 'i' , 'o', 'u'} \n",
    "\n",
    "print(str_eg)\n",
    "print(fruits)\n",
    "print(numbers)\n",
    "print(alphabets)\n",
    "print(vowels)"
   ]
  },
  {
   "cell_type": "markdown",
   "id": "c2d8a249-e982-4ef1-b212-1c39bc8bfed5",
   "metadata": {},
   "source": [
    "## 2 List"
   ]
  },
  {
   "cell_type": "code",
   "execution_count": null,
   "id": "9185efc1-cb8d-4edb-b9fc-9bf86e07de05",
   "metadata": {},
   "outputs": [],
   "source": [
    "a = [1, 2.2, 'python']\n",
    "\n",
    "a"
   ]
  },
  {
   "cell_type": "code",
   "execution_count": 86,
   "id": "241a1914-692c-4183-aed3-f37b6654c71a",
   "metadata": {},
   "outputs": [
    {
     "data": {
      "text/plain": [
       "'strawberry ice cream'"
      ]
     },
     "execution_count": 86,
     "metadata": {},
     "output_type": "execute_result"
    }
   ],
   "source": [
    "fruit_list = ['banana', 'pear', 'strawberry', 'strawberry ice cream']\n",
    "\n",
    "fruit_list[3]"
   ]
  },
  {
   "cell_type": "markdown",
   "id": "c816e9ae-2b1a-44d3-ba01-5fb4416aafd1",
   "metadata": {
    "tags": []
   },
   "source": [
    "### 2.1 List-建立"
   ]
  },
  {
   "cell_type": "code",
   "execution_count": null,
   "id": "07c7acd4-d452-4f26-9988-99c03d0c17c1",
   "metadata": {},
   "outputs": [],
   "source": [
    "# empty list\n",
    "\n",
    "my_list = []\n",
    "my_list\n",
    "\n",
    "# list of integers\n",
    "my_list = [1, 2, 3]\n",
    "my_list\n",
    "\n",
    "# list with mixed datatypes\n",
    "my_list = [1, \"Hello\", 3.4]\n",
    "my_list"
   ]
  },
  {
   "cell_type": "code",
   "execution_count": null,
   "id": "261fd524-0a3c-4e71-8805-6352760b9f11",
   "metadata": {},
   "outputs": [],
   "source": [
    "[1, 2, 3]\n",
    "[1, 2,      3]\n",
    "[1,    2, 3]"
   ]
  },
  {
   "cell_type": "code",
   "execution_count": 90,
   "id": "ba1038d5-a274-48b8-b5a3-070ddf775385",
   "metadata": {},
   "outputs": [
    {
     "data": {
      "text/plain": [
       "'pineapple'"
      ]
     },
     "execution_count": 90,
     "metadata": {},
     "output_type": "execute_result"
    },
    {
     "data": {
      "text/plain": [
       "'e'"
      ]
     },
     "execution_count": 90,
     "metadata": {},
     "output_type": "execute_result"
    },
    {
     "data": {
      "text/plain": [
       "['banana', 20]"
      ]
     },
     "execution_count": 90,
     "metadata": {},
     "output_type": "execute_result"
    },
    {
     "data": {
      "text/plain": [
       "'banana'"
      ]
     },
     "execution_count": 90,
     "metadata": {},
     "output_type": "execute_result"
    },
    {
     "data": {
      "text/plain": [
       "'b'"
      ]
     },
     "execution_count": 90,
     "metadata": {},
     "output_type": "execute_result"
    }
   ],
   "source": [
    "# mixed list\n",
    "\n",
    "number_list = [10, 20, 30, 40]\n",
    "fruit_list = ['banana', 'pear', 'strawberry', 'strawberry ice cream']\n",
    "mixed_list = [10, 38.88, 'pineapple',['banana', 20]]\n",
    "\n",
    "mixed_list[2]\n",
    "mixed_list[2][-1]\n",
    "\n",
    "mixed_list[3]\n",
    "mixed_list[3][0]\n",
    "mixed_list[3][0][0]"
   ]
  },
  {
   "cell_type": "markdown",
   "id": "ba4f5b42-9e2d-4a9c-b254-f45cc39f7802",
   "metadata": {},
   "source": [
    "#### 2.1.1 List Operations"
   ]
  },
  {
   "cell_type": "code",
   "execution_count": null,
   "id": "7c109832-8bbc-4e91-a72f-bc68c1070cc0",
   "metadata": {},
   "outputs": [],
   "source": [
    "x = [1, 2, 3]\n",
    "y = [4, 5, 6]\n",
    "\n",
    "z= x + y\n",
    "\n",
    "z"
   ]
  },
  {
   "cell_type": "code",
   "execution_count": null,
   "id": "0714f7fa-a45b-40ae-a6bb-1fed20864159",
   "metadata": {},
   "outputs": [],
   "source": [
    "[0] * 4\n",
    "\n",
    "[1, 2, 3] * 3"
   ]
  },
  {
   "cell_type": "code",
   "execution_count": null,
   "id": "03425e6b-70d5-491f-a3ae-10e6cee92e92",
   "metadata": {},
   "outputs": [],
   "source": [
    "len(x)\n",
    "\n",
    "3 in x"
   ]
  },
  {
   "cell_type": "markdown",
   "id": "3bf2175e-4a2e-4c32-8157-fa07045bb9e5",
   "metadata": {
    "tags": []
   },
   "source": [
    "### 2.2 List-查"
   ]
  },
  {
   "cell_type": "code",
   "execution_count": null,
   "id": "3cabbd29-561b-4d73-85df-0acefec086e3",
   "metadata": {},
   "outputs": [],
   "source": [
    "t = ['a', 'b', 'c', 'd', 'e', 'f'] \n",
    "\n",
    "t[1]\n",
    "t[1:2]\n",
    "\n",
    "t[1:3]\n",
    "t[:4]\n",
    "t[3:]\n",
    "t[:]\n"
   ]
  },
  {
   "cell_type": "code",
   "execution_count": null,
   "id": "d82ed587",
   "metadata": {},
   "outputs": [],
   "source": [
    "number_list = [10, 20, 30, 40]\n",
    "number_list[0]\n",
    "number_list[1]\n",
    "number_list[1:]\n",
    "number_list[1:2]\n",
    "number_list[1:3]\n",
    "number_list[::2]\n",
    "number_list[1::2]"
   ]
  },
  {
   "cell_type": "code",
   "execution_count": null,
   "id": "cb78d06d-0023-4cf8-8ebc-88b3d98f0322",
   "metadata": {},
   "outputs": [],
   "source": [
    "guests = ['Christopher', 'Susan', 'Bill', 'Satya']\n",
    "\n",
    "# print the last entry in the list\n",
    "print(guests[-1])\n",
    "\n",
    "# print the second last entry in the list\n",
    "print(guests[-2])"
   ]
  },
  {
   "cell_type": "code",
   "execution_count": null,
   "id": "073364d2-6b7a-4a50-8f24-efc287d88e44",
   "metadata": {},
   "outputs": [],
   "source": [
    "# Nested List\n",
    "n_list = [\"Happy\", [2,0,1,5]]\n",
    "\n",
    "# Nested indexing\n",
    "\n",
    "print(n_list[0][1])\n",
    "print(n_list[1][3])\n"
   ]
  },
  {
   "cell_type": "code",
   "execution_count": null,
   "id": "75400e43-a179-4087-bc05-42404549b9ef",
   "metadata": {},
   "outputs": [],
   "source": [
    "my_list = [[1, 2, 3], [4, 5, 6], [7, 8, 9]]\n",
    "\n",
    "my_list[1][1]\n",
    "my_list[2][2]\n",
    "\n",
    "\n",
    "\n",
    "my_list = [[[0, 0, 1], 2, 3], [4, 5, 6], [7, 8, 9]]\n",
    "\n",
    "my_list[0][0][1]"
   ]
  },
  {
   "cell_type": "markdown",
   "id": "7d08d5b3-b3b0-4a0a-92d6-8cda13a43bf4",
   "metadata": {},
   "source": [
    "### 2.3 List-增"
   ]
  },
  {
   "cell_type": "code",
   "execution_count": 91,
   "id": "5319f33d-932e-4fa3-abf2-dae5b2492687",
   "metadata": {},
   "outputs": [
    {
     "name": "stdout",
     "output_type": "stream",
     "text": [
      "Steve\n"
     ]
    },
    {
     "data": {
      "text/plain": [
       "['Christopher', 'Susan', 'Bill', 'Satya', 'Steve', [1, 2, 3]]"
      ]
     },
     "execution_count": 91,
     "metadata": {},
     "output_type": "execute_result"
    }
   ],
   "source": [
    "# append()\n",
    "\n",
    "guests = ['Christopher', 'Susan', 'Bill', 'Satya']\n",
    "\n",
    "# add a new value to the end of the list\n",
    "guests.append('Steve')\n",
    "\n",
    "#display the last value in the list\n",
    "print(guests[-1])\n",
    "\n",
    "\n",
    "guests.append([1,2,3])\n",
    "guests\n"
   ]
  },
  {
   "cell_type": "code",
   "execution_count": 92,
   "id": "35624078-052c-44b3-86c0-e80045212e1a",
   "metadata": {},
   "outputs": [
    {
     "data": {
      "text/plain": [
       "['a', 'b', 'c', 'd', 'e']"
      ]
     },
     "execution_count": 92,
     "metadata": {},
     "output_type": "execute_result"
    },
    {
     "data": {
      "text/plain": [
       "['d', 'e']"
      ]
     },
     "execution_count": 92,
     "metadata": {},
     "output_type": "execute_result"
    }
   ],
   "source": [
    "# extend()\n",
    "\n",
    "t1 = ['a', 'b', 'c']  # recommended over +\n",
    "t2 = ['d', 'e']\n",
    "t1.extend(t2)\n",
    "\n",
    "t1\n",
    "t2"
   ]
  },
  {
   "cell_type": "code",
   "execution_count": 93,
   "id": "7fbd4768-dc6d-4473-bb3c-4164ce984c63",
   "metadata": {},
   "outputs": [
    {
     "data": {
      "text/plain": [
       "['a', 'b', 'c', 'd', 'e', 'x', 'y', 'z']"
      ]
     },
     "execution_count": 93,
     "metadata": {},
     "output_type": "execute_result"
    }
   ],
   "source": [
    "t1.extend('xyz')\n",
    "t1"
   ]
  },
  {
   "cell_type": "code",
   "execution_count": null,
   "id": "bb1df9fc-b467-4207-8791-dac556db628a",
   "metadata": {},
   "outputs": [],
   "source": [
    "# insert()\n",
    "\n",
    "aList = [123, 'xyz', 'zara', 'abc']\n",
    "aList.insert(3, 2009)\n",
    "print(\"Final List : \", aList)"
   ]
  },
  {
   "cell_type": "markdown",
   "id": "1c8f90c1-118f-4543-9afc-20138738da72",
   "metadata": {},
   "source": [
    "### 2.4 List-改"
   ]
  },
  {
   "cell_type": "code",
   "execution_count": null,
   "id": "bc192e36-0986-4616-8a85-c5d48251e4a8",
   "metadata": {},
   "outputs": [],
   "source": [
    "t = ['a', 'b', 'c', 'd', 'e', 'f'] \n",
    "\n",
    "t[1:3] = ['x', 'y']\n",
    "t"
   ]
  },
  {
   "cell_type": "code",
   "execution_count": null,
   "id": "545aae77-d471-49cd-8982-1053ebf778e2",
   "metadata": {},
   "outputs": [],
   "source": [
    "mixed_list = [10, 38.88, 'pineapple',['banana',20]]\n",
    "mixed_list[2] = 100\n",
    "mixed_list\n",
    "\n",
    "\n",
    "mixed_list [1] = 'apple'\n",
    "mixed_list"
   ]
  },
  {
   "cell_type": "markdown",
   "id": "a2b842e6-f59c-4a13-88ec-9cfab175d138",
   "metadata": {},
   "source": [
    "### 2.5 List-删"
   ]
  },
  {
   "cell_type": "code",
   "execution_count": null,
   "id": "506f415a-74b3-4b4e-8cb0-f29231c22928",
   "metadata": {},
   "outputs": [],
   "source": [
    "# pop()\n",
    "\n",
    "t = ['a', 'b', 'c']\n",
    "x = t.pop(1)\n",
    "\n",
    "t\n",
    "x"
   ]
  },
  {
   "cell_type": "code",
   "execution_count": null,
   "id": "ba6ebd16-9adc-4858-826a-61f4cd7488ae",
   "metadata": {},
   "outputs": [],
   "source": [
    "# remove()\n",
    "\n",
    "t = ['a', 'b', 'c']\n",
    "t.remove('b') \n",
    "\n",
    "t\n"
   ]
  },
  {
   "cell_type": "code",
   "execution_count": null,
   "id": "79e35ddf-e6d5-4678-8226-cd9631ea68da",
   "metadata": {},
   "outputs": [],
   "source": [
    "# remove()\n",
    "\n",
    "guests = ['Christopher', 'Susan', 'Bill', 'Satya']\n",
    "\n",
    "guests.remove('Christopher')\n",
    "print(guests[0])"
   ]
  },
  {
   "cell_type": "code",
   "execution_count": null,
   "id": "18bc6481-c681-4973-9977-71af38d19773",
   "metadata": {},
   "outputs": [],
   "source": [
    "# del()\n",
    "\n",
    "t = ['a', 'b', 'c', 'd', 'e', 'f']\n",
    "\n",
    "del t[1:5]\n",
    "\n",
    "t"
   ]
  },
  {
   "cell_type": "markdown",
   "id": "8892d006-11f2-4371-9406-c34c13a2f992",
   "metadata": {},
   "source": [
    "### 2.6 List- Other methods"
   ]
  },
  {
   "cell_type": "code",
   "execution_count": null,
   "id": "784e82db-afef-474e-b88d-f48939076490",
   "metadata": {},
   "outputs": [],
   "source": [
    "# sort()\n",
    "\n",
    "aList = ['xyz', 'zara', 'abc', 'xyz']\n",
    "aList.sort()\n",
    "\n",
    "aList"
   ]
  },
  {
   "cell_type": "code",
   "execution_count": null,
   "id": "a21c09b5-002a-4458-86bb-7b3556123429",
   "metadata": {},
   "outputs": [],
   "source": [
    "# reverse()\n",
    "\n",
    "aList = [123, 'xyz', 'zara', 'abc', 'xyz']\n",
    "aList.reverse()\n",
    "\n",
    "aList"
   ]
  },
  {
   "cell_type": "code",
   "execution_count": null,
   "id": "dc4919ff-45dd-4248-bb3d-dc0378f0c59d",
   "metadata": {},
   "outputs": [],
   "source": [
    "aList = [123, 'xyz', 'zara', 'abc', 'xyz']\n",
    "aList[::-1]"
   ]
  },
  {
   "cell_type": "code",
   "execution_count": 94,
   "id": "2cc64556",
   "metadata": {},
   "outputs": [
    {
     "name": "stdout",
     "output_type": "stream",
     "text": [
      "2\n"
     ]
    },
    {
     "ename": "ValueError",
     "evalue": "'Kevin' is not in list",
     "output_type": "error",
     "traceback": [
      "\u001b[0;31m---------------------------------------------------------------------------\u001b[0m",
      "\u001b[0;31mValueError\u001b[0m                                Traceback (most recent call last)",
      "\u001b[0;32m/var/folders/90/qwvkhjks3x3dzmgv1rlkbkyr0000gn/T/ipykernel_60369/2664654908.py\u001b[0m in \u001b[0;36m<module>\u001b[0;34m\u001b[0m\n\u001b[1;32m      7\u001b[0m \u001b[0;34m\u001b[0m\u001b[0m\n\u001b[1;32m      8\u001b[0m \u001b[0mprint\u001b[0m\u001b[0;34m(\u001b[0m\u001b[0mguests\u001b[0m\u001b[0;34m.\u001b[0m\u001b[0mindex\u001b[0m\u001b[0;34m(\u001b[0m\u001b[0;34m'Bill'\u001b[0m\u001b[0;34m)\u001b[0m\u001b[0;34m)\u001b[0m  \u001b[0;31m# Find only the first\u001b[0m\u001b[0;34m\u001b[0m\u001b[0;34m\u001b[0m\u001b[0m\n\u001b[0;32m----> 9\u001b[0;31m \u001b[0mguests\u001b[0m\u001b[0;34m.\u001b[0m\u001b[0mindex\u001b[0m\u001b[0;34m(\u001b[0m\u001b[0;34m'Kevin'\u001b[0m\u001b[0;34m)\u001b[0m\u001b[0;34m\u001b[0m\u001b[0;34m\u001b[0m\u001b[0m\n\u001b[0m",
      "\u001b[0;31mValueError\u001b[0m: 'Kevin' is not in list"
     ]
    }
   ],
   "source": [
    "# index()\n",
    "\n",
    "guests = ['Christopher', 'Susan', 'Bill', 'Satya', 'Bill', 'Bill']\n",
    "\n",
    "# this will return the index in the list\n",
    "# where the name Bill is found\n",
    "\n",
    "print(guests.index('Bill'))  # Find only the first\n",
    "guests.index('Kevin')\n"
   ]
  },
  {
   "cell_type": "code",
   "execution_count": 95,
   "id": "f257c61b-ce85-495e-9482-430d294a8a58",
   "metadata": {},
   "outputs": [
    {
     "name": "stdout",
     "output_type": "stream",
     "text": [
      "Index for xyz :  1\n",
      "Index for zara :  2\n"
     ]
    }
   ],
   "source": [
    "aList = [123, 'xyz', 'zara', 'abc']\n",
    "\n",
    "print(\"Index for xyz : \", aList.index('xyz'))\n",
    "print(\"Index for zara : \", aList.index('zara'))"
   ]
  },
  {
   "cell_type": "code",
   "execution_count": null,
   "id": "3ae18740-853f-42b1-bc5f-0fde3a86e07c",
   "metadata": {},
   "outputs": [],
   "source": [
    "names = ['Chris', 'James']\n",
    "ages = [18, 16]\n",
    "weights = [150, 170]\n",
    "\n",
    "James_index = names.index('James')\n",
    "print('Hi', names[James_index], ': your age is ', ages[James_index], 'and your weight is ', weights[James_index])"
   ]
  },
  {
   "cell_type": "code",
   "execution_count": null,
   "id": "8449d293-b2b2-4415-9252-5149a737f1c1",
   "metadata": {},
   "outputs": [],
   "source": [
    "# count()\n",
    "\n",
    "aList = [123, 'xyz', 'zara', 'abc', 123]\n",
    "\n",
    "print (\"Count for 123 : \", aList.count(123))\n",
    "print (\"Count for 123 : \", aList.count('zara'))"
   ]
  },
  {
   "cell_type": "code",
   "execution_count": null,
   "id": "a8823ad9-7121-4f29-840c-10240b76b4b5",
   "metadata": {},
   "outputs": [],
   "source": [
    "# min\n",
    "\n",
    "list1, list2 = [123, 'xyz', 'zara', 'abc'], [456, 700,200]\n",
    "\n",
    "#print (\"min value element : \", min(list1))\n",
    "print (\"min value element : \", min(list2))"
   ]
  },
  {
   "cell_type": "code",
   "execution_count": null,
   "id": "7a99a1c9-9b70-4c19-b8a7-8f15fa3bbe72",
   "metadata": {},
   "outputs": [],
   "source": [
    "# max\n",
    "\n",
    "list1, list2 = [123, 'xyz', 'zara', 'abc'], [456, 700,200]\n",
    "\n",
    "#print (\"min value element : \", max(list1))\n",
    "print (\"min value element : \", max(list2))"
   ]
  },
  {
   "cell_type": "code",
   "execution_count": null,
   "id": "176a29ae-b1b7-464c-b9b5-eae52c1c4a55",
   "metadata": {},
   "outputs": [],
   "source": [
    "# list() 也是一种建立list的方法\n",
    "\n",
    "s = 'banana'\n",
    "t = list(s) \n",
    "\n",
    "t\n"
   ]
  },
  {
   "cell_type": "code",
   "execution_count": null,
   "id": "5f16d962-2d1a-414c-8005-313f7ce0fc65",
   "metadata": {},
   "outputs": [],
   "source": [
    "# split 也是一种建立list的方法\n",
    "\n",
    "s = 'Eat more bananas, will u?'\n",
    "t = s.split()\n",
    "t\n",
    "\n",
    "\n",
    "s = 'bananas-are-good-for-you'\n",
    "delimiter = '-'\n",
    "t = s.split(delimiter)\n",
    "t\n",
    "\n",
    "\n",
    "array_num = '18_16_15'\n",
    "delimiter = '_'\n",
    "t = array_num.split(delimiter)\n",
    "t"
   ]
  },
  {
   "cell_type": "code",
   "execution_count": null,
   "id": "ee2894b5-7cbf-4a78-ade6-e739ac6c36a6",
   "metadata": {},
   "outputs": [],
   "source": [
    "# join 从list变为string\n",
    "\n",
    "t = ['bananas', 'are', 'good', 'for', 'you']\n",
    "delimiter = ' '\n",
    "\n",
    "s = delimiter.join(t)\n",
    "s"
   ]
  },
  {
   "cell_type": "markdown",
   "id": "fbccb264-64a7-4134-9e79-ea68ddc3ae52",
   "metadata": {},
   "source": [
    "### 2.7 Aliasing & Cloning"
   ]
  },
  {
   "cell_type": "code",
   "execution_count": null,
   "id": "6502c42f-7d03-4842-b66e-b673924354db",
   "metadata": {},
   "outputs": [],
   "source": [
    "a = [1, 2, 3]\n",
    "b = a\n",
    "\n",
    "print(a == b)\n",
    "print(a is b)"
   ]
  },
  {
   "cell_type": "code",
   "execution_count": null,
   "id": "6c927788-84cd-4e65-9026-ea86793bb288",
   "metadata": {},
   "outputs": [],
   "source": [
    "b[0] = 4\n",
    "\n",
    "print(b)\n",
    "print(a)\n"
   ]
  },
  {
   "cell_type": "code",
   "execution_count": null,
   "id": "d1362e68-7c30-4da7-824b-af8a18b1f6d9",
   "metadata": {},
   "outputs": [],
   "source": [
    "# another example\n",
    "\n",
    "a = [1, 2, 3]\n",
    "b = [1, 2, 3]\n",
    "\n",
    "a == b  # true\n",
    "a is b  # false"
   ]
  },
  {
   "cell_type": "code",
   "execution_count": null,
   "id": "b77a7b54",
   "metadata": {},
   "outputs": [],
   "source": [
    "a = ['1', 1,1.0]\n",
    "temp = a\n",
    "temp [1] = True  # a, temp, same object\n",
    "\n",
    "a\n",
    "temp"
   ]
  },
  {
   "cell_type": "code",
   "execution_count": null,
   "id": "34b2ef3f-f1a7-4440-a2fa-6f2b901cbb71",
   "metadata": {},
   "outputs": [],
   "source": [
    "# from aliasing to cloning 这个是推荐的写法！\n",
    "# 切片永远都会产生一个全新的list\n",
    "\n",
    "a = ['1', 1,1.0]\n",
    "temp = a[:]  # cloning\n",
    "\n",
    "temp [1] = True  # a, temp, same object\n",
    "\n",
    "a\n",
    "temp"
   ]
  },
  {
   "cell_type": "code",
   "execution_count": null,
   "id": "483c98b0",
   "metadata": {},
   "outputs": [],
   "source": [
    "# a unchanged, temp []\n",
    "\n",
    "a = ['1', 1,1.0]\n",
    "temp = a\n",
    "\n",
    "# a == temp\n",
    "# a is temp\n",
    "\n",
    "temp = []\n",
    "\n",
    "# a == temp\n",
    "# a is temp\n",
    "\n",
    "a\n",
    "temp"
   ]
  },
  {
   "cell_type": "code",
   "execution_count": null,
   "id": "14d3a378",
   "metadata": {},
   "outputs": [],
   "source": [
    "a = ['1', 1,1.0]\n",
    "\n",
    "temp = a\n",
    "temp = temp*2\n",
    "\n",
    "a\n",
    "temp"
   ]
  },
  {
   "cell_type": "markdown",
   "id": "827ca485-4664-4fa3-a248-560ca5eee065",
   "metadata": {},
   "source": [
    "## 3. Set"
   ]
  },
  {
   "cell_type": "code",
   "execution_count": 96,
   "id": "abebc536-5406-4e15-8988-bc70c9de0f14",
   "metadata": {},
   "outputs": [
    {
     "name": "stdout",
     "output_type": "stream",
     "text": [
      "a =  {1, 2, 3, 4, 5}\n",
      "<class 'set'>\n"
     ]
    },
    {
     "data": {
      "text/plain": [
       "{1, 2, 3}"
      ]
     },
     "execution_count": 96,
     "metadata": {},
     "output_type": "execute_result"
    }
   ],
   "source": [
    "a = {5,2,3,1,4} # printing set variable \n",
    "\n",
    "print(\"a = \", a)\n",
    "print(type(a))\n",
    "\n",
    "a = {1,2,2,3,3,3}\n",
    "a"
   ]
  },
  {
   "cell_type": "code",
   "execution_count": null,
   "id": "128a7ab9-0947-4fba-95b1-82f12d0df7a4",
   "metadata": {},
   "outputs": [],
   "source": [
    "# Every element is unique\n",
    "\n",
    "my_set = {1,2,3,4,3,2} \n",
    "print(my_set)\n",
    "\n",
    "my_set = set([1,2,3,2]) \n",
    "print(my_set)\n"
   ]
  },
  {
   "cell_type": "markdown",
   "id": "bb39b943-8505-4ba0-be9e-11738b8bbc23",
   "metadata": {},
   "source": [
    "### 3.1 Set-建立"
   ]
  },
  {
   "cell_type": "code",
   "execution_count": 97,
   "id": "532910d4-08d5-408b-aafd-bc1bcd08650d",
   "metadata": {},
   "outputs": [
    {
     "name": "stdout",
     "output_type": "stream",
     "text": [
      "{1, 2, 3}\n",
      "{1.0, (1, 2, 3), 'Hello'}\n",
      "{'s', ' ', 'd', 'w', 'A', 't', 'e', 'i', 'r'}\n"
     ]
    }
   ],
   "source": [
    "# set of integers \n",
    "my_set = {1, 2, 3} \n",
    "print(my_set)\n",
    "\n",
    "# set of mixed datatypes\n",
    "my_mixed_set = {1.0, \"Hello\", (1, 2, 3)} \n",
    "print(my_mixed_set)\n",
    "\n",
    "weird_set = set(\"A weird set\") \n",
    "print(weird_set)\n"
   ]
  },
  {
   "cell_type": "code",
   "execution_count": 98,
   "id": "c3d1f32d-d7c7-4ff4-9f19-4b244cd81678",
   "metadata": {},
   "outputs": [
    {
     "name": "stdout",
     "output_type": "stream",
     "text": [
      "<class 'dict'>\n",
      "<class 'set'>\n"
     ]
    }
   ],
   "source": [
    "# initialize a with {} \n",
    "a = {}\n",
    "# check data type of a\n",
    "print(type(a))\n",
    "\n",
    "\n",
    "# initialize a with set()\n",
    "a= set()\n",
    "# check data type of a\n",
    "print(type(a))"
   ]
  },
  {
   "cell_type": "markdown",
   "id": "5fb7db5d-795b-4f51-b8fa-371b77f257d1",
   "metadata": {},
   "source": [
    "### 3.2 Set-查"
   ]
  },
  {
   "cell_type": "code",
   "execution_count": 99,
   "id": "67577bd5-4723-4c1a-8a68-7fbade53233a",
   "metadata": {},
   "outputs": [
    {
     "name": "stdout",
     "output_type": "stream",
     "text": [
      "{1, 3}\n"
     ]
    },
    {
     "ename": "TypeError",
     "evalue": "'set' object is not subscriptable",
     "output_type": "error",
     "traceback": [
      "\u001b[0;31m---------------------------------------------------------------------------\u001b[0m",
      "\u001b[0;31mTypeError\u001b[0m                                 Traceback (most recent call last)",
      "\u001b[0;32m/var/folders/90/qwvkhjks3x3dzmgv1rlkbkyr0000gn/T/ipykernel_60369/332833621.py\u001b[0m in \u001b[0;36m<module>\u001b[0;34m\u001b[0m\n\u001b[1;32m      4\u001b[0m \u001b[0;34m\u001b[0m\u001b[0m\n\u001b[1;32m      5\u001b[0m \u001b[0;31m# if you uncomment the following line, you will get an error, no index for set # add an element\u001b[0m\u001b[0;34m\u001b[0m\u001b[0;34m\u001b[0m\u001b[0m\n\u001b[0;32m----> 6\u001b[0;31m \u001b[0mmy_set\u001b[0m\u001b[0;34m[\u001b[0m\u001b[0;36m0\u001b[0m\u001b[0;34m]\u001b[0m\u001b[0;34m\u001b[0m\u001b[0;34m\u001b[0m\u001b[0m\n\u001b[0m",
      "\u001b[0;31mTypeError\u001b[0m: 'set' object is not subscriptable"
     ]
    }
   ],
   "source": [
    "# initialize my_set \n",
    "my_set = {1,3} \n",
    "print(my_set)\n",
    "\n",
    "# if you uncomment the following line, you will get an error, no index for set # add an element\n",
    "my_set[0] "
   ]
  },
  {
   "cell_type": "markdown",
   "id": "e763c1da-c87a-4475-a76c-5a15f17b694b",
   "metadata": {
    "tags": []
   },
   "source": [
    "### 3.3 Set-增"
   ]
  },
  {
   "cell_type": "code",
   "execution_count": 100,
   "id": "9582640c-81ff-4f73-a819-d9a5099cd4f8",
   "metadata": {},
   "outputs": [
    {
     "name": "stdout",
     "output_type": "stream",
     "text": [
      "{1, 3}\n",
      "{1, 2, 3}\n"
     ]
    }
   ],
   "source": [
    "# add()\n",
    "\n",
    "my_set = {1,3} \n",
    "print(my_set)\n",
    "\n",
    "my_set.add(2) \n",
    "\n",
    "# Output: {1, 2, 3} \n",
    "print(my_set)"
   ]
  },
  {
   "cell_type": "code",
   "execution_count": 101,
   "id": "d7eebdbe-7af2-469a-9bba-488acb581b26",
   "metadata": {},
   "outputs": [
    {
     "name": "stdout",
     "output_type": "stream",
     "text": [
      "{1, 2, 3, 4}\n",
      "{1, 2, 3, 4, 5, 6, 8}\n"
     ]
    }
   ],
   "source": [
    "# add multiple elements \n",
    "\n",
    "my_set.update([2,3,4]) \n",
    "print(my_set)\n",
    "\n",
    "\n",
    "# add list and set\n",
    "my_set.update([4,5], {1,6,8}) \n",
    "print(my_set)\n"
   ]
  },
  {
   "cell_type": "markdown",
   "id": "c614fa95-cb1d-45f3-8052-5131701e7b16",
   "metadata": {},
   "source": [
    "### 3.4 Set-改"
   ]
  },
  {
   "cell_type": "code",
   "execution_count": 102,
   "id": "ba2c6366-31b5-4433-aa28-cb69d6de1da5",
   "metadata": {},
   "outputs": [
    {
     "ename": "TypeError",
     "evalue": "'set' object does not support item assignment",
     "output_type": "error",
     "traceback": [
      "\u001b[0;31m---------------------------------------------------------------------------\u001b[0m",
      "\u001b[0;31mTypeError\u001b[0m                                 Traceback (most recent call last)",
      "\u001b[0;32m/var/folders/90/qwvkhjks3x3dzmgv1rlkbkyr0000gn/T/ipykernel_60369/656389012.py\u001b[0m in \u001b[0;36m<module>\u001b[0;34m\u001b[0m\n\u001b[1;32m      1\u001b[0m \u001b[0mmy_set\u001b[0m \u001b[0;34m=\u001b[0m \u001b[0;34m{\u001b[0m\u001b[0;36m1\u001b[0m\u001b[0;34m,\u001b[0m\u001b[0;36m3\u001b[0m\u001b[0;34m}\u001b[0m\u001b[0;34m\u001b[0m\u001b[0;34m\u001b[0m\u001b[0m\n\u001b[1;32m      2\u001b[0m \u001b[0;34m\u001b[0m\u001b[0m\n\u001b[0;32m----> 3\u001b[0;31m \u001b[0mmy_set\u001b[0m\u001b[0;34m[\u001b[0m\u001b[0;36m1\u001b[0m\u001b[0;34m]\u001b[0m\u001b[0;34m=\u001b[0m\u001b[0;36m2\u001b[0m\u001b[0;34m\u001b[0m\u001b[0;34m\u001b[0m\u001b[0m\n\u001b[0m\u001b[1;32m      4\u001b[0m \u001b[0mmy_set\u001b[0m\u001b[0;34m[\u001b[0m\u001b[0;36m1\u001b[0m\u001b[0;34m]\u001b[0m\u001b[0;34m\u001b[0m\u001b[0;34m\u001b[0m\u001b[0m\n",
      "\u001b[0;31mTypeError\u001b[0m: 'set' object does not support item assignment"
     ]
    }
   ],
   "source": [
    "my_set = {1,3} \n",
    "\n",
    "my_set[1]=2\n",
    "my_set[1]"
   ]
  },
  {
   "cell_type": "markdown",
   "id": "ac24b98b-8036-439d-8454-ce8eb56ae7db",
   "metadata": {},
   "source": [
    "### 3.5 Set-删"
   ]
  },
  {
   "cell_type": "code",
   "execution_count": 103,
   "id": "8865958a-894e-417e-85b6-5f1f2f0472d3",
   "metadata": {},
   "outputs": [
    {
     "name": "stdout",
     "output_type": "stream",
     "text": [
      "{1, 3, 4, 5, 6}\n",
      "{1, 3, 5, 6}\n",
      "{1, 3, 5}\n"
     ]
    }
   ],
   "source": [
    "# initialize my_set\n",
    "my_set = {1, 3, 4, 5, 6} \n",
    "print(my_set)\n",
    "\n",
    "# discard an element\n",
    "my_set.discard(4) \n",
    "print(my_set)\n",
    "\n",
    "# remove an element\n",
    "my_set.remove(6) \n",
    "print(my_set)"
   ]
  },
  {
   "cell_type": "code",
   "execution_count": 104,
   "id": "7b75f44a-c249-4cbd-97bd-16c6986ebf4d",
   "metadata": {},
   "outputs": [
    {
     "name": "stdout",
     "output_type": "stream",
     "text": [
      "{1, 3, 5}\n"
     ]
    }
   ],
   "source": [
    "# discard an element not present in my_set\n",
    "my_set.discard(2) \n",
    "print(my_set)"
   ]
  },
  {
   "cell_type": "code",
   "execution_count": 105,
   "id": "a418a2e4-604c-4f6e-a31a-f4bcd0219115",
   "metadata": {},
   "outputs": [
    {
     "ename": "KeyError",
     "evalue": "2",
     "output_type": "error",
     "traceback": [
      "\u001b[0;31m---------------------------------------------------------------------------\u001b[0m",
      "\u001b[0;31mKeyError\u001b[0m                                  Traceback (most recent call last)",
      "\u001b[0;32m/var/folders/90/qwvkhjks3x3dzmgv1rlkbkyr0000gn/T/ipykernel_60369/2280290175.py\u001b[0m in \u001b[0;36m<module>\u001b[0;34m\u001b[0m\n\u001b[1;32m      1\u001b[0m \u001b[0;31m# remove an element not present in my_set\u001b[0m\u001b[0;34m\u001b[0m\u001b[0;34m\u001b[0m\u001b[0m\n\u001b[0;32m----> 2\u001b[0;31m \u001b[0mmy_set\u001b[0m\u001b[0;34m.\u001b[0m\u001b[0mremove\u001b[0m\u001b[0;34m(\u001b[0m\u001b[0;36m2\u001b[0m\u001b[0;34m)\u001b[0m\u001b[0;34m\u001b[0m\u001b[0;34m\u001b[0m\u001b[0m\n\u001b[0m\u001b[1;32m      3\u001b[0m \u001b[0mprint\u001b[0m\u001b[0;34m(\u001b[0m\u001b[0mmy_set\u001b[0m\u001b[0;34m)\u001b[0m\u001b[0;34m\u001b[0m\u001b[0;34m\u001b[0m\u001b[0m\n",
      "\u001b[0;31mKeyError\u001b[0m: 2"
     ]
    }
   ],
   "source": [
    "# remove an element not present in my_set\n",
    "my_set.remove(2) \n",
    "print(my_set)"
   ]
  },
  {
   "cell_type": "code",
   "execution_count": null,
   "id": "6cceebaf-31e7-485f-8c7a-affcb81ae34a",
   "metadata": {},
   "outputs": [],
   "source": [
    "# initialize my_set\n",
    "# Output: set of unique elements \n",
    "\n",
    "my_set = set(\"HelloWorld\") \n",
    "print(my_set)\n",
    "\n",
    "# pop an element randomly\n",
    "\n",
    "my_set.pop()\n",
    "my_set"
   ]
  },
  {
   "cell_type": "code",
   "execution_count": null,
   "id": "a21bd311-3b8a-45f0-bfc3-352355935a77",
   "metadata": {},
   "outputs": [],
   "source": [
    "# pop another element\n",
    "\n",
    "my_set.pop() \n",
    "print(my_set)\n",
    "\n",
    "# clear my_set #Output: set() \n",
    "\n",
    "my_set.clear() \n",
    "print(my_set)"
   ]
  },
  {
   "cell_type": "markdown",
   "id": "71298139-7ab0-4796-9c05-c7536bd5d418",
   "metadata": {},
   "source": [
    "### 3.6 Set Operations"
   ]
  },
  {
   "cell_type": "code",
   "execution_count": null,
   "id": "e6bf9588-f8e8-419e-b94d-d06649a65d1e",
   "metadata": {},
   "outputs": [],
   "source": [
    "# set operations\n",
    "\n",
    "A = {1, 2, 3, 4, 5}\n",
    "B = {4, 5, 6, 7, 8}"
   ]
  },
  {
   "cell_type": "code",
   "execution_count": null,
   "id": "8932d275-bac5-4320-a8b6-d638c8199309",
   "metadata": {},
   "outputs": [],
   "source": [
    "# use | operator; \n",
    "# Output: {1, 2, 3, 4, 5, 6, 7, 8}\n",
    "A | B\n",
    "A.union(B)\n",
    "B.union(A)"
   ]
  },
  {
   "cell_type": "code",
   "execution_count": null,
   "id": "2e15cf90-abaa-462d-adf9-05052de929b8",
   "metadata": {},
   "outputs": [],
   "source": [
    "# use & operator\n",
    "# Output: {4, 5}\n",
    "A & B\n",
    "A.intersection(B)\n",
    "B.intersection(A)"
   ]
  },
  {
   "cell_type": "code",
   "execution_count": null,
   "id": "fa938d18-3b21-4e35-80de-c1af7c97572d",
   "metadata": {},
   "outputs": [],
   "source": [
    "# use - operator on A \n",
    "A - B\n",
    "A.difference(B) "
   ]
  },
  {
   "cell_type": "code",
   "execution_count": null,
   "id": "441d69b8-e65b-4b88-b001-bba7c21c8767",
   "metadata": {},
   "outputs": [],
   "source": [
    "# use - operator on B\n",
    "B - A\n",
    "B.difference(A) "
   ]
  },
  {
   "cell_type": "code",
   "execution_count": null,
   "id": "71612201-c1c9-4867-a95a-be41fdadb38d",
   "metadata": {},
   "outputs": [],
   "source": [
    "# use ^ operator\n",
    "A^B\n",
    "A.symmetric_difference(B)\n",
    "B.symmetric_difference(A)"
   ]
  },
  {
   "cell_type": "markdown",
   "id": "e4bc9d29-724c-4774-a97a-75dcb91342e4",
   "metadata": {
    "tags": []
   },
   "source": [
    "### 3.7 Set- Other Methods"
   ]
  },
  {
   "cell_type": "code",
   "execution_count": null,
   "id": "707ad5b5-c9ad-4fbe-afee-84a00f09104c",
   "metadata": {},
   "outputs": [],
   "source": [
    "# initialize my_set \n",
    "my_set = set(\"apple\")\n",
    "print(my_set)\n",
    "\n",
    "# check if 'a' is present # Output: True\n",
    "print('a' in my_set)\n",
    "\n",
    "# check if 'p' is present # Output: False\n",
    "print('p' not in my_set)\n"
   ]
  },
  {
   "cell_type": "code",
   "execution_count": null,
   "id": "e5e35cbb-9d26-4dba-91c4-df914dc20324",
   "metadata": {},
   "outputs": [],
   "source": [
    "# initialize my_set \n",
    "my_set = set([\"apple\"]) \n",
    "print(my_set)\n",
    "\n",
    "# check if 'a' is present # Output: False\n",
    "print('a' in my_set)\n"
   ]
  },
  {
   "cell_type": "markdown",
   "id": "ed59adf6-2705-4f6e-934f-83b27d5edd19",
   "metadata": {},
   "source": [
    "## 4. Dictionary"
   ]
  },
  {
   "cell_type": "code",
   "execution_count": 106,
   "id": "574279f5-f6b3-4af1-90d0-21f6d4b33ddf",
   "metadata": {},
   "outputs": [
    {
     "data": {
      "text/plain": [
       "{'SAS': 'Extraction, Analytics, Visualization',\n",
       " 'Excel': 'Analytics, Visualization',\n",
       " 'CFA': 'Financial Industry, Certification, Portfolio Management',\n",
       " 'FRM': 'Financial Industry, Certification, Risk Management',\n",
       " 'Python': 'Analytics, Visualization, Machine Learning, Big Data'}"
      ]
     },
     "execution_count": 106,
     "metadata": {},
     "output_type": "execute_result"
    },
    {
     "data": {
      "text/plain": [
       "dict"
      ]
     },
     "execution_count": 106,
     "metadata": {},
     "output_type": "execute_result"
    }
   ],
   "source": [
    "D = {'SAS': 'Extraction, Analytics, Visualization', \n",
    "     'Excel': 'Analytics, Visualization', \n",
    "     'CFA': 'Financial Industry, Certification, Portfolio Management', \n",
    "     'FRM': 'Financial Industry, Certification, Risk Management', \n",
    "     'Python': 'Analytics, Visualization, Machine Learning, Big Data'}\n",
    "D\n",
    "type(D)"
   ]
  },
  {
   "cell_type": "code",
   "execution_count": 107,
   "id": "b9bb738f-88b0-470a-9405-b9915bd68da8",
   "metadata": {},
   "outputs": [
    {
     "data": {
      "text/plain": [
       "'Extraction, Analytics, Visualization'"
      ]
     },
     "execution_count": 107,
     "metadata": {},
     "output_type": "execute_result"
    },
    {
     "data": {
      "text/plain": [
       "'Analytics, Visualization, Machine Learning, Big Data'"
      ]
     },
     "execution_count": 107,
     "metadata": {},
     "output_type": "execute_result"
    }
   ],
   "source": [
    "#访问/查字典\n",
    "D['SAS'] #slicing用方括号\n",
    "D['Python'] #slicing用方括号"
   ]
  },
  {
   "cell_type": "code",
   "execution_count": 108,
   "id": "ab7e77dc-1e1d-4a1d-bda6-8ccfe2234ad4",
   "metadata": {},
   "outputs": [
    {
     "data": {
      "text/plain": [
       "'Extraction, Analytics, Visualization, Big Data'"
      ]
     },
     "execution_count": 108,
     "metadata": {},
     "output_type": "execute_result"
    }
   ],
   "source": [
    "#修改\n",
    "D['SAS']='Extraction, Analytics, Visualization, Big Data'\n",
    "D['SAS']"
   ]
  },
  {
   "cell_type": "code",
   "execution_count": null,
   "id": "32702658-c0ce-4c9b-a804-7e28914cc8fd",
   "metadata": {},
   "outputs": [],
   "source": [
    "# %% intro to dictionary\n",
    "\n",
    "eng2sp = {}\n",
    "eng2sp['one'] = 'uno'\n",
    "print(eng2sp)\n",
    "\n",
    "eng2sp['two'] = 'dos'\n",
    "print(eng2sp)\n",
    "\n",
    "eng2sp['three'] = 'tres'\n",
    "print(eng2sp)"
   ]
  },
  {
   "cell_type": "markdown",
   "id": "3eec8fd0-c509-4c8d-9459-04e8cf4ad0c3",
   "metadata": {
    "tags": []
   },
   "source": [
    "### 4.1 Dictionary-建立"
   ]
  },
  {
   "cell_type": "code",
   "execution_count": null,
   "id": "ba388bed-f56f-40e9-a42d-174d179a83ee",
   "metadata": {},
   "outputs": [],
   "source": [
    "# empty dictionary \n",
    "my_dict = {} \n",
    "type(my_dict)\n",
    "print(my_dict)\n",
    "\n",
    "# dictionary with integer keys \n",
    "my_dict = {0: 'apple', 1: 'ball'} \n",
    "type(my_dict)\n",
    "print(my_dict)\n",
    "my_dict[0]\n",
    "my_dict[1]\n",
    "\n",
    "\n",
    "\n",
    "\n",
    "# dictionary with mixed keys\n",
    "my_dict = {'name': 'John', 1: [2, 4, 3]}\n",
    "type(my_dict)\n",
    "print(my_dict)\n"
   ]
  },
  {
   "cell_type": "code",
   "execution_count": null,
   "id": "1cfef695-d6bd-492c-8ae0-e275d1e916d3",
   "metadata": {},
   "outputs": [],
   "source": [
    "# using dict()\n",
    "my_dict = dict({1:'apple', 2:'ball'}) \n",
    "type(my_dict)\n",
    "print(my_dict)\n",
    "\n",
    "\n",
    "# from sequence having each item as a pair \n",
    "my_dict = dict([(1,'apple'), (2,'ball')]) \n",
    "type(my_dict)\n",
    "print(my_dict)\n"
   ]
  },
  {
   "cell_type": "markdown",
   "id": "0ee08a81-ab55-437c-9704-cee81cca9290",
   "metadata": {},
   "source": [
    "### 4.2 Dictionary-查"
   ]
  },
  {
   "cell_type": "code",
   "execution_count": null,
   "id": "1b129b63-c754-4b96-9dc7-9626aaf78cb5",
   "metadata": {},
   "outputs": [],
   "source": [
    "dict_eg = {'Name': 'Zara', 'Age': 7, 'Class': 'First'}\n",
    "\n",
    "print(\"dict['Name']: \", dict_eg['Name'])\n",
    "print(\"dict['Age']: \", dict_eg['Age'])"
   ]
  },
  {
   "cell_type": "markdown",
   "id": "503469ad-b87b-4a5d-bab6-a2061f851074",
   "metadata": {},
   "source": [
    "### 4.3 Dictionary-增"
   ]
  },
  {
   "cell_type": "code",
   "execution_count": null,
   "id": "3ff853bd-bfe4-421a-9437-8c5a3fe8a5ab",
   "metadata": {},
   "outputs": [],
   "source": [
    "dict_eg = {'Name': 'Zara', 'Age': 7, 'Class': 'First'}\n",
    "print(dict_eg)\n",
    "\n",
    "dict_eg['School'] = \"DPS School\" # Add new entry\n",
    "print(dict_eg)\n",
    "\n",
    "print(\"dict['School']: \", dict_eg['School'])"
   ]
  },
  {
   "cell_type": "code",
   "execution_count": null,
   "id": "5a60ca97-432a-434a-aa37-da89aa292895",
   "metadata": {},
   "outputs": [],
   "source": [
    "dict = {'Name': 'Zara', 'Age': 7} \n",
    "dict2 = {'Sex': 'female'}\n",
    "\n",
    "dict.update(dict2)\n",
    "dict"
   ]
  },
  {
   "cell_type": "markdown",
   "id": "c01a1708-86ca-4ea3-a346-ceb66aa9a756",
   "metadata": {},
   "source": [
    "### 4.4 Dictionary-改"
   ]
  },
  {
   "cell_type": "code",
   "execution_count": null,
   "id": "0bf514a5-8551-40eb-a896-9dc3741915ab",
   "metadata": {},
   "outputs": [],
   "source": [
    "# %% modify key-value pair\n",
    "\n",
    "inventory = {'apples': 430, 'bananas': 312, 'oranges': 525, 'pears': 217}\n",
    "inventory['pears'] = 0\n",
    "\n",
    "inventory\n",
    "\n",
    "\n",
    "inventory = {'apples': 430, 'bananas': 312, 'oranges': 525, 'pears': 217}\n",
    "inventory['bananas'] = inventory['bananas']+200\n",
    "inventory\n",
    "\n",
    "numItems = len(inventory)\n",
    "numItems"
   ]
  },
  {
   "cell_type": "code",
   "execution_count": null,
   "id": "c81bd3c8-ae0e-4e71-b53c-b69ec5c0c9fa",
   "metadata": {},
   "outputs": [],
   "source": [
    "my_dict = {'name':'Jack', 'age': 26}\n",
    "my_dict['age'] = 27 # update value\n",
    "print(my_dict) \n",
    "\n",
    "\n",
    "my_dict['address'] = 'Downtown'\t# add item \n",
    "print(my_dict)"
   ]
  },
  {
   "cell_type": "markdown",
   "id": "780b0d60-c360-400b-8ef3-94323f4ef056",
   "metadata": {},
   "source": [
    "### 4.5 Dictionary-删"
   ]
  },
  {
   "cell_type": "code",
   "execution_count": null,
   "id": "896b4acf-6530-495b-9eb5-510173bd802d",
   "metadata": {},
   "outputs": [],
   "source": [
    "dict = {'Name': 'Zara', 'Age': 7, 'Class': 'First'}\n",
    "del dict['Name'] # remove entry with key 'Name’\n",
    "print(dict)\n",
    "\n",
    "dict.pop('Age')\n",
    "dict\n",
    "\n",
    "dict.clear()     # remove all entries in dict\n",
    "print(dict)\n",
    "\n",
    "del dict        # delete entire dictionary\n",
    "dict\n",
    "print(dict)"
   ]
  },
  {
   "cell_type": "code",
   "execution_count": null,
   "id": "676358d5-356c-47bd-a1b7-440a2a7dc7d9",
   "metadata": {},
   "outputs": [],
   "source": [
    "inventory = {'apples': 430, 'bananas': 312, 'oranges': 525, 'pears': 217}\n",
    "del inventory ['pears']\n",
    "\n",
    "inventory"
   ]
  },
  {
   "cell_type": "markdown",
   "id": "f0a4f0b3-b747-43ff-a474-fceec0de31a3",
   "metadata": {},
   "source": [
    "### 4.6 Dictionary- Other Methods"
   ]
  },
  {
   "cell_type": "code",
   "execution_count": 109,
   "id": "d5f1c44b-73c5-41e2-b609-5bce5cf76fa5",
   "metadata": {},
   "outputs": [
    {
     "name": "stdout",
     "output_type": "stream",
     "text": [
      "dict_keys(['apples', 'bananas', 'oranges', 'pears'])\n",
      "dict_values([430, 312, 525, 217])\n",
      "dict_items([('apples', 430), ('bananas', 312), ('oranges', 525), ('pears', 217)])\n"
     ]
    }
   ],
   "source": [
    "# keys(), values(), items()\n",
    "\n",
    "inventory = {'apples': 430, 'bananas': 312, 'oranges': 525, 'pears': 217}\n",
    "\n",
    "print(inventory.keys())\n",
    "print(inventory.values())\n",
    "print(inventory.items())"
   ]
  },
  {
   "cell_type": "code",
   "execution_count": 110,
   "id": "82362c94-954d-4548-a8fe-9e731182feaa",
   "metadata": {},
   "outputs": [
    {
     "name": "stdout",
     "output_type": "stream",
     "text": [
      "['apples', 'bananas', 'oranges', 'pears']\n",
      "[430, 312, 525, 217]\n",
      "[('apples', 430), ('bananas', 312), ('oranges', 525), ('pears', 217)]\n"
     ]
    }
   ],
   "source": [
    "print(list(inventory.keys()))\n",
    "print(list(inventory.values()))\n",
    "print(list(inventory.items()))"
   ]
  },
  {
   "cell_type": "code",
   "execution_count": null,
   "id": "b57c7e0d-bf07-4b23-8b99-c4190ad73472",
   "metadata": {},
   "outputs": [],
   "source": [
    "for\t(k,v) in inventory.items():\n",
    "    print(\"Got\", k, \"that maps to\", v)"
   ]
  },
  {
   "cell_type": "code",
   "execution_count": 111,
   "id": "d70505d8-83ef-4c91-9978-593c54d5dea5",
   "metadata": {},
   "outputs": [
    {
     "name": "stdout",
     "output_type": "stream",
     "text": [
      "True\n",
      "False\n"
     ]
    }
   ],
   "source": [
    "# in\n",
    "inventory = {'apples': 430, 'bananas': 312, 'oranges': 525, 'pears': 217}\n",
    "\n",
    "print('apples' in inventory)\n",
    "print('cherries' in inventory)"
   ]
  },
  {
   "cell_type": "code",
   "execution_count": null,
   "id": "689f38e1-0dcd-43b7-ac93-87ccd64abf56",
   "metadata": {},
   "outputs": [],
   "source": [
    "entry = 'pineapple'\n",
    "if entry in inventory:\n",
    "    print(inventory[entry]) \n",
    "else:\n",
    "    print(\"We have no\", entry)"
   ]
  },
  {
   "cell_type": "code",
   "execution_count": 112,
   "id": "5491b975-4631-4cdd-bd38-8eddf944496a",
   "metadata": {},
   "outputs": [
    {
     "name": "stdout",
     "output_type": "stream",
     "text": [
      "True\n",
      "True\n",
      "False\n"
     ]
    }
   ],
   "source": [
    "squares = {1: 1, 3: 9, 5: 25, 7: 49, 9: 81}\n",
    "\n",
    "print(1 in squares)\n",
    "print(2 not in squares)\n",
    "\n",
    "# membership tests for key only not value\n",
    "print(49 in squares)"
   ]
  },
  {
   "cell_type": "code",
   "execution_count": null,
   "id": "4dd6ae40-bc4f-46b8-a087-6284e1b634a6",
   "metadata": {},
   "outputs": [],
   "source": [
    "squares = {1: 1, 3: 9, 5: 25, 7: 49, 9: 81}\n",
    "for i in squares:  # key at each iteration stored in i\n",
    "    print(squares[i])  # extract value only"
   ]
  },
  {
   "cell_type": "code",
   "execution_count": 113,
   "id": "39aef374-2bf7-44f9-a6ec-bd2c58814ce3",
   "metadata": {},
   "outputs": [
    {
     "name": "stdout",
     "output_type": "stream",
     "text": [
      "430\n",
      "None\n",
      "0\n",
      "430\n",
      "None\n"
     ]
    }
   ],
   "source": [
    "# get()\n",
    "\n",
    "inventory = {'apples': 430, 'bananas': 312, 'oranges': 525, 'pears': 217}\n",
    "\n",
    "\n",
    "print(inventory.get(\"apples\"))\n",
    "\n",
    "print(inventory.get(\"cherries\"))  # output: None\n",
    "\n",
    "#print(inventory['cherries'])\n",
    "\n",
    "print(inventory.get(\"cherries\", 0))  # Default value, overwrite\n",
    "print(inventory.get(\"apples\", 0))\n",
    "print(inventory.get(\"cherries\"))"
   ]
  },
  {
   "cell_type": "code",
   "execution_count": null,
   "id": "65e8c64e-6b6c-452b-9f12-f9d5822ea48b",
   "metadata": {},
   "outputs": [],
   "source": [
    "#setdefault()\n",
    "\n",
    "dict = {'Name': 'Zara', 'Age': 7}\n",
    "print (\"Value : %s\" % dict.setdefault('Age', None)) # overwritten\n",
    "print (\"Value : %s\" % dict.setdefault('Sex', None))"
   ]
  },
  {
   "cell_type": "code",
   "execution_count": null,
   "id": "64a77290-f2f4-44f6-ae49-2f6fb2109333",
   "metadata": {},
   "outputs": [],
   "source": [
    "# copy()\n",
    "\n",
    "dict1 = {'Name': 'Zara', 'Age': 7}\n",
    "dict2 = dict1.copy()\n",
    "print(\"New Dictionary : %s\" % str(dict2))"
   ]
  },
  {
   "cell_type": "code",
   "execution_count": null,
   "id": "40089f63-9db1-4d41-a135-9c6ab96c3147",
   "metadata": {},
   "outputs": [],
   "source": [
    "# nested dictionary\n",
    "\n",
    "people = {'A': {'name': 'John', 'age': '27', 'sex': 'Male'},\n",
    "          'B': {'name': 'Marie', 'age': '22', 'sex': 'Female'}}\n",
    "\n",
    "people['B']['sex']"
   ]
  },
  {
   "cell_type": "code",
   "execution_count": null,
   "id": "554f980b-b451-4657-8770-54b36547e130",
   "metadata": {},
   "outputs": [],
   "source": [
    "people = {1: {'name': 'John', 'age': '27', 'sex': 'Male'},\n",
    "          2: {'name': 'Marie', 'age': '22', 'sex': 'Female'}}\n",
    "    \n",
    "people[3] = {}\n",
    "people[3]['name'] = 'Luna'\n",
    "people[3]['age'] = '24'\n",
    "people[3]['sex'] = 'Female'\n",
    "people[3]['married'] = 'No'\n",
    "\n",
    "print(people[3])\n",
    "people\n",
    "\n",
    "del people[3]['married']\n",
    "print(people[3])\n",
    "people"
   ]
  },
  {
   "cell_type": "markdown",
   "id": "2c4586a7-1a4c-475a-9b67-95771e5be98b",
   "metadata": {},
   "source": [
    "### List(在内的mutable)不可以做dict的key，也不可以放进set"
   ]
  },
  {
   "cell_type": "code",
   "execution_count": 114,
   "id": "1a766760-fd49-4482-9a33-303509afe37f",
   "metadata": {},
   "outputs": [
    {
     "ename": "TypeError",
     "evalue": "unhashable type: 'list'",
     "output_type": "error",
     "traceback": [
      "\u001b[0;31m---------------------------------------------------------------------------\u001b[0m",
      "\u001b[0;31mTypeError\u001b[0m                                 Traceback (most recent call last)",
      "\u001b[0;32m/var/folders/90/qwvkhjks3x3dzmgv1rlkbkyr0000gn/T/ipykernel_60369/2309545397.py\u001b[0m in \u001b[0;36m<module>\u001b[0;34m\u001b[0m\n\u001b[0;32m----> 1\u001b[0;31m \u001b[0mdict\u001b[0m\u001b[0;34m=\u001b[0m\u001b[0;34m{\u001b[0m\u001b[0;34m[\u001b[0m\u001b[0;36m1\u001b[0m\u001b[0;34m,\u001b[0m\u001b[0;36m2\u001b[0m\u001b[0;34m]\u001b[0m \u001b[0;34m:\u001b[0m \u001b[0;34m'abc'\u001b[0m\u001b[0;34m}\u001b[0m\u001b[0;34m\u001b[0m\u001b[0;34m\u001b[0m\u001b[0m\n\u001b[0m",
      "\u001b[0;31mTypeError\u001b[0m: unhashable type: 'list'"
     ]
    }
   ],
   "source": [
    "dict={[1,2] : 'abc'}"
   ]
  },
  {
   "cell_type": "code",
   "execution_count": 115,
   "id": "d0688e84-deb6-4f1c-b83b-9939603f5b1d",
   "metadata": {
    "tags": []
   },
   "outputs": [
    {
     "ename": "TypeError",
     "evalue": "unhashable type: 'list'",
     "output_type": "error",
     "traceback": [
      "\u001b[0;31m---------------------------------------------------------------------------\u001b[0m",
      "\u001b[0;31mTypeError\u001b[0m                                 Traceback (most recent call last)",
      "\u001b[0;32m/var/folders/90/qwvkhjks3x3dzmgv1rlkbkyr0000gn/T/ipykernel_60369/1301788982.py\u001b[0m in \u001b[0;36m<module>\u001b[0;34m\u001b[0m\n\u001b[0;32m----> 1\u001b[0;31m \u001b[0mset\u001b[0m\u001b[0;34m=\u001b[0m\u001b[0;34m{\u001b[0m\u001b[0;34m[\u001b[0m\u001b[0;36m1\u001b[0m\u001b[0;34m,\u001b[0m \u001b[0;36m2\u001b[0m\u001b[0;34m,\u001b[0m \u001b[0;36m3\u001b[0m\u001b[0;34m]\u001b[0m\u001b[0;34m}\u001b[0m\u001b[0;34m\u001b[0m\u001b[0;34m\u001b[0m\u001b[0m\n\u001b[0m",
      "\u001b[0;31mTypeError\u001b[0m: unhashable type: 'list'"
     ]
    }
   ],
   "source": [
    "set={[1, 2, 3]}"
   ]
  },
  {
   "cell_type": "code",
   "execution_count": null,
   "id": "e3dd2b69-43a3-4eae-a60a-beca051ccc48",
   "metadata": {},
   "outputs": [],
   "source": [
    "dict = {(1,2) : 'abc'}\n",
    "dict\n",
    "\n",
    "s={(1,2,3)}\n",
    "s"
   ]
  },
  {
   "cell_type": "markdown",
   "id": "f44e0908-6683-4a56-ba84-8997b47aeeb2",
   "metadata": {},
   "source": [
    "## 5. Tuple"
   ]
  },
  {
   "cell_type": "code",
   "execution_count": null,
   "id": "fff4b5c4-2ad3-4195-9ebf-e882957e88f0",
   "metadata": {},
   "outputs": [],
   "source": [
    "t = (5,'program', 1+3j)\n",
    "\n",
    "t[1]\n",
    "\n",
    "#t[0]=3"
   ]
  },
  {
   "cell_type": "markdown",
   "id": "9ac2afa6-4caf-490b-a802-8d90f6e5b58a",
   "metadata": {},
   "source": [
    "### 5.1 Tuple-建立"
   ]
  },
  {
   "cell_type": "code",
   "execution_count": null,
   "id": "36152f01-98e3-4a7e-8de7-acd75fca5a50",
   "metadata": {},
   "outputs": [],
   "source": [
    "tup1 = ('physics', 'chemistry', 1997, 2000);\n",
    "tup2 = (1, 2, 3, 4, 5 );\n",
    "tup3 = \"a\", \"b\", \"c\", \"d\";\n",
    "\n",
    "type(tup3)"
   ]
  },
  {
   "cell_type": "code",
   "execution_count": 116,
   "id": "1949f31e-cdd8-4c81-b176-cd590c867f3f",
   "metadata": {},
   "outputs": [
    {
     "data": {
      "text/plain": [
       "int"
      ]
     },
     "execution_count": 116,
     "metadata": {},
     "output_type": "execute_result"
    },
    {
     "data": {
      "text/plain": [
       "tuple"
      ]
     },
     "execution_count": 116,
     "metadata": {},
     "output_type": "execute_result"
    },
    {
     "data": {
      "text/plain": [
       "str"
      ]
     },
     "execution_count": 116,
     "metadata": {},
     "output_type": "execute_result"
    },
    {
     "data": {
      "text/plain": [
       "tuple"
      ]
     },
     "execution_count": 116,
     "metadata": {},
     "output_type": "execute_result"
    }
   ],
   "source": [
    "# only parentheses is not enough\n",
    "\n",
    "tup1 = (50);\n",
    "type(tup1)\n",
    "\n",
    "tup1 = (50,)\n",
    "type(tup1)\n",
    "\n",
    "\n",
    "\n",
    "my_tuple = (\"hello\")\n",
    "type(my_tuple)\n",
    "\n",
    "my_tuple = (\"hello\",)\n",
    "type(my_tuple)\n"
   ]
  },
  {
   "cell_type": "markdown",
   "id": "17c01aa0-1175-4b37-ba91-cbe00e2869d4",
   "metadata": {},
   "source": [
    "### 5.2 Tuple-查"
   ]
  },
  {
   "cell_type": "code",
   "execution_count": 117,
   "id": "7ce2a103-fd9f-4fdd-80f5-a49a6d53994f",
   "metadata": {},
   "outputs": [
    {
     "name": "stdout",
     "output_type": "stream",
     "text": [
      "tup1[0]:  physics\n",
      "tup2[1:5]:  (2, 3, 4, 5)\n"
     ]
    }
   ],
   "source": [
    "tup1 = ('physics', 'chemistry', 1997, 2000)\n",
    "tup2 = (1, 2, 3, 4, 5, 6, 7 )\n",
    "print (\"tup1[0]: \", tup1[0])\n",
    "print (\"tup2[1:5]: \", tup2[1:5])\n"
   ]
  },
  {
   "cell_type": "markdown",
   "id": "108815cc-2143-42a5-9432-6bb21a85cd36",
   "metadata": {},
   "source": [
    "### 5.3 Tuple-增"
   ]
  },
  {
   "cell_type": "code",
   "execution_count": null,
   "id": "d75ca6b0-f43b-453e-b008-e42dc23bca63",
   "metadata": {},
   "outputs": [],
   "source": [
    "tup1 = (12, 34.56);\n",
    "tup1[0]=100\n",
    "\n",
    "tup2 = ('abc', 'xyz');\n",
    "\n",
    "tup3 = tup1+tup2;\n",
    "tup3\n"
   ]
  },
  {
   "cell_type": "code",
   "execution_count": null,
   "id": "d5a6a560-4ebc-4b6d-95d3-079599018244",
   "metadata": {},
   "outputs": [],
   "source": [
    "# Concatenation\n",
    "print((1, 2, 3)+(4, 5, 6))\n",
    "\n",
    "# Repeat\n",
    "print((\"Repeat\",) * 3)\n",
    "\n"
   ]
  },
  {
   "cell_type": "markdown",
   "id": "6e100940-a035-4701-80c4-56e69144ca79",
   "metadata": {},
   "source": [
    "### 5.4 Tuple-改"
   ]
  },
  {
   "cell_type": "code",
   "execution_count": 122,
   "id": "684b1653-7569-41c8-ac7b-5056cd006351",
   "metadata": {},
   "outputs": [
    {
     "ename": "AttributeError",
     "evalue": "'tuple' object has no attribute 'append'",
     "output_type": "error",
     "traceback": [
      "\u001b[0;31m---------------------------------------------------------------------------\u001b[0m",
      "\u001b[0;31mAttributeError\u001b[0m                            Traceback (most recent call last)",
      "\u001b[0;32m/var/folders/90/qwvkhjks3x3dzmgv1rlkbkyr0000gn/T/ipykernel_60369/1704832217.py\u001b[0m in \u001b[0;36m<module>\u001b[0;34m\u001b[0m\n\u001b[1;32m      5\u001b[0m \u001b[0;31m# generate an error\u001b[0m\u001b[0;34m\u001b[0m\u001b[0;34m\u001b[0m\u001b[0m\n\u001b[1;32m      6\u001b[0m \u001b[0;34m\u001b[0m\u001b[0m\n\u001b[0;32m----> 7\u001b[0;31m \u001b[0mtup1\u001b[0m\u001b[0;34m.\u001b[0m\u001b[0mappend\u001b[0m\u001b[0;34m(\u001b[0m\u001b[0;36m100\u001b[0m\u001b[0;34m)\u001b[0m\u001b[0;34m\u001b[0m\u001b[0;34m\u001b[0m\u001b[0m\n\u001b[0m",
      "\u001b[0;31mAttributeError\u001b[0m: 'tuple' object has no attribute 'append'"
     ]
    }
   ],
   "source": [
    "tup1 = (12, 34.56);\n",
    "# Following action is not valid for tuples \n",
    "\n",
    "# tup1[0] = 100; \n",
    "# generate an error\n",
    "\n",
    "# tup1.append(100)\n"
   ]
  },
  {
   "cell_type": "markdown",
   "id": "0a62e824-d655-4af0-b8db-da9b812d1fcd",
   "metadata": {},
   "source": [
    "### 5.5 Tuple-删"
   ]
  },
  {
   "cell_type": "code",
   "execution_count": null,
   "id": "aef92380-8321-43dd-b0be-fd31494a1a03",
   "metadata": {},
   "outputs": [],
   "source": [
    "tup = ('physics', 'chemistry', 1997, 2000)\n",
    "print (tup)\n",
    "del tup\n",
    "\n",
    "print (\"After deleting tup : \")\n",
    "print (tup)"
   ]
  },
  {
   "cell_type": "code",
   "execution_count": null,
   "id": "0b423297-aa99-4446-bfe4-807f054deb42",
   "metadata": {},
   "outputs": [],
   "source": [
    "tup = ('physics', 'chemistry', 1997, 2000)\n",
    "del tup[1]  # error, unsupported"
   ]
  },
  {
   "cell_type": "markdown",
   "id": "d12092ee-2f87-4d26-8ccf-7721ad37d7c4",
   "metadata": {},
   "source": [
    "### 5.6 Tuple- Other Methods"
   ]
  },
  {
   "cell_type": "code",
   "execution_count": null,
   "id": "2580b91e-880f-4601-9697-90483a6f72b2",
   "metadata": {},
   "outputs": [],
   "source": [
    "# nested tuple\n",
    "n_tuple = (\"mouse\", [8, 4, 6], (1, 2, 3)) \n",
    "print(n_tuple[0][3]) # Output: 's'\n",
    "\n",
    "# nested index \n",
    "print(n_tuple[1][1]) # Output: 4\n"
   ]
  },
  {
   "cell_type": "code",
   "execution_count": null,
   "id": "8eb360c3-41ea-490d-8c47-fd6e3adbb07e",
   "metadata": {},
   "outputs": [],
   "source": [
    "#count and index\n",
    "\n",
    "my_tuple = ('a','p','p','l','e',)\n",
    "\n",
    "\n",
    "# Count\n",
    "print(my_tuple.count('p')) # Output: 2\n",
    "\n",
    "# Index\n",
    "print(my_tuple.index('l')) # Output: 3\n"
   ]
  },
  {
   "cell_type": "code",
   "execution_count": null,
   "id": "ee5f0f15-60a9-4296-bdd4-62fe595426d4",
   "metadata": {},
   "outputs": [],
   "source": [
    "# membership test\n",
    "\n",
    "my_tuple = ('a','p','p','l','e',) \n",
    "\n",
    "# In operation\n",
    "print('a' in my_tuple)\n",
    "print('b' in my_tuple)\n",
    "print('g' not in my_tuple)\n"
   ]
  },
  {
   "cell_type": "code",
   "execution_count": null,
   "id": "5e079aff-54d2-4dd8-9a53-82afa32581b6",
   "metadata": {},
   "outputs": [],
   "source": [
    "# tuple function\n",
    "tuple1=tuple([1,3,5,7,9])\n",
    "tuple1"
   ]
  },
  {
   "cell_type": "code",
   "execution_count": null,
   "id": "eaae9bdb-bce0-4aac-a7cf-b1537fca03bc",
   "metadata": {},
   "outputs": [],
   "source": [
    "tuple2=tuple('hello world')\n",
    "tuple2"
   ]
  },
  {
   "cell_type": "code",
   "execution_count": null,
   "id": "25c80d2a-15e9-465a-bef5-32680359535d",
   "metadata": {},
   "outputs": [],
   "source": [
    "tuple3=tuple(['hello world'])\n",
    "tuple3"
   ]
  },
  {
   "cell_type": "code",
   "execution_count": null,
   "id": "8acd8aca-6bcc-44de-9df6-7f21f3110812",
   "metadata": {},
   "outputs": [],
   "source": [
    "tuple4=tuple({'Name': 'Zara', 'Age': 7})\n",
    "tuple4"
   ]
  }
 ],
 "metadata": {
  "kernelspec": {
   "display_name": "Python 3 (ipykernel)",
   "language": "python",
   "name": "python3"
  },
  "language_info": {
   "codemirror_mode": {
    "name": "ipython",
    "version": 3
   },
   "file_extension": ".py",
   "mimetype": "text/x-python",
   "name": "python",
   "nbconvert_exporter": "python",
   "pygments_lexer": "ipython3",
   "version": "3.9.7"
  }
 },
 "nbformat": 4,
 "nbformat_minor": 5
}
