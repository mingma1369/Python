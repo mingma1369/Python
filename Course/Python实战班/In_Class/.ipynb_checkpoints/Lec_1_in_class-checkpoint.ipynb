{
 "cells": [
  {
   "cell_type": "markdown",
   "id": "6ab1428e-36c1-4334-b0a6-775c023f74f4",
   "metadata": {},
   "source": [
    "# Lecture 1 Introduction to Python"
   ]
  },
  {
   "cell_type": "markdown",
   "id": "de81ec6f-975c-476f-8ab8-f09a02a6945f",
   "metadata": {},
   "source": [
    "## Jupyter Lab/Notebook 编译器的使用"
   ]
  },
  {
   "cell_type": "markdown",
   "id": "e30c6c36-620c-4480-b39f-90b5c29ba6e5",
   "metadata": {},
   "source": [
    "1. 编辑代码和执行 - shift + enter\n",
    "2. Cell里面的内容可以选择成“markdown” - 可以把code写成“文章”\n",
    "3. Edit mode - 可以编辑code\n",
    "4. Command mode - 可以使用快捷键    \n",
    "    \n",
    "    a: add a cell above\n",
    "    \n",
    "    b: add a cell below\n",
    "    \n",
    "    dd: delete a cell\n",
    "    \n",
    "    z: undo\n",
    "    \n",
    "5. 关闭文件\n",
    "\n",
    "    先保存notebook文件\n",
    "    再点file -> shutdown "
   ]
  },
  {
   "cell_type": "markdown",
   "id": "2f3f4f4c-2c08-4494-8ae4-2f744525e5a0",
   "metadata": {
    "tags": []
   },
   "source": [
    "## 1. Displaying Text"
   ]
  },
  {
   "cell_type": "code",
   "execution_count": 9,
   "id": "719e592c-07f9-43cb-89b8-374bcee145f7",
   "metadata": {},
   "outputs": [
    {
     "name": "stdout",
     "output_type": "stream",
     "text": [
      "Hello World\n"
     ]
    }
   ],
   "source": [
    "print('Hello World')\n",
    "\n",
    "print(\"This is a demo\")\n",
    "\n",
    "#print(\"this is a demo\") - this is a line of comment, python will not run it"
   ]
  },
  {
   "cell_type": "markdown",
   "id": "4f14a2c5-b4a1-4c25-b506-32db10cef41e",
   "metadata": {},
   "source": [
    "### 1.1 Single and double Quotes"
   ]
  },
  {
   "cell_type": "code",
   "execution_count": 2,
   "id": "9b098cad-f54f-4fc0-99d0-7e2ef33993e6",
   "metadata": {},
   "outputs": [
    {
     "name": "stdout",
     "output_type": "stream",
     "text": [
      "It's a beautiful day in the neighborhood\n"
     ]
    }
   ],
   "source": [
    "print(\"It's a beautiful day in the neighborhood\")"
   ]
  },
  {
   "cell_type": "code",
   "execution_count": 3,
   "id": "39643f30-89b6-47a6-b4ca-141080220c6a",
   "metadata": {},
   "outputs": [
    {
     "ename": "SyntaxError",
     "evalue": "invalid syntax (1672292906.py, line 1)",
     "output_type": "error",
     "traceback": [
      "\u001b[0;36m  File \u001b[0;32m\"/var/folders/90/qwvkhjks3x3dzmgv1rlkbkyr0000gn/T/ipykernel_35752/1672292906.py\"\u001b[0;36m, line \u001b[0;32m1\u001b[0m\n\u001b[0;31m    print('It's a beautiful day in the neighborhood')\u001b[0m\n\u001b[0m              ^\u001b[0m\n\u001b[0;31mSyntaxError\u001b[0m\u001b[0;31m:\u001b[0m invalid syntax\n"
     ]
    }
   ],
   "source": [
    "print('It's a beautiful day in the neighborhood')"
   ]
  },
  {
   "cell_type": "markdown",
   "id": "ce851abf-7f82-4c5f-a2ec-2f67017b0191",
   "metadata": {},
   "source": [
    "### 1.2 Print in multiple lines　"
   ]
  },
  {
   "cell_type": "code",
   "execution_count": 4,
   "id": "5df153a7-04ee-424d-aa68-22cca10c372a",
   "metadata": {},
   "outputs": [
    {
     "ename": "SyntaxError",
     "evalue": "EOL while scanning string literal (1112060339.py, line 1)",
     "output_type": "error",
     "traceback": [
      "\u001b[0;36m  File \u001b[0;32m\"/var/folders/90/qwvkhjks3x3dzmgv1rlkbkyr0000gn/T/ipykernel_35752/1112060339.py\"\u001b[0;36m, line \u001b[0;32m1\u001b[0m\n\u001b[0;31m    print(\"It's a beautiful day\u001b[0m\n\u001b[0m                                ^\u001b[0m\n\u001b[0;31mSyntaxError\u001b[0m\u001b[0;31m:\u001b[0m EOL while scanning string literal\n"
     ]
    }
   ],
   "source": [
    "print(\"It's a beautiful day\n",
    "in the neighborhood\")"
   ]
  },
  {
   "cell_type": "code",
   "execution_count": 5,
   "id": "830559a0-011f-4efb-8f61-1793c6223d26",
   "metadata": {},
   "outputs": [
    {
     "name": "stdout",
     "output_type": "stream",
     "text": [
      "It's a beautiful day\n",
      " in the neighborhood\n"
     ]
    }
   ],
   "source": [
    "print(\"It's a beautiful day\\n in the neighborhood\")"
   ]
  },
  {
   "cell_type": "code",
   "execution_count": 6,
   "id": "4fe748eb-db4e-4007-afb2-e2f954032de2",
   "metadata": {},
   "outputs": [
    {
     "name": "stdout",
     "output_type": "stream",
     "text": [
      "It's a beautiful day\n",
      "in the neighborhood\n"
     ]
    }
   ],
   "source": [
    "print(\"It's a beautiful day\\nin the neighborhood\")"
   ]
  },
  {
   "cell_type": "code",
   "execution_count": 7,
   "id": "5980894b-6910-49a9-9ab9-b6ba718e805a",
   "metadata": {},
   "outputs": [
    {
     "name": "stdout",
     "output_type": "stream",
     "text": [
      "It's a beautiful day \n",
      "in the neighborhood\n"
     ]
    }
   ],
   "source": [
    "print('''It's a beautiful day \n",
    "in the neighborhood''')"
   ]
  },
  {
   "cell_type": "code",
   "execution_count": 8,
   "id": "3a757852-60bc-4823-8d75-abf813f0d970",
   "metadata": {},
   "outputs": [
    {
     "name": "stdout",
     "output_type": "stream",
     "text": [
      "It's a beautiful day\n",
      "in the neighborhood\n"
     ]
    }
   ],
   "source": [
    "print(\"\"\"It's a beautiful day\n",
    "in the neighborhood\"\"\")"
   ]
  },
  {
   "cell_type": "markdown",
   "id": "74d7418d-5096-42f9-84e7-23e4f7709bdf",
   "metadata": {},
   "source": [
    "## 2. Juptyter Notebook/Lab的一个特性 - 只输出最后一步结果"
   ]
  },
  {
   "cell_type": "code",
   "execution_count": 14,
   "id": "87bafe36-57ab-4710-a6fd-abc74cb3b24c",
   "metadata": {},
   "outputs": [
    {
     "data": {
      "text/plain": [
       "-1"
      ]
     },
     "execution_count": 14,
     "metadata": {},
     "output_type": "execute_result"
    }
   ],
   "source": [
    "x = 1 # this is an assignment statement\n",
    "y = 2\n",
    "\n",
    "x+y \n",
    "x-y\n",
    "#只输出最后一步结果\n",
    "#out只输出计算结果"
   ]
  },
  {
   "cell_type": "code",
   "execution_count": 13,
   "id": "08209848-b817-4b1f-bca3-4b9e1d44ed51",
   "metadata": {},
   "outputs": [
    {
     "name": "stdout",
     "output_type": "stream",
     "text": [
      "0.6666666666666666\n",
      "50\n"
     ]
    },
    {
     "data": {
      "text/plain": [
       "2"
      ]
     },
     "execution_count": 13,
     "metadata": {},
     "output_type": "execute_result"
    }
   ],
   "source": [
    "3**4 #3的4次方 不会显示这个结果 (因为默认只显示最后一个计算的结果)\n",
    "\n",
    "print(y/3)  #print一定会显示，可以print多个\n",
    "print(x*50) #print一定会显示，可以print多个\n",
    "\n",
    "x*2"
   ]
  },
  {
   "cell_type": "markdown",
   "id": "e56541ef-25dd-4120-82f1-d83f6fb5ed91",
   "metadata": {},
   "source": [
    "### 2.1 建议各位同学打开Jupyter Lab/Notebook 之后先run以下code就可以输出所有结果"
   ]
  },
  {
   "cell_type": "code",
   "execution_count": 1,
   "id": "b26630d9-c71a-4a90-8541-fed827d1dca9",
   "metadata": {
    "tags": []
   },
   "outputs": [],
   "source": [
    "# By running the following python code, Jupyter Notebook will display all results\n",
    "# We will cover the details of this type of \"import\" code later\n",
    "\n",
    "from IPython.core.interactiveshell import InteractiveShell\n",
    "InteractiveShell.ast_node_interactivity = 'all'\n",
    "# 'all, last, last_expr(default), none, last_expr_or_assign'"
   ]
  },
  {
   "cell_type": "code",
   "execution_count": 16,
   "id": "7009bb33-a622-4670-a849-984a558796d7",
   "metadata": {},
   "outputs": [
    {
     "data": {
      "text/plain": [
       "3"
      ]
     },
     "execution_count": 16,
     "metadata": {},
     "output_type": "execute_result"
    },
    {
     "data": {
      "text/plain": [
       "-1"
      ]
     },
     "execution_count": 16,
     "metadata": {},
     "output_type": "execute_result"
    }
   ],
   "source": [
    "x = 1 # this is an assignment statement\n",
    "y = 2\n",
    "\n",
    "x+y \n",
    "x-y\n",
    "\n",
    "#这一次两个结果都会输出"
   ]
  },
  {
   "cell_type": "markdown",
   "id": "05c86929-9a90-4643-9f26-dd461c43486c",
   "metadata": {},
   "source": [
    "## 3. Python数据类型"
   ]
  },
  {
   "cell_type": "markdown",
   "id": "52b6387c-4084-4de1-aaae-56741dfdd24c",
   "metadata": {},
   "source": [
    "### 3.1 Numbers- Int, Floating, Complex"
   ]
  },
  {
   "cell_type": "code",
   "execution_count": 19,
   "id": "1512fc01-eb0d-458a-ba89-dde9c37019a6",
   "metadata": {},
   "outputs": [
    {
     "name": "stdout",
     "output_type": "stream",
     "text": [
      "5 is of type <class 'int'>\n",
      "2.0 is of type <class 'float'>\n",
      "(1+2j) is complex number? True\n"
     ]
    }
   ],
   "source": [
    "a = 5\n",
    "print(a, \"is of type\", type(a))\n",
    "\n",
    "b = 2.0\n",
    "print(b, \"is of type\", type(b)) \n",
    "\n",
    "c = 1+2j\n",
    "print(c, \"is complex number?\", isinstance(1+2j,complex))\n"
   ]
  },
  {
   "cell_type": "code",
   "execution_count": 20,
   "id": "5808a299-df56-49ee-ae38-a7d5216baee3",
   "metadata": {},
   "outputs": [
    {
     "data": {
      "text/plain": [
       "int"
      ]
     },
     "execution_count": 20,
     "metadata": {},
     "output_type": "execute_result"
    },
    {
     "data": {
      "text/plain": [
       "float"
      ]
     },
     "execution_count": 20,
     "metadata": {},
     "output_type": "execute_result"
    },
    {
     "data": {
      "text/plain": [
       "complex"
      ]
     },
     "execution_count": 20,
     "metadata": {},
     "output_type": "execute_result"
    },
    {
     "data": {
      "text/plain": [
       "bool"
      ]
     },
     "execution_count": 20,
     "metadata": {},
     "output_type": "execute_result"
    },
    {
     "data": {
      "text/plain": [
       "str"
      ]
     },
     "execution_count": 20,
     "metadata": {},
     "output_type": "execute_result"
    }
   ],
   "source": [
    "type(2)\n",
    "\n",
    "type(42.0)\n",
    "\n",
    "type(3+4j)\n",
    "\n",
    "type(True)\n",
    "\n",
    "type('Hello World!')"
   ]
  },
  {
   "cell_type": "markdown",
   "id": "81120cdc-ec66-4dfe-9fae-fadf73609f65",
   "metadata": {},
   "source": [
    "### 3.2 Integer计算"
   ]
  },
  {
   "cell_type": "code",
   "execution_count": 21,
   "id": "1b104a9a-5e6d-45cc-840d-a949b2404545",
   "metadata": {},
   "outputs": [
    {
     "data": {
      "text/plain": [
       "7"
      ]
     },
     "execution_count": 21,
     "metadata": {},
     "output_type": "execute_result"
    },
    {
     "data": {
      "text/plain": [
       "3"
      ]
     },
     "execution_count": 21,
     "metadata": {},
     "output_type": "execute_result"
    },
    {
     "data": {
      "text/plain": [
       "10"
      ]
     },
     "execution_count": 21,
     "metadata": {},
     "output_type": "execute_result"
    },
    {
     "data": {
      "text/plain": [
       "2.5"
      ]
     },
     "execution_count": 21,
     "metadata": {},
     "output_type": "execute_result"
    },
    {
     "data": {
      "text/plain": [
       "25"
      ]
     },
     "execution_count": 21,
     "metadata": {},
     "output_type": "execute_result"
    },
    {
     "data": {
      "text/plain": [
       "2"
      ]
     },
     "execution_count": 21,
     "metadata": {},
     "output_type": "execute_result"
    },
    {
     "data": {
      "text/plain": [
       "1"
      ]
     },
     "execution_count": 21,
     "metadata": {},
     "output_type": "execute_result"
    }
   ],
   "source": [
    "5+2\n",
    "5-2\n",
    "5*2\n",
    "5/2\n",
    "5**2\n",
    "5//2 #floor division 商\n",
    "5%2 #modulo余数"
   ]
  },
  {
   "cell_type": "code",
   "execution_count": 22,
   "id": "ac010d55-6028-414c-9fdf-84535f77af0f",
   "metadata": {},
   "outputs": [
    {
     "data": {
      "text/plain": [
       "int"
      ]
     },
     "execution_count": 22,
     "metadata": {},
     "output_type": "execute_result"
    },
    {
     "data": {
      "text/plain": [
       "int"
      ]
     },
     "execution_count": 22,
     "metadata": {},
     "output_type": "execute_result"
    },
    {
     "data": {
      "text/plain": [
       "int"
      ]
     },
     "execution_count": 22,
     "metadata": {},
     "output_type": "execute_result"
    },
    {
     "data": {
      "text/plain": [
       "float"
      ]
     },
     "execution_count": 22,
     "metadata": {},
     "output_type": "execute_result"
    },
    {
     "data": {
      "text/plain": [
       "int"
      ]
     },
     "execution_count": 22,
     "metadata": {},
     "output_type": "execute_result"
    },
    {
     "data": {
      "text/plain": [
       "int"
      ]
     },
     "execution_count": 22,
     "metadata": {},
     "output_type": "execute_result"
    },
    {
     "data": {
      "text/plain": [
       "int"
      ]
     },
     "execution_count": 22,
     "metadata": {},
     "output_type": "execute_result"
    }
   ],
   "source": [
    "type(5+2)\n",
    "type(5-2)\n",
    "type(5*2)\n",
    "type(5/2)\n",
    "type(5**2)\n",
    "type(5//2)\n",
    "type(5%2)"
   ]
  },
  {
   "cell_type": "code",
   "execution_count": 24,
   "id": "6134c09a-8908-4d59-93c2-f2d5b2bac849",
   "metadata": {},
   "outputs": [
    {
     "data": {
      "text/plain": [
       "2.0"
      ]
     },
     "execution_count": 24,
     "metadata": {},
     "output_type": "execute_result"
    },
    {
     "data": {
      "text/plain": [
       "float"
      ]
     },
     "execution_count": 24,
     "metadata": {},
     "output_type": "execute_result"
    },
    {
     "data": {
      "text/plain": [
       "float"
      ]
     },
     "execution_count": 24,
     "metadata": {},
     "output_type": "execute_result"
    },
    {
     "data": {
      "text/plain": [
       "float"
      ]
     },
     "execution_count": 24,
     "metadata": {},
     "output_type": "execute_result"
    }
   ],
   "source": [
    "2/1\n",
    "type(2/1)\n",
    "type(2/1+1)\n",
    "type(2/1*1)"
   ]
  },
  {
   "cell_type": "code",
   "execution_count": 25,
   "id": "0f13e1fb-8336-4097-8af5-92b1f0f0ae45",
   "metadata": {},
   "outputs": [
    {
     "data": {
      "text/plain": [
       "2.0"
      ]
     },
     "execution_count": 25,
     "metadata": {},
     "output_type": "execute_result"
    },
    {
     "data": {
      "text/plain": [
       "2"
      ]
     },
     "execution_count": 25,
     "metadata": {},
     "output_type": "execute_result"
    },
    {
     "data": {
      "text/plain": [
       "float"
      ]
     },
     "execution_count": 25,
     "metadata": {},
     "output_type": "execute_result"
    },
    {
     "data": {
      "text/plain": [
       "int"
      ]
     },
     "execution_count": 25,
     "metadata": {},
     "output_type": "execute_result"
    }
   ],
   "source": [
    "2/1\n",
    "2//1\n",
    "\n",
    "type(2/1)\n",
    "type(2//1)"
   ]
  },
  {
   "cell_type": "markdown",
   "id": "b1c284e4-0194-4184-835f-c2d925eda5bf",
   "metadata": {},
   "source": [
    "### 3.3 Floating 数据特点"
   ]
  },
  {
   "cell_type": "code",
   "execution_count": 26,
   "id": "dce1e7b7-208b-42d3-8921-e81b0a8b3866",
   "metadata": {},
   "outputs": [
    {
     "data": {
      "text/plain": [
       "False"
      ]
     },
     "execution_count": 26,
     "metadata": {},
     "output_type": "execute_result"
    },
    {
     "data": {
      "text/plain": [
       "True"
      ]
     },
     "execution_count": 26,
     "metadata": {},
     "output_type": "execute_result"
    }
   ],
   "source": [
    "(1.1 + 2.2) == 3.3 # == 判断是否相等的符号\n",
    "round(1.1 + 2.2, 1) == 3.3"
   ]
  },
  {
   "cell_type": "code",
   "execution_count": 27,
   "id": "ebe0aa60-8d80-4041-8c3e-ae57709d8d1c",
   "metadata": {},
   "outputs": [
    {
     "data": {
      "text/plain": [
       "3.3000000000000003"
      ]
     },
     "execution_count": 27,
     "metadata": {},
     "output_type": "execute_result"
    }
   ],
   "source": [
    "1.1 + 2.2"
   ]
  },
  {
   "cell_type": "markdown",
   "id": "0110b00f-3aa9-4b4d-9a6a-9b0db0633be4",
   "metadata": {},
   "source": [
    "### 3.4 数字格式调整"
   ]
  },
  {
   "cell_type": "code",
   "execution_count": null,
   "id": "863b02e9-45ae-4a06-ab90-293b83e46d65",
   "metadata": {},
   "outputs": [],
   "source": [
    "#format the output number\n",
    "\n",
    "print('I have %d cats' % 6)\n",
    "print('I have %3d cats' % 6)\n",
    "print('I have %03d cats' % 6)\n",
    "print('I have %f cats' % 6)\n",
    "print('I have %.2f cats' % 6)"
   ]
  },
  {
   "cell_type": "code",
   "execution_count": 28,
   "id": "52ef5e0d-6585-452f-99bf-2cbec32a5147",
   "metadata": {},
   "outputs": [
    {
     "name": "stdout",
     "output_type": "stream",
     "text": [
      "I have 6 cats\n",
      "I have   6cats\n",
      "I have 006 cats\n",
      "I have 6.000000 cats\n",
      "I have 6.00 cats\n"
     ]
    }
   ],
   "source": [
    "#more popular way of formatting\n",
    "\n",
    "print(\"I have {0:d} cats\".format(6))\n",
    "print(\"I have {0:3d}cats\".format(6))\n",
    "print(\"I have {0:03d} cats\".format(6))\n",
    "print(\"I have {0:f} cats\".format(6))\n",
    "print(\"I have {0:.2f} cats\".format(6))"
   ]
  },
  {
   "cell_type": "markdown",
   "id": "5b25b7fc-f36f-4d03-845a-332fdc630850",
   "metadata": {},
   "source": [
    "### 3.5 Boolean布尔值"
   ]
  },
  {
   "cell_type": "code",
   "execution_count": 29,
   "id": "9cb8daf5-97cb-4600-b9b0-ca1da46cf6c5",
   "metadata": {},
   "outputs": [
    {
     "data": {
      "text/plain": [
       "False"
      ]
     },
     "execution_count": 29,
     "metadata": {},
     "output_type": "execute_result"
    },
    {
     "data": {
      "text/plain": [
       "True"
      ]
     },
     "execution_count": 29,
     "metadata": {},
     "output_type": "execute_result"
    },
    {
     "data": {
      "text/plain": [
       "True"
      ]
     },
     "execution_count": 29,
     "metadata": {},
     "output_type": "execute_result"
    },
    {
     "data": {
      "text/plain": [
       "False"
      ]
     },
     "execution_count": 29,
     "metadata": {},
     "output_type": "execute_result"
    },
    {
     "data": {
      "text/plain": [
       "True"
      ]
     },
     "execution_count": 29,
     "metadata": {},
     "output_type": "execute_result"
    },
    {
     "data": {
      "text/plain": [
       "False"
      ]
     },
     "execution_count": 29,
     "metadata": {},
     "output_type": "execute_result"
    }
   ],
   "source": [
    "#产生布尔值的运算\n",
    "\n",
    "x=2\n",
    "y=1\n",
    "\n",
    "x == y #x is equal to y\n",
    "x != y #x is not equal to y\n",
    "x > y  #x is greater than y\n",
    "x < y  #x is less than y\n",
    "x >= y #x is greater than or equal to y\n",
    "x <= y #x is less than or equal to y\n"
   ]
  },
  {
   "cell_type": "code",
   "execution_count": 30,
   "id": "50caabeb-fd6b-4408-b41c-ae76c45117e2",
   "metadata": {},
   "outputs": [
    {
     "name": "stdout",
     "output_type": "stream",
     "text": [
      "x is True\n",
      "y is False\n",
      "a: 5\n",
      "b: 10\n"
     ]
    }
   ],
   "source": [
    "x = (1 == True) # True and False are both case-sensitive\n",
    "y = (1 == False)\n",
    "\n",
    "a = True + 4\n",
    "b = False + 10\n",
    "\n",
    "print(\"x is\", x)\n",
    "print(\"y is\", y)\n",
    "print(\"a:\", a)\n",
    "print(\"b:\", b)"
   ]
  },
  {
   "cell_type": "code",
   "execution_count": 31,
   "id": "ab719c56-c549-4b5b-9e37-f097e4c69563",
   "metadata": {},
   "outputs": [
    {
     "name": "stderr",
     "output_type": "stream",
     "text": [
      "<>:2: SyntaxWarning: \"is\" with a literal. Did you mean \"==\"?\n",
      "<>:2: SyntaxWarning: \"is\" with a literal. Did you mean \"==\"?\n"
     ]
    },
    {
     "data": {
      "text/plain": [
       "True"
      ]
     },
     "execution_count": 31,
     "metadata": {},
     "output_type": "execute_result"
    },
    {
     "name": "stderr",
     "output_type": "stream",
     "text": [
      "/var/folders/90/qwvkhjks3x3dzmgv1rlkbkyr0000gn/T/ipykernel_35752/721887654.py:2: SyntaxWarning: \"is\" with a literal. Did you mean \"==\"?\n",
      "  True is 1 # output: False\n"
     ]
    },
    {
     "data": {
      "text/plain": [
       "False"
      ]
     },
     "execution_count": 31,
     "metadata": {},
     "output_type": "execute_result"
    }
   ],
   "source": [
    "True == 1 # output: True\n",
    "True is 1 # output: False"
   ]
  },
  {
   "cell_type": "code",
   "execution_count": 32,
   "id": "007e45e3-6e3d-4836-896d-f8fe3bcb9e21",
   "metadata": {},
   "outputs": [
    {
     "name": "stderr",
     "output_type": "stream",
     "text": [
      "<>:4: SyntaxWarning: \"is\" with a literal. Did you mean \"==\"?\n",
      "<>:4: SyntaxWarning: \"is\" with a literal. Did you mean \"==\"?\n"
     ]
    },
    {
     "data": {
      "text/plain": [
       "bool"
      ]
     },
     "execution_count": 32,
     "metadata": {},
     "output_type": "execute_result"
    },
    {
     "data": {
      "text/plain": [
       "int"
      ]
     },
     "execution_count": 32,
     "metadata": {},
     "output_type": "execute_result"
    },
    {
     "name": "stderr",
     "output_type": "stream",
     "text": [
      "/var/folders/90/qwvkhjks3x3dzmgv1rlkbkyr0000gn/T/ipykernel_35752/2290425742.py:4: SyntaxWarning: \"is\" with a literal. Did you mean \"==\"?\n",
      "  (False + True) is 1\n"
     ]
    },
    {
     "data": {
      "text/plain": [
       "True"
      ]
     },
     "execution_count": 32,
     "metadata": {},
     "output_type": "execute_result"
    },
    {
     "data": {
      "text/plain": [
       "True"
      ]
     },
     "execution_count": 32,
     "metadata": {},
     "output_type": "execute_result"
    }
   ],
   "source": [
    "type (False) # output: bool, Boolean\n",
    "type (False + True) # output: integer\n",
    "\n",
    "(False + True) is 1\n",
    "(False + True) == 1"
   ]
  },
  {
   "cell_type": "markdown",
   "id": "ef6a11f7-0fbd-42c2-8739-7e11af37a362",
   "metadata": {},
   "source": [
    "#### 3.5.1 布尔值逻辑运算 and or not"
   ]
  },
  {
   "cell_type": "code",
   "execution_count": 33,
   "id": "5ed84e1a-4616-4b27-87a3-b7c96660da24",
   "metadata": {},
   "outputs": [
    {
     "name": "stdout",
     "output_type": "stream",
     "text": [
      "x and y is False\n",
      "x or y is True\n",
      "not x is False\n"
     ]
    }
   ],
   "source": [
    "x = True \n",
    "y = False\n",
    "\n",
    "print('x and y is',x and y)\n",
    "print('x or y is',x or y)\n",
    "print('not x is',not x)\n",
    "\n"
   ]
  },
  {
   "cell_type": "markdown",
   "id": "1cc593ec-c92f-4876-ab5c-3801cfa00c02",
   "metadata": {},
   "source": [
    "#### 3.5.2 Bool()函数"
   ]
  },
  {
   "cell_type": "code",
   "execution_count": 34,
   "id": "bb7ce515-4bd7-4f1c-9a33-ae82db4db126",
   "metadata": {},
   "outputs": [
    {
     "data": {
      "text/plain": [
       "False"
      ]
     },
     "execution_count": 34,
     "metadata": {},
     "output_type": "execute_result"
    },
    {
     "data": {
      "text/plain": [
       "True"
      ]
     },
     "execution_count": 34,
     "metadata": {},
     "output_type": "execute_result"
    },
    {
     "data": {
      "text/plain": [
       "True"
      ]
     },
     "execution_count": 34,
     "metadata": {},
     "output_type": "execute_result"
    },
    {
     "data": {
      "text/plain": [
       "True"
      ]
     },
     "execution_count": 34,
     "metadata": {},
     "output_type": "execute_result"
    }
   ],
   "source": [
    "bool(0)\n",
    "bool(1) \n",
    "bool(-1908)\n",
    "bool(\"Hello!\")"
   ]
  },
  {
   "cell_type": "markdown",
   "id": "f2adae4e-68ec-451f-b1fe-7bb620333708",
   "metadata": {},
   "source": [
    "### 3.6 Practice Questions"
   ]
  },
  {
   "cell_type": "code",
   "execution_count": 38,
   "id": "2037cbdb-9b93-4724-9ab1-9cc1c306cad5",
   "metadata": {},
   "outputs": [
    {
     "data": {
      "text/plain": [
       "str"
      ]
     },
     "execution_count": 38,
     "metadata": {},
     "output_type": "execute_result"
    }
   ],
   "source": [
    "type(TURE) \n",
    "type(true)\n",
    "type(True)\n",
    "type('True')"
   ]
  },
  {
   "cell_type": "code",
   "execution_count": 39,
   "id": "7a377df5-7e31-4d09-a8e4-3483015e8d81",
   "metadata": {},
   "outputs": [
    {
     "data": {
      "text/plain": [
       "2"
      ]
     },
     "execution_count": 39,
     "metadata": {},
     "output_type": "execute_result"
    },
    {
     "data": {
      "text/plain": [
       "2.5"
      ]
     },
     "execution_count": 39,
     "metadata": {},
     "output_type": "execute_result"
    },
    {
     "data": {
      "text/plain": [
       "1.0"
      ]
     },
     "execution_count": 39,
     "metadata": {},
     "output_type": "execute_result"
    },
    {
     "data": {
      "text/plain": [
       "1"
      ]
     },
     "execution_count": 39,
     "metadata": {},
     "output_type": "execute_result"
    },
    {
     "data": {
      "text/plain": [
       "1"
      ]
     },
     "execution_count": 39,
     "metadata": {},
     "output_type": "execute_result"
    }
   ],
   "source": [
    "True + 1\n",
    "True + 1.5 \n",
    "True/1 \n",
    "True * 1\n",
    "True + False "
   ]
  },
  {
   "cell_type": "code",
   "execution_count": 40,
   "id": "246a02fa-d1c0-4ad2-9862-fbe40dd6eb0f",
   "metadata": {},
   "outputs": [
    {
     "name": "stderr",
     "output_type": "stream",
     "text": [
      "<>:2: SyntaxWarning: \"is\" with a literal. Did you mean \"==\"?\n",
      "<>:4: SyntaxWarning: \"is\" with a literal. Did you mean \"==\"?\n",
      "<>:2: SyntaxWarning: \"is\" with a literal. Did you mean \"==\"?\n",
      "<>:4: SyntaxWarning: \"is\" with a literal. Did you mean \"==\"?\n"
     ]
    },
    {
     "data": {
      "text/plain": [
       "True"
      ]
     },
     "execution_count": 40,
     "metadata": {},
     "output_type": "execute_result"
    },
    {
     "name": "stderr",
     "output_type": "stream",
     "text": [
      "/var/folders/90/qwvkhjks3x3dzmgv1rlkbkyr0000gn/T/ipykernel_35752/2914394823.py:2: SyntaxWarning: \"is\" with a literal. Did you mean \"==\"?\n",
      "  True is 1\n"
     ]
    },
    {
     "data": {
      "text/plain": [
       "False"
      ]
     },
     "execution_count": 40,
     "metadata": {},
     "output_type": "execute_result"
    },
    {
     "data": {
      "text/plain": [
       "True"
      ]
     },
     "execution_count": 40,
     "metadata": {},
     "output_type": "execute_result"
    },
    {
     "name": "stderr",
     "output_type": "stream",
     "text": [
      "/var/folders/90/qwvkhjks3x3dzmgv1rlkbkyr0000gn/T/ipykernel_35752/2914394823.py:4: SyntaxWarning: \"is\" with a literal. Did you mean \"==\"?\n",
      "  False is 0\n"
     ]
    },
    {
     "data": {
      "text/plain": [
       "False"
      ]
     },
     "execution_count": 40,
     "metadata": {},
     "output_type": "execute_result"
    }
   ],
   "source": [
    "True == 1\n",
    "True is 1\n",
    "False == 0\n",
    "False is 0"
   ]
  },
  {
   "cell_type": "code",
   "execution_count": null,
   "id": "371b804a-0ec9-43c6-8b42-f39fff382770",
   "metadata": {},
   "outputs": [],
   "source": [
    "type(True + 1) \n",
    "type(True + 1.5) \n",
    "type(True/1) \n",
    "type(True * 1)\n",
    "type(True + False) \n",
    "type(True == 1) \n",
    "type(True is 1) \n",
    "type(False == 0) \n",
    "type(False is 0)\n"
   ]
  },
  {
   "cell_type": "markdown",
   "id": "f5a11c2a-7c3d-4c14-9ac0-0cdbe4cce4a7",
   "metadata": {},
   "source": [
    "### 3.7 Data Conversion"
   ]
  },
  {
   "cell_type": "code",
   "execution_count": 41,
   "id": "3a1ca8c5-450d-423d-93dd-1feea25743f4",
   "metadata": {},
   "outputs": [
    {
     "name": "stdout",
     "output_type": "stream",
     "text": [
      "3.14 3\n",
      "3.9999 3\n"
     ]
    }
   ],
   "source": [
    "print(3.14, int(3.14))\n",
    "print(3.9999, int(3.9999))   # NO ROUNDING    \n",
    "# This doesn't round to the closest int!"
   ]
  },
  {
   "cell_type": "code",
   "execution_count": 44,
   "id": "e09bfb0a-5e59-459c-890e-5c712476b831",
   "metadata": {},
   "outputs": [
    {
     "name": "stdout",
     "output_type": "stream",
     "text": [
      "-3.999 -3\n",
      "2345 -2345\n"
     ]
    }
   ],
   "source": [
    "# Note that the result is closer to zero\n",
    "print(-3.999, int(-3.999)) \n",
    "print(\"2345\", int(\"-2345\"))   "
   ]
  },
  {
   "cell_type": "code",
   "execution_count": 45,
   "id": "f9e0d375-d485-47a8-b422-172f3b4a15a6",
   "metadata": {},
   "outputs": [
    {
     "data": {
      "text/plain": [
       "str"
      ]
     },
     "execution_count": 45,
     "metadata": {},
     "output_type": "execute_result"
    },
    {
     "data": {
      "text/plain": [
       "2345"
      ]
     },
     "execution_count": 45,
     "metadata": {},
     "output_type": "execute_result"
    },
    {
     "data": {
      "text/plain": [
       "int"
      ]
     },
     "execution_count": 45,
     "metadata": {},
     "output_type": "execute_result"
    }
   ],
   "source": [
    "# parse a string to produce an int\n",
    "str_eg = '2345'\n",
    "type(str_eg)\n",
    "# 123'+'456'\n",
    "str_eg_convt = int(str_eg)\n",
    "str_eg_convt\n",
    "type(str_eg_convt)"
   ]
  },
  {
   "cell_type": "code",
   "execution_count": 46,
   "id": "c17f12de-4330-4d3f-8cfe-5f24013eef8d",
   "metadata": {},
   "outputs": [
    {
     "name": "stdout",
     "output_type": "stream",
     "text": [
      "123.0\n",
      "<class 'float'>\n"
     ]
    }
   ],
   "source": [
    "print(float(\"123\"))\n",
    "print(type(float(\"123\")))"
   ]
  },
  {
   "cell_type": "code",
   "execution_count": 47,
   "id": "29f75289-0e04-4c58-959f-185e95f3ddfe",
   "metadata": {},
   "outputs": [
    {
     "name": "stdout",
     "output_type": "stream",
     "text": [
      "17\n",
      "123.45\n",
      "<class 'str'>\n",
      "<class 'str'>\n"
     ]
    }
   ],
   "source": [
    "# Data Conversion: str\n",
    "\n",
    "print(str(17))\n",
    "print(str(123.45))\n",
    "\n",
    "print(type(str(17)))\n",
    "print(type(str(123.45)))"
   ]
  },
  {
   "cell_type": "code",
   "execution_count": 48,
   "id": "9cd0d77e-89b5-4d26-b9b2-f58834c2d92c",
   "metadata": {},
   "outputs": [
    {
     "name": "stdout",
     "output_type": "stream",
     "text": [
      "datatype of num_int: <class 'int'>\n",
      "datatype of num_flo: <class 'float'>\n",
      "Value of num_new: 124.23\n",
      "datatype of num_new: <class 'float'>\n"
     ]
    }
   ],
   "source": [
    "#%% Implicit data conversion\n",
    "\n",
    "num_int = 123\n",
    "num_flo = 1.23\n",
    "num_new = num_int + num_flo\n",
    "\n",
    "print(\"datatype of num_int:\",type(num_int))\n",
    "print(\"datatype of num_flo:\",type(num_flo))\n",
    "print(\"Value of num_new:\",num_new)\n",
    "print(\"datatype of num_new:\",type(num_new))"
   ]
  },
  {
   "cell_type": "code",
   "execution_count": 49,
   "id": "25f0c756-fb4b-4b46-953a-cffd4605d0a5",
   "metadata": {},
   "outputs": [
    {
     "name": "stdout",
     "output_type": "stream",
     "text": [
      "Data type of num_int: <class 'int'>\n",
      "Data type of num_str: <class 'str'>\n"
     ]
    },
    {
     "ename": "TypeError",
     "evalue": "unsupported operand type(s) for +: 'int' and 'str'",
     "output_type": "error",
     "traceback": [
      "\u001b[0;31m---------------------------------------------------------------------------\u001b[0m",
      "\u001b[0;31mTypeError\u001b[0m                                 Traceback (most recent call last)",
      "\u001b[0;32m/var/folders/90/qwvkhjks3x3dzmgv1rlkbkyr0000gn/T/ipykernel_35752/1152240579.py\u001b[0m in \u001b[0;36m<module>\u001b[0;34m\u001b[0m\n\u001b[1;32m      4\u001b[0m \u001b[0mprint\u001b[0m\u001b[0;34m(\u001b[0m\u001b[0;34m\"Data type of num_int:\"\u001b[0m\u001b[0;34m,\u001b[0m\u001b[0mtype\u001b[0m\u001b[0;34m(\u001b[0m\u001b[0mnum_int\u001b[0m\u001b[0;34m)\u001b[0m\u001b[0;34m)\u001b[0m\u001b[0;34m\u001b[0m\u001b[0;34m\u001b[0m\u001b[0m\n\u001b[1;32m      5\u001b[0m \u001b[0mprint\u001b[0m\u001b[0;34m(\u001b[0m\u001b[0;34m\"Data type of num_str:\"\u001b[0m\u001b[0;34m,\u001b[0m\u001b[0mtype\u001b[0m\u001b[0;34m(\u001b[0m\u001b[0mnum_str\u001b[0m\u001b[0;34m)\u001b[0m\u001b[0;34m)\u001b[0m\u001b[0;34m\u001b[0m\u001b[0;34m\u001b[0m\u001b[0m\n\u001b[0;32m----> 6\u001b[0;31m \u001b[0mprint\u001b[0m\u001b[0;34m(\u001b[0m\u001b[0mnum_int\u001b[0m\u001b[0;34m+\u001b[0m\u001b[0mnum_str\u001b[0m\u001b[0;34m)\u001b[0m\u001b[0;34m\u001b[0m\u001b[0;34m\u001b[0m\u001b[0m\n\u001b[0m",
      "\u001b[0;31mTypeError\u001b[0m: unsupported operand type(s) for +: 'int' and 'str'"
     ]
    }
   ],
   "source": [
    "num_int = 123\n",
    "num_str = \"456\"\n",
    "\n",
    "print(\"Data type of num_int:\",type(num_int))\n",
    "print(\"Data type of num_str:\",type(num_str))\n",
    "print(num_int+num_str)"
   ]
  },
  {
   "cell_type": "code",
   "execution_count": 50,
   "id": "d2e44ad3-ff19-4da1-a242-baad2dc8d9a8",
   "metadata": {},
   "outputs": [
    {
     "name": "stdout",
     "output_type": "stream",
     "text": [
      "Data type of num_int: <class 'int'>\n",
      "Data type of num_str before Type Casting: <class 'str'>\n",
      "Data type of num_str after Type Casting: <class 'int'>\n",
      "Sum of num_int and num_str: 579\n",
      "Data type of the sum: <class 'int'>\n"
     ]
    }
   ],
   "source": [
    "num_int = 123\n",
    "num_str = \"456\"\n",
    "\n",
    "print(\"Data type of num_int:\",type(num_int)) \n",
    "print(\"Data type of num_str before Type Casting:\",type(num_str))\n",
    "\n",
    "\n",
    "num_str = int(num_str)\n",
    "print(\"Data type of num_str after Type Casting:\",type(num_str))\n",
    "\n",
    "\n",
    "num_sum = num_int + num_str\n",
    "print(\"Sum of num_int and num_str:\",num_sum)\n",
    "print(\"Data type of the sum:\",type(num_sum))\n"
   ]
  },
  {
   "cell_type": "markdown",
   "id": "e21704cc-4aef-4748-83f4-43cc6c86a77b",
   "metadata": {},
   "source": [
    "### 3.8 Practice"
   ]
  },
  {
   "cell_type": "code",
   "execution_count": null,
   "id": "4bc0402b-3cb5-423a-a4b3-69cb73308341",
   "metadata": {},
   "outputs": [],
   "source": [
    "type(2/1)\n",
    "type(1+2) \n",
    "type(2*1) \n",
    "type(5/2)\n",
    "type(2/1+1)\n",
    "type(2/1*1)"
   ]
  },
  {
   "cell_type": "markdown",
   "id": "96872376-59f4-49d9-a0fa-ba37d3320b5e",
   "metadata": {},
   "source": [
    "### 3.9 Strings"
   ]
  },
  {
   "cell_type": "code",
   "execution_count": 72,
   "id": "42c79108-3ee5-44df-8aad-50b94c40182b",
   "metadata": {},
   "outputs": [
    {
     "data": {
      "text/plain": [
       "'a'"
      ]
     },
     "execution_count": 72,
     "metadata": {},
     "output_type": "execute_result"
    },
    {
     "data": {
      "text/plain": [
       "'b'"
      ]
     },
     "execution_count": 72,
     "metadata": {},
     "output_type": "execute_result"
    },
    {
     "data": {
      "text/plain": [
       "'ba'"
      ]
     },
     "execution_count": 72,
     "metadata": {},
     "output_type": "execute_result"
    },
    {
     "data": {
      "text/plain": [
       "'ban'"
      ]
     },
     "execution_count": 72,
     "metadata": {},
     "output_type": "execute_result"
    },
    {
     "data": {
      "text/plain": [
       "'06552'"
      ]
     },
     "execution_count": 72,
     "metadata": {},
     "output_type": "execute_result"
    },
    {
     "data": {
      "text/plain": [
       "'1234567'"
      ]
     },
     "execution_count": 72,
     "metadata": {},
     "output_type": "execute_result"
    }
   ],
   "source": [
    "#%% Strings\n",
    "\n",
    "fruit = 'banana'\n",
    "\n",
    "letter1 = fruit[1]\n",
    "letter1\n",
    "\n",
    "letter2 = fruit[0]\n",
    "letter2\n",
    "\n",
    "sub_str_1=fruit[0:2]\n",
    "sub_str_1\n",
    "\n",
    "sub_str_2=fruit[0:3]\n",
    "sub_str_2\n",
    "\n",
    "#小实战，已知某银行的账号总共12位存为str，前五位为branch_id，后七位为account_num,请问如何分开？\n",
    "\n",
    "account = '065521234567'\n",
    "\n",
    "branch_id = account[0:5]\n",
    "branch_id\n",
    "\n",
    "account_num = account[5:12]\n",
    "account_num"
   ]
  },
  {
   "cell_type": "code",
   "execution_count": null,
   "id": "f9329cea-be2e-4771-b1ae-026279b1f691",
   "metadata": {},
   "outputs": [],
   "source": [
    "fruit = 'banana ice cream'\n",
    "len(fruit)"
   ]
  },
  {
   "cell_type": "code",
   "execution_count": null,
   "id": "e58be8a6-edb1-484b-9d5e-8d2109d35c6b",
   "metadata": {},
   "outputs": [],
   "source": [
    "# elements in strings are not mutable\n",
    "fruit[0] = 'J'"
   ]
  },
  {
   "cell_type": "code",
   "execution_count": null,
   "id": "e0ce0318-8155-4fbb-b8b5-9654361637d1",
   "metadata": {},
   "outputs": [],
   "source": [
    "first = 'boy'\n",
    "second = 'friend'\n",
    "first + second\n",
    "(first + second)*4"
   ]
  },
  {
   "cell_type": "code",
   "execution_count": null,
   "id": "215e5989-5515-434a-8b29-2c8c0bb1c2b7",
   "metadata": {},
   "outputs": [],
   "source": [
    "first = '123'\n",
    "second = '456'\n",
    "first + second\n",
    "(first + second)*4"
   ]
  },
  {
   "cell_type": "code",
   "execution_count": null,
   "id": "75cdf9c1-5eb0-4210-b51f-24f4fdedd4eb",
   "metadata": {},
   "outputs": [],
   "source": [
    "str_eg = 'Hello, Kevin'\n",
    "'H' in str_eg\n",
    "'K' in str_eg\n",
    "'h' in str_eg"
   ]
  },
  {
   "cell_type": "markdown",
   "id": "7193d53a-38e1-493b-8944-4c4b05092ae4",
   "metadata": {},
   "source": [
    "### 3.10 String Slicing (此小节为重点)"
   ]
  },
  {
   "cell_type": "code",
   "execution_count": 2,
   "id": "8f466656-4e1f-480e-bfb1-a3e8c08497b7",
   "metadata": {},
   "outputs": [
    {
     "data": {
      "text/plain": [
       "'a'"
      ]
     },
     "execution_count": 2,
     "metadata": {},
     "output_type": "execute_result"
    },
    {
     "data": {
      "text/plain": [
       "'ban'"
      ]
     },
     "execution_count": 2,
     "metadata": {},
     "output_type": "execute_result"
    },
    {
     "data": {
      "text/plain": [
       "'ban'"
      ]
     },
     "execution_count": 2,
     "metadata": {},
     "output_type": "execute_result"
    },
    {
     "data": {
      "text/plain": [
       "'ana'"
      ]
     },
     "execution_count": 2,
     "metadata": {},
     "output_type": "execute_result"
    },
    {
     "data": {
      "text/plain": [
       "'ana'"
      ]
     },
     "execution_count": 2,
     "metadata": {},
     "output_type": "execute_result"
    },
    {
     "data": {
      "text/plain": [
       "''"
      ]
     },
     "execution_count": 2,
     "metadata": {},
     "output_type": "execute_result"
    }
   ],
   "source": [
    "#Slicing\n",
    "\n",
    "# 0  1  2  3  4  5\n",
    "# b  a  n  a  n  a\n",
    "#-6 -5 -4  -3 -2 -1\n",
    "\n",
    "fruit = 'banana'\n",
    "\n",
    "#fruit[0]='B'\n",
    "\n",
    "fruit[1]\n",
    "\n",
    "\n",
    "fruit[0:3] #左包 右不包\n",
    "fruit[:3] # right side, not included\n",
    "\n",
    "fruit[3:6] # left side, included\n",
    "fruit[3:]\n",
    "\n",
    "fruit[3:3] # empty"
   ]
  },
  {
   "cell_type": "code",
   "execution_count": 65,
   "id": "d2706406-4328-4be8-88b4-ae761f906417",
   "metadata": {},
   "outputs": [
    {
     "data": {
      "text/plain": [
       "'banana'"
      ]
     },
     "execution_count": 65,
     "metadata": {},
     "output_type": "execute_result"
    },
    {
     "data": {
      "text/plain": [
       "'a'"
      ]
     },
     "execution_count": 65,
     "metadata": {},
     "output_type": "execute_result"
    },
    {
     "data": {
      "text/plain": [
       "'n'"
      ]
     },
     "execution_count": 65,
     "metadata": {},
     "output_type": "execute_result"
    },
    {
     "data": {
      "text/plain": [
       "'bana'"
      ]
     },
     "execution_count": 65,
     "metadata": {},
     "output_type": "execute_result"
    },
    {
     "data": {
      "text/plain": [
       "'na'"
      ]
     },
     "execution_count": 65,
     "metadata": {},
     "output_type": "execute_result"
    }
   ],
   "source": [
    "fruit[:]\n",
    "fruit[-1]\n",
    "fruit[-2]\n",
    "fruit[:-2]\n",
    "fruit[-2:]"
   ]
  },
  {
   "cell_type": "code",
   "execution_count": 68,
   "id": "697ea9e5-7ea0-404a-a883-f63affa0c816",
   "metadata": {},
   "outputs": [
    {
     "data": {
      "text/plain": [
       "'aaa'"
      ]
     },
     "execution_count": 69,
     "metadata": {},
     "output_type": "execute_result"
    }
   ],
   "source": [
    "fruit[:3] + fruit[3:]\n",
    "\n",
    "fruit[:9] + fruit[9:]\n",
    "fruit[9], error\n",
    "fruit[9:], no error\n",
    "\n",
    "fruit[0:5:2]\n",
    "fruit[0:5:-2] # 0:5, direction defined\n",
    "fruit[1:5:2]\n",
    "fruit[0:5:3]"
   ]
  },
  {
   "cell_type": "code",
   "execution_count": 70,
   "id": "f908eab9-6f1b-48fc-a907-8a2f5510ebb0",
   "metadata": {},
   "outputs": [
    {
     "data": {
      "text/plain": [
       "'ananab'"
      ]
     },
     "execution_count": 70,
     "metadata": {},
     "output_type": "execute_result"
    },
    {
     "data": {
      "text/plain": [
       "'aaa'"
      ]
     },
     "execution_count": 70,
     "metadata": {},
     "output_type": "execute_result"
    }
   ],
   "source": [
    "fruit[::-1]\n",
    "fruit[::-2]"
   ]
  },
  {
   "cell_type": "code",
   "execution_count": 71,
   "id": "2bf5989a-f58e-4bfa-bfc2-717290f157f8",
   "metadata": {},
   "outputs": [
    {
     "data": {
      "text/plain": [
       "'pineapple and strawberry slices'"
      ]
     },
     "execution_count": 71,
     "metadata": {},
     "output_type": "execute_result"
    },
    {
     "data": {
      "text/plain": [
       "'pnapeadsrwer lcs'"
      ]
     },
     "execution_count": 71,
     "metadata": {},
     "output_type": "execute_result"
    },
    {
     "data": {
      "text/plain": [
       "'secils yrrebwarts dna elppaenip'"
      ]
     },
     "execution_count": 71,
     "metadata": {},
     "output_type": "execute_result"
    },
    {
     "data": {
      "text/plain": [
       "'scl rewrsdaepanp'"
      ]
     },
     "execution_count": 71,
     "metadata": {},
     "output_type": "execute_result"
    }
   ],
   "source": [
    "fruit_product = 'pineapple and strawberry slices'\n",
    "\n",
    "fruit_product[::1]\n",
    "fruit_product[::2]\n",
    "\n",
    "fruit_product[::-1]\n",
    "fruit_product[::-2]\n"
   ]
  },
  {
   "cell_type": "markdown",
   "id": "62122afe-67a0-42ca-b87c-32f1066c438c",
   "metadata": {},
   "source": [
    "### 3.11 String Methods"
   ]
  },
  {
   "cell_type": "code",
   "execution_count": null,
   "id": "c53e0264-4d79-425f-a82f-73462314bc89",
   "metadata": {},
   "outputs": [],
   "source": [
    "# %% String Methods\n",
    "\n",
    "message = 'Hello World'\n",
    "print(message.lower())\n",
    "print(message.upper())\n",
    "print(message.swapcase())"
   ]
  },
  {
   "cell_type": "code",
   "execution_count": null,
   "id": "11e3b1f9-f793-4334-ad41-675b010927a1",
   "metadata": {},
   "outputs": [
    {
     "data": {
      "text/plain": [
       "'savvypro education'"
      ]
     },
     "execution_count": 2,
     "metadata": {},
     "output_type": "execute_result"
    },
    {
     "data": {
      "text/plain": [
       "'avvypro education'"
      ]
     },
     "execution_count": 2,
     "metadata": {},
     "output_type": "execute_result"
    },
    {
     "data": {
      "text/plain": [
       "'this is string example....wow!!!'"
      ]
     },
     "execution_count": 2,
     "metadata": {},
     "output_type": "execute_result"
    }
   ],
   "source": [
    "str1='   savvypro education   '\n",
    "str1.strip()\n",
    "\n",
    "str2='savvypro educations'\n",
    "str2.strip('s')\n",
    "\n",
    "str3 = \"0000000this is string example....wow!!!0000000\";\n",
    "str3.strip('0')"
   ]
  },
  {
   "cell_type": "code",
   "execution_count": null,
   "id": "e2e56da8-3471-4bb1-9d9a-c9e6eba2a8d8",
   "metadata": {},
   "outputs": [],
   "source": [
    "str = \"this\"; # No space & digit in this string \n",
    "print (str.isalpha())\n",
    "\n",
    "str = \"this is string example....wow!!!\"\n",
    "print (str.isalpha())\n"
   ]
  },
  {
   "cell_type": "code",
   "execution_count": null,
   "id": "ba1f6fb9-32b8-4dd0-9a68-264376e53e48",
   "metadata": {},
   "outputs": [],
   "source": [
    "str = \"123456\"  # Only digit in this string\n",
    "print(str.isdigit())\n",
    "\n",
    "str = \" 123456ABC\"\n",
    "print(str.isdigit())"
   ]
  },
  {
   "cell_type": "code",
   "execution_count": null,
   "id": "4b16fcbc-e1e8-4843-8e26-91a98e2a39dc",
   "metadata": {},
   "outputs": [],
   "source": [
    "str = \"       \";\n",
    "print(str.isspace())\n",
    "\n",
    "str = \"      A\";\n",
    "print(str.isspace())"
   ]
  },
  {
   "cell_type": "code",
   "execution_count": null,
   "id": "bd196174-b15d-4920-9463-566454422ade",
   "metadata": {},
   "outputs": [],
   "source": [
    "# %% Work on Letters\n",
    "message = 'Hello World'\n",
    "print(message.find('world'))\n",
    "print(message.count('o'))\n",
    "print(message.capitalize())\n",
    "# It returns a copy of the string\n",
    "# with only its first character capitalized.\n",
    "print(message.replace('Hello', 'Hi'))"
   ]
  },
  {
   "cell_type": "code",
   "execution_count": null,
   "id": "88c3b9c9-5487-4e95-80bb-70d41d37656b",
   "metadata": {},
   "outputs": [],
   "source": [
    "str = \"this is a string example....wow!!!\"\n",
    "print(str.capitalize())\n",
    "\n",
    "print('this is an example'.capitalize())\n",
    "\n",
    "str = \"this is a string example....wow!!!\"\n",
    "print(str.title())"
   ]
  },
  {
   "cell_type": "code",
   "execution_count": null,
   "id": "d58b7c7e-2f26-4f02-9b04-8fcd91b22070",
   "metadata": {},
   "outputs": [],
   "source": [
    "str = \"this is string example....wow!!! this is really string\"\n",
    "print(str.replace(\"is\", \"was\"))\n",
    "print(str.replace(\"is\", \"was\", 2))\n",
    "print(str.replace(\"is\", \"was\", 3))"
   ]
  },
  {
   "cell_type": "code",
   "execution_count": 3,
   "id": "5fbd52bf-3c13-4b74-91ef-6272a039c473",
   "metadata": {},
   "outputs": [
    {
     "name": "stdout",
     "output_type": "stream",
     "text": [
      "6\n",
      "2\n",
      "0\n",
      "-1\n"
     ]
    }
   ],
   "source": [
    "ss = \"bananas are always good\"\n",
    "print(ss.count(\"a\"))\n",
    "print(ss.count(\"s\"))\n",
    "print(ss.count(\"q\"))\n",
    "print(ss.find(\"m\"))\n",
    "# check to see where the first “m” occurs in the string ss"
   ]
  },
  {
   "cell_type": "code",
   "execution_count": 6,
   "id": "f2366add-9732-4ed7-a5ad-94992e9c6a64",
   "metadata": {},
   "outputs": [
    {
     "name": "stdout",
     "output_type": "stream",
     "text": [
      "3\n",
      "6\n",
      "34\n"
     ]
    }
   ],
   "source": [
    "likes = \"Sammy likes to swim in the ocean, likes to spin up servers, and likes to smile.\"\n",
    "\n",
    "print(likes.count(\"likes\")) \n",
    "print(likes.find(\"likes\"))\n",
    "\n",
    "# Instead of starting at the beginning of the string,let’s start from index number 7:\n",
    "print(likes.find(\"likes\", 7))\n"
   ]
  },
  {
   "cell_type": "markdown",
   "id": "0a36f8b1-8887-48f1-9687-730affa87bec",
   "metadata": {},
   "source": [
    "### 3.12 Format"
   ]
  },
  {
   "cell_type": "code",
   "execution_count": null,
   "id": "7defe3f7-3525-4950-9e3f-06cfac4f5a17",
   "metadata": {},
   "outputs": [],
   "source": [
    "# order using positional argument \n",
    "positional_order = \"{1}, {0} and {2}\".format('John','Bill','Sean')\n",
    "print('\\n--- Positional Order ---')\n",
    "print(positional_order)\n",
    "\n",
    "\n",
    "# order using keyword argument\n",
    "keyword_order = \"{s}, {b} and {j}\".format(j='John',b='Bill',s='Sean')\n",
    "print('\\n--- Keyword Order ---')\n",
    "print(keyword_order)\n"
   ]
  },
  {
   "cell_type": "markdown",
   "id": "e506ba5b-0b3a-4f74-a4df-13b1d5c7aeb4",
   "metadata": {},
   "source": [
    "### 3.13 Iterating Through String"
   ]
  },
  {
   "cell_type": "code",
   "execution_count": null,
   "id": "b3e5cc80-ff4a-4b8d-b31a-3dc43a8a2c3c",
   "metadata": {},
   "outputs": [],
   "source": [
    "# %%\n",
    "count = 0\n",
    "for letter in 'Hello World':\n",
    "    if(letter == 'o'):\n",
    "        count += 1  # count = count + 1\n",
    "        print(count)\n",
    "print(count, 'letter(s) o(s) found')"
   ]
  },
  {
   "cell_type": "code",
   "execution_count": null,
   "id": "e33e9b15-5d7d-47f5-893a-7e64459af6dc",
   "metadata": {},
   "outputs": [],
   "source": [
    "count = 0\n",
    "for letter in 'Hello World':\n",
    "    print(count)\n",
    "    if(letter == 'o'):\n",
    "        count += 1  # count = count + 1\n",
    "print(count, 'letter(s) o(s) found')"
   ]
  },
  {
   "cell_type": "code",
   "execution_count": null,
   "id": "d8f38ebb-8e76-4530-8b51-8c4f7c4a386c",
   "metadata": {},
   "outputs": [],
   "source": [
    "count = 0\n",
    "for letter in 'Hello World':\n",
    "    if(letter == 'o'):\n",
    "        count += 1  # count = count + 1\n",
    "    print(count)\n",
    "print(count, 'letter(s) o(s) found')"
   ]
  },
  {
   "cell_type": "code",
   "execution_count": null,
   "id": "e0987eb0-79b9-463b-8fe4-f990feae0b8c",
   "metadata": {},
   "outputs": [],
   "source": [
    "count = 0\n",
    "for letter in 'Hello World':\n",
    "    if(letter == 'o'):\n",
    "        count += 1  # count = count + 1\n",
    "print(count)\n",
    "print(count, 'letter(s) o(s) found')"
   ]
  },
  {
   "cell_type": "markdown",
   "id": "7d5b017f-a24b-409b-b8c5-a71ae4fc9302",
   "metadata": {},
   "source": [
    "## 4. Escape Sequence"
   ]
  },
  {
   "cell_type": "code",
   "execution_count": null,
   "id": "55904e21-5616-4baa-b723-ce5af9b69e39",
   "metadata": {
    "tags": []
   },
   "outputs": [],
   "source": [
    "print(\"He said, \"What's there?\"\")\n",
    "print('He said, \"What's there?\"')\n"
   ]
  },
  {
   "cell_type": "code",
   "execution_count": 8,
   "id": "c16574f8-05b2-466c-811c-b457de1fdb80",
   "metadata": {},
   "outputs": [
    {
     "name": "stdout",
     "output_type": "stream",
     "text": [
      "He said, \"What's there?\"\n",
      "He said, \"What's there?\"\n",
      "He said, \"What's there?\"\n"
     ]
    }
   ],
   "source": [
    "print('''He said, \"What's there?\"''')\n",
    "\n",
    "# escaping single quotes\n",
    "print('He said, \"What\\'s there?\"') \n",
    "\n",
    "# escaping double quotes\n",
    "print(\"He said, \\\"What's there?\\\"\")\n"
   ]
  },
  {
   "cell_type": "code",
   "execution_count": 11,
   "id": "d92d6af1-5f08-45c1-b143-16674b2ebf29",
   "metadata": {},
   "outputs": [
    {
     "name": "stdout",
     "output_type": "stream",
     "text": [
      "Hickory Dickory Dock!\n",
      "The mouse ran up the clock\n"
     ]
    }
   ],
   "source": [
    "print('Hickory Dickory Dock!\\nThe mouse ran up the clock')"
   ]
  },
  {
   "cell_type": "code",
   "execution_count": 18,
   "id": "3effc97c-2deb-4ef8-87aa-848b84b6ab29",
   "metadata": {},
   "outputs": [
    {
     "name": "stdout",
     "output_type": "stream",
     "text": [
      "abc\n",
      "This is a \n",
      "good example\n",
      "This is \\x61 \\ngood example\n"
     ]
    }
   ],
   "source": [
    "# Character with hexadecimal (16进制) value 61\n",
    "print('\\x61\\x62\\x63')\n",
    "\n",
    "print(\"This is \\x61 \\ngood example\")\n",
    "\n",
    "print(r\"This is \\x61 \\ngood example\")"
   ]
  },
  {
   "cell_type": "markdown",
   "id": "18fdf88b-404f-44af-8bf4-16d93fe464f1",
   "metadata": {},
   "source": [
    "## 5. Variables"
   ]
  },
  {
   "cell_type": "code",
   "execution_count": null,
   "id": "0b0b13f2-8585-495b-a23a-d6078217b514",
   "metadata": {},
   "outputs": [],
   "source": [
    "#%% Variables \n",
    "\n",
    "message = \"What's up, Doc?\"\n",
    "n = 17\n",
    "pi = 3.14159\n",
    "\n",
    "print(message)\n",
    "print(n)\n",
    "print(pi)\n",
    "\n",
    "message = 'Sup'\n",
    "print(message)"
   ]
  },
  {
   "cell_type": "code",
   "execution_count": null,
   "id": "407bc65a-99d7-4f07-9827-73e4ce77e185",
   "metadata": {},
   "outputs": [],
   "source": [
    "day = \"Thursday\"\n",
    "print(day)\n",
    "day = \"Friday\"\n",
    "print(day)\n",
    "day = 21\n",
    "print(day)"
   ]
  },
  {
   "cell_type": "code",
   "execution_count": null,
   "id": "65f9efa1-d1c3-4571-b261-dcca39e8be53",
   "metadata": {},
   "outputs": [],
   "source": [
    "firstName = 'James'\n",
    "print(firstname)\n",
    "\n",
    "first_name # preferred\n"
   ]
  },
  {
   "cell_type": "code",
   "execution_count": null,
   "id": "0e7e046c-8ec2-4582-ae90-6fb89b753221",
   "metadata": {},
   "outputs": [],
   "source": [
    "76trombones = \"big parade\""
   ]
  },
  {
   "cell_type": "code",
   "execution_count": null,
   "id": "dbce1580-3be3-44b3-b8ed-eb0c5cae2429",
   "metadata": {},
   "outputs": [],
   "source": [
    "more$ = 1000000"
   ]
  },
  {
   "cell_type": "code",
   "execution_count": null,
   "id": "c47a4549-ae12-413c-8539-81ab53a87f06",
   "metadata": {},
   "outputs": [],
   "source": [
    "class = \"Computer Science 101\""
   ]
  },
  {
   "cell_type": "markdown",
   "id": "27f36893-8aeb-4641-8414-36801749d667",
   "metadata": {
    "tags": []
   },
   "source": [
    "## 6. Input and Print Functions"
   ]
  },
  {
   "cell_type": "code",
   "execution_count": null,
   "id": "df61c8e9-b1a2-4620-832a-e733e185b37e",
   "metadata": {},
   "outputs": [],
   "source": [
    "#%% User input\n",
    "\n",
    "name = input(\"What is your name? \")  \n",
    "print(name) "
   ]
  },
  {
   "cell_type": "code",
   "execution_count": null,
   "id": "97f456d2-f3b9-44a1-a1d2-fb46891f0630",
   "metadata": {},
   "outputs": [],
   "source": [
    "first_Name = input(\"What is your first name? \")\n",
    "last_Name = input(\"What is your last name? \" )\n",
    "print(\"Hello \" + first_Name + \" \" + last_Name) "
   ]
  },
  {
   "cell_type": "code",
   "execution_count": null,
   "id": "83e6d8c8-5d17-4f29-9906-53a28dbc5345",
   "metadata": {},
   "outputs": [],
   "source": [
    "a = input('First number')\n",
    "b = input('Second number')\n",
    "c = a + b\n",
    "print(c)"
   ]
  },
  {
   "cell_type": "code",
   "execution_count": null,
   "id": "bc0c3c26-efdf-426d-9741-0e4da65d7afe",
   "metadata": {},
   "outputs": [],
   "source": [
    "a = input('First number')\n",
    "b = input('Second number')\n",
    "c = int(a) + float(b)\n",
    "print(c)"
   ]
  },
  {
   "cell_type": "code",
   "execution_count": null,
   "id": "3c4ee26b-7479-40dc-8dcf-256f5476cf6c",
   "metadata": {},
   "outputs": [],
   "source": [
    "a = int(input('First number'))\n",
    "b = int(input('Second number'))\n",
    "c = a + b\n",
    "print(c)"
   ]
  },
  {
   "cell_type": "code",
   "execution_count": null,
   "id": "3fc20cee-8372-4d5b-a19e-28fc9ea95d6f",
   "metadata": {},
   "outputs": [],
   "source": [
    "a = 5\n",
    "print('The value of a is', a)\n",
    "# Output: The value of a is 5\n",
    "\n",
    "\n",
    "print(1,2,3,4)\n",
    "# Output: 1 2 3 4\n",
    "\n",
    "print(1,2,3,4,sep='*')\n",
    "# Output: 1*2*3*4\n",
    "\n",
    "print(1,2,3,4,sep='#',end='&')\n",
    "# Output: 1#2#3#4&\n",
    "\n",
    "print(1,2,3,4,sep='@@',end='~end~')"
   ]
  },
  {
   "cell_type": "markdown",
   "id": "1cb583f6-ad80-4046-8f3f-a12c49f67732",
   "metadata": {},
   "source": [
    "## 7. Add on"
   ]
  },
  {
   "cell_type": "code",
   "execution_count": 4,
   "id": "2e17cd37-b237-4422-8695-64682b660d34",
   "metadata": {},
   "outputs": [
    {
     "name": "stderr",
     "output_type": "stream",
     "text": [
      "<>:2: SyntaxWarning: \"is\" with a literal. Did you mean \"==\"?\n",
      "<>:2: SyntaxWarning: \"is\" with a literal. Did you mean \"==\"?\n"
     ]
    },
    {
     "data": {
      "text/plain": [
       "True"
      ]
     },
     "execution_count": 4,
     "metadata": {},
     "output_type": "execute_result"
    },
    {
     "name": "stderr",
     "output_type": "stream",
     "text": [
      "/var/folders/90/qwvkhjks3x3dzmgv1rlkbkyr0000gn/T/ipykernel_11540/1771430877.py:2: SyntaxWarning: \"is\" with a literal. Did you mean \"==\"?\n",
      "  1 is 1.0\n"
     ]
    },
    {
     "data": {
      "text/plain": [
       "False"
      ]
     },
     "execution_count": 4,
     "metadata": {},
     "output_type": "execute_result"
    },
    {
     "data": {
      "text/plain": [
       "True"
      ]
     },
     "execution_count": 4,
     "metadata": {},
     "output_type": "execute_result"
    }
   ],
   "source": [
    "1==1.0\n",
    "1 is 1.0\n",
    "\n",
    "1 in [1.0, 2.0]"
   ]
  },
  {
   "cell_type": "code",
   "execution_count": null,
   "id": "f35391c5-54ef-44ab-92f3-2fd35f035fda",
   "metadata": {},
   "outputs": [],
   "source": []
  }
 ],
 "metadata": {
  "kernelspec": {
   "display_name": "Python 3 (ipykernel)",
   "language": "python",
   "name": "python3"
  },
  "language_info": {
   "codemirror_mode": {
    "name": "ipython",
    "version": 3
   },
   "file_extension": ".py",
   "mimetype": "text/x-python",
   "name": "python",
   "nbconvert_exporter": "python",
   "pygments_lexer": "ipython3",
   "version": "3.9.7"
  },
  "vscode": {
   "interpreter": {
    "hash": "40d3a090f54c6569ab1632332b64b2c03c39dcf918b08424e98f38b5ae0af88f"
   }
  }
 },
 "nbformat": 4,
 "nbformat_minor": 5
}
