{
 "cells": [
  {
   "cell_type": "markdown",
   "id": "c2f4792c-9317-4124-984c-44f6407d90a3",
   "metadata": {},
   "source": [
    "# Week 3 Homework"
   ]
  },
  {
   "cell_type": "markdown",
   "id": "6ee8b03b-5d2f-4dbe-ab9b-c9dabab5895f",
   "metadata": {},
   "source": [
    "## Question 1: 24小时格式到12小时格式的转化"
   ]
  },
  {
   "cell_type": "markdown",
   "id": "3e2d5281-f941-49af-9db7-a0bbb6adec5e",
   "metadata": {},
   "source": [
    "* 24小时制的15点就是12小时制的3点\n",
    "* 24小时制的0和24点就是12小时制的12点"
   ]
  },
  {
   "cell_type": "code",
   "execution_count": null,
   "id": "d2188a01-252f-496f-87c7-eadc9485c305",
   "metadata": {},
   "outputs": [],
   "source": [
    "def format_24_to_12(hour: int) -> int:\n",
    "    \n",
    "    \"\"\"\n",
    "    Convert the hour in 24-hr format into \n",
    "    12 hour format.\n",
    "    \n",
    "    You should expect to see:\n",
    "    \n",
    "    >>> format_24_to_12(0)\n",
    "    12\n",
    "    >>> format_24_to_12(19)\n",
    "    7\n",
    "    \"\"\"\n"
   ]
  },
  {
   "cell_type": "markdown",
   "id": "3fdb1eea-93d4-4dea-ad40-d1fb3db31e71",
   "metadata": {},
   "source": [
    "Answer 1"
   ]
  },
  {
   "cell_type": "code",
   "execution_count": 1,
   "id": "e27eb1b9-7f11-406b-a4fc-0f3ad76cc0b0",
   "metadata": {},
   "outputs": [
    {
     "data": {
      "text/plain": [
       "12"
      ]
     },
     "execution_count": 1,
     "metadata": {},
     "output_type": "execute_result"
    }
   ],
   "source": [
    "def format_24_to_12(hour):\n",
    "    return hour % 12 + (hour % 12 == 0) * 12\n",
    "\n",
    "format_24_to_12(24)"
   ]
  },
  {
   "cell_type": "markdown",
   "id": "9f635cd0-f02f-49af-a02c-972976586e71",
   "metadata": {},
   "source": [
    "Answer 2"
   ]
  },
  {
   "cell_type": "code",
   "execution_count": 2,
   "id": "57232f06-1b5c-4cec-8ce6-38c407f723af",
   "metadata": {
    "tags": []
   },
   "outputs": [
    {
     "data": {
      "text/plain": [
       "5"
      ]
     },
     "execution_count": 2,
     "metadata": {},
     "output_type": "execute_result"
    }
   ],
   "source": [
    "def format_24_to_12(hour):\n",
    "    if hour % 12 == 0:\n",
    "        return (12)\n",
    "    else:\n",
    "        return (hour % 12)\n",
    "\n",
    "format_24_to_12(17)\n",
    "        "
   ]
  },
  {
   "cell_type": "code",
   "execution_count": null,
   "id": "01281df1-15e7-4510-a1e9-6267efa70900",
   "metadata": {},
   "outputs": [],
   "source": []
  },
  {
   "cell_type": "markdown",
   "id": "f245a8fa-4791-4641-b62e-f9326ffeab2b",
   "metadata": {},
   "source": [
    "## Question 2: 判断一个年份是否是闰年"
   ]
  },
  {
   "cell_type": "markdown",
   "id": "74984325-c483-45a7-b5ff-f9d8c19d8e6a",
   "metadata": {},
   "source": [
    "* 普通年份可以被4整除就是闰年（leap year）\n",
    "* 可以被100整除的年份必须同时可以被400整除才是闰年(比如1900年，虽然可以被4整除，但是不是闰年，因为它是一个整百年，必须可以被400整除，才是闰年)"
   ]
  },
  {
   "cell_type": "code",
   "execution_count": 35,
   "id": "d85f0dd8-93ce-467d-9dc5-8c4892a0c382",
   "metadata": {},
   "outputs": [
    {
     "name": "stdin",
     "output_type": "stream",
     "text": [
      "Enter a year:  1900\n"
     ]
    },
    {
     "data": {
      "text/plain": [
       "False"
      ]
     },
     "execution_count": 35,
     "metadata": {},
     "output_type": "execute_result"
    }
   ],
   "source": [
    "# Python program to check if the input year is a leap year or not\n",
    "\n",
    "# To get year (integer input) from the user\n",
    "\n",
    "\n",
    "def leap_year(year):\n",
    "    return True if ((year % 4== 0 and year % 100 != 0) or (year % 400 == 0)) else False\n",
    "\n",
    "\n",
    "year = int(input(\"Enter a year: \"))\n",
    "leap_year(year)"
   ]
  },
  {
   "cell_type": "code",
   "execution_count": null,
   "id": "187f3b4b-01f1-4091-91db-484c2f133aca",
   "metadata": {},
   "outputs": [],
   "source": []
  },
  {
   "cell_type": "markdown",
   "id": "23b5b4aa-a842-4fe5-8f05-2c4340675c38",
   "metadata": {
    "tags": []
   },
   "source": [
    "## Question 3: 产生用户userID"
   ]
  },
  {
   "cell_type": "markdown",
   "id": "82e46b9b-f19c-462d-aa95-58921e966455",
   "metadata": {},
   "source": [
    "* 给你一个用户的first name和last name，产生一个用户的user id\n",
    "* 用户的user id应该是first name的第一个字母和完整的last name部分，全部小写"
   ]
  },
  {
   "cell_type": "code",
   "execution_count": null,
   "id": "86632957-f270-4537-bc43-2faab2d6bebb",
   "metadata": {},
   "outputs": [],
   "source": [
    "def gen_user_id(firstname: str, lastname: str) -> str:\n",
    "    \n",
    "    \"\"\"\n",
    "    Generate user id based on first name and last name.\n",
    "    \n",
    "    >>> gen_user_id('Kevin', 'Ma')\n",
    "    'kma'\n",
    "    \"\"\"\n"
   ]
  },
  {
   "cell_type": "code",
   "execution_count": null,
   "id": "e596b209-31b2-4032-903f-69355f3050e0",
   "metadata": {},
   "outputs": [],
   "source": [
    "def gen_user_id(firstname, lastname):\n",
    "    return(firstname[0].lower()+lastname.lower())\n",
    "\n",
    "gen_user_id('Kevin', 'Ma')\n",
    "gen_user_id('James', 'Jiang')\n",
    "gen_user_id('Lingjie', 'Wang')\n",
    "\n"
   ]
  },
  {
   "cell_type": "code",
   "execution_count": null,
   "id": "9a3ff342-9395-4a76-8b26-487d3693c5e4",
   "metadata": {},
   "outputs": [],
   "source": []
  },
  {
   "cell_type": "markdown",
   "id": "46dd67f7-5a17-4b90-9656-d92e27627d6e",
   "metadata": {},
   "source": [
    "## Question 4: 条件语句再回顾"
   ]
  },
  {
   "cell_type": "markdown",
   "id": "2f156bba-6b9e-4dae-b2dd-7936698682c7",
   "metadata": {},
   "source": [
    "* A, B, C, D 都是booleans\n",
    "* 列出来能让这个函数得到以下 int 其中之一的所有可能性。如果某一个参数无所谓，就写Any. (注意Any是不能真正写到code里的，我们这里讨论的是逻辑, 意思是False或True无所谓)\n",
    "\n",
    "    * int 5\n",
    "    * int 10\n",
    "    * int 11\n",
    "\n",
    "\n",
    "* 如果想得到 int 5， ABCD分别是FAFA(False, Any, False, Any)"
   ]
  },
  {
   "cell_type": "code",
   "execution_count": null,
   "id": "e34a2fcb-db95-458c-a801-6e795412f442",
   "metadata": {},
   "outputs": [],
   "source": [
    "def mystery(A, B, C, D):\n",
    "    \n",
    "    x = 5\n",
    "    if A:\n",
    "        x = x * 2\n",
    "        if B:\n",
    "            x = x / 2\n",
    "    elif C:\n",
    "        x = x + 5\n",
    "        if D:\n",
    "            x = x + 1\n",
    "        else:\n",
    "            x = x - 5\n",
    "    return x"
   ]
  },
  {
   "cell_type": "markdown",
   "id": "da0514ba-b8fb-499d-8293-b66637b73ffa",
   "metadata": {},
   "source": [
    "To generate Int 5:\n",
    "* False, Any, False, Any\n",
    "* False, Any, True, False"
   ]
  },
  {
   "cell_type": "code",
   "execution_count": null,
   "id": "9a27f5a5-dc2b-42b2-b747-2439e292902e",
   "metadata": {
    "tags": []
   },
   "outputs": [],
   "source": [
    "mystery(False, True, False, True)"
   ]
  },
  {
   "cell_type": "markdown",
   "id": "ac609daf-e115-41c2-80ef-742f630c975e",
   "metadata": {},
   "source": [
    "Note: True, True, Any, Any is not going to give you INT 5 but FLOAT 5.0 "
   ]
  },
  {
   "cell_type": "code",
   "execution_count": null,
   "id": "0c4fa563-db3c-4002-8978-48d11fb91f4f",
   "metadata": {},
   "outputs": [],
   "source": [
    "mystery(True, True, False, False)"
   ]
  },
  {
   "cell_type": "markdown",
   "id": "8750b82a-e32b-4082-941c-3a801ec8cadf",
   "metadata": {},
   "source": [
    "To generate Int 10:\n",
    "* True, False, Any, Any"
   ]
  },
  {
   "cell_type": "code",
   "execution_count": null,
   "id": "6942dce2-57fb-40a9-ab9e-2a0ec8f32416",
   "metadata": {},
   "outputs": [],
   "source": [
    "mystery(True, False, False, False)"
   ]
  },
  {
   "cell_type": "markdown",
   "id": "111ef013-3d0d-4d44-9b7b-7e7de6de28c7",
   "metadata": {},
   "source": [
    "To generate Int 11:\n",
    "* False, Any, True, True"
   ]
  },
  {
   "cell_type": "code",
   "execution_count": null,
   "id": "3c54b917-281a-4d6d-a70c-fb7b2a7260c6",
   "metadata": {},
   "outputs": [],
   "source": [
    "mystery(False, False, True, True)"
   ]
  },
  {
   "cell_type": "markdown",
   "id": "fe964f23-3409-406f-aa71-b1b8dc706e46",
   "metadata": {},
   "source": []
  },
  {
   "cell_type": "markdown",
   "id": "2f67ed26-c227-420a-b8b1-7985abf6f0fb",
   "metadata": {},
   "source": [
    "## Question 5: 一个常见面试题 - “统计下面这个script中每个单词出现的次数”"
   ]
  },
  {
   "cell_type": "markdown",
   "id": "a6c33d7b-f260-433a-a5bc-900588514077",
   "metadata": {},
   "source": [
    "- 要求：\n",
    "    - 不考虑标点：比如 color 和 color. 或者 color, 都是同一个词\n",
    "    - 不考虑大小写： 比如 Overall 和 overall 或者 OVERALL都是同一个词\n",
    "    - 统计的结果存在一个dictionary里面\n",
    "- 提示：\n",
    "    - 使用upper()/lower(), replace(), split()等string methods先把这个长的string分成词存进一个list\n",
    "    - 最终结果先创造一个空的dictionary\n",
    "    - dictionary的key对应list里的每个词\n",
    "    - dictionary的value对应出现的次数\n",
    "    - 如果list里面的词，之前没有出现过，在dictionary里面添加一个元素，key保留list的词，value记数一次\n",
    "    - 如果之前有出现过，修改dictionary里面的value，让它加一次\n",
    "- 最后的sample效果(答案不唯一):\n",
    "\n",
    " {'OVERALL': 1,\n",
    " \"I'M\": 1,\n",
    " 'REALLY': 1,\n",
    " 'HAPPY': 1,\n",
    " 'WITH': 3,\n",
    " 'THIS': 2,\n",
    " 'JACKET': 2,\n",
    " 'DEFINITELY': 1,\n",
    " 'WATERPROOF': 1,\n",
    " 'AND': 7,\n",
    " 'LIVING': 1,\n",
    " 'IN': 4,\n",
    " 'SUPER': 1,\n",
    " 'RAINY': 1,\n",
    " 'OREGON': 1,\n",
    " \"IT'S\": 5,\n",
    " 'ABSOLUTELY': 1,\n",
    " 'PERFECT': 1,\n",
    " 'FOR': 4,\n",
    " 'THE': 12,\n",
    " 'WINTER': 1,\n",
    " 'WEATHER': 1,\n",
    " 'HEREI': 1,\n",
    " 'DID': 1,\n",
    " 'GET': 2,\n",
    "...\n",
    " \"I'D\": 1,\n",
    " 'SAY': 1,\n",
    " 'FAIR': 1,\n",
    " 'TRADE': 1,\n",
    " 'OFF': 1}\n",
    " "
   ]
  },
  {
   "cell_type": "code",
   "execution_count": null,
   "id": "f54bd62f-6a55-468d-9694-6114b24f2f25",
   "metadata": {},
   "outputs": [],
   "source": [
    "script = \"Overall, I'm really happy with this jacket. Definitely waterproof. And living in super rainy Oregon, it's absolutely perfect for the winter weather here.\\\n",
    "I did get it for a snowboarding trip, but it has quickly replaced my old rain coat. It's warm. So warm. The sleeves aren't fleece lined but they still keep you warm. \\\n",
    "I get too warm most of the time. xD True to color. I was looking for a yellow, and I got exactly the bright yellow that was pictured. Zippers, all of the pockets zip, \\\n",
    "the only one I've struggled with was the inner breast pocket, because it is fleece lined and it gets caught in the zipper. Otherwise they're all pretty awesome and durable zippers.\\\n",
    "My only real gripe about this coat is the hood. It's fleece lined, warm, and detachable, I just wish it attached to the jacket in the front instead of velcroing to itself in front \\\n",
    "of your face. Not comfortable at all. Leaving it open is easiest.My body shape is also a bit weird with a narrow waist and wide hips so it's a bit puffy at my tummy, but for the warmth \\\n",
    "and being actually water-proof I'd say it's a fair trade off.\"\n",
    "\n",
    "print(script)\n"
   ]
  },
  {
   "cell_type": "code",
   "execution_count": null,
   "id": "f00742e5-57ed-46ee-a58e-e39ec78c15e5",
   "metadata": {},
   "outputs": [],
   "source": [
    "L = script.upper().replace(\",\", \"\").replace(\".\",\"\").split()"
   ]
  },
  {
   "cell_type": "code",
   "execution_count": null,
   "id": "ed3108d1-7911-4df8-b6de-a793f4cf0c03",
   "metadata": {},
   "outputs": [],
   "source": [
    "D = {}\n",
    "for i in L:\n",
    "    if i not in D:\n",
    "        D[i] = 1\n",
    "    else: \n",
    "        D[i] = D[i] + 1\n",
    "\n",
    "D\n"
   ]
  },
  {
   "cell_type": "markdown",
   "id": "58fd15f5-6e6f-4b37-ab7b-87088187e6a6",
   "metadata": {},
   "source": [
    "if we'd like to keep those tokens with count 2 or more"
   ]
  },
  {
   "cell_type": "code",
   "execution_count": null,
   "id": "dd078745-74b4-4e87-adec-d23bdb497c7b",
   "metadata": {},
   "outputs": [],
   "source": [
    "D2 = {}\n",
    "for i in D:\n",
    "    if D[i]>1:\n",
    "        D2[i] = D[i]\n",
    "D2"
   ]
  },
  {
   "cell_type": "code",
   "execution_count": null,
   "id": "021e06e3-27d9-414a-8c0c-d5f0e93558c5",
   "metadata": {},
   "outputs": [],
   "source": []
  }
 ],
 "metadata": {
  "kernelspec": {
   "display_name": "Python 3 (ipykernel)",
   "language": "python",
   "name": "python3"
  },
  "language_info": {
   "codemirror_mode": {
    "name": "ipython",
    "version": 3
   },
   "file_extension": ".py",
   "mimetype": "text/x-python",
   "name": "python",
   "nbconvert_exporter": "python",
   "pygments_lexer": "ipython3",
   "version": "3.9.7"
  }
 },
 "nbformat": 4,
 "nbformat_minor": 5
}
