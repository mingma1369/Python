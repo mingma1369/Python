{
 "cells": [
  {
   "cell_type": "markdown",
   "id": "df73d5b4-1abc-417a-89b1-c6f755f218a4",
   "metadata": {},
   "source": [
    "# Lecture 4"
   ]
  },
  {
   "cell_type": "code",
   "execution_count": null,
   "id": "966fa814-90f4-461a-a52b-5433101e66bc",
   "metadata": {},
   "outputs": [],
   "source": [
    "# By running the following python code, Jupyter Notebook will display all results\n",
    "# We will cover the details of this type of \"import\" code later\n",
    "\n",
    "from IPython.core.interactiveshell import InteractiveShell\n",
    "InteractiveShell.ast_node_interactivity = 'all'\n",
    "# 'all, last, last_expr(default), none, last_expr_or_assign'"
   ]
  },
  {
   "cell_type": "markdown",
   "id": "7e19ced6-f729-4fae-ad8e-72c547c76ce7",
   "metadata": {},
   "source": [
    "## Modules"
   ]
  },
  {
   "cell_type": "code",
   "execution_count": null,
   "id": "5bcaf987-fd1b-42d6-8f51-9c31d5d1a092",
   "metadata": {},
   "outputs": [],
   "source": [
    "import example"
   ]
  },
  {
   "cell_type": "code",
   "execution_count": null,
   "id": "f05e2d71-0d0c-4a57-8a46-821ab6dc4e1f",
   "metadata": {},
   "outputs": [],
   "source": [
    "example.add(4, 5.5)"
   ]
  },
  {
   "cell_type": "code",
   "execution_count": null,
   "id": "75e13b9c-154f-4284-b779-5f8009b6c39e",
   "metadata": {},
   "outputs": [],
   "source": [
    "import sys\n",
    "\n",
    "sys.path"
   ]
  },
  {
   "cell_type": "code",
   "execution_count": null,
   "id": "b0fc99d0-38ea-45c5-9a45-a08bc43c5be0",
   "metadata": {},
   "outputs": [],
   "source": [
    "pi"
   ]
  },
  {
   "cell_type": "code",
   "execution_count": null,
   "id": "7bf1a49f-1821-4a1d-bcfe-14cde4d3d55b",
   "metadata": {},
   "outputs": [],
   "source": [
    "#%% Modules\n",
    "\n",
    "import math #\n",
    "print(\"The value of pi is\", math.pi)"
   ]
  },
  {
   "cell_type": "code",
   "execution_count": null,
   "id": "aaa30213-4243-4eb0-b2a7-10179059e142",
   "metadata": {},
   "outputs": [],
   "source": [
    "import math as m"
   ]
  },
  {
   "cell_type": "code",
   "execution_count": null,
   "id": "fd96a090-74fb-4691-ade9-08ea84d2794a",
   "metadata": {},
   "outputs": [],
   "source": [
    "from math import pi, e"
   ]
  },
  {
   "cell_type": "code",
   "execution_count": null,
   "id": "8ad19499-c7e9-4ddb-979e-bf5d5af8b259",
   "metadata": {},
   "outputs": [],
   "source": [
    "pi\n",
    "e"
   ]
  },
  {
   "cell_type": "code",
   "execution_count": null,
   "id": "54ca022c-4612-476b-be50-de4dc442ad42",
   "metadata": {},
   "outputs": [],
   "source": [
    "dir(example)"
   ]
  },
  {
   "cell_type": "code",
   "execution_count": null,
   "id": "2caeda2f-25f5-481c-a158-878bd685031c",
   "metadata": {},
   "outputs": [],
   "source": []
  },
  {
   "cell_type": "code",
   "execution_count": null,
   "id": "c2c9d6af-954e-4c41-ab64-b9de3d58f28e",
   "metadata": {},
   "outputs": [],
   "source": [
    "import math\n",
    "degrees = 45\n",
    "radians = degrees / 180.0 * math.pi\n",
    "math.sin(radians)\n",
    "math.sqrt(2) / 2.0"
   ]
  },
  {
   "cell_type": "code",
   "execution_count": null,
   "id": "3c097226-e952-41d5-8f7f-ecd54f10e21a",
   "metadata": {},
   "outputs": [],
   "source": [
    "x = math.sin(degrees / 360.0 * 2 * math.pi)\n",
    "0.7071067811865476\n",
    "\n",
    "x = math.exp(math.log(x+1))"
   ]
  },
  {
   "cell_type": "code",
   "execution_count": null,
   "id": "c2c5e8d9-9afc-4eef-852e-ddffe9ea3bdc",
   "metadata": {},
   "outputs": [],
   "source": [
    "math.ceil(-3.5)"
   ]
  },
  {
   "cell_type": "code",
   "execution_count": null,
   "id": "61ce4463-9e93-4e27-9978-a013add84694",
   "metadata": {},
   "outputs": [],
   "source": [
    "# log: e; log10: 10\n",
    "\n",
    "import math   # This will import math module\n",
    "print (\"math.ceil(-45.17) : \", math.ceil(-45.17))\n",
    "print (\"math.ceil(100.12) : \", math.ceil(100.12))\n",
    "print (\"math.ceil(100.72) : \", math.ceil(100.72))"
   ]
  },
  {
   "cell_type": "code",
   "execution_count": null,
   "id": "b667cdf5-2307-46fb-81a1-95e79ae96a49",
   "metadata": {},
   "outputs": [],
   "source": [
    "dir(math)"
   ]
  },
  {
   "cell_type": "code",
   "execution_count": null,
   "id": "a9417200-cfac-4834-b860-31769604e188",
   "metadata": {},
   "outputs": [],
   "source": [
    "import random"
   ]
  },
  {
   "cell_type": "code",
   "execution_count": null,
   "id": "e5b63f37-4caa-44d3-81f1-f7acc3bb5d26",
   "metadata": {},
   "outputs": [],
   "source": [
    "dir(random)"
   ]
  },
  {
   "cell_type": "code",
   "execution_count": null,
   "id": "814f0350-56fa-4b16-97fa-85f152315cd2",
   "metadata": {},
   "outputs": [],
   "source": [
    "#%% Date and time\n",
    "\n",
    "import datetime \n",
    "#today is a function that returns today's date \n",
    "print(datetime.date.today())"
   ]
  },
  {
   "cell_type": "code",
   "execution_count": null,
   "id": "b0ba116e-eeda-47e1-aca3-c985c5b6844c",
   "metadata": {},
   "outputs": [],
   "source": [
    "#dir(datetime.datetime)\n",
    "help(datetime)"
   ]
  },
  {
   "cell_type": "code",
   "execution_count": null,
   "id": "61b27400-5617-4dee-893f-f810f29623db",
   "metadata": {},
   "outputs": [],
   "source": [
    "import datetime \n",
    "currentDate = datetime.date.today() \n",
    "#strftime allows you to specify the date format \n",
    "print(currentDate.strftime('%d %b,%Y'))\n"
   ]
  },
  {
   "cell_type": "code",
   "execution_count": null,
   "id": "2091ef89-6c47-4050-95ce-ac71e76277eb",
   "metadata": {},
   "outputs": [],
   "source": [
    "type(currentDate)"
   ]
  },
  {
   "cell_type": "code",
   "execution_count": null,
   "id": "a03ed28f-8860-4a6e-9a73-05531de16f23",
   "metadata": {},
   "outputs": [],
   "source": [
    "import datetime \n",
    "currentDate = datetime.date.today() \n",
    "#strftime allows you to specify the date format \n",
    "print (currentDate.strftime\n",
    "('Please attend our event %A, %B %d in the year %Y'))"
   ]
  },
  {
   "cell_type": "code",
   "execution_count": null,
   "id": "7b7c5e3c-ac92-4f97-9ebc-4f368fd7071f",
   "metadata": {},
   "outputs": [],
   "source": [
    "import datetime \n",
    "currentTime = datetime.datetime.now() \n",
    "print(currentTime) \n",
    "print(currentTime.hour) \n",
    "print(currentTime.minute)\n",
    "print(currentTime.second)"
   ]
  },
  {
   "cell_type": "code",
   "execution_count": null,
   "id": "2676cd3e-e5a2-44a6-80f5-57e1c5acf5c5",
   "metadata": {},
   "outputs": [],
   "source": [
    "import math\n",
    "\n",
    "def area(radius):\n",
    "    a = math.pi * radius**2\n",
    "    circ = 2*math.pi*radius\n",
    "    return a, circ\n",
    "\n",
    "#%%\n",
    "r = 10\n",
    "Answer = area(r)\n",
    "\n",
    "print('The area of the circle with a radius of', r, ' is', Answer[0])\n",
    "print('The peripheral of the circle with a radius of', r ,' is', Answer[1])\n",
    "\n"
   ]
  },
  {
   "cell_type": "code",
   "execution_count": null,
   "id": "ad3ca410-a4e0-4704-8c1f-9cd872005fd6",
   "metadata": {},
   "outputs": [],
   "source": [
    "#%% Linear Algebra\n",
    "import numpy as np \n",
    "x = np.array([1,5,2])\n",
    "y = np.array([7,4,1])\n",
    "\n",
    "x + y\n",
    "x * y\n"
   ]
  },
  {
   "cell_type": "markdown",
   "id": "af835549-c4cd-4909-954a-2c0f74f6398a",
   "metadata": {},
   "source": [
    "# Linear Regression in NumPy"
   ]
  },
  {
   "cell_type": "markdown",
   "id": "08c07f7d-79a5-41f9-a544-4af919c4dd4d",
   "metadata": {},
   "source": [
    " "
   ]
  },
  {
   "cell_type": "markdown",
   "id": "45499ae5-62f5-4dee-9f55-1f510013c432",
   "metadata": {},
   "source": [
    "## Part 1 : The Essentials of NumPy"
   ]
  },
  {
   "cell_type": "markdown",
   "id": "e01896a2-1cf8-43f2-bbf3-e4a2b6992508",
   "metadata": {},
   "source": [
    "<p>Numpy is a third-party library (i.e. it is not part of Python’s standard library) that facilitates numerical computing in Python by providing users with a versatile N-dimensional array object for storing data, and powerful mathematical functions for operating on those arrays of numbers.</p>\n",
    "<p>NumPy implements its features in ways that are highly optimized, via a process known as vectorization.</p>"
   ]
  },
  {
   "cell_type": "code",
   "execution_count": 3,
   "id": "8744ea25-286f-4e32-ac2c-257ed0d17d31",
   "metadata": {},
   "outputs": [
    {
     "name": "stdout",
     "output_type": "stream",
     "text": [
      "1.20.3\n"
     ]
    }
   ],
   "source": [
    "import numpy as np\n",
    "print(np.__version__)\n",
    "import pandas as pd\n"
   ]
  },
  {
   "cell_type": "markdown",
   "id": "857493df-b228-4ab5-b1bd-0fd8cd03e992",
   "metadata": {},
   "source": [
    "### 0. numpy.ndarray"
   ]
  },
  {
   "cell_type": "code",
   "execution_count": null,
   "id": "e5886069-b311-425b-9098-6b10ee0fe821",
   "metadata": {},
   "outputs": [],
   "source": [
    "#one-dimensional"
   ]
  },
  {
   "cell_type": "code",
   "execution_count": null,
   "id": "2024952b-e054-44c1-800b-20651d3f6580",
   "metadata": {},
   "outputs": [],
   "source": [
    "l1=[1,2,3]"
   ]
  },
  {
   "cell_type": "code",
   "execution_count": null,
   "id": "f8409073-72d2-4bc7-a425-eec28ad3f19f",
   "metadata": {},
   "outputs": [],
   "source": [
    "arr1=np.array(l1)"
   ]
  },
  {
   "cell_type": "code",
   "execution_count": null,
   "id": "869640ec-0723-4062-a086-74b4f3a3ae21",
   "metadata": {},
   "outputs": [],
   "source": [
    "arr1"
   ]
  },
  {
   "cell_type": "code",
   "execution_count": null,
   "id": "60780bcb-4988-42db-979d-7ed5bb2203fc",
   "metadata": {},
   "outputs": [],
   "source": [
    "type(arr1)"
   ]
  },
  {
   "cell_type": "code",
   "execution_count": null,
   "id": "b03c28a2-48d3-4e41-a4cf-ef559b5546f5",
   "metadata": {},
   "outputs": [],
   "source": [
    "arr1.shape"
   ]
  },
  {
   "cell_type": "code",
   "execution_count": null,
   "id": "6233eca1-ffe5-4f81-845f-fa493de94a09",
   "metadata": {},
   "outputs": [],
   "source": [
    "#two-dimensional"
   ]
  },
  {
   "cell_type": "code",
   "execution_count": null,
   "id": "cba58681-3b61-4789-a37a-7ba62ee74ce2",
   "metadata": {},
   "outputs": [],
   "source": [
    "l2=[[1,2,3],[4,5,6]]"
   ]
  },
  {
   "cell_type": "code",
   "execution_count": null,
   "id": "aeffe91c-83ed-442a-a1e9-3c0ca5d0d22d",
   "metadata": {},
   "outputs": [],
   "source": [
    "arr2=np.array(l2)"
   ]
  },
  {
   "cell_type": "code",
   "execution_count": null,
   "id": "cc2fa889-714d-463b-b854-07b9884f95ed",
   "metadata": {
    "scrolled": true
   },
   "outputs": [],
   "source": [
    "arr2"
   ]
  },
  {
   "cell_type": "code",
   "execution_count": null,
   "id": "e0b776e6-5fb9-4ca5-a10a-a9a7aca1c2e6",
   "metadata": {
    "scrolled": true
   },
   "outputs": [],
   "source": [
    "arr2.shape"
   ]
  },
  {
   "cell_type": "code",
   "execution_count": null,
   "id": "24d39cfd-f502-4e3e-ab72-2b60f728248a",
   "metadata": {},
   "outputs": [],
   "source": [
    "# muti-dimensional\n",
    "l3=[[[1,2,3,4],[5,6,7,8]]\n",
    "    ,[[9,10,11,12],[13,14,15,16]]\n",
    "   ,[[17,18,19,20],[21,22,23,24]]\n",
    "   ]\n",
    "arr3=np.array(l3)"
   ]
  },
  {
   "cell_type": "code",
   "execution_count": null,
   "id": "0e169908-1112-440b-9e92-ef2279b05999",
   "metadata": {
    "scrolled": true
   },
   "outputs": [],
   "source": [
    "arr3.shape"
   ]
  },
  {
   "cell_type": "code",
   "execution_count": null,
   "id": "0a434b98-1393-4aa1-9c21-a78d49eae390",
   "metadata": {},
   "outputs": [],
   "source": [
    "arr3"
   ]
  },
  {
   "cell_type": "markdown",
   "id": "146ebb32-0553-496b-8481-1703bc124d85",
   "metadata": {},
   "source": [
    "### 1. What is Vectorization?"
   ]
  },
  {
   "cell_type": "markdown",
   "id": "35472a5e-9513-4223-b61b-3fba350b3c3b",
   "metadata": {},
   "source": [
    "<p>Vectorization is used to speed up the Python code without using loop. Using such a function can help in minimizing the running time.</p>"
   ]
  },
  {
   "cell_type": "markdown",
   "id": "00091ee5-b2e0-4c1d-8886-bbb879eae53e",
   "metadata": {},
   "source": [
    "<p><strong>Problems</strong>:</p>\n",
    "<p>$sigmoid(x) = \\frac{1}{1+e^{-x}}$ is sometimes also known as the logistic function. It is a non-linear function used not only in Machine Learning (Logistic Regression), but also in Deep Learning.</p>"
   ]
  },
  {
   "cell_type": "markdown",
   "id": "94f0252b-9dd1-4912-9920-862a7f5ffa8f",
   "metadata": {},
   "source": [
    "<p><img src=\"img/Sigmoid.png\" style=\"width:500px;height:228px;\" align=\"center\"></p>"
   ]
  },
  {
   "cell_type": "code",
   "execution_count": null,
   "id": "ed25d4ef-2c0a-48ba-9caa-86c644ed0df0",
   "metadata": {},
   "outputs": [],
   "source": [
    "#Compare computation time\n",
    "import math"
   ]
  },
  {
   "cell_type": "code",
   "execution_count": null,
   "id": "15ba0b35-cd3f-49eb-bf70-a87f1680cd65",
   "metadata": {},
   "outputs": [],
   "source": [
    "def basic_sigmoid(x):\n",
    "    return 1/(math.exp(-x)+1)"
   ]
  },
  {
   "cell_type": "code",
   "execution_count": null,
   "id": "29b59222-6d14-4944-91e1-bbe10f878630",
   "metadata": {},
   "outputs": [],
   "source": [
    "basic_sigmoid(0)"
   ]
  },
  {
   "cell_type": "code",
   "execution_count": null,
   "id": "ff62d6f6-2126-4dac-95f2-d9e943893a1e",
   "metadata": {},
   "outputs": [],
   "source": [
    "basic_sigmoid(8)"
   ]
  },
  {
   "cell_type": "markdown",
   "id": "b7beb200-1bc3-475e-95e0-f6359dcf454b",
   "metadata": {},
   "source": [
    "<p>In fact, if $ x = (x_1, x_2, ..., x_n)$ is a row vector then $np.exp(x)$ will apply the exponential function to every element of x. The output will thus be: $np.exp(x) = (e^{x_1}, e^{x_2}, ..., e^{x_n})$</p>"
   ]
  },
  {
   "cell_type": "code",
   "execution_count": null,
   "id": "cdaaf58c-c494-4b88-b6e7-413b0ba4acc6",
   "metadata": {},
   "outputs": [],
   "source": [
    "x=np.array([1,2,3])"
   ]
  },
  {
   "cell_type": "code",
   "execution_count": null,
   "id": "af665e67-d61c-4625-a9ca-0d4df968c6af",
   "metadata": {},
   "outputs": [],
   "source": [
    "np.exp(x)"
   ]
  },
  {
   "cell_type": "markdown",
   "id": "e7416aea-4a57-44a2-acbb-a4de3107d810",
   "metadata": {},
   "source": [
    "**Exercise**: Implement the sigmoid function using numpy. \n",
    "\n",
    "**Instructions**: x could now be either a real number, a vector, or a matrix. The data structures we use in numpy to represent these shapes (vectors, matrices...) are called numpy arrays. You don't need to know more for now.\n",
    "$$ \\text{For } x \\in \\mathbb{R}^n \\text{,     } sigmoid(x) = sigmoid\\begin{pmatrix}\n",
    "    x_1  \\\\\n",
    "    x_2  \\\\\n",
    "    ...  \\\\\n",
    "    x_n  \\\\\n",
    "\\end{pmatrix} = \\begin{pmatrix}\n",
    "    \\frac{1}{1+e^{-x_1}}  \\\\\n",
    "    \\frac{1}{1+e^{-x_2}}  \\\\\n",
    "    ...  \\\\\n",
    "    \\frac{1}{1+e^{-x_n}}  \\\\\n",
    "\\end{pmatrix}\\tag{1} $$"
   ]
  },
  {
   "cell_type": "code",
   "execution_count": null,
   "id": "bd713369-8f56-4e89-a49a-f6b95e001457",
   "metadata": {},
   "outputs": [],
   "source": [
    "def sigmoid(x):\n",
    "    return 1/(1+np.exp(-x))"
   ]
  },
  {
   "cell_type": "code",
   "execution_count": null,
   "id": "2589234c-d8ea-461e-896b-36afb57f680b",
   "metadata": {},
   "outputs": [],
   "source": [
    "sigmoid(np.array([1,2,3]))"
   ]
  },
  {
   "cell_type": "markdown",
   "id": "fec4d88f-e803-42f4-a4c0-4e512277e3d3",
   "metadata": {},
   "source": [
    "<p>Calculate&nbsp;$\\sum_{i=1}^{1000000} sigmoid(i)$?</p>"
   ]
  },
  {
   "cell_type": "code",
   "execution_count": null,
   "id": "d69d1cfd-1a8e-465d-bc4c-8b3ac153c1ed",
   "metadata": {},
   "outputs": [],
   "source": [
    "x=np.arange(1,1000001)"
   ]
  },
  {
   "cell_type": "code",
   "execution_count": null,
   "id": "4ef3a7c5-5489-4e62-93ee-aa937489a392",
   "metadata": {},
   "outputs": [],
   "source": [
    "x"
   ]
  },
  {
   "cell_type": "code",
   "execution_count": null,
   "id": "cb48ef5f-03f3-4e7d-9182-17277647de89",
   "metadata": {},
   "outputs": [],
   "source": [
    "import time\n",
    "start=time.time()\n",
    "\n",
    "S=sigmoid(x).sum()\n",
    "\n",
    "end=time.time()\n",
    "print('Calculation Result:',S,'\\nTime spent: ',(end-start)*1000,'ms')"
   ]
  },
  {
   "cell_type": "code",
   "execution_count": null,
   "id": "42e644a6-d8e5-4413-a8bd-9ab9adf713b9",
   "metadata": {},
   "outputs": [],
   "source": [
    "import time\n",
    "start=time.time()\n",
    "\n",
    "temp=0\n",
    "for i in x:\n",
    "    temp=temp+basic_sigmoid(i)\n",
    "\n",
    "end=time.time()\n",
    "print('Calculation Result:',temp,'\\nTime spent: ',(end-start)*1000,'ms')"
   ]
  },
  {
   "cell_type": "markdown",
   "id": "8194bf4c-9839-4d21-9806-045916ceff6c",
   "metadata": {},
   "source": [
    "<p><strong>The sum is approximately 30 times faster when performed in Numpy’s vectorized function over for loop!</strong></p>"
   ]
  },
  {
   "cell_type": "markdown",
   "id": "54e2c0c9-30c1-4a24-83c3-2a7a32b2aca3",
   "metadata": {},
   "source": [
    "### 2. Basic Mathematical Operations Using Arrays"
   ]
  },
  {
   "cell_type": "code",
   "execution_count": null,
   "id": "8cb82f77-bcd5-48dd-8f3b-c68127fbc2f7",
   "metadata": {},
   "outputs": [],
   "source": [
    "X=np.array([[1,2],[3,4]])\n",
    "X"
   ]
  },
  {
   "cell_type": "code",
   "execution_count": null,
   "id": "e07a1559-230d-48ed-934e-4ce434729942",
   "metadata": {},
   "outputs": [],
   "source": [
    "Y=np.array([[5,6],[7,8]])\n",
    "Y"
   ]
  },
  {
   "cell_type": "markdown",
   "id": "144a16a4-7a14-4044-a51f-8c6d562536e8",
   "metadata": {},
   "source": [
    "<strong>Addition</strong>"
   ]
  },
  {
   "cell_type": "code",
   "execution_count": null,
   "id": "27e09eb2-275b-42fc-b621-727aa0207b8f",
   "metadata": {},
   "outputs": [],
   "source": [
    "X+Y"
   ]
  },
  {
   "cell_type": "markdown",
   "id": "4b9f5f9b-2195-451a-be5b-7f1d8341ce7b",
   "metadata": {},
   "source": [
    "<strong>Scalar multiplication</strong>"
   ]
  },
  {
   "cell_type": "code",
   "execution_count": null,
   "id": "5c0b7e26-2681-4cf8-a224-b2d55995e527",
   "metadata": {},
   "outputs": [],
   "source": [
    "3*X"
   ]
  },
  {
   "cell_type": "markdown",
   "id": "3eb7fb69-d803-456a-9b17-9b16cb0713e7",
   "metadata": {},
   "source": [
    "<strong>Element-wise multiplication</strong>"
   ]
  },
  {
   "cell_type": "code",
   "execution_count": null,
   "id": "e24ff407-26f1-4ea4-9558-949057f7a16e",
   "metadata": {},
   "outputs": [],
   "source": [
    "X*Y"
   ]
  },
  {
   "cell_type": "markdown",
   "id": "846716a1-598d-483c-8249-c49917458715",
   "metadata": {},
   "source": [
    "<strong>Matrix multiplication</strong>"
   ]
  },
  {
   "cell_type": "markdown",
   "id": "65a2f3da-582c-4974-b229-f63510dd463c",
   "metadata": {},
   "source": [
    "https://en.wikipedia.org/wiki/Matrix_(mathematics)#Addition,_scalar_multiplication,_and_transposition"
   ]
  },
  {
   "cell_type": "markdown",
   "id": "b0c373d3-b221-4e15-9525-1d0f997288b8",
   "metadata": {},
   "source": [
    "<img src=\"img/dot product.png\" alt=\"Drawing\" style=\"width: 500px;\"/>"
   ]
  },
  {
   "cell_type": "code",
   "execution_count": null,
   "id": "9d1c0acb-a18f-4bc9-ab4c-9ec80867091a",
   "metadata": {},
   "outputs": [],
   "source": [
    "np.dot(X,Y)"
   ]
  },
  {
   "cell_type": "code",
   "execution_count": null,
   "id": "4015b152-09fc-4cce-b1be-49f9e8b0f3c3",
   "metadata": {},
   "outputs": [],
   "source": [
    "X@Y"
   ]
  },
  {
   "cell_type": "markdown",
   "id": "3e537185-3abe-463e-922a-cbedf6782cc3",
   "metadata": {},
   "source": [
    "### 3. Array Broadcasting"
   ]
  },
  {
   "cell_type": "markdown",
   "id": "23371e3c-f80e-43fb-9203-227c99bca290",
   "metadata": {},
   "source": [
    "Numpy provides a mechanism for performing mathematical operations on arrays of unequal shapes:"
   ]
  },
  {
   "cell_type": "markdown",
   "id": "1d3f218a-9692-4f49-a632-19168ccc8d8b",
   "metadata": {},
   "source": [
    "<p>Array Broadcasting is a mechanism used by Numpy to permit vectorized mathematical operations between arrays of unequal, but compatible shapes. Specifically, an array will be treated as if its contents have been replicated along the appropriate dimensions, such that the shape of this new, higher-dimensional array suits the mathematical operation being performed.</p>"
   ]
  },
  {
   "cell_type": "markdown",
   "id": "92cd04a9-a745-47c7-aae3-5bbf1e3caafb",
   "metadata": {},
   "source": [
    "##### 2-dimensional & one-dimensional"
   ]
  },
  {
   "cell_type": "markdown",
   "id": "0d6cab36-bf40-4b47-b7df-17e93ee6b842",
   "metadata": {},
   "source": [
    "$\\begin{pmatrix}\n",
    "0&-0.1&-0.2&-0.3\\\\\n",
    "-0.4&-0.5&-0.6&-0.7\\\\\n",
    "-0.8&-0.9&-1.0&-1.1\n",
    "\\end{pmatrix} \\times \\begin{pmatrix}1&2&3&4\\end{pmatrix} \\rightarrow \n",
    "\\begin{pmatrix}\n",
    "0&-0.1&-0.2&-0.3\\\\\n",
    "-0.4&-0.5&-0.6&-0.7\\\\\n",
    "-0.8&-0.9&-1.0&-1.1\n",
    "\\end{pmatrix} \\times  \\begin{pmatrix}\n",
    "1&2&3&4\\\\\n",
    "1&2&3&4\\\\\n",
    "1&2&3&4\n",
    "\\end{pmatrix} $  "
   ]
  },
  {
   "cell_type": "markdown",
   "id": "ad93b60e-7095-41f9-a572-2971a5f6814d",
   "metadata": {},
   "source": [
    "$X: 3 \\times 4$  \n",
    "$Y: \\; \\; \\; \\; \\; \\:4 \\rightarrow 3 \\times 4$"
   ]
  },
  {
   "cell_type": "code",
   "execution_count": null,
   "id": "c43a3c29-bd15-4feb-baec-d518ae1d764b",
   "metadata": {},
   "outputs": [],
   "source": [
    "# a shape-(3, 4) array\n",
    "X = [[0 , -0.1, -0.2, -0.3],\n",
    "     [-0.4, -0.5, -0.6, -0.7],\n",
    "     [-0.8, -0.9, -1. , -1.1]]\n",
    "X = np.array(X)\n",
    "X.shape"
   ]
  },
  {
   "cell_type": "code",
   "execution_count": null,
   "id": "b176249d-05c8-46c1-b383-25155d2aaeeb",
   "metadata": {},
   "outputs": [],
   "source": [
    "Y=[1,2,3,4]\n",
    "Y=np.array(Y)\n",
    "Y.shape"
   ]
  },
  {
   "cell_type": "code",
   "execution_count": null,
   "id": "db0a81cd-3404-4302-aa4b-75d00402bf33",
   "metadata": {},
   "outputs": [],
   "source": [
    "X*Y"
   ]
  },
  {
   "cell_type": "markdown",
   "id": "fb53a4db-883b-45e6-b035-c192a8b8d7a4",
   "metadata": {},
   "source": [
    "##### 2-dimensional & 2-dimensional"
   ]
  },
  {
   "cell_type": "markdown",
   "id": "1e8f5fb4-9106-4816-860f-2db9cf5903e6",
   "metadata": {},
   "source": [
    "Two dimensions are compatible when\n",
    "\n",
    "they are <strong>equal</strong>, or one of them is <strong>1</strong>"
   ]
  },
  {
   "cell_type": "markdown",
   "id": "31a2013e-e477-4a95-b5fe-8e720c252046",
   "metadata": {},
   "source": [
    "Example 1- strech leftmost dimension"
   ]
  },
  {
   "cell_type": "markdown",
   "id": "4465f384-54f8-4ec7-8bf9-40670d4bb9e8",
   "metadata": {},
   "source": [
    "$\\begin{pmatrix}\n",
    "0&-0.1&-0.2&-0.3\\\\\n",
    "-0.4&-0.5&-0.6&-0.7\\\\\n",
    "-0.8&-0.9&-1.0&-1.1\n",
    "\\end{pmatrix} \\times \\begin{pmatrix}1&2&3&4\\end{pmatrix} \\rightarrow \n",
    "\\begin{pmatrix}\n",
    "0&-0.1&-0.2&-0.3\\\\\n",
    "-0.4&-0.5&-0.6&-0.7\\\\\n",
    "-0.8&-0.9&-1.0&-1.1\n",
    "\\end{pmatrix} \\times  \\begin{pmatrix}\n",
    "1&2&3&4\\\\\n",
    "1&2&3&4\\\\\n",
    "1&2&3&4\n",
    "\\end{pmatrix} $  "
   ]
  },
  {
   "cell_type": "markdown",
   "id": "982cee65-6523-4831-9999-c474e8b13ea8",
   "metadata": {},
   "source": [
    "$X: 3 \\times 4$  \n",
    "$Y: 1 \\times 4 \\rightarrow 3 \\times 4$"
   ]
  },
  {
   "cell_type": "code",
   "execution_count": null,
   "id": "2bad2546-4b82-4319-917a-c54c05eb9301",
   "metadata": {},
   "outputs": [],
   "source": [
    "# a shape-(3, 4) array\n",
    "X = [[0 , -0.1, -0.2, -0.3],\n",
    "     [-0.4, -0.5, -0.6, -0.7],\n",
    "     [-0.8, -0.9, -1. , -1.1]]\n",
    "X = np.array(X)\n",
    "X.shape"
   ]
  },
  {
   "cell_type": "code",
   "execution_count": null,
   "id": "4b582a49-e77d-441e-a64b-07ae1b7c9744",
   "metadata": {},
   "outputs": [],
   "source": [
    "Y=[[1,2,3,4]]\n",
    "Y=np.array(Y)\n",
    "Y.shape"
   ]
  },
  {
   "cell_type": "code",
   "execution_count": null,
   "id": "83c5130a-71a5-4581-bd01-205e9343d290",
   "metadata": {},
   "outputs": [],
   "source": [
    "X*Y"
   ]
  },
  {
   "cell_type": "markdown",
   "id": "b1a775b3-2d49-4c5b-9725-09b1d74c0220",
   "metadata": {},
   "source": [
    "Example 2- strech rightmost dimension"
   ]
  },
  {
   "cell_type": "markdown",
   "id": "6bc552d7-b55c-4888-a9d7-d9ccfca4c658",
   "metadata": {},
   "source": [
    "$\\begin{pmatrix}\n",
    "0&-0.1&-0.2&-0.3\\\\\n",
    "-0.4&-0.5&-0.6&-0.7\\\\\n",
    "-0.8&-0.9&-1.0&-1.1\n",
    "\\end{pmatrix} \\times \\begin{pmatrix}1\\\\2\\\\3\\end{pmatrix} \\rightarrow \n",
    "\\begin{pmatrix}\n",
    "0&-0.1&-0.2&-0.3\\\\\n",
    "-0.4&-0.5&-0.6&-0.7\\\\\n",
    "-0.8&-0.9&-1.0&-1.1\n",
    "\\end{pmatrix} \\times  \\begin{pmatrix}\n",
    "1&1&1&1\\\\\n",
    "2&2&2&2\\\\\n",
    "3&3&3&3\n",
    "\\end{pmatrix} $  "
   ]
  },
  {
   "cell_type": "markdown",
   "id": "af377b51-00cf-4b8a-a581-b522ed90ad79",
   "metadata": {},
   "source": [
    "$X: 3 \\times 4$  \n",
    "$Y: 3 \\times 1 \\rightarrow 3 \\times 4$"
   ]
  },
  {
   "cell_type": "code",
   "execution_count": null,
   "id": "dc47d6af-d914-4c30-aa8a-3c1f8374d36d",
   "metadata": {},
   "outputs": [],
   "source": [
    "# a shape-(3, 4) array\n",
    "X = [[0 , -0.1, -0.2, -0.3],\n",
    "     [-0.4, -0.5, -0.6, -0.7],\n",
    "     [-0.8, -0.9, -1. , -1.1]]\n",
    "X = np.array(X)\n",
    "X.shape"
   ]
  },
  {
   "cell_type": "code",
   "execution_count": null,
   "id": "b44f6881-2604-4a0b-a412-a8a41cac12f7",
   "metadata": {},
   "outputs": [],
   "source": [
    "Y=[1,2,3]\n",
    "Y=np.array(Y)\n",
    "Y\n",
    "Y.shape\n",
    "Y=np.array(Y).reshape(3,1)\n",
    "Y\n",
    "Y.shape"
   ]
  },
  {
   "cell_type": "code",
   "execution_count": null,
   "id": "9944111b-bf84-443a-b316-96023ba1cfed",
   "metadata": {},
   "outputs": [],
   "source": [
    "Y = [[1],[2],[3]]\n",
    "Y=np.array(Y)\n",
    "Y.shape"
   ]
  },
  {
   "cell_type": "code",
   "execution_count": null,
   "id": "d281e23e-c2fe-4db4-af41-746329bd5cc1",
   "metadata": {},
   "outputs": [],
   "source": [
    "X*Y"
   ]
  },
  {
   "cell_type": "markdown",
   "id": "89fda1f2-0c87-4884-a775-ed3c62e38310",
   "metadata": {},
   "source": [
    "##### Multi-dimensional & Multi-dimensional"
   ]
  },
  {
   "cell_type": "code",
   "execution_count": null,
   "id": "2d23f4a3-b57a-4b46-bed5-6329fe0d22aa",
   "metadata": {},
   "outputs": [],
   "source": [
    "l3=[[[1,2,3,4]]\n",
    "    ,[[9,10,11,12]]\n",
    "   ,[[17,18,19,20]]\n",
    "   ]\n",
    "X=np.array(l3)\n",
    "X.shape"
   ]
  },
  {
   "cell_type": "code",
   "execution_count": null,
   "id": "33977039-d3d8-41d8-a6dd-f150b34bfc9f",
   "metadata": {},
   "outputs": [],
   "source": [
    "l4=[[[2],[3]]\n",
    "    ,[[4],[5]]\n",
    "   ,[[6],[7]]\n",
    "   ]\n",
    "Y=np.array(l4)\n",
    "Y.shape"
   ]
  },
  {
   "cell_type": "code",
   "execution_count": null,
   "id": "41f9e62a-1580-42e7-a1aa-bc1fc0a6e52f",
   "metadata": {},
   "outputs": [],
   "source": [
    "X*Y"
   ]
  },
  {
   "cell_type": "markdown",
   "id": "442ab8c1-bfed-476a-a7ba-d1fdbda9c250",
   "metadata": {},
   "source": [
    "### A Simple Application of Array Broadcasting"
   ]
  },
  {
   "cell_type": "markdown",
   "id": "100d455c-e3c9-444c-b62c-d4c120fbe102",
   "metadata": {},
   "source": [
    "<p>Suppose we have a grade book for 6 students, each of whom have taken 3 exams. Their scores are saved in a 6*3 array.</p>"
   ]
  },
  {
   "cell_type": "code",
   "execution_count": null,
   "id": "39d29143-5970-474d-a4cf-c43da6d3bf89",
   "metadata": {},
   "outputs": [],
   "source": [
    "# rows:    student\n",
    "# columns: Chinese, Math, English\n",
    "grades = [[79, 84, 84],\n",
    "          [87, 93, 78],\n",
    "          [77, 99, 87],\n",
    "          [66, 75, 82],\n",
    "          [84, 89, 76],\n",
    "          [83, 71, 85]]\n",
    "grades = np.array(grades)\n",
    "grades.shape"
   ]
  },
  {
   "cell_type": "markdown",
   "id": "5501c2c2-2054-4e64-9f57-57fa6950c90a",
   "metadata": {},
   "source": [
    "<p>We are interested to see how each of these scores compare to the mean score for that specific exam.</p>"
   ]
  },
  {
   "cell_type": "code",
   "execution_count": null,
   "id": "2eb14d3f-3493-445e-b22c-7dea1412d9a6",
   "metadata": {},
   "outputs": [],
   "source": [
    "avg=grades.mean(axis=0).round(2)\n",
    "avg"
   ]
  },
  {
   "cell_type": "code",
   "execution_count": null,
   "id": "62f7bbba-13d3-4113-adb6-7a23134786fe",
   "metadata": {},
   "outputs": [],
   "source": [
    "avg.shape"
   ]
  },
  {
   "cell_type": "code",
   "execution_count": null,
   "id": "f59591f5-9a21-45df-9441-fda12a5b9c7f",
   "metadata": {
    "scrolled": true
   },
   "outputs": [],
   "source": [
    "diff=grades-avg\n",
    "diff"
   ]
  },
  {
   "cell_type": "code",
   "execution_count": null,
   "id": "20786980-fca0-4f01-ada6-969b5e53d13d",
   "metadata": {},
   "outputs": [],
   "source": [
    "#select result for math\n",
    "diff[:,1]"
   ]
  },
  {
   "cell_type": "markdown",
   "id": "76afe149-a218-432f-a17a-c4c861d6cc92",
   "metadata": {},
   "source": [
    " "
   ]
  },
  {
   "cell_type": "markdown",
   "id": "463039aa-8714-4922-aa07-9ac7dcd00590",
   "metadata": {},
   "source": [
    " "
   ]
  },
  {
   "cell_type": "markdown",
   "id": "6e0a465a-571b-42b2-98f8-a0862c0ea8c7",
   "metadata": {},
   "source": [
    " "
   ]
  },
  {
   "cell_type": "markdown",
   "id": "6110eb6f-ed31-488c-8e34-9af18e76f899",
   "metadata": {},
   "source": [
    "## Part 2 : Linear Regression in NumPy"
   ]
  },
  {
   "cell_type": "markdown",
   "id": "fe57e534-939f-48ca-942b-26ef81404e4c",
   "metadata": {},
   "source": [
    "### Simple Linear Regression"
   ]
  },
  {
   "cell_type": "markdown",
   "id": "a5499c17-9b88-41b1-9863-79a799343933",
   "metadata": {},
   "source": [
    "# $$y=\\beta_0+\\beta_1x+\\epsilon$$"
   ]
  },
  {
   "cell_type": "markdown",
   "id": "5c5cdaa4-b306-4731-a5ed-24fdf1543837",
   "metadata": {},
   "source": [
    "<img src=\"img/1.png\" alt=\"Drawing\" style=\"width: 500px;\"/>"
   ]
  },
  {
   "cell_type": "markdown",
   "id": "2c554a21-71b0-4972-bcd0-9f17de3f1c81",
   "metadata": {},
   "source": [
    "# $$\\hat{y}=\\hat{\\beta_0}+\\hat{\\beta_1}x$$"
   ]
  },
  {
   "cell_type": "markdown",
   "id": "15a0d087-089c-406e-909c-96a3f99f6b9a",
   "metadata": {},
   "source": [
    "# $$\\hat{\\beta_1}=\\frac{\\sum_{i=1}^{n}(x_i-\\bar{x})(y_i-\\bar{y})}{\\sum_{i=1}^{n}(x_i-\\bar{x})^{2}}$$\n",
    "# $$\\hat{\\beta_0}=\\bar{y}-\\hat{\\beta_1}\\bar{x}$$"
   ]
  },
  {
   "cell_type": "markdown",
   "id": "c7ba76d6-caa3-4cf1-8912-2d7aa1335096",
   "metadata": {},
   "source": [
    "### Multiple Linear Regression"
   ]
  },
  {
   "cell_type": "markdown",
   "id": "ddb19e7b-7095-403e-a3b8-1972112c5f62",
   "metadata": {},
   "source": [
    "# $$y=\\beta_0+\\beta_1x_{1}+\\beta_2x_{2}+...+\\beta_px_{p}+\\epsilon$$"
   ]
  },
  {
   "cell_type": "markdown",
   "id": "a4a79a35-c734-44b7-8b61-52f727fcbb3f",
   "metadata": {},
   "source": [
    "# $$y=X\\beta+\\epsilon  $$"
   ]
  },
  {
   "cell_type": "markdown",
   "id": "d81d1382-331f-4d22-a21f-e612c5a738fc",
   "metadata": {},
   "source": [
    "### $$\\begin{pmatrix} y_1 \\\\ y_2 \\\\ y_3 \\\\ \\end{pmatrix} = \\begin{pmatrix} 1 & x_{11} & x_{12} \\\\ 1 & x_{21} & x_{22} \\\\ 1 & x_{31} & x_{32} \\\\ \\end{pmatrix}\n",
    "\\begin{pmatrix} \\beta_0 \\\\ \\beta_1 \\\\ \\beta_2 \\\\ \\end{pmatrix}\n",
    "+ \\begin{pmatrix} \\epsilon_1 \\\\ \\epsilon_2 \\\\ \\epsilon_3 \\\\ \\end{pmatrix}$$\n"
   ]
  },
  {
   "cell_type": "markdown",
   "id": "8aab8bc0-67e1-43e9-baeb-4e569553f040",
   "metadata": {},
   "source": [
    "<img src=\"img/2.png\" alt=\"Drawing\" style=\"width: 300px;\"/>"
   ]
  },
  {
   "cell_type": "markdown",
   "id": "78900455-64b0-4901-aad8-39cc4a205168",
   "metadata": {},
   "source": [
    "# $$\\hat{y}=X\\hat{\\beta}$$"
   ]
  },
  {
   "cell_type": "markdown",
   "id": "74699bb1-5438-4bd8-93b6-35ebce38b467",
   "metadata": {},
   "source": [
    "# $$\\hat{\\beta}=(X^{T}X)^{-1}X^{T}y$$"
   ]
  },
  {
   "cell_type": "markdown",
   "id": "42b28e54-647d-437b-aa48-1afc5944374b",
   "metadata": {},
   "source": [
    "### Linear Regression Project - Predictive Modeling in Marketing Campaign"
   ]
  },
  {
   "cell_type": "markdown",
   "id": "8b46e421-1ba6-4f7a-9b3b-02bea5cecab0",
   "metadata": {},
   "source": [
    "We collected data from a Commercial Companies that used various channels for marketing campaigns. \n",
    "The dataset collected is related to 200 campaigns that occurred between May 2008 and November 2010.\n",
    "During these campaigns, the cost of campaigns in each channels and the final sales were recorded."
   ]
  },
  {
   "cell_type": "markdown",
   "id": "6de2b6f1-88a3-495d-83ae-b3f0b7d4f6a4",
   "metadata": {},
   "source": [
    "##### Input variables:<br>\n",
    "**- Marketing data:**<br>\n",
    "1 - TV : Marketing cost in TV commercials<br>\n",
    "2 - radio : Marketing cost in Radio commercials<br>\n",
    "3 - newspaper : Marketing cost in newpaper/Magazine<br>\n",
    "4 - sales : Final Sales during Campaign<br>\n"
   ]
  },
  {
   "cell_type": "markdown",
   "id": "a8c31d3b-4e94-428f-a30d-862800b9a496",
   "metadata": {},
   "source": [
    "We are aiming to build a linear regression model to determine the effectiveness of each channel and their overall relationship with final sales."
   ]
  },
  {
   "cell_type": "markdown",
   "id": "dae882e7-1adc-489d-b0a8-12bd695712b0",
   "metadata": {},
   "source": [
    "### $$sales=\\beta_0+\\beta_1TV+\\beta_2radio+\\beta_3newspaper+\\epsilon$$"
   ]
  },
  {
   "cell_type": "code",
   "execution_count": 4,
   "id": "e23f20eb-bb5c-4b5c-b308-fde860c32ac6",
   "metadata": {},
   "outputs": [],
   "source": [
    "df=pd.read_csv('./data/Advertising.csv')"
   ]
  },
  {
   "cell_type": "code",
   "execution_count": 5,
   "id": "96ec746a-1ddd-4a72-9850-271b56149029",
   "metadata": {},
   "outputs": [
    {
     "data": {
      "text/html": [
       "<div>\n",
       "<style scoped>\n",
       "    .dataframe tbody tr th:only-of-type {\n",
       "        vertical-align: middle;\n",
       "    }\n",
       "\n",
       "    .dataframe tbody tr th {\n",
       "        vertical-align: top;\n",
       "    }\n",
       "\n",
       "    .dataframe thead th {\n",
       "        text-align: right;\n",
       "    }\n",
       "</style>\n",
       "<table border=\"1\" class=\"dataframe\">\n",
       "  <thead>\n",
       "    <tr style=\"text-align: right;\">\n",
       "      <th></th>\n",
       "      <th>TV</th>\n",
       "      <th>radio</th>\n",
       "      <th>newspaper</th>\n",
       "      <th>sales</th>\n",
       "    </tr>\n",
       "  </thead>\n",
       "  <tbody>\n",
       "    <tr>\n",
       "      <th>0</th>\n",
       "      <td>230.1</td>\n",
       "      <td>37.8</td>\n",
       "      <td>69.2</td>\n",
       "      <td>22.1</td>\n",
       "    </tr>\n",
       "    <tr>\n",
       "      <th>1</th>\n",
       "      <td>44.5</td>\n",
       "      <td>39.3</td>\n",
       "      <td>45.1</td>\n",
       "      <td>10.4</td>\n",
       "    </tr>\n",
       "    <tr>\n",
       "      <th>2</th>\n",
       "      <td>17.2</td>\n",
       "      <td>45.9</td>\n",
       "      <td>69.3</td>\n",
       "      <td>9.3</td>\n",
       "    </tr>\n",
       "    <tr>\n",
       "      <th>3</th>\n",
       "      <td>151.5</td>\n",
       "      <td>41.3</td>\n",
       "      <td>58.5</td>\n",
       "      <td>18.5</td>\n",
       "    </tr>\n",
       "    <tr>\n",
       "      <th>4</th>\n",
       "      <td>180.8</td>\n",
       "      <td>10.8</td>\n",
       "      <td>58.4</td>\n",
       "      <td>12.9</td>\n",
       "    </tr>\n",
       "    <tr>\n",
       "      <th>...</th>\n",
       "      <td>...</td>\n",
       "      <td>...</td>\n",
       "      <td>...</td>\n",
       "      <td>...</td>\n",
       "    </tr>\n",
       "    <tr>\n",
       "      <th>195</th>\n",
       "      <td>38.2</td>\n",
       "      <td>3.7</td>\n",
       "      <td>13.8</td>\n",
       "      <td>7.6</td>\n",
       "    </tr>\n",
       "    <tr>\n",
       "      <th>196</th>\n",
       "      <td>94.2</td>\n",
       "      <td>4.9</td>\n",
       "      <td>8.1</td>\n",
       "      <td>9.7</td>\n",
       "    </tr>\n",
       "    <tr>\n",
       "      <th>197</th>\n",
       "      <td>177.0</td>\n",
       "      <td>9.3</td>\n",
       "      <td>6.4</td>\n",
       "      <td>12.8</td>\n",
       "    </tr>\n",
       "    <tr>\n",
       "      <th>198</th>\n",
       "      <td>283.6</td>\n",
       "      <td>42.0</td>\n",
       "      <td>66.2</td>\n",
       "      <td>25.5</td>\n",
       "    </tr>\n",
       "    <tr>\n",
       "      <th>199</th>\n",
       "      <td>232.1</td>\n",
       "      <td>8.6</td>\n",
       "      <td>8.7</td>\n",
       "      <td>13.4</td>\n",
       "    </tr>\n",
       "  </tbody>\n",
       "</table>\n",
       "<p>200 rows × 4 columns</p>\n",
       "</div>"
      ],
      "text/plain": [
       "        TV  radio  newspaper  sales\n",
       "0    230.1   37.8       69.2   22.1\n",
       "1     44.5   39.3       45.1   10.4\n",
       "2     17.2   45.9       69.3    9.3\n",
       "3    151.5   41.3       58.5   18.5\n",
       "4    180.8   10.8       58.4   12.9\n",
       "..     ...    ...        ...    ...\n",
       "195   38.2    3.7       13.8    7.6\n",
       "196   94.2    4.9        8.1    9.7\n",
       "197  177.0    9.3        6.4   12.8\n",
       "198  283.6   42.0       66.2   25.5\n",
       "199  232.1    8.6        8.7   13.4\n",
       "\n",
       "[200 rows x 4 columns]"
      ]
     },
     "execution_count": 5,
     "metadata": {},
     "output_type": "execute_result"
    }
   ],
   "source": [
    "df"
   ]
  },
  {
   "cell_type": "code",
   "execution_count": null,
   "id": "79c92d87-0707-4a76-a020-ed521080bdc0",
   "metadata": {},
   "outputs": [],
   "source": [
    "data=df.values"
   ]
  },
  {
   "cell_type": "code",
   "execution_count": null,
   "id": "17959d7f-4e2c-401e-8496-a4473fa35e71",
   "metadata": {},
   "outputs": [],
   "source": [
    "data.shape\n",
    "data"
   ]
  },
  {
   "cell_type": "code",
   "execution_count": null,
   "id": "a3de7d7f-dd29-4fbf-8f78-38907f76ad7d",
   "metadata": {},
   "outputs": [],
   "source": [
    "x=data[:,:-1]\n",
    "x.shape"
   ]
  },
  {
   "cell_type": "code",
   "execution_count": null,
   "id": "2f7f39c8-cfcf-4f37-bd75-a8f0507d8bb9",
   "metadata": {},
   "outputs": [],
   "source": [
    "y=data[:,-1]\n",
    "y.shape"
   ]
  },
  {
   "cell_type": "code",
   "execution_count": null,
   "id": "f2c463c9-4480-4d81-a07c-be0de4fac258",
   "metadata": {},
   "outputs": [],
   "source": [
    "X = np.concatenate((np.full((200,1),1), data[:,:-1]), axis=1)"
   ]
  },
  {
   "cell_type": "code",
   "execution_count": null,
   "id": "27de2390-ff82-4263-9d5e-75b4fae1d8e2",
   "metadata": {},
   "outputs": [],
   "source": [
    "X"
   ]
  },
  {
   "cell_type": "code",
   "execution_count": null,
   "id": "481974fb-3e47-4c23-a8e3-acc168560fd0",
   "metadata": {},
   "outputs": [],
   "source": [
    "y=data[:,-1]\n",
    "y.shape"
   ]
  },
  {
   "cell_type": "code",
   "execution_count": null,
   "id": "4f7dd157-74d5-4fea-88a8-36e20c3f1162",
   "metadata": {},
   "outputs": [],
   "source": [
    "beta_hat = np.linalg.inv(X.T@X)@X.T@y\n",
    "beta_hat"
   ]
  },
  {
   "cell_type": "code",
   "execution_count": null,
   "id": "df36f2cf-9123-4d16-b2af-60c3815fe1ad",
   "metadata": {},
   "outputs": [],
   "source": [
    "def lin_reg(data):\n",
    "    X = np.concatenate((np.full((data.shape[0],1),1), data[:,:-1]), axis=1)\n",
    "    y=data[:,-1]\n",
    "    beta_hat = np.linalg.inv(X.T@X)@X.T@y\n",
    "    return beta_hat"
   ]
  },
  {
   "cell_type": "code",
   "execution_count": null,
   "id": "f9938943-73d4-491a-b3fa-ad69700a23c8",
   "metadata": {},
   "outputs": [],
   "source": [
    "lin_reg(data)"
   ]
  },
  {
   "cell_type": "markdown",
   "id": "14c59174-7d8c-4ef1-ba41-e3eb863c0e13",
   "metadata": {},
   "source": [
    "#### Linear Regression in sklearn"
   ]
  },
  {
   "cell_type": "code",
   "execution_count": null,
   "id": "66dfb850-b366-4ec1-aa77-41c79d384c8a",
   "metadata": {},
   "outputs": [],
   "source": [
    "#sklearn\n",
    "from sklearn.linear_model import LinearRegression\n",
    "reg = LinearRegression()\n",
    "x=data[:,:3]\n",
    "y=data[:,-1]\n",
    "reg.fit(x, y)"
   ]
  },
  {
   "cell_type": "code",
   "execution_count": null,
   "id": "0e8f4ddc-632f-4a6e-9a37-25178ef07e7d",
   "metadata": {},
   "outputs": [],
   "source": [
    "reg.intercept_"
   ]
  },
  {
   "cell_type": "code",
   "execution_count": null,
   "id": "67074c1e-3deb-46b2-a63c-8b0fe8b158d2",
   "metadata": {},
   "outputs": [],
   "source": [
    "reg.coef_"
   ]
  }
 ],
 "metadata": {
  "kernelspec": {
   "display_name": "Python 3 (ipykernel)",
   "language": "python",
   "name": "python3"
  },
  "language_info": {
   "codemirror_mode": {
    "name": "ipython",
    "version": 3
   },
   "file_extension": ".py",
   "mimetype": "text/x-python",
   "name": "python",
   "nbconvert_exporter": "python",
   "pygments_lexer": "ipython3",
   "version": "3.9.7"
  }
 },
 "nbformat": 4,
 "nbformat_minor": 5
}
