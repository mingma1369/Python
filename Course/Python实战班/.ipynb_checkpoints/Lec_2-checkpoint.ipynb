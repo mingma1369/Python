{
 "cells": [
  {
   "cell_type": "markdown",
   "id": "ccd06a08-1ff3-4be5-b332-7cd49bf5ef0f",
   "metadata": {},
   "source": [
    "# Lec 2- List, Set, Dictionary, Tuple"
   ]
  },
  {
   "cell_type": "code",
   "execution_count": 8,
   "id": "99f63337-07a7-4825-a019-6b91e4d2a2c2",
   "metadata": {
    "tags": []
   },
   "outputs": [],
   "source": [
    "from IPython.core.interactiveshell import InteractiveShell\n",
    "InteractiveShell.ast_node_interactivity = 'all'\n",
    "# 'all, last, last_expr(default), none, last_expr_or_assign'"
   ]
  },
  {
   "cell_type": "markdown",
   "id": "536a4e09-8581-4095-a6cf-b176fcfe296c",
   "metadata": {},
   "source": [
    "## 1. Data types other than Int, Float, Boolean, String"
   ]
  },
  {
   "cell_type": "code",
   "execution_count": null,
   "id": "8615fa5a-4bea-4a01-b637-ea42d23b4de6",
   "metadata": {},
   "outputs": [],
   "source": [
    "# Introduction to Data Types\n",
    "\n",
    "\n",
    "str_eg = 'this is a string'\n",
    "\n",
    "fruits = [\"apple\", \"mango\", \"orange\"] #list\n",
    "numbers = (1, 2, 3) #tuple\n",
    "alphabets = {'a':'apple', 'b':'ball', 'c':'cat'} #dictionary\n",
    "# 'a', key; 'apple', value; key-value pair\n",
    "\n",
    "vowels = {'a', 'e', 'i' , 'o', 'u'} #set, no order no duplicate\n",
    "\n",
    "print(str_eg)\n",
    "print(fruits)\n",
    "print(numbers)\n",
    "print(alphabets)\n",
    "print(vowels)"
   ]
  },
  {
   "cell_type": "markdown",
   "id": "c2d8a249-e982-4ef1-b212-1c39bc8bfed5",
   "metadata": {},
   "source": [
    "## 2 List"
   ]
  },
  {
   "cell_type": "code",
   "execution_count": 9,
   "id": "9185efc1-cb8d-4edb-b9fc-9bf86e07de05",
   "metadata": {},
   "outputs": [
    {
     "data": {
      "text/plain": [
       "[1, 2.2, 'python']"
      ]
     },
     "execution_count": 9,
     "metadata": {},
     "output_type": "execute_result"
    },
    {
     "data": {
      "text/plain": [
       "[1, 2, 3, 4, 5, 6]"
      ]
     },
     "execution_count": 9,
     "metadata": {},
     "output_type": "execute_result"
    }
   ],
   "source": [
    "a = [1, 2.2, 'python']\n",
    "\n",
    "a\n",
    "\n",
    "\n"
   ]
  },
  {
   "cell_type": "code",
   "execution_count": 1,
   "id": "241a1914-692c-4183-aed3-f37b6654c71a",
   "metadata": {},
   "outputs": [
    {
     "data": {
      "text/plain": [
       "'strawberry ice cream'"
      ]
     },
     "execution_count": 1,
     "metadata": {},
     "output_type": "execute_result"
    }
   ],
   "source": [
    "fruit_list = ['banana', 'pear', 'strawberry', 'strawberry ice cream']\n",
    "\n",
    "fruit_list[3]\n"
   ]
  },
  {
   "cell_type": "markdown",
   "id": "c816e9ae-2b1a-44d3-ba01-5fb4416aafd1",
   "metadata": {
    "tags": []
   },
   "source": [
    "## 2.1 List-建立"
   ]
  },
  {
   "cell_type": "code",
   "execution_count": null,
   "id": "07c7acd4-d452-4f26-9988-99c03d0c17c1",
   "metadata": {},
   "outputs": [],
   "source": [
    "# empty list\n",
    "\n",
    "my_list = []\n",
    "\n",
    "# list of integers\n",
    "my_list = [1, 2, 3]\n",
    "\n",
    "# list with mixed datatypes\n",
    "my_list = [1, \"Hello\", 3.4]"
   ]
  },
  {
   "cell_type": "code",
   "execution_count": 17,
   "id": "261fd524-0a3c-4e71-8805-6352760b9f11",
   "metadata": {},
   "outputs": [
    {
     "data": {
      "text/plain": [
       "[1, 2, 3]"
      ]
     },
     "execution_count": 17,
     "metadata": {},
     "output_type": "execute_result"
    },
    {
     "data": {
      "text/plain": [
       "[1, 2, 3]"
      ]
     },
     "execution_count": 17,
     "metadata": {},
     "output_type": "execute_result"
    },
    {
     "data": {
      "text/plain": [
       "[1, 2, 3]"
      ]
     },
     "execution_count": 17,
     "metadata": {},
     "output_type": "execute_result"
    }
   ],
   "source": [
    "[1, 2, 3]\n",
    "[1, 2,      3]\n",
    "[1,    2, 3]"
   ]
  },
  {
   "cell_type": "code",
   "execution_count": 6,
   "id": "ba1038d5-a274-48b8-b5a3-070ddf775385",
   "metadata": {},
   "outputs": [
    {
     "data": {
      "text/plain": [
       "['banana', 20]"
      ]
     },
     "execution_count": 6,
     "metadata": {},
     "output_type": "execute_result"
    },
    {
     "data": {
      "text/plain": [
       "'pineapple'"
      ]
     },
     "execution_count": 6,
     "metadata": {},
     "output_type": "execute_result"
    }
   ],
   "source": [
    "# mixed list\n",
    "\n",
    "number_list = [10, 20, 30, 40]\n",
    "fruit_list = ['banana', 'pear', 'strawberry', 'strawberry ice cream']\n",
    "mixed_list = [10, 38.88, 'pineapple',['banana', 20]]\n",
    "\n",
    "mixed_list[3]\n",
    "mixed_list[2]\n"
   ]
  },
  {
   "cell_type": "code",
   "execution_count": null,
   "id": "8f5789f9-9a4b-4767-b69d-d117fdb9db2f",
   "metadata": {},
   "outputs": [],
   "source": [
    "\n",
    "\n",
    "\n",
    "\n",
    "[1, 2, 3]\n",
    "[1, 2, 3]\n",
    "[1, 2,      3]\n",
    "[1,    2, 3]\n",
    "\n",
    "[1, 2, 3] == [1, 2, 3]\n",
    "[1, 2, 3] is [1, 2, 3]\n",
    "a = [1, 2, 3]\n",
    "b = [1, 2, 3]\n",
    "a == b  # true\n",
    "a is b  # false\n",
    "\n",
    "a = [1,    2, 3]\n",
    "b = [1, 2, 3]\n",
    "a == b  # true\n",
    "a is b\n",
    "\n",
    "a = [1,    2, 3]\n",
    "c = a  # true\n",
    "a is c\n",
    "\n",
    "'1,2,3'\n",
    "'1,2, 3'\n",
    "'1, 2,      3'\n",
    "'1,    2, 3'\n",
    "\n",
    "# %%\n",
    "\n",
    "a = [1, 'hi', 1.0, True]\n",
    "b = [1, 'hi', 1.0,      True]\n",
    "c = a\n",
    "a[1]\n",
    "b[1]\n",
    "c[1]\n",
    "\n",
    "a[1] = 2\n",
    "a[1]\n",
    "b[1]\n",
    "c[1]\n",
    "\n",
    "temp = a\n",
    "x = temp\n",
    "x = x*2  # create a new address\n",
    "\n",
    "\n",
    "e = \"1, 'hi', 1.0, True\"\n",
    "f = \"1, 'hi', 1.0,      True\"\n",
    "\n",
    "\n",
    "\n",
    "\n",
    "# %%\n",
    "\n",
    "list1, list2 = [123, 'xyz', 'zara', 'abc'], [456, 700, 200]\n",
    "print(\"min value element : \", min(list1))  # error\n",
    "print(\"min value element : \", min(list2))\n",
    "\n",
    "\n",
    "\n",
    "\n",
    "\n",
    "# display the last value in the list\n",
    "print(guests[-1])\n",
    "\n",
    "\n",
    "\n"
   ]
  },
  {
   "cell_type": "markdown",
   "id": "ba4f5b42-9e2d-4a9c-b254-f45cc39f7802",
   "metadata": {},
   "source": [
    "### 2.1.1 List Operations"
   ]
  },
  {
   "cell_type": "code",
   "execution_count": 2,
   "id": "7c109832-8bbc-4e91-a72f-bc68c1070cc0",
   "metadata": {},
   "outputs": [
    {
     "data": {
      "text/plain": [
       "[1, 2, 3, 4, 5, 6]"
      ]
     },
     "execution_count": 2,
     "metadata": {},
     "output_type": "execute_result"
    }
   ],
   "source": [
    "x = [1, 2, 3]\n",
    "y = [4, 5, 6]\n",
    "\n",
    "z= x + y\n",
    "\n",
    "z"
   ]
  },
  {
   "cell_type": "code",
   "execution_count": 4,
   "id": "0714f7fa-a45b-40ae-a6bb-1fed20864159",
   "metadata": {},
   "outputs": [
    {
     "data": {
      "text/plain": [
       "[1, 2, 3, 1, 2, 3, 1, 2, 3]"
      ]
     },
     "execution_count": 4,
     "metadata": {},
     "output_type": "execute_result"
    }
   ],
   "source": [
    "[0] * 4\n",
    "\n",
    "[1, 2, 3] * 3"
   ]
  },
  {
   "cell_type": "code",
   "execution_count": 6,
   "id": "03425e6b-70d5-491f-a3ae-10e6cee92e92",
   "metadata": {},
   "outputs": [
    {
     "data": {
      "text/plain": [
       "True"
      ]
     },
     "execution_count": 6,
     "metadata": {},
     "output_type": "execute_result"
    }
   ],
   "source": [
    "len(x)\n",
    "\n",
    "3 in x"
   ]
  },
  {
   "cell_type": "code",
   "execution_count": null,
   "id": "05389e0f-0676-4bf8-ba83-ec31e9814741",
   "metadata": {},
   "outputs": [],
   "source": []
  },
  {
   "cell_type": "code",
   "execution_count": null,
   "id": "0f4ba6e9-f803-4557-b411-40d54437f22d",
   "metadata": {},
   "outputs": [],
   "source": []
  },
  {
   "cell_type": "markdown",
   "id": "3bf2175e-4a2e-4c32-8157-fa07045bb9e5",
   "metadata": {
    "tags": []
   },
   "source": [
    "## 2.2 List-查"
   ]
  },
  {
   "cell_type": "code",
   "execution_count": 9,
   "id": "3cabbd29-561b-4d73-85df-0acefec086e3",
   "metadata": {},
   "outputs": [
    {
     "data": {
      "text/plain": [
       "['b', 'c']"
      ]
     },
     "execution_count": 9,
     "metadata": {},
     "output_type": "execute_result"
    },
    {
     "data": {
      "text/plain": [
       "['a', 'b', 'c', 'd']"
      ]
     },
     "execution_count": 9,
     "metadata": {},
     "output_type": "execute_result"
    },
    {
     "data": {
      "text/plain": [
       "['d', 'e', 'f']"
      ]
     },
     "execution_count": 9,
     "metadata": {},
     "output_type": "execute_result"
    }
   ],
   "source": [
    "t = ['a', 'b', 'c', 'd', 'e', 'f'] \n",
    "\n",
    "t[1:3]\n",
    "t[:4]\n",
    "t[3:]\n",
    "t[:]\n"
   ]
  },
  {
   "cell_type": "code",
   "execution_count": null,
   "id": "cb78d06d-0023-4cf8-8ebc-88b3d98f0322",
   "metadata": {},
   "outputs": [],
   "source": [
    "number_list = [10, 20, 30, 40]\n",
    "number_list[0]\n",
    "number_list[1]\n",
    "number_list[1:]\n",
    "number_list[1:2]\n",
    "number_list[1:3]\n",
    "number_list[::2]\n",
    "number_list[1::2]\n",
    "\n",
    "guests = ['Christopher', 'Susan', 'Bill', 'Satya']\n",
    "\n",
    "# print the last entry in the list\n",
    "print(guests[-1])\n",
    "\n",
    "# print the second last entry in the list\n",
    "print(guests[-2])\n"
   ]
  },
  {
   "cell_type": "code",
   "execution_count": 11,
   "id": "073364d2-6b7a-4a50-8f24-efc287d88e44",
   "metadata": {},
   "outputs": [
    {
     "name": "stdout",
     "output_type": "stream",
     "text": [
      "a\n",
      "5\n"
     ]
    }
   ],
   "source": [
    "# Nested List\n",
    "n_list = [\"Happy\", [2,0,1,5]]\n",
    "\n",
    "# Nested indexing\n",
    "\n",
    "print(n_list[0][1])\n",
    "print(n_list[1][3])\n"
   ]
  },
  {
   "cell_type": "code",
   "execution_count": null,
   "id": "75400e43-a179-4087-bc05-42404549b9ef",
   "metadata": {},
   "outputs": [],
   "source": [
    "\n",
    "\n",
    "my_list = [[1, 2, 3], [4, 5, 6], [7, 8, 9]]\n",
    "\n",
    "my_list[1][1]\n",
    "\n",
    "my_list[2][2]\n",
    "\n",
    "my_list = [[[0, 0, 1], 2, 3], [4, 5, 6], [7, 8, 9]]\n",
    "\n",
    "\n",
    "my_list[0][0][1]"
   ]
  },
  {
   "cell_type": "code",
   "execution_count": null,
   "id": "ffbfbcf8-5849-40a3-b097-6c0aeff38760",
   "metadata": {},
   "outputs": [],
   "source": []
  },
  {
   "cell_type": "code",
   "execution_count": null,
   "id": "d641cf63-8cd2-4b35-8c73-e2b52bf8f223",
   "metadata": {},
   "outputs": [],
   "source": []
  },
  {
   "cell_type": "markdown",
   "id": "7d08d5b3-b3b0-4a0a-92d6-8cda13a43bf4",
   "metadata": {},
   "source": [
    "## 2.3 List-增"
   ]
  },
  {
   "cell_type": "code",
   "execution_count": 12,
   "id": "5319f33d-932e-4fa3-abf2-dae5b2492687",
   "metadata": {},
   "outputs": [
    {
     "name": "stdout",
     "output_type": "stream",
     "text": [
      "Steve\n"
     ]
    }
   ],
   "source": [
    "# append()\n",
    "\n",
    "guests = ['Christopher', 'Susan', 'Bill', 'Satya']\n",
    "\n",
    "# add a new value to the end of the list\n",
    "guests.append('Steve')\n",
    "\n",
    "#display the last value in the list\n",
    "print(guests[-1])\n"
   ]
  },
  {
   "cell_type": "code",
   "execution_count": 13,
   "id": "a5bbc88a-aaed-4903-bc25-33d829b16272",
   "metadata": {},
   "outputs": [
    {
     "data": {
      "text/plain": [
       "['a', 'b', 'c', 'd', 'e']"
      ]
     },
     "execution_count": 13,
     "metadata": {},
     "output_type": "execute_result"
    }
   ],
   "source": [
    "# extend()\n",
    "\n",
    "t1 = ['a', 'b', 'c']  # recommended over +\n",
    "t2 = ['d', 'e']\n",
    "t1.extend(t2)\n",
    "t1"
   ]
  },
  {
   "cell_type": "code",
   "execution_count": null,
   "id": "bb1df9fc-b467-4207-8791-dac556db628a",
   "metadata": {},
   "outputs": [],
   "source": [
    "# %% insert\n",
    "\n",
    "aList = [123, 'xyz', 'zara', 'abc']\n",
    "aList.insert(3, 2009)\n",
    "print(\"Final List : \", aList)"
   ]
  },
  {
   "cell_type": "markdown",
   "id": "1c8f90c1-118f-4543-9afc-20138738da72",
   "metadata": {},
   "source": [
    "## 2.4 List-改"
   ]
  },
  {
   "cell_type": "code",
   "execution_count": 10,
   "id": "bc192e36-0986-4616-8a85-c5d48251e4a8",
   "metadata": {},
   "outputs": [
    {
     "data": {
      "text/plain": [
       "['a', 'x', 'y', 'd', 'e', 'f']"
      ]
     },
     "execution_count": 10,
     "metadata": {},
     "output_type": "execute_result"
    }
   ],
   "source": [
    "t = ['a', 'b', 'c', 'd', 'e', 'f'] \n",
    "\n",
    "t[1:3] = ['x', 'y']\n",
    "t"
   ]
  },
  {
   "cell_type": "code",
   "execution_count": 14,
   "id": "545aae77-d471-49cd-8982-1053ebf778e2",
   "metadata": {},
   "outputs": [
    {
     "data": {
      "text/plain": [
       "[10, 38.88, 100, ['banana', 20]]"
      ]
     },
     "execution_count": 14,
     "metadata": {},
     "output_type": "execute_result"
    },
    {
     "data": {
      "text/plain": [
       "[10, 'apple', 100, ['banana', 20]]"
      ]
     },
     "execution_count": 14,
     "metadata": {},
     "output_type": "execute_result"
    }
   ],
   "source": [
    "mixed_list = [10, 38.88, 'pineapple',['banana',20]]\n",
    "mixed_list[2] = 100\n",
    "mixed_list\n",
    "\n",
    "\n",
    "mixed_list [1] = 'apple'\n",
    "mixed_list\n",
    "\n",
    "\n"
   ]
  },
  {
   "cell_type": "markdown",
   "id": "a2b842e6-f59c-4a13-88ec-9cfab175d138",
   "metadata": {},
   "source": [
    "## 2.5 List-删"
   ]
  },
  {
   "cell_type": "code",
   "execution_count": 16,
   "id": "506f415a-74b3-4b4e-8cb0-f29231c22928",
   "metadata": {},
   "outputs": [
    {
     "data": {
      "text/plain": [
       "['a', 'c']"
      ]
     },
     "execution_count": 16,
     "metadata": {},
     "output_type": "execute_result"
    },
    {
     "data": {
      "text/plain": [
       "'b'"
      ]
     },
     "execution_count": 16,
     "metadata": {},
     "output_type": "execute_result"
    }
   ],
   "source": [
    "# pop()\n",
    "\n",
    "t = ['a', 'b', 'c']\n",
    "x = t.pop(1)\n",
    "\n",
    "t\n",
    "x\n"
   ]
  },
  {
   "cell_type": "code",
   "execution_count": 18,
   "id": "ba6ebd16-9adc-4858-826a-61f4cd7488ae",
   "metadata": {},
   "outputs": [
    {
     "data": {
      "text/plain": [
       "['a', 'c']"
      ]
     },
     "execution_count": 18,
     "metadata": {},
     "output_type": "execute_result"
    }
   ],
   "source": [
    "# remove()\n",
    "\n",
    "t = ['a', 'b', 'c']\n",
    "t.remove('b') \n",
    "t\n"
   ]
  },
  {
   "cell_type": "code",
   "execution_count": null,
   "id": "79e35ddf-e6d5-4678-8226-cd9631ea68da",
   "metadata": {},
   "outputs": [],
   "source": [
    "# remove()\n",
    "\n",
    "t = ['a', 'b', 'c']\n",
    "t.remove('b')\n",
    "\n",
    "\n",
    "guests = ['Christopher', 'Susan', 'Bill', 'Satya']\n",
    "\n",
    "# add a new value to the end of the list\n",
    "guests.remove('Christopher')\n",
    "\n",
    "# display the last value in the list\n",
    "print(guests[0])"
   ]
  },
  {
   "cell_type": "code",
   "execution_count": null,
   "id": "e2d030b8-d9d2-4fe6-810c-f402eaebf5f4",
   "metadata": {},
   "outputs": [],
   "source": [
    "guests = ['Christopher','Susan','Bill','Satya']\n",
    "\n",
    "#add a new value to the end of the list \n",
    "guests.remove('Christopher')\n",
    "\n",
    "#display the last value in the list\n",
    "print(guests[0])\n"
   ]
  },
  {
   "cell_type": "code",
   "execution_count": 19,
   "id": "18bc6481-c681-4973-9977-71af38d19773",
   "metadata": {},
   "outputs": [
    {
     "data": {
      "text/plain": [
       "['a', 'f']"
      ]
     },
     "execution_count": 19,
     "metadata": {},
     "output_type": "execute_result"
    }
   ],
   "source": [
    "# del()\n",
    "\n",
    "t = ['a', 'b', 'c', 'd', 'e', 'f']\n",
    "\n",
    "del t[1:5]\n",
    "\n",
    "t\n",
    "\n",
    "\n"
   ]
  },
  {
   "cell_type": "markdown",
   "id": "8892d006-11f2-4371-9406-c34c13a2f992",
   "metadata": {},
   "source": [
    "## 2.6 Other List related"
   ]
  },
  {
   "cell_type": "code",
   "execution_count": 23,
   "id": "784e82db-afef-474e-b88d-f48939076490",
   "metadata": {},
   "outputs": [
    {
     "data": {
      "text/plain": [
       "['abc', 'xyz', 'xyz', 'zara']"
      ]
     },
     "execution_count": 23,
     "metadata": {},
     "output_type": "execute_result"
    }
   ],
   "source": [
    "# sort()\n",
    "\n",
    "aList = ['xyz', 'zara', 'abc', 'xyz']\n",
    "aList.sort()\n",
    "\n",
    "aList\n"
   ]
  },
  {
   "cell_type": "code",
   "execution_count": 25,
   "id": "31294a21-12c4-4c3c-900b-20a3fc499b6d",
   "metadata": {},
   "outputs": [
    {
     "data": {
      "text/plain": [
       "['xyz', 'abc', 'zara', 'xyz', 123]"
      ]
     },
     "execution_count": 25,
     "metadata": {},
     "output_type": "execute_result"
    }
   ],
   "source": [
    "# reverse()\n",
    "\n",
    "aList = [123, 'xyz', 'zara', 'abc', 'xyz']\n",
    "aList.reverse()\n",
    "\n",
    "aList\n"
   ]
  },
  {
   "cell_type": "code",
   "execution_count": null,
   "id": "f257c61b-ce85-495e-9482-430d294a8a58",
   "metadata": {},
   "outputs": [],
   "source": [
    "# index()\n",
    "\n",
    "guests = ['Christopher', 'Susan', 'Bill', 'Satya']\n",
    "guests = ['Christopher', 'Susan', 'Bill', 'Satya', 'Bill', 'Bill']\n",
    "\n",
    "# this will return the index in the list\n",
    "# where the name Bill is found\n",
    "print(guests.index('Bill'))  # Find only the first\n",
    "aList = [123, 'xyz', 'zara', 'abc']\n",
    "print(\"Index for xyz : \", aList.index('xyz'))\n",
    "print(\"Index for zara : \", aList.index('zara'))"
   ]
  },
  {
   "cell_type": "code",
   "execution_count": 26,
   "id": "3ae18740-853f-42b1-bc5f-0fde3a86e07c",
   "metadata": {},
   "outputs": [
    {
     "name": "stdout",
     "output_type": "stream",
     "text": [
      "Hi James : your age is  16\n"
     ]
    }
   ],
   "source": [
    "names = ['Chris', 'James']\n",
    "ages = [18, 16]\n",
    "weights = [150, 170]\n",
    "\n",
    "James_index = names.index('James')\n",
    "print('Hi', names[James_index], ': your age is ', ages[James_index])"
   ]
  },
  {
   "cell_type": "code",
   "execution_count": 29,
   "id": "8449d293-b2b2-4415-9252-5149a737f1c1",
   "metadata": {},
   "outputs": [
    {
     "name": "stdout",
     "output_type": "stream",
     "text": [
      "Count for 123 :  2\n",
      "Count for 123 :  1\n"
     ]
    }
   ],
   "source": [
    "# count()\n",
    "\n",
    "aList = [123, 'xyz', 'zara', 'abc', 123]\n",
    "\n",
    "print (\"Count for 123 : \", aList.count(123))\n",
    "print (\"Count for 123 : \", aList.count('zara'))"
   ]
  },
  {
   "cell_type": "code",
   "execution_count": 32,
   "id": "a8823ad9-7121-4f29-840c-10240b76b4b5",
   "metadata": {},
   "outputs": [
    {
     "name": "stdout",
     "output_type": "stream",
     "text": [
      "min value element :  200\n"
     ]
    }
   ],
   "source": [
    "# min\n",
    "\n",
    "list1, list2 = [123, 'xyz', 'zara', 'abc'], [456, 700,200]\n",
    "\n",
    "#print (\"min value element : \", min(list1))\n",
    "print (\"min value element : \", min(list2))\n"
   ]
  },
  {
   "cell_type": "code",
   "execution_count": 33,
   "id": "7a99a1c9-9b70-4c19-b8a7-8f15fa3bbe72",
   "metadata": {},
   "outputs": [
    {
     "name": "stdout",
     "output_type": "stream",
     "text": [
      "min value element :  700\n"
     ]
    }
   ],
   "source": [
    "# max\n",
    "\n",
    "list1, list2 = [123, 'xyz', 'zara', 'abc'], [456, 700,200]\n",
    "\n",
    "#print (\"min value element : \", max(list1))\n",
    "print (\"min value element : \", max(list2))"
   ]
  },
  {
   "cell_type": "code",
   "execution_count": 34,
   "id": "176a29ae-b1b7-464c-b9b5-eae52c1c4a55",
   "metadata": {},
   "outputs": [
    {
     "data": {
      "text/plain": [
       "['b', 'a', 'n', 'a', 'n', 'a']"
      ]
     },
     "execution_count": 34,
     "metadata": {},
     "output_type": "execute_result"
    }
   ],
   "source": [
    "# list()\n",
    "\n",
    "s = 'banana'\n",
    "t = list(s) \n",
    "\n",
    "t\n"
   ]
  },
  {
   "cell_type": "code",
   "execution_count": 37,
   "id": "5f16d962-2d1a-414c-8005-313f7ce0fc65",
   "metadata": {},
   "outputs": [
    {
     "data": {
      "text/plain": [
       "['Eat', 'more', 'bananas,', 'will', 'u?']"
      ]
     },
     "execution_count": 37,
     "metadata": {},
     "output_type": "execute_result"
    },
    {
     "data": {
      "text/plain": [
       "['bananas', 'are', 'good', 'for', 'you']"
      ]
     },
     "execution_count": 37,
     "metadata": {},
     "output_type": "execute_result"
    },
    {
     "data": {
      "text/plain": [
       "['18', '16', '15']"
      ]
     },
     "execution_count": 37,
     "metadata": {},
     "output_type": "execute_result"
    }
   ],
   "source": [
    "# %% split\n",
    "\n",
    "s = 'Eat more bananas, will u?'\n",
    "t = s.split()\n",
    "t\n",
    "\n",
    "\n",
    "s = 'bananas-are-good-for-you'\n",
    "delimiter = '-'\n",
    "t = s.split(delimiter)\n",
    "t\n",
    "\n",
    "\n",
    "array_num = '18_16_15'\n",
    "delimiter = '_'\n",
    "t = array_num.split(delimiter)\n",
    "t"
   ]
  },
  {
   "cell_type": "code",
   "execution_count": 39,
   "id": "ee2894b5-7cbf-4a78-ade6-e739ac6c36a6",
   "metadata": {},
   "outputs": [
    {
     "data": {
      "text/plain": [
       "'bananas are good for you'"
      ]
     },
     "execution_count": 39,
     "metadata": {},
     "output_type": "execute_result"
    }
   ],
   "source": [
    "# %% join\n",
    "\n",
    "t = ['bananas', 'are', 'good', 'for', 'you']\n",
    "delimiter = ' '\n",
    "\n",
    "s = delimiter.join(t)\n",
    "s\n",
    "\n"
   ]
  },
  {
   "cell_type": "markdown",
   "id": "fbccb264-64a7-4134-9e79-ea68ddc3ae52",
   "metadata": {},
   "source": [
    "## 2.7 Aliasing"
   ]
  },
  {
   "cell_type": "code",
   "execution_count": 40,
   "id": "34b2ef3f-f1a7-4440-a2fa-6f2b901cbb71",
   "metadata": {},
   "outputs": [],
   "source": [
    "# %% Aliasing\n",
    "\n",
    "a = ['1', 1,1.0]\n",
    "\n",
    "temp = a\n",
    "\n",
    "temp = []\n",
    "\n",
    "# a unchanged, temp []\n",
    "\n",
    "a = ['1', 1,1.0]\n",
    "\n",
    "temp = a\n",
    "\n",
    "temp [1] = True  # a, temp, same object\n",
    "\n",
    "\n",
    "a = ['1', 1,1.0]\n",
    "\n",
    "temp = a\n",
    "\n",
    "temp = temp*2\n",
    "\n",
    "# from aliasing to cloning\n",
    "\n",
    "\n",
    "a = ['1', 1,1.0]\n",
    "\n",
    "temp = a[:]  # cloning\n",
    "\n",
    "temp [1] = True  # a, temp, same object"
   ]
  },
  {
   "cell_type": "code",
   "execution_count": 3,
   "id": "cffef243-2b2b-4d82-bd77-7c4e328e5ce8",
   "metadata": {},
   "outputs": [
    {
     "name": "stdout",
     "output_type": "stream",
     "text": [
      "True\n",
      "False\n"
     ]
    }
   ],
   "source": [
    "#Aliasing and Cloning\n",
    "\n",
    "a = [81, 82, 83]\n",
    "b = [81, 82, 83]\n",
    "\n",
    "print(a==b)\n",
    "print(a is b)"
   ]
  },
  {
   "cell_type": "code",
   "execution_count": 6,
   "id": "0f4bb548-1478-4fa6-85f5-8a6aaba96926",
   "metadata": {},
   "outputs": [
    {
     "name": "stdout",
     "output_type": "stream",
     "text": [
      "True\n",
      "True\n",
      "[4, 2, 3]\n",
      "[4, 2, 3]\n"
     ]
    }
   ],
   "source": [
    "a = [1, 2, 3]\n",
    "b = a\n",
    "\n",
    "print(a==b)\n",
    "print(a is b)\n",
    "\n",
    "b[0] = 4\n",
    "print(a)\n",
    "print(b)"
   ]
  },
  {
   "cell_type": "code",
   "execution_count": 7,
   "id": "42f33367-9e10-4580-873d-ce6f6658dc38",
   "metadata": {},
   "outputs": [
    {
     "name": "stdout",
     "output_type": "stream",
     "text": [
      "True\n",
      "False\n",
      "[81, 82, 83]\n",
      "[5, 82, 83]\n"
     ]
    }
   ],
   "source": [
    "a = [81, 82, 83]\n",
    "b = a[:]\t# make a clone using slice\n",
    "\n",
    "print(a==b)\n",
    "print(a is b)\n",
    "\n",
    "b[0] = 5\n",
    "print(a) \n",
    "print(b) "
   ]
  },
  {
   "cell_type": "markdown",
   "id": "827ca485-4664-4fa3-a248-560ca5eee065",
   "metadata": {},
   "source": [
    "## 3. Set"
   ]
  },
  {
   "cell_type": "code",
   "execution_count": 43,
   "id": "abebc536-5406-4e15-8988-bc70c9de0f14",
   "metadata": {},
   "outputs": [
    {
     "name": "stdout",
     "output_type": "stream",
     "text": [
      "a =  {1, 2, 3, 4, 5}\n",
      "<class 'set'>\n"
     ]
    },
    {
     "data": {
      "text/plain": [
       "{1, 2, 3}"
      ]
     },
     "execution_count": 43,
     "metadata": {},
     "output_type": "execute_result"
    }
   ],
   "source": [
    "a = {5,2,3,1,4} # printing set variable \n",
    "\n",
    "print(\"a = \", a)\n",
    "print(type(a))\n",
    "\n",
    "a = {1,2,2,3,3,3}\n",
    "a\n",
    "\n"
   ]
  },
  {
   "cell_type": "code",
   "execution_count": 45,
   "id": "128a7ab9-0947-4fba-95b1-82f12d0df7a4",
   "metadata": {},
   "outputs": [
    {
     "name": "stdout",
     "output_type": "stream",
     "text": [
      "{1, 2, 3, 4}\n",
      "{1, 2, 3}\n"
     ]
    }
   ],
   "source": [
    "# Every element is unique\n",
    "\n",
    "my_set = {1,2,3,4,3,2} \n",
    "print(my_set)\n",
    "\n",
    "my_set = set([1,2,3,2]) \n",
    "print(my_set)\n"
   ]
  },
  {
   "cell_type": "markdown",
   "id": "bb39b943-8505-4ba0-be9e-11738b8bbc23",
   "metadata": {},
   "source": [
    "## 3.1 Set建立"
   ]
  },
  {
   "cell_type": "code",
   "execution_count": 44,
   "id": "532910d4-08d5-408b-aafd-bc1bcd08650d",
   "metadata": {},
   "outputs": [
    {
     "name": "stdout",
     "output_type": "stream",
     "text": [
      "{1, 2, 3}\n",
      "{1.0, (1, 2, 3), 'Hello'}\n",
      "{'s', 't', 'd', 'i', 'e', 'A', 'w', ' ', 'r'}\n"
     ]
    }
   ],
   "source": [
    "# set of integers \n",
    "my_set = {1, 2, 3} \n",
    "print(my_set)\n",
    "\n",
    "# set of mixed datatypes\n",
    "my_mixed_set = {1.0, \"Hello\", (1, 2, 3)} \n",
    "print(my_mixed_set)\n",
    "\n",
    "weird_set = set(\"A weird set\") \n",
    "print(weird_set)\n"
   ]
  },
  {
   "cell_type": "code",
   "execution_count": 48,
   "id": "c3d1f32d-d7c7-4ff4-9f19-4b244cd81678",
   "metadata": {},
   "outputs": [
    {
     "name": "stdout",
     "output_type": "stream",
     "text": [
      "<class 'dict'>\n",
      "<class 'set'>\n"
     ]
    }
   ],
   "source": [
    "# initialize a with {} \n",
    "a = {}\n",
    "# check data type of a\n",
    "print(type(a))\n",
    "\n",
    "\n",
    "# initialize a with set()\n",
    "a= set()\n",
    "# check data type of a\n",
    "print(type(a))"
   ]
  },
  {
   "cell_type": "markdown",
   "id": "5fb7db5d-795b-4f51-b8fa-371b77f257d1",
   "metadata": {},
   "source": [
    "## 3.2 Set-查"
   ]
  },
  {
   "cell_type": "code",
   "execution_count": 50,
   "id": "67577bd5-4723-4c1a-8a68-7fbade53233a",
   "metadata": {},
   "outputs": [
    {
     "name": "stdout",
     "output_type": "stream",
     "text": [
      "{1, 3}\n"
     ]
    },
    {
     "ename": "TypeError",
     "evalue": "'set' object is not callable",
     "output_type": "error",
     "traceback": [
      "\u001b[0;31m---------------------------------------------------------------------------\u001b[0m",
      "\u001b[0;31mTypeError\u001b[0m                                 Traceback (most recent call last)",
      "\u001b[0;32m/var/folders/90/qwvkhjks3x3dzmgv1rlkbkyr0000gn/T/ipykernel_30637/3659549633.py\u001b[0m in \u001b[0;36m<module>\u001b[0;34m\u001b[0m\n\u001b[1;32m      5\u001b[0m \u001b[0;31m# if you uncomment the following line, you will get an error, no index for set # add an element\u001b[0m\u001b[0;34m\u001b[0m\u001b[0;34m\u001b[0m\u001b[0m\n\u001b[1;32m      6\u001b[0m \u001b[0;31m#my_set[0]\u001b[0m\u001b[0;34m\u001b[0m\u001b[0;34m\u001b[0m\u001b[0m\n\u001b[0;32m----> 7\u001b[0;31m \u001b[0mmy_set\u001b[0m\u001b[0;34m(\u001b[0m\u001b[0;36m0\u001b[0m\u001b[0;34m)\u001b[0m\u001b[0;34m\u001b[0m\u001b[0;34m\u001b[0m\u001b[0m\n\u001b[0m",
      "\u001b[0;31mTypeError\u001b[0m: 'set' object is not callable"
     ]
    }
   ],
   "source": [
    "# initialize my_set \n",
    "my_set = {1,3} \n",
    "print(my_set)\n",
    "\n",
    "# if you uncomment the following line, you will get an error, no index for set # add an element\n",
    "my_set[0] \n"
   ]
  },
  {
   "cell_type": "markdown",
   "id": "e763c1da-c87a-4475-a76c-5a15f17b694b",
   "metadata": {
    "tags": []
   },
   "source": [
    "## 3.3 Set-增"
   ]
  },
  {
   "cell_type": "code",
   "execution_count": 51,
   "id": "9582640c-81ff-4f73-a819-d9a5099cd4f8",
   "metadata": {},
   "outputs": [
    {
     "name": "stdout",
     "output_type": "stream",
     "text": [
      "{1, 3}\n",
      "{1, 2, 3}\n"
     ]
    }
   ],
   "source": [
    "# add()\n",
    "\n",
    "my_set = {1,3} \n",
    "print(my_set)\n",
    "\n",
    "my_set.add(2) \n",
    "\n",
    "# Output: {1, 2, 3} \n",
    "print(my_set)\n"
   ]
  },
  {
   "cell_type": "code",
   "execution_count": 52,
   "id": "d7eebdbe-7af2-469a-9bba-488acb581b26",
   "metadata": {},
   "outputs": [
    {
     "name": "stdout",
     "output_type": "stream",
     "text": [
      "{1, 2, 3, 4}\n",
      "{1, 2, 3, 4, 5, 6, 8}\n"
     ]
    }
   ],
   "source": [
    "# add multiple elements \n",
    "\n",
    "my_set.update([2,3,4]) \n",
    "print(my_set)\n",
    "\n",
    "\n",
    "# add list and set\n",
    "my_set.update([4,5], {1,6,8}) \n",
    "print(my_set)\n"
   ]
  },
  {
   "cell_type": "markdown",
   "id": "c614fa95-cb1d-45f3-8052-5131701e7b16",
   "metadata": {},
   "source": [
    "## 3.4 Set-改"
   ]
  },
  {
   "cell_type": "markdown",
   "id": "ac24b98b-8036-439d-8454-ce8eb56ae7db",
   "metadata": {},
   "source": [
    "## 3.5 Set-删"
   ]
  },
  {
   "cell_type": "code",
   "execution_count": 54,
   "id": "9548fe6c-872e-4c56-85c6-9cc2956b93ad",
   "metadata": {},
   "outputs": [
    {
     "name": "stdout",
     "output_type": "stream",
     "text": [
      "{1, 3, 4, 5, 6}\n",
      "{1, 3, 5, 6}\n",
      "{1, 3, 5}\n",
      "{1, 3, 5}\n"
     ]
    }
   ],
   "source": [
    "# initialize my_set\n",
    "my_set = {1, 3, 4, 5, 6} \n",
    "print(my_set)\n",
    "\n",
    "# discard an element\n",
    "my_set.discard(4) \n",
    "print(my_set)\n",
    "\n",
    "# remove an element\n",
    "my_set.remove(6) \n",
    "print(my_set)\n",
    "\n",
    "\n",
    "# discard an element\n",
    "# not present in my_set\n",
    "\n",
    "my_set.discard(2) \n",
    "print(my_set)"
   ]
  },
  {
   "cell_type": "code",
   "execution_count": 57,
   "id": "6cceebaf-31e7-485f-8c7a-affcb81ae34a",
   "metadata": {},
   "outputs": [
    {
     "name": "stdout",
     "output_type": "stream",
     "text": [
      "{'W', 'H', 'd', 'o', 'e', 'l', 'r'}\n",
      "W\n"
     ]
    }
   ],
   "source": [
    "# initialize my_set\n",
    "# Output: set of unique elements \n",
    "\n",
    "my_set = set(\"HelloWorld\") \n",
    "print(my_set)\n",
    "\n",
    "# pop an element randomly\n",
    "\n",
    "print(my_set.pop())"
   ]
  },
  {
   "cell_type": "code",
   "execution_count": 58,
   "id": "a21bd311-3b8a-45f0-bfc3-352355935a77",
   "metadata": {},
   "outputs": [
    {
     "data": {
      "text/plain": [
       "'H'"
      ]
     },
     "execution_count": 58,
     "metadata": {},
     "output_type": "execute_result"
    },
    {
     "name": "stdout",
     "output_type": "stream",
     "text": [
      "{'d', 'o', 'e', 'l', 'r'}\n",
      "set()\n"
     ]
    }
   ],
   "source": [
    "# pop another element\n",
    "\n",
    "my_set.pop() \n",
    "print(my_set)\n",
    "\n",
    "# clear my_set #Output: set() \n",
    "\n",
    "my_set.clear() \n",
    "print(my_set)"
   ]
  },
  {
   "cell_type": "markdown",
   "id": "71298139-7ab0-4796-9c05-c7536bd5d418",
   "metadata": {},
   "source": [
    "## 3.6 Set Operations"
   ]
  },
  {
   "cell_type": "code",
   "execution_count": null,
   "id": "29ce6528-ac2d-4594-addd-09308cbc9665",
   "metadata": {},
   "outputs": [],
   "source": [
    "# %% set operations\n",
    "\n",
    "A = {1, 2, 3, 4, 5};\n",
    "\n",
    "B = {4, 5, 6, 7, 8}\n",
    "# use | operator; Output: {1, 2, 3, 4, 5, 6, 7, 8}\n",
    "print(A | B)\n",
    "\n",
    "\n",
    "# initialize A and B\n",
    "A = {1, 2, 3, 4, 5}\n",
    "B = {4, 5, 6, 7, 8}\n",
    "\n",
    "# use & operator\n",
    "# Output: {4, 5}\n",
    "print(A & B)\n",
    "\n",
    "\n",
    "A = {1, 2, 3, 4, 5}\n",
    "B = {4, 5, 6, 7, 8}\n",
    "A - B\n",
    "B - A\n",
    "\n",
    "A & B"
   ]
  },
  {
   "cell_type": "markdown",
   "id": "e4bc9d29-724c-4774-a97a-75dcb91342e4",
   "metadata": {
    "tags": []
   },
   "source": [
    "## 3.7 Set- Other Methods"
   ]
  },
  {
   "cell_type": "code",
   "execution_count": null,
   "id": "707ad5b5-c9ad-4fbe-afee-84a00f09104c",
   "metadata": {},
   "outputs": [],
   "source": [
    "# initialize my_set my_set = set(\"apple\")\n",
    "\n",
    "# check if 'a' is present # Output: True\n",
    "print('a' in my_set)\n",
    "\n",
    "# check if 'p' is present # Output: False\n",
    "print('p' not in my_set)\n"
   ]
  },
  {
   "cell_type": "code",
   "execution_count": null,
   "id": "e5e35cbb-9d26-4dba-91c4-df914dc20324",
   "metadata": {},
   "outputs": [],
   "source": [
    "# initialize my_set my_set = set([\"apple\"]) print(my_set)\n",
    "# check if 'a' is present # Output: False\n",
    "print('a' in my_set)\n"
   ]
  },
  {
   "cell_type": "code",
   "execution_count": null,
   "id": "02675a0c-f154-4a74-b805-e13acc0feb19",
   "metadata": {},
   "outputs": [],
   "source": []
  },
  {
   "cell_type": "code",
   "execution_count": null,
   "id": "d99c8a35-5ecb-4278-a63c-14a8e95dbca9",
   "metadata": {},
   "outputs": [],
   "source": [
    "# %% Set\n",
    "\n",
    "# initialize my_set \n",
    "my_set = {1,3} \n",
    "print(my_set)\n",
    "\n",
    "# if you uncomment the following line, you will get an error, no index for set # add an element\n",
    "# my_set[0] \n",
    "\n",
    "my_set.add(2) # Output: {1, 2, 3} print(my_set)\n",
    "print(my_set)\n",
    "\n",
    "# add multiple elements # Output: {1, 2, 3, 4}\n",
    "my_set.update([2,3,4]) \n",
    "print(my_set)\n",
    "\n",
    "\n",
    "# add list and set\n",
    "# Output: {1, 2, 3, 4, 5, 6, 8}\n",
    "my_set.update([4,5], {1,6,8}) \n",
    "print(my_set)\n",
    "\n",
    "weird_set = set(\"A weird set\") \n",
    "print(weird_set)\n",
    "\n",
    "\n",
    "\n",
    "\n",
    "\n",
    "# initialize my_set\n",
    "my_set = {1, 3}\n",
    "print(my_set)\n",
    "# if you uncomment line 9,\n",
    "my_set[0]  # you will get an error, no index for set\n",
    "# add an element\n",
    "my_set.add(2)  # Output: {1, 2, 3}\n",
    "print(my_set)\n",
    "\n",
    "my_set = {1, 3.0, True, 'True',False}\n",
    "my_set = {3.0, True, 1, 'True',False} # ==\n",
    "\n",
    "my_set = {1, 3.0, True, 'True',False,0}\n",
    "\n",
    "my_set = {1}\n",
    "\n",
    "my_set = {1, 1.0} # no discrimination, 1 == 1.0 (True)\n",
    "\n",
    "my_set = {1, 3.0, True, 'True',False} \n",
    "\n",
    "my_set = {1, 3.0, True, 'True',0, False} \n",
    "\n",
    "our_set = {1, '1', False}\n",
    "\n",
    "our_set.add (True)  # ==\n",
    "\n",
    "our_set.add (0)\n",
    "\n",
    "\n",
    "my_set.add(frozenset([2, 3,4]))\n",
    "print(my_set)\n",
    "\n",
    "# %%\n",
    "\n",
    "\n",
    "\n",
    "\n",
    "\n",
    "\n",
    "\n",
    "# initialize my_set \n",
    "my_set = set(\"apple\") \n",
    "print(my_set)\n",
    "# check if 'a' is present # Output: False\n",
    "print('a' in my_set)\n",
    "\n"
   ]
  },
  {
   "cell_type": "markdown",
   "id": "ed59adf6-2705-4f6e-934f-83b27d5edd19",
   "metadata": {},
   "source": [
    "## 4. Dictionary"
   ]
  },
  {
   "cell_type": "code",
   "execution_count": null,
   "id": "6596cac4-23f2-489b-9edf-bfee620b2415",
   "metadata": {},
   "outputs": [],
   "source": [
    "\n",
    "# %% intro to dictionary\n",
    "\n",
    "eng2sp = {}\n",
    "eng2sp['one'] = 'uno'\n",
    "eng2sp['two'] = 'dos'\n",
    "eng2sp['three'] = 'tres'\n",
    "\n",
    "# %% dict\n",
    "\n",
    "# using dict()\n",
    "dict_eg = {1: 'apple', 2:'ball'}\n",
    "\n",
    "dict_eg = {}\n",
    "dict_eg['A'] = 'apple'\n",
    "dict_eg['B'] = 'ball'\n",
    "\n",
    "dict_eg = dict({1: 'apple', 2:'ball'})\n",
    "\n",
    "type(my_dict)\n",
    "# from sequence having each item as a pair\n",
    "my_dict = dict([(1, 'apple'), (2,'ball')])\n",
    "type(my_dict)\n",
    "\n",
    "dict_eg = {'Name': 'Zara', 'Age': 7, 'Class': 'First'}\n",
    "print(\"dict['Name']: \", dict_eg['Name'])\n",
    "print(\"dict['Age']: \", dict_eg['Age'])\n",
    "\n",
    "# %%\n",
    "\n",
    "dict_eg = {'Name': 'Zara', 'Age': 7, 'Class': 'First'}\n",
    "print(dict_eg)\n",
    "dict_eg['School'] = \"DPS School\" # Add new entry\n",
    "print(dict_eg)\n",
    "print(\"dict['School']: \", dict_eg['School'])\n",
    "\n",
    "# %% modify key-value pair\n",
    "\n",
    "inventory = {'apples': 430, 'bananas': 312, 'oranges': 525, 'pears': 217}\n",
    "inventory['pears'] = 0\n",
    "\n",
    "# %%\n",
    "\n",
    "dict = {'Name': 'Zara', 'Age': 7, 'Class': 'First'}\n",
    "del dict['Name'] # remove entry with key 'Name’\n",
    "print(dict)\n",
    "dict.clear()     # remove all entries in dict\n",
    "print(dict)\n",
    "del dict        # delete entire dictionary\n",
    "\n",
    "\n",
    "is\n",
    "isinstance\n",
    "\n",
    "'1' in [1, 2]\n",
    "\n",
    "1.0 in [1, 2]\n",
    "\n",
    "\n",
    "# %% dictionary methods\n",
    "\n",
    "\n",
    "inventory = {'apples': 430, 'bananas': 312, 'oranges': 525, 'pears': 217}\n",
    "\n",
    "\n",
    "print(inventory.get(\"apples\"))\n",
    "print(inventory.get(\"cherries\"))  # output: None\n",
    "print(inventory.get(\"cherries\", 0))  # Default value, overwrite\n",
    "print(inventory.get(\"apples\", 0))\n",
    "print(inventory.get(\"cherries\"))\n",
    "\n",
    "# %% Update\n",
    "\n",
    "dict = {'Name': 'Zara', 'Age': 7}\n",
    "dict2 = {'Sex': 'female'}\n",
    "dict.update(dict2)\n",
    "print (\"Value : %s\" % dict)\n",
    "\n",
    "# %%\n",
    "\n",
    "dict = {'Name': 'Zara', 'Age': 7}\n",
    "print (\"Value : %s\" % dict.setdefault('Age', None)) # overwritten\n",
    "print (\"Value : %s\" % dict.setdefault('Sex', None))\n",
    "\n",
    "# %%\n",
    "\n",
    "dict = {'Name': 'Zara', 'Age': 7}\n",
    "print (\"Value : %s\" % dict.keys())\n",
    "\n",
    "# %%\n",
    "\n",
    "dict = {'Name': 'Zara', 'Age': 7}\n",
    "print (\"Value : %s\" % dict.items())\n",
    "\n",
    "# %%\n",
    "\n",
    "dict = {'Name': 'Zara', 'Age': 7}\n",
    "print (\"Value : %s\" % dict.values())\n",
    "\n",
    "# %% # del: clear variable\n",
    "\n",
    "dict1 = {'Name': 'Zara', 'Age': 7}\n",
    "dict2 = dict1.copy()\n",
    "print(\"New Dictionary : %s\" % str(dict2))\n",
    "\n",
    "# %% in: membership of keys\n",
    "\n",
    "squares = {1: 1, 3: 9, 5: 25, 7: 49, 9: 81}\n",
    "# Output: True\n",
    "print(1 in squares)\n",
    "# Output: True\n",
    "print(2 not in squares)\n",
    "# membership tests for key only not value\n",
    "# Output: False\n",
    "print(49 in squares)\n",
    "\n",
    "# %%\n",
    "\n",
    "squares = {1: 1, 3: 9, 5: 25, 7: 49, 9: 81}\n",
    "for i in squares:  # key at each iteration stored in i\n",
    "    print(squares[i])  # extract value only\n",
    "\n",
    "\n",
    "# %%\n",
    "\n",
    "people = {1: {'name': 'John', 'age': '27', 'sex': 'Male'},\n",
    "          2: {'name': 'Marie', 'age': '22', 'sex': 'Female'}}\n",
    "\n",
    "people[1]['age']\n",
    "\n",
    "people = {'A': {'name': 'John', 'age': '27', 'sex': 'Male'},\n",
    "          'B': {'name': 'Marie', 'age': '22', 'sex': 'Female'}}\n",
    "\n",
    "people['B']['sex']\n",
    "\n",
    "\n",
    "# %%\n",
    "\n",
    "\n",
    "people = {1: {'name': 'John', 'age': '27', 'sex': 'Male'},\n",
    "          2: {'name': 'Marie', 'age': '22', 'sex': 'Female'}}\n",
    "people[3] = {}\n",
    "people[3]['name'] = 'Luna'\n",
    "people[3]['age'] = '24'\n",
    "people[3]['sex'] = 'Female'\n",
    "people[3]['married'] = 'No'\n",
    "print(people[3])\n",
    "\n",
    "# %%\n",
    "\n",
    "people = {1: {'name': 'John', 'age': '27', 'sex': 'Male'},\n",
    "          2: {'name': 'Marie', 'age': '22', 'sex': 'Female'},\n",
    "          3: {'name': 'Luna', 'age': '24', 'sex': 'Female', 'married': 'No'}}\n",
    "\n",
    "people[4] = {'name': 'Peter', 'age': '29', 'sex': 'Male', 'married': 'Yes'}\n",
    "print(people[4])\n",
    "\n",
    "people.keys()\n",
    "\n",
    "people.values()\n",
    "\n",
    "people.items()\n",
    "\n",
    "people[3].keys()\n",
    "\n",
    "\n",
    "# %%\n",
    "\n",
    "\n",
    "people = {1: {'name': 'John', 'age': '27', 'sex': 'Male'},\n",
    "          2: {'name': 'Marie', 'age': '22', 'sex': 'Female'},\n",
    "          3: {'name': 'Luna', 'age': '24', 'sex': 'Female', 'married': 'No'},\n",
    "          4: {'name': 'Peter', 'age': '29', 'sex': 'Male', 'married': 'Yes'}}\n",
    "del people[3]['married']\n",
    "del people[4]['married']\n",
    "print(people[3])\n",
    "print(people[4])\n",
    "\n",
    "\n",
    "# %%\n",
    "\n",
    "people = {1: {'Name': 'John', 'Age': '27', 'Sex': 'Male'},\n",
    "          2: {'Name': 'Marie', 'Age': '22', 'Sex': 'Female'}}\n",
    "\n",
    "for p_id, p_info in people.items():\n",
    "\n",
    "    # wrong: for p_id, p_info in people.keys()\n",
    "\n",
    "    print(\"\\nPerson ID:\", p_id)\n",
    "\n",
    "    for key in p_info:\n",
    "        print(key + ':', p_info[key])\n",
    "\n",
    "# %%\n",
    "\n",
    "nested_eg = [[1, 2],[3,4]]\n",
    "\n",
    "for i in range(2):\n",
    "\n",
    "    print(nested_eg[i])\n",
    "\n",
    "    for j in range(2):\n",
    "\n",
    "        print(nested_eg[i][j])\n",
    "\n",
    "        \n",
    "        \n",
    "        \n",
    "inventory = {'apples': 430, 'bananas': 312, 'oranges':525, 'pears': 217}\n",
    "\n",
    "print(list(inventory.keys()))\n",
    "print(list(inventory.values()))\n",
    "print(list(inventory.items()))\n",
    "\n",
    "for\t(k, v) in inventory.items():\n",
    "    print(\"Got\", k, \"that maps to\", v)\n",
    "\n"
   ]
  },
  {
   "cell_type": "markdown",
   "id": "f44e0908-6683-4a56-ba84-8997b47aeeb2",
   "metadata": {},
   "source": [
    "## 5. Tuple"
   ]
  },
  {
   "cell_type": "code",
   "execution_count": null,
   "id": "8360d23a-d660-4823-9d25-55e9b69574f7",
   "metadata": {},
   "outputs": [],
   "source": [
    "# %% Tuple\n",
    "tup1 = (50);\n",
    "\n",
    "tup1 = (50,)\n",
    "\n",
    "# only parentheses is not enough\n",
    "my_tuple = (\"hello\")\n",
    "print(type(my_tuple))  # Output: <class 'str'>\n",
    "\n",
    "my_tuple = (\"hello\",)\n",
    "\n",
    "\n",
    "# %%\n",
    "\n",
    "tup = ('physics', 'chemistry', 1997, 2000)\n",
    "print (tup)\n",
    "del tup\n",
    "print (\"After deleting tup : \")\n",
    "print (tup)\n",
    "\n",
    "del tup[1]  # error, unsupported\n"
   ]
  },
  {
   "cell_type": "code",
   "execution_count": null,
   "id": "acf64078-ae09-4fbb-8ffb-59d735fc0cb9",
   "metadata": {},
   "outputs": [],
   "source": [
    "type('apple')\n",
    "apple  = 1\n",
    "type (apple)\n",
    "\n",
    "apple  = ['apple']\n",
    "type (apple)\n",
    "\n",
    "apple  = ['apple']\n",
    "type (apple [0])\n",
    "type(apple[0][0])\n",
    "\n",
    "apple  = ['apple', 4, 'orange', True]\n",
    "type (apple [1])\n",
    "\n",
    "apple  = ('apple', 4, 'orange', True, '1.0', 1.0)\n",
    "type (apple)\n",
    "type (apple[2])\n",
    "type (apple[4])\n",
    "type (apple[5])\n",
    "\n",
    "\n",
    "apple  = ('apple', (4,), 'orange', True, '1.0', 1.0)\n",
    "apple[1]\n"
   ]
  }
 ],
 "metadata": {
  "kernelspec": {
   "display_name": "Python 3 (ipykernel)",
   "language": "python",
   "name": "python3"
  },
  "language_info": {
   "codemirror_mode": {
    "name": "ipython",
    "version": 3
   },
   "file_extension": ".py",
   "mimetype": "text/x-python",
   "name": "python",
   "nbconvert_exporter": "python",
   "pygments_lexer": "ipython3",
   "version": "3.9.7"
  }
 },
 "nbformat": 4,
 "nbformat_minor": 5
}
