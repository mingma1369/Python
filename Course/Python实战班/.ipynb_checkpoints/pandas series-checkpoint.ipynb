{
 "cells": [
  {
   "cell_type": "markdown",
   "id": "395ba3df",
   "metadata": {},
   "source": [
    "## Series"
   ]
  },
  {
   "cell_type": "markdown",
   "id": "c3bd80b4",
   "metadata": {},
   "source": [
    "Series is a one-dimensional array containing axis label. It can be created via list, dictionary or external source"
   ]
  },
  {
   "cell_type": "code",
   "execution_count": 92,
   "id": "68ea0504",
   "metadata": {},
   "outputs": [],
   "source": [
    "import pandas as pd\n",
    "import numpy as np"
   ]
  },
  {
   "cell_type": "markdown",
   "id": "8caba67f",
   "metadata": {},
   "source": [
    "Create a series via list and dictionary.  \n",
    "pd.Series()"
   ]
  },
  {
   "cell_type": "code",
   "execution_count": 3,
   "id": "c6736a47",
   "metadata": {},
   "outputs": [
    {
     "data": {
      "text/plain": [
       "0         Apple\n",
       "1        Orange\n",
       "2          Kiwi\n",
       "3         Grape\n",
       "4     Blueberry\n",
       "5    Watermelon\n",
       "dtype: object"
      ]
     },
     "execution_count": 3,
     "metadata": {},
     "output_type": "execute_result"
    }
   ],
   "source": [
    "fruits = [\"Apple\", \"Orange\", \"Kiwi\", \"Grape\", \"Blueberry\", \"Watermelon\"]\n",
    "f = pd.Series(fruits)\n",
    "f"
   ]
  },
  {
   "cell_type": "code",
   "execution_count": 4,
   "id": "07060ce9",
   "metadata": {},
   "outputs": [
    {
     "data": {
      "text/plain": [
       "Monday       Elden Ring\n",
       "Tuesday            FIFA\n",
       "Wednesday       Pokemon\n",
       "Thursday          Zelda\n",
       "dtype: object"
      ]
     },
     "execution_count": 4,
     "metadata": {},
     "output_type": "execute_result"
    }
   ],
   "source": [
    "games = {'Monday':'Elden Ring','Tuesday':'FIFA','Wednesday':'Pokemon','Thursday':'Zelda'}\n",
    "g = pd.Series(games)\n",
    "g\n",
    "#注意在使用dictionary时，key作为index label。与后面的dataframe不一样"
   ]
  },
  {
   "cell_type": "markdown",
   "id": "1537e398",
   "metadata": {},
   "source": [
    "## Series Attributes"
   ]
  },
  {
   "cell_type": "code",
   "execution_count": 21,
   "id": "bdec52ce",
   "metadata": {},
   "outputs": [
    {
     "name": "stdout",
     "output_type": "stream",
     "text": [
      "Index(['Monday', 'Tuesday', 'Wednesday', 'Thursday'], dtype='object')\n",
      "RangeIndex(start=0, stop=6, step=1)\n"
     ]
    }
   ],
   "source": [
    "for s in [g,f]:\n",
    "    print(s.index)\n",
    "\n",
    "# 当我们创建series时不输入index的信息，则pandas会默认以数字形式作为index label。可以在series创建时或者创建后赋予series lable的参数"
   ]
  },
  {
   "cell_type": "code",
   "execution_count": 27,
   "id": "cef1b8f5",
   "metadata": {},
   "outputs": [
    {
     "data": {
      "text/plain": [
       "a         Apple\n",
       "b        Orange\n",
       "c          Kiwi\n",
       "d         Grape\n",
       "e     Blueberry\n",
       "f    Watermelon\n",
       "dtype: object"
      ]
     },
     "execution_count": 27,
     "metadata": {},
     "output_type": "execute_result"
    }
   ],
   "source": [
    "f.index = ['a','b','c','d','e','f']\n",
    "#index的长度必须和series的长度一致，否则报错\n",
    "f"
   ]
  },
  {
   "cell_type": "code",
   "execution_count": 13,
   "id": "2703372f",
   "metadata": {},
   "outputs": [
    {
     "data": {
      "text/plain": [
       "array(['Elden Ring', 'FIFA', 'Pokemon', 'Zelda'], dtype=object)"
      ]
     },
     "execution_count": 13,
     "metadata": {},
     "output_type": "execute_result"
    }
   ],
   "source": [
    "g.values"
   ]
  },
  {
   "cell_type": "code",
   "execution_count": 14,
   "id": "0ad62d3c",
   "metadata": {},
   "outputs": [
    {
     "data": {
      "text/plain": [
       "dtype('O')"
      ]
     },
     "execution_count": 14,
     "metadata": {},
     "output_type": "execute_result"
    }
   ],
   "source": [
    "g.dtype\n",
    "# 在dataframe等较复杂的数据结构中，也使用这个attributes去查看各个column的数据类型"
   ]
  },
  {
   "cell_type": "code",
   "execution_count": 28,
   "id": "d2ec1fcc",
   "metadata": {},
   "outputs": [
    {
     "data": {
      "text/plain": [
       "'My games'"
      ]
     },
     "execution_count": 28,
     "metadata": {},
     "output_type": "execute_result"
    }
   ],
   "source": [
    "#在series中没有column的概念，只有整个series的名字的概念，同样可以在创建时或者创建后赋值\n",
    "# series name会在由serie组成dataframe时变成对应的行或列的名字\n",
    "g.name = 'My games'\n",
    "g.name"
   ]
  },
  {
   "cell_type": "code",
   "execution_count": 29,
   "id": "883e9b65",
   "metadata": {},
   "outputs": [
    {
     "data": {
      "text/plain": [
       "Monday       Elden Ring\n",
       "Tuesday            FIFA\n",
       "Wednesday       Pokemon\n",
       "Thursday          Zelda\n",
       "Name: My games, dtype: object"
      ]
     },
     "execution_count": 29,
     "metadata": {},
     "output_type": "execute_result"
    }
   ],
   "source": [
    "g"
   ]
  },
  {
   "cell_type": "code",
   "execution_count": 30,
   "id": "18e33022",
   "metadata": {},
   "outputs": [
    {
     "data": {
      "text/plain": [
       "a         Apple\n",
       "b        Orange\n",
       "c          Kiwi\n",
       "d         Grape\n",
       "e     Blueberry\n",
       "f    Watermelon\n",
       "Name: My Fruit, dtype: object"
      ]
     },
     "execution_count": 30,
     "metadata": {},
     "output_type": "execute_result"
    }
   ],
   "source": [
    "#pd.Series() 在创建过程中赋值name和index label的例子\n",
    "pd.Series(fruits,index=['a','b','c','d','e','f'],name = 'My Fruit')"
   ]
  },
  {
   "cell_type": "markdown",
   "id": "5bb2a223",
   "metadata": {},
   "source": [
    "## Series Methods"
   ]
  },
  {
   "cell_type": "code",
   "execution_count": 50,
   "id": "cca7e8b0",
   "metadata": {},
   "outputs": [],
   "source": [
    "# use pd.read_csv() to import the sample data\n",
    "# usecols 代表哪些列会被pandas import，等于subset of columns. 如果不特别说明，默认全部列会被import \n",
    "# index_col代表哪一列会被作为index label。注意index_col中的列必须出现在usecol中\n",
    "fortune = pd.read_csv(r'C:\\Users\\wlj91\\Desktop\\Python\\fortune1000.csv',usecols = ['Revenue','Company'],index_col = 'Company').squeeze('columns')\n",
    "#fortune = pd.read_csv(r'C:\\Users\\wlj91\\Desktop\\Python\\fortune1000.csv',usecols = ['Revenue','Company'],index_col = 'Company',squeeze = True)\n",
    "#在较老的pandas版本中， squeeze =True 意味着将数据最终以series的形式呈现，如果没有这个parameter， 会以dataframe形式呈现。\n",
    "#最新的版本中，在read_csv后面call .squeeze('columns')让pandas知道以series形式呈现数据。"
   ]
  },
  {
   "cell_type": "markdown",
   "id": "6383a380",
   "metadata": {},
   "source": [
    "#### The .head() and .tail() Methods  \n",
    "- 可以快速查询 top 5 rows 和 bottom 5 rows  \n",
    "- 括号内不传入数字默认为5， 如果想查询最前面的20行，则括号内输入20即可。"
   ]
  },
  {
   "cell_type": "code",
   "execution_count": 51,
   "id": "94627f55",
   "metadata": {},
   "outputs": [
    {
     "data": {
      "text/plain": [
       "Company\n",
       "Walmart               482130\n",
       "Exxon Mobil           246204\n",
       "Apple                 233715\n",
       "Berkshire Hathaway    210821\n",
       "McKesson              181241\n",
       "Name: Revenue, dtype: int64"
      ]
     },
     "execution_count": 51,
     "metadata": {},
     "output_type": "execute_result"
    }
   ],
   "source": [
    "fortune.head()"
   ]
  },
  {
   "cell_type": "code",
   "execution_count": 52,
   "id": "0b84b3f7",
   "metadata": {},
   "outputs": [
    {
     "data": {
      "text/plain": [
       "Company\n",
       "New York Community Bancorp    1902\n",
       "Portland General Electric     1898\n",
       "Portland General Electric     1898\n",
       "Wendy’s                       1896\n",
       "Briggs & Stratton             1895\n",
       "Name: Revenue, dtype: int64"
      ]
     },
     "execution_count": 52,
     "metadata": {},
     "output_type": "execute_result"
    }
   ],
   "source": [
    "fortune.tail()"
   ]
  },
  {
   "cell_type": "markdown",
   "id": "85ee3431",
   "metadata": {},
   "source": [
    "#### Descriptive Stats\n",
    "- .describe() 会总结出常用的统计。 当然也可以专门用特定的method去计算特定的统计量"
   ]
  },
  {
   "cell_type": "code",
   "execution_count": 58,
   "id": "e65db351",
   "metadata": {},
   "outputs": [
    {
     "data": {
      "text/plain": [
       "count      1000.000000\n",
       "mean      13535.525000\n",
       "std       28820.519135\n",
       "min        1895.000000\n",
       "25%        2898.250000\n",
       "50%        5113.000000\n",
       "75%       11386.000000\n",
       "max      482130.000000\n",
       "Name: Revenue, dtype: float64"
      ]
     },
     "execution_count": 58,
     "metadata": {},
     "output_type": "execute_result"
    }
   ],
   "source": [
    "fortune.describe()"
   ]
  },
  {
   "cell_type": "code",
   "execution_count": 53,
   "id": "67d2c488",
   "metadata": {},
   "outputs": [
    {
     "data": {
      "text/plain": [
       "13535525"
      ]
     },
     "execution_count": 53,
     "metadata": {},
     "output_type": "execute_result"
    }
   ],
   "source": [
    "fortune.sum()"
   ]
  },
  {
   "cell_type": "code",
   "execution_count": 54,
   "id": "6bc66de4",
   "metadata": {},
   "outputs": [
    {
     "data": {
      "text/plain": [
       "13535.525"
      ]
     },
     "execution_count": 54,
     "metadata": {},
     "output_type": "execute_result"
    }
   ],
   "source": [
    "fortune.mean()"
   ]
  },
  {
   "cell_type": "code",
   "execution_count": 55,
   "id": "8e44ead1",
   "metadata": {},
   "outputs": [
    {
     "data": {
      "text/plain": [
       "2898.25"
      ]
     },
     "execution_count": 55,
     "metadata": {},
     "output_type": "execute_result"
    }
   ],
   "source": [
    "fortune.quantile(0.25)"
   ]
  },
  {
   "cell_type": "code",
   "execution_count": 59,
   "id": "c4f55c4b",
   "metadata": {},
   "outputs": [
    {
     "data": {
      "text/plain": [
       "28820.519134890506"
      ]
     },
     "execution_count": 59,
     "metadata": {},
     "output_type": "execute_result"
    }
   ],
   "source": [
    "fortune.std()"
   ]
  },
  {
   "cell_type": "code",
   "execution_count": 57,
   "id": "51554315",
   "metadata": {},
   "outputs": [
    {
     "data": {
      "text/plain": [
       "1895"
      ]
     },
     "execution_count": 57,
     "metadata": {},
     "output_type": "execute_result"
    }
   ],
   "source": [
    "fortune.min()"
   ]
  },
  {
   "cell_type": "code",
   "execution_count": 115,
   "id": "08083996",
   "metadata": {},
   "outputs": [
    {
     "data": {
      "text/plain": [
       "(1000,)"
      ]
     },
     "execution_count": 115,
     "metadata": {},
     "output_type": "execute_result"
    }
   ],
   "source": [
    "#查询series有几行\n",
    "fortune.shape"
   ]
  },
  {
   "cell_type": "code",
   "execution_count": 116,
   "id": "cb9874d9",
   "metadata": {},
   "outputs": [
    {
     "data": {
      "text/plain": [
       "1000"
      ]
     },
     "execution_count": 116,
     "metadata": {},
     "output_type": "execute_result"
    }
   ],
   "source": [
    "len(fortune)"
   ]
  },
  {
   "cell_type": "markdown",
   "id": "8f323026",
   "metadata": {},
   "source": [
    "#### Sort the series\n",
    "- sort_values()\n",
    "- sort_index()"
   ]
  },
  {
   "cell_type": "code",
   "execution_count": 60,
   "id": "511e43e5",
   "metadata": {},
   "outputs": [
    {
     "data": {
      "text/plain": [
       "Company\n",
       "Briggs & Stratton               1895\n",
       "Wendy’s                         1896\n",
       "Portland General Electric       1898\n",
       "Portland General Electric       1898\n",
       "New York Community Bancorp      1902\n",
       "                               ...  \n",
       "McKesson                      181241\n",
       "Berkshire Hathaway            210821\n",
       "Apple                         233715\n",
       "Exxon Mobil                   246204\n",
       "Walmart                       482130\n",
       "Name: Revenue, Length: 1000, dtype: int64"
      ]
     },
     "execution_count": 60,
     "metadata": {},
     "output_type": "execute_result"
    }
   ],
   "source": [
    "fortune.sort_values(ascending = True)\n",
    "# 如果想要降序排列， 则输入ascending = False\n",
    "# 注意目前的这个升序排列并没有在原series中生效，想要改变原来series的排序，必须输入 inplace = True"
   ]
  },
  {
   "cell_type": "code",
   "execution_count": 62,
   "id": "a4cd67f8",
   "metadata": {},
   "outputs": [],
   "source": [
    "fortune.sort_index(ascending = False,inplace = True)\n",
    "#如果index为string，则按照字母表顺序排列，数字默认最后"
   ]
  },
  {
   "cell_type": "code",
   "execution_count": 63,
   "id": "9905f78d",
   "metadata": {},
   "outputs": [
    {
     "data": {
      "text/plain": [
       "Company\n",
       "salesforce.com             6667\n",
       "inVentiv Health            2321\n",
       "iHeartMedia                6242\n",
       "hhgregg                    2129\n",
       "eBay                       9496\n",
       "                          ...  \n",
       "A.O. Smith                 2537\n",
       "A. Schulman                2392\n",
       "A-Mark Precious Metals     6070\n",
       "99 Cents Only Stores       1999\n",
       "3M                        30274\n",
       "Name: Revenue, Length: 1000, dtype: int64"
      ]
     },
     "execution_count": 63,
     "metadata": {},
     "output_type": "execute_result"
    }
   ],
   "source": [
    "fortune"
   ]
  },
  {
   "cell_type": "code",
   "execution_count": 64,
   "id": "f14c8c3f",
   "metadata": {},
   "outputs": [
    {
     "data": {
      "text/plain": [
       "Company\n",
       "Walmart                       482130\n",
       "Exxon Mobil                   246204\n",
       "Apple                         233715\n",
       "Berkshire Hathaway            210821\n",
       "McKesson                      181241\n",
       "                               ...  \n",
       "New York Community Bancorp      1902\n",
       "Portland General Electric       1898\n",
       "Portland General Electric       1898\n",
       "Wendy’s                         1896\n",
       "Briggs & Stratton               1895\n",
       "Name: Revenue, Length: 1000, dtype: int64"
      ]
     },
     "execution_count": 64,
     "metadata": {},
     "output_type": "execute_result"
    }
   ],
   "source": [
    "fortune.sort_values(ascending = False, inplace = True)\n",
    "fortune"
   ]
  },
  {
   "cell_type": "markdown",
   "id": "c9216739",
   "metadata": {},
   "source": [
    "#### Extract values from series\n",
    "- by index position\n",
    "- by index label"
   ]
  },
  {
   "cell_type": "code",
   "execution_count": 67,
   "id": "a15f1956",
   "metadata": {},
   "outputs": [
    {
     "data": {
      "text/plain": [
       "Company\n",
       "Apple                 233715\n",
       "Berkshire Hathaway    210821\n",
       "McKesson              181241\n",
       "Name: Revenue, dtype: int64"
      ]
     },
     "execution_count": 67,
     "metadata": {},
     "output_type": "execute_result"
    }
   ],
   "source": [
    "# by index position\n",
    "fortune[2:5]"
   ]
  },
  {
   "cell_type": "code",
   "execution_count": 68,
   "id": "109d2b6b",
   "metadata": {},
   "outputs": [
    {
     "data": {
      "text/plain": [
       "Company\n",
       "Walmart     482130\n",
       "Apple       233715\n",
       "McKesson    181241\n",
       "Name: Revenue, dtype: int64"
      ]
     },
     "execution_count": 68,
     "metadata": {},
     "output_type": "execute_result"
    }
   ],
   "source": [
    "fortune[[0,2,4]]"
   ]
  },
  {
   "cell_type": "code",
   "execution_count": 74,
   "id": "24839c73",
   "metadata": {},
   "outputs": [
    {
     "data": {
      "text/plain": [
       "Company\n",
       "Walmart     482130\n",
       "Wendy’s       1896\n",
       "McKesson    181241\n",
       "Name: Revenue, dtype: int64"
      ]
     },
     "execution_count": 74,
     "metadata": {},
     "output_type": "execute_result"
    }
   ],
   "source": [
    "# by index label\n",
    "fortune[['Walmart',\"Wendy’s\",'McKesson']]"
   ]
  },
  {
   "cell_type": "markdown",
   "id": "035f5cd9",
   "metadata": {},
   "source": [
    "#### Boolean Masks"
   ]
  },
  {
   "cell_type": "code",
   "execution_count": 80,
   "id": "1ccd7786",
   "metadata": {},
   "outputs": [
    {
     "data": {
      "text/plain": [
       "Company\n",
       "Walmart               482130\n",
       "Exxon Mobil           246204\n",
       "Apple                 233715\n",
       "Berkshire Hathaway    210821\n",
       "Name: Revenue, dtype: int64"
      ]
     },
     "execution_count": 80,
     "metadata": {},
     "output_type": "execute_result"
    }
   ],
   "source": [
    "# What if I only want to see the companies with revenue larger than 200K?\n",
    "fortune[fortune>200000]\n",
    "# 方括号内return的是一个series，只是value仅为True or False"
   ]
  },
  {
   "cell_type": "code",
   "execution_count": 117,
   "id": "8c96ba06",
   "metadata": {},
   "outputs": [
    {
     "data": {
      "text/plain": [
       "Company\n",
       "Walmart                        True\n",
       "Exxon Mobil                    True\n",
       "Apple                          True\n",
       "Berkshire Hathaway             True\n",
       "McKesson                      False\n",
       "                              ...  \n",
       "New York Community Bancorp    False\n",
       "Portland General Electric     False\n",
       "Portland General Electric     False\n",
       "Wendy’s                       False\n",
       "Briggs & Stratton             False\n",
       "Name: Revenue, Length: 1000, dtype: bool"
      ]
     },
     "execution_count": 117,
     "metadata": {},
     "output_type": "execute_result"
    }
   ],
   "source": [
    "fortune>200000"
   ]
  },
  {
   "cell_type": "code",
   "execution_count": 83,
   "id": "2bf2681b",
   "metadata": {},
   "outputs": [
    {
     "data": {
      "text/plain": [
       "Company\n",
       "Walmart                              482130\n",
       "Exxon Mobil                          246204\n",
       "Apple                                233715\n",
       "Berkshire Hathaway                   210821\n",
       "99 Cents Only Stores                   1999\n",
       "Roadrunner Transportation Systems      1995\n",
       "Super Micro Computer                   1991\n",
       "First Republic Bank                    1989\n",
       "Hill-Rom Holdings                      1988\n",
       "Providence Service                     1987\n",
       "Allison Transmission Holdings          1986\n",
       "Spire                                  1976\n",
       "WPX Energy                             1958\n",
       "Century Aluminum                       1950\n",
       "Adams Resources & Energy               1944\n",
       "Nuance Communications                  1931\n",
       "Primoris Services                      1929\n",
       "Schnitzer Steel Industries             1924\n",
       "Delta Tucker Holdings                  1923\n",
       "Hospitality Properties Trust           1922\n",
       "Cenveo                                 1921\n",
       "F5 Networks                            1920\n",
       "BlueLinx Holdings                      1917\n",
       "Revlon                                 1914\n",
       "DeVry Education Group                  1910\n",
       "MDC Holdings                           1909\n",
       "EP Energy                              1908\n",
       "New York Community Bancorp             1902\n",
       "Portland General Electric              1898\n",
       "Portland General Electric              1898\n",
       "Wendy’s                                1896\n",
       "Briggs & Stratton                      1895\n",
       "Name: Revenue, dtype: int64"
      ]
     },
     "execution_count": 83,
     "metadata": {},
     "output_type": "execute_result"
    }
   ],
   "source": [
    "# What if I only want to see the companies with revenue larger than 200K or revenues smaller than 2K?\n",
    "fortune[(fortune>200000) | (fortune<2000)]\n",
    "#务必注意在boolean mask 截取数据时，逻辑运算符号不可以是and 或者 or， 应该用 & 或者 |"
   ]
  },
  {
   "cell_type": "markdown",
   "id": "3d390919",
   "metadata": {},
   "source": [
    "#### Check if the data is unique\n",
    "- is_unqiue\n",
    "- nunique()\n",
    "- unique()\n",
    "- duplicated()"
   ]
  },
  {
   "cell_type": "code",
   "execution_count": 84,
   "id": "cbdef3fa",
   "metadata": {},
   "outputs": [
    {
     "data": {
      "text/plain": [
       "False"
      ]
     },
     "execution_count": 84,
     "metadata": {},
     "output_type": "execute_result"
    }
   ],
   "source": [
    "# 适用于快速查询整个series的value是否为unqiue\n",
    "fortune.is_unique"
   ]
  },
  {
   "cell_type": "code",
   "execution_count": 86,
   "id": "bf6862e8",
   "metadata": {},
   "outputs": [
    {
     "data": {
      "text/plain": [
       "945"
      ]
     },
     "execution_count": 86,
     "metadata": {},
     "output_type": "execute_result"
    }
   ],
   "source": [
    "#适用于查询unique的value一共有几个\n",
    "fortune.nunique()"
   ]
  },
  {
   "cell_type": "code",
   "execution_count": 93,
   "id": "9a65a0ee",
   "metadata": {},
   "outputs": [
    {
     "data": {
      "text/plain": [
       "array([482130, 246204, 233715, 210821, 181241, 157107, 153290, 152356,\n",
       "       149558, 146801, 140389, 135962, 131620, 131118, 116199, 110359,\n",
       "       109830, 107006, 103444, 103355, 102531, 101752, 101006,  96114,\n",
       "        93580,  93056,  90033,  88519,  88275,  87169,  82461,  81824,\n",
       "        79157,  78756,  75697,  74989,  74510,  73785,  70074,  69951,\n",
       "        67702,  64566,  63491,  63056,  61047,  60337,  59074,  58363,\n",
       "        58327,  57119,  55355,  54289,  52465,  49161,  48851,  48778,\n",
       "        48681,  47453,  47011,  46132,  45891,  44294,  43591,  43026,\n",
       "        42126,  41373,  40990,  40704,  40222,  40204,  39745,  39498,\n",
       "        39450,  39208,  38581,  38243,  38226,  37897,  37876,  37864,\n",
       "        35653,  35181,  34693,  34582,  34441,  32639,  32619,  31469,\n",
       "        30945,  30935,  30601,  30380,  30274,  29636,  29447,  28987,\n",
       "        28863,  28150,  28118,  28111,  27940,  27925,  27079,  27028,\n",
       "        26800,  26794,  26528,  26380,  25413,  25281,  25146,  25098,\n",
       "        24704,  24361,  24002,  23697,  23633,  23526,  23282,  23247,\n",
       "        23152,  23128,  22859,  22795,  22678,  22534,  22365,  22304,\n",
       "        21813,  21662,  21494,  21059,  20909,  20891,  20872,  20862,\n",
       "        20854,  20661,  20369,  20111,  19959,  19820,  19361,  19330,\n",
       "        19204,  19163,  19115,  19110,  18854,  18664,  18591,  18377,\n",
       "        18338,  18211,  18114,  17990,  17928,  17914,  17900,  17820,\n",
       "        17630,  17489,  17486,  16965,  16900,  16833,  16802,  16560,\n",
       "        16443,  16439,  16270,  16244,  16192,  16034,  15877,  15849,\n",
       "        15797,  15742,  15523,  15498,  15389,  15330,  15280,  15272,\n",
       "        15270,  15134,  15069,  15026,  15001,  14963,  14874,  14757,\n",
       "        14674,  14572,  14486,  14485,  14437,  14403,  14329,  14210,\n",
       "        14178,  13890,  13886,  13880,  13572,  13545,  13525,  13476,\n",
       "        13423,  13415,  13405,  13338,  13268,  13238,  13161,  13145,\n",
       "        13124,  13105,  13000,  12989,  12961,  12893,  12764,  12712,\n",
       "        12699,  12628,  12626,  12625,  12554,  12416,  12377,  12200,\n",
       "        12183,  12154,  12115,  11964,  11940,  11881,  11811,  11802,\n",
       "        11689,  11684,  11683,  11574,  11554,  11524,  11513,  11477,\n",
       "        11451,  11401,  11381,  11341,  11339,  11272,  11257,  11211,\n",
       "        11025,  10885,  10856,  10824,  10780,  10776,  10764,  10760,\n",
       "        10731,  10675,  10633,  10630,  10535,  10511,  10418,  10415,\n",
       "        10346,  10337,  10326,  10315,  10299,  10282,  10231,  10187,\n",
       "        10140,  10056,  10002,   9989,   9973,   9968,   9946,   9895,\n",
       "         9787,   9785,   9773,   9754,   9737,   9667,   9659,   9648,\n",
       "         9624,   9539,   9499,   9496,   9474,   9364,   9351,   9264,\n",
       "         9256,   9249,   9248,   9224,   9190,   9170,   9132,   9115,\n",
       "         9111,   8992,   8982,   8895,   8858,   8789,   8782,   8779,\n",
       "         8762,   8757,   8718,   8698,   8680,   8642,   8633,   8604,\n",
       "         8533,   8502,   8394,   8286,   8229,   8209,   8185,   8122,\n",
       "         8082,   8072,   8023,   8020,   7997,   7967,   7955,   7949,\n",
       "         7904,   7864,   7786,   7763,   7729,   7669,   7652,   7632,\n",
       "         7623,   7620,   7614,   7594,   7519,   7493,   7477,   7467,\n",
       "         7412,   7387,   7386,   7360,   7271,   7246,   7236,   7207,\n",
       "         7193,   7173,   7164,   7098,   7082,   7052,   7032,   7031,\n",
       "         7029,   7020,   6780,   6755,   6723,   6694,   6693,   6691,\n",
       "         6672,   6667,   6659,   6654,   6644,   6617,   6596,   6595,\n",
       "         6588,   6575,   6572,   6543,   6540,   6517,   6510,   6508,\n",
       "         6501,   6472,   6456,   6440,   6416,   6394,   6393,   6375,\n",
       "         6373,   6363,   6351,   6308,   6282,   6242,   6227,   6188,\n",
       "         6162,   6156,   6155,   6149,   6145,   6123,   6110,   6098,\n",
       "         6070,   6060,   6028,   6014,   5998,   5995,   5982,   5972,\n",
       "         5967,   5966,   5926,   5861,   5851,   5817,   5816,   5766,\n",
       "         5765,   5763,   5762,   5742,   5738,   5732,   5706,   5703,\n",
       "         5695,   5693,   5674,   5666,   5621,   5619,   5609,   5598,\n",
       "         5594,   5576,   5569,   5565,   5541,   5536,   5518,   5484,\n",
       "         5448,   5444,   5392,   5387,   5373,   5370,   5363,   5362,\n",
       "         5356,   5350,   5313,   5308,   5305,   5291,   5276,   5275,\n",
       "         5266,   5264,   5262,   5259,   5254,   5234,   5197,   5191,\n",
       "         5176,   5170,   5142,   5130,   5096,   5095,   5086,   5083,\n",
       "         5034,   5023,   5010,   5000,   4996,   4980,   4976,   4968,\n",
       "         4964,   4961,   4921,   4913,   4881,   4858,   4857,   4832,\n",
       "         4826,   4803,   4796,   4795,   4772,   4765,   4719,   4682,\n",
       "         4678,   4664,   4658,   4654,   4648,   4647,   4597,   4595,\n",
       "         4561,   4542,   4529,   4520,   4515,   4508,   4501,   4495,\n",
       "         4481,   4463,   4448,   4434,   4428,   4425,   4395,   4393,\n",
       "         4380,   4378,   4376,   4375,   4369,   4343,   4328,   4324,\n",
       "         4319,   4315,   4308,   4296,   4275,   4260,   4229,   4213,\n",
       "         4208,   4201,   4199,   4192,   4171,   4160,   4143,   4142,\n",
       "         4140,   4113,   4105,   4104,   4081,   4076,   4071,   4046,\n",
       "         4038,   4027,   4007,   3998,   3991,   3974,   3971,   3967,\n",
       "         3963,   3955,   3949,   3941,   3937,   3924,   3906,   3903,\n",
       "         3889,   3870,   3869,   3866,   3860,   3834,   3812,   3808,\n",
       "         3787,   3779,   3776,   3764,   3743,   3729,   3720,   3691,\n",
       "         3653,   3652,   3651,   3645,   3633,   3617,   3597,   3593,\n",
       "         3582,   3579,   3578,   3574,   3568,   3564,   3551,   3543,\n",
       "         3540,   3526,   3522,   3519,   3510,   3506,   3496,   3495,\n",
       "         3486,   3485,   3482,   3471,   3467,   3453,   3445,   3436,\n",
       "         3435,   3422,   3416,   3415,   3403,   3397,   3395,   3390,\n",
       "         3384,   3378,   3367,   3343,   3327,   3321,   3314,   3308,\n",
       "         3278,   3276,   3275,   3258,   3254,   3253,   3242,   3231,\n",
       "         3229,   3226,   3219,   3206,   3187,   3180,   3172,   3167,\n",
       "         3165,   3163,   3160,   3159,   3158,   3153,   3151,   3144,\n",
       "         3135,   3134,   3133,   3127,   3114,   3103,   3099,   3096,\n",
       "         3095,   3093,   3079,   3075,   3066,   3063,   3060,   3052,\n",
       "         3047,   3032,   3023,   3022,   3018,   3017,   3015,   3014,\n",
       "         3010,   3009,   3008,   3006,   3002,   2991,   2986,   2984,\n",
       "         2977,   2973,   2972,   2966,   2965,   2951,   2944,   2921,\n",
       "         2910,   2908,   2903,   2902,   2887,   2885,   2883,   2877,\n",
       "         2872,   2871,   2858,   2856,   2854,   2853,   2842,   2838,\n",
       "         2834,   2833,   2825,   2819,   2814,   2804,   2803,   2793,\n",
       "         2790,   2789,   2780,   2774,   2768,   2759,   2752,   2746,\n",
       "         2741,   2740,   2734,   2730,   2726,   2723,   2707,   2705,\n",
       "         2696,   2694,   2692,   2689,   2682,   2680,   2674,   2667,\n",
       "         2664,   2660,   2659,   2656,   2654,   2647,   2642,   2640,\n",
       "         2639,   2633,   2628,   2620,   2619,   2605,   2604,   2603,\n",
       "         2601,   2594,   2591,   2581,   2580,   2578,   2577,   2574,\n",
       "         2573,   2547,   2544,   2542,   2541,   2537,   2536,   2530,\n",
       "         2526,   2515,   2511,   2509,   2506,   2504,   2502,   2495,\n",
       "         2494,   2491,   2486,   2485,   2472,   2470,   2464,   2462,\n",
       "         2459,   2446,   2435,   2421,   2420,   2419,   2418,   2404,\n",
       "         2403,   2401,   2395,   2392,   2391,   2389,   2384,   2383,\n",
       "         2382,   2377,   2371,   2363,   2350,   2344,   2341,   2340,\n",
       "         2339,   2330,   2326,   2321,   2318,   2317,   2314,   2309,\n",
       "         2307,   2304,   2301,   2299,   2298,   2295,   2292,   2290,\n",
       "         2289,   2288,   2284,   2273,   2272,   2264,   2263,   2250,\n",
       "         2247,   2242,   2231,   2227,   2220,   2219,   2218,   2217,\n",
       "         2211,   2204,   2199,   2197,   2195,   2192,   2189,   2180,\n",
       "         2179,   2163,   2151,   2149,   2148,   2147,   2142,   2141,\n",
       "         2134,   2132,   2129,   2123,   2117,   2109,   2101,   2100,\n",
       "         2096,   2094,   2086,   2084,   2083,   2077,   2068,   2066,\n",
       "         2051,   2042,   2038,   2034,   2029,   2028,   2024,   2022,\n",
       "         2021,   2019,   2016,   2011,   2001,   2000,   1999,   1995,\n",
       "         1991,   1989,   1988,   1987,   1986,   1976,   1958,   1950,\n",
       "         1944,   1931,   1929,   1924,   1923,   1922,   1921,   1920,\n",
       "         1917,   1914,   1910,   1909,   1908,   1902,   1898,   1896,\n",
       "         1895], dtype=int64)"
      ]
     },
     "execution_count": 93,
     "metadata": {},
     "output_type": "execute_result"
    }
   ],
   "source": [
    "# 查询哪些value是unique的\n",
    "fortune.unique()"
   ]
  },
  {
   "cell_type": "code",
   "execution_count": 89,
   "id": "b8fe53de",
   "metadata": {},
   "outputs": [
    {
     "data": {
      "text/plain": [
       "Company\n",
       "Ameren                            6098\n",
       "Barnes & Noble                    6070\n",
       "Regions Financial                 5674\n",
       "SanDisk                           5565\n",
       "Host Hotels & Resorts             5387\n",
       "Energy Future Holdings            5370\n",
       "NiSource                          5308\n",
       "First American Financial          5176\n",
       "Robert Half International         5095\n",
       "Activision Blizzard               4664\n",
       "Electronic Arts                   4515\n",
       "Bemis                             4071\n",
       "Ingles Markets                    3779\n",
       "Towers Watson                     3645\n",
       "Sprouts Farmers Market            3593\n",
       "CalAtlantic Group                 3540\n",
       "Meritor                           3506\n",
       "Tailored Brands                   3496\n",
       "TreeHouse Foods                   3206\n",
       "American Water Works              3159\n",
       "Noble Energy                      3133\n",
       "American National Insurance       3018\n",
       "Northern Tier Energy              3002\n",
       "Service Corp. International       2986\n",
       "Sabre                             2986\n",
       "Green Plains                      2966\n",
       "Gannett                           2885\n",
       "Linn Energy                       2883\n",
       "Mednax                            2780\n",
       "Acuity Brands                     2707\n",
       "Verso                             2692\n",
       "Heartland Payment Systems         2682\n",
       "Alexion Pharmaceuticals           2604\n",
       "Teradata                          2530\n",
       "Moog                              2526\n",
       "EnerSys                           2506\n",
       "Cliffs Natural Resources          2418\n",
       "Stifel Financial                  2377\n",
       "Granite Construction              2371\n",
       "Maxim Integrated Products         2307\n",
       "Penn Mutual Life Insurance        2290\n",
       "Brocade Communications Systems    2264\n",
       "Genesis Energy                    2247\n",
       "Prologis                          2197\n",
       "Akamai Technologies               2197\n",
       "Herman Miller                     2142\n",
       "Maximus                           2100\n",
       "H.B. Fuller                       2084\n",
       "Rexnord                           2084\n",
       "Alliance One International        2066\n",
       "Tower International               2042\n",
       "Bio-Rad Laboratories              2019\n",
       "Tribune Media                     2011\n",
       "VeriFone Systems                  2001\n",
       "Portland General Electric         1898\n",
       "Name: Revenue, dtype: int64"
      ]
     },
     "execution_count": 89,
     "metadata": {},
     "output_type": "execute_result"
    }
   ],
   "source": [
    "# 查询哪些value是duplicated\n",
    "fortune[fortune.duplicated()]"
   ]
  },
  {
   "cell_type": "code",
   "execution_count": 96,
   "id": "6e144687",
   "metadata": {},
   "outputs": [
    {
     "data": {
      "text/plain": [
       "Company\n",
       "Walmart                       482130\n",
       "Exxon Mobil                   246204\n",
       "Apple                         233715\n",
       "Berkshire Hathaway            210821\n",
       "McKesson                      181241\n",
       "                               ...  \n",
       "EP Energy                       1908\n",
       "New York Community Bancorp      1902\n",
       "Portland General Electric       1898\n",
       "Wendy’s                         1896\n",
       "Briggs & Stratton               1895\n",
       "Name: Revenue, Length: 945, dtype: int64"
      ]
     },
     "execution_count": 96,
     "metadata": {},
     "output_type": "execute_result"
    }
   ],
   "source": [
    "# 查询哪些value是unique的，同时返回对应的index label\n",
    "# '~' 代表NOT，会将true变成false， false变成true\n",
    "fortune[~fortune.duplicated()]"
   ]
  },
  {
   "cell_type": "markdown",
   "id": "326da221",
   "metadata": {},
   "source": [
    "#### Check and fill in Null value\n",
    "- isnull()\n",
    "- dropna()\n",
    "- fillna()\n"
   ]
  },
  {
   "cell_type": "code",
   "execution_count": 98,
   "id": "a85fa6a7",
   "metadata": {},
   "outputs": [],
   "source": [
    "# let's revist the fruits list and add some null values\n",
    "fruits = [\"Apple\", \"Orange\", \"Kiwi\", \"Grape\", \"Blueberry\",np.nan, \"Watermelon\"]\n",
    "fruits_index = ['Monday','Tuesday','Wednesday','Thursday','Friday','Saturday','Sunday']\n",
    "s= pd.Series(fruits,index = fruits_index)"
   ]
  },
  {
   "cell_type": "code",
   "execution_count": 99,
   "id": "d913d05f",
   "metadata": {},
   "outputs": [
    {
     "data": {
      "text/plain": [
       "Monday            Apple\n",
       "Tuesday          Orange\n",
       "Wednesday          Kiwi\n",
       "Thursday          Grape\n",
       "Friday        Blueberry\n",
       "Saturday            NaN\n",
       "Sunday       Watermelon\n",
       "dtype: object"
      ]
     },
     "execution_count": 99,
     "metadata": {},
     "output_type": "execute_result"
    }
   ],
   "source": [
    "s"
   ]
  },
  {
   "cell_type": "code",
   "execution_count": 100,
   "id": "d1d8da83",
   "metadata": {},
   "outputs": [
    {
     "data": {
      "text/plain": [
       "Monday       False\n",
       "Tuesday      False\n",
       "Wednesday    False\n",
       "Thursday     False\n",
       "Friday       False\n",
       "Saturday      True\n",
       "Sunday       False\n",
       "dtype: bool"
      ]
     },
     "execution_count": 100,
     "metadata": {},
     "output_type": "execute_result"
    }
   ],
   "source": [
    "#return 类似 duplicated相同的boolean series\n",
    "s.isnull()"
   ]
  },
  {
   "cell_type": "code",
   "execution_count": 109,
   "id": "d207b9aa",
   "metadata": {},
   "outputs": [
    {
     "data": {
      "text/plain": [
       "1"
      ]
     },
     "execution_count": 109,
     "metadata": {},
     "output_type": "execute_result"
    }
   ],
   "source": [
    "#利用boolean的0和1的特点快速查询有几个是null value\n",
    "s.isnull().sum()"
   ]
  },
  {
   "cell_type": "code",
   "execution_count": 102,
   "id": "f760eb0f",
   "metadata": {},
   "outputs": [
    {
     "data": {
      "text/plain": [
       "Monday            Apple\n",
       "Tuesday          Orange\n",
       "Wednesday          Kiwi\n",
       "Thursday          Grape\n",
       "Friday        Blueberry\n",
       "Sunday       Watermelon\n",
       "dtype: object"
      ]
     },
     "execution_count": 102,
     "metadata": {},
     "output_type": "execute_result"
    }
   ],
   "source": [
    "# 将NA value从series中去除，注意如果想要在原series中生效，需要加入 inplace = True\n",
    "s.dropna()"
   ]
  },
  {
   "cell_type": "code",
   "execution_count": 104,
   "id": "2520eef1",
   "metadata": {},
   "outputs": [
    {
     "data": {
      "text/plain": [
       "Monday            Apple\n",
       "Tuesday          Orange\n",
       "Wednesday          Kiwi\n",
       "Thursday          Grape\n",
       "Friday        Blueberry\n",
       "Saturday          Peach\n",
       "Sunday       Watermelon\n",
       "dtype: object"
      ]
     },
     "execution_count": 104,
     "metadata": {},
     "output_type": "execute_result"
    }
   ],
   "source": [
    "# 可以用fillna的方法将null value用某个值代替\n",
    "s.fillna(value = 'Peach')"
   ]
  },
  {
   "cell_type": "code",
   "execution_count": 105,
   "id": "54319520",
   "metadata": {},
   "outputs": [
    {
     "data": {
      "text/plain": [
       "Monday            Apple\n",
       "Tuesday          Orange\n",
       "Wednesday          Kiwi\n",
       "Thursday          Grape\n",
       "Friday        Blueberry\n",
       "Saturday     Watermelon\n",
       "Sunday       Watermelon\n",
       "dtype: object"
      ]
     },
     "execution_count": 105,
     "metadata": {},
     "output_type": "execute_result"
    }
   ],
   "source": [
    "# fillna的参数常见的还有method，包括‘ffill','bfill'\n",
    "s.fillna(method='bfill')\n",
    "#用下一个valid的值"
   ]
  },
  {
   "cell_type": "code",
   "execution_count": 106,
   "id": "a84cd779",
   "metadata": {},
   "outputs": [
    {
     "data": {
      "text/plain": [
       "Monday            Apple\n",
       "Tuesday          Orange\n",
       "Wednesday          Kiwi\n",
       "Thursday          Grape\n",
       "Friday        Blueberry\n",
       "Saturday      Blueberry\n",
       "Sunday       Watermelon\n",
       "dtype: object"
      ]
     },
     "execution_count": 106,
     "metadata": {},
     "output_type": "execute_result"
    }
   ],
   "source": [
    "s.fillna(method = 'ffill')\n",
    "#用上一个valid的值\n",
    "# 所有fillna的语法想要在原series中生效，同样要加入inplace = True"
   ]
  },
  {
   "cell_type": "markdown",
   "id": "5bd7b8a4",
   "metadata": {},
   "source": [
    "#### Set Series Value"
   ]
  },
  {
   "cell_type": "code",
   "execution_count": 107,
   "id": "9f287428",
   "metadata": {},
   "outputs": [],
   "source": [
    "#利用index找到想要替换的值，随后用等号赋值\n",
    "s['Monday'] = 'Taro'"
   ]
  },
  {
   "cell_type": "code",
   "execution_count": 108,
   "id": "3a3be6ef",
   "metadata": {},
   "outputs": [
    {
     "data": {
      "text/plain": [
       "Monday             Taro\n",
       "Tuesday          Orange\n",
       "Wednesday          Kiwi\n",
       "Thursday          Grape\n",
       "Friday        Blueberry\n",
       "Saturday            NaN\n",
       "Sunday       Watermelon\n",
       "dtype: object"
      ]
     },
     "execution_count": 108,
     "metadata": {},
     "output_type": "execute_result"
    }
   ],
   "source": [
    "s"
   ]
  },
  {
   "cell_type": "code",
   "execution_count": 110,
   "id": "2a587aaa",
   "metadata": {},
   "outputs": [],
   "source": [
    "s['Saturday'] = 'It was a null value'"
   ]
  },
  {
   "cell_type": "code",
   "execution_count": 111,
   "id": "6bea5700",
   "metadata": {},
   "outputs": [
    {
     "data": {
      "text/plain": [
       "Monday                      Taro\n",
       "Tuesday                   Orange\n",
       "Wednesday                   Kiwi\n",
       "Thursday                   Grape\n",
       "Friday                 Blueberry\n",
       "Saturday     It was a null value\n",
       "Sunday                Watermelon\n",
       "dtype: object"
      ]
     },
     "execution_count": 111,
     "metadata": {},
     "output_type": "execute_result"
    }
   ],
   "source": [
    "s"
   ]
  }
 ],
 "metadata": {
  "kernelspec": {
   "display_name": "Python 3 (ipykernel)",
   "language": "python",
   "name": "python3"
  },
  "language_info": {
   "codemirror_mode": {
    "name": "ipython",
    "version": 3
   },
   "file_extension": ".py",
   "mimetype": "text/x-python",
   "name": "python",
   "nbconvert_exporter": "python",
   "pygments_lexer": "ipython3",
   "version": "3.9.12"
  }
 },
 "nbformat": 4,
 "nbformat_minor": 5
}
