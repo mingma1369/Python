{
 "cells": [
  {
   "cell_type": "markdown",
   "id": "5dd1d054-4a4e-4d62-972d-4dbac3dcf719",
   "metadata": {},
   "source": [
    "# Week 4 Homework"
   ]
  },
  {
   "cell_type": "markdown",
   "id": "5d0f0a5d-5bcf-477c-89a1-8578181847f4",
   "metadata": {},
   "source": [
    "## Question 1: 交换首尾"
   ]
  },
  {
   "cell_type": "markdown",
   "id": "5ca2f6eb-4cd2-4ad2-b48b-8af52c207377",
   "metadata": {},
   "source": [
    "* 如果给你一个任意长度至少是2的list，如何把这个list的首尾两个东西交换\n",
    "* 比如L = [1, 2, 3, 4], 运行完你的代码以后list应该变成 [4, 2, 3, 1]"
   ]
  },
  {
   "cell_type": "code",
   "execution_count": 19,
   "id": "bbc3a3f2-f952-4798-bc88-a8ad557a6612",
   "metadata": {},
   "outputs": [],
   "source": [
    "def swap_head_tail(L):\n",
    "    L[0], L[-1] = L[-1], L[0] "
   ]
  },
  {
   "cell_type": "code",
   "execution_count": 21,
   "id": "45b1f575-545d-49ab-93ef-39cd604f4630",
   "metadata": {},
   "outputs": [
    {
     "name": "stdout",
     "output_type": "stream",
     "text": [
      "[4, 2, 3, 1]\n"
     ]
    }
   ],
   "source": [
    "#sample for testing\n",
    "L = [1, 2, 3, 4]\n",
    "swap_head_tail(L)\n",
    "print(L) # you should see [4, 2, 3, 1]"
   ]
  },
  {
   "cell_type": "markdown",
   "id": "25d3124b-c175-4909-b6c8-f17a38b5068f",
   "metadata": {},
   "source": [
    "## Question 2: 寻找重复的东西"
   ]
  },
  {
   "cell_type": "markdown",
   "id": "d675ee70-96e5-4432-977e-85a87e35deb4",
   "metadata": {},
   "source": [
    "* 给你一个 list of strings， 判断这个list是否有重复的东西(可以返回boolean)\n",
    "* 比如['a', 'b', 'c', 'd']就没有，['a', 'b', 'c', 'b']就有"
   ]
  },
  {
   "cell_type": "code",
   "execution_count": 22,
   "id": "c45efef7-4b49-4813-aa4c-7c5ec2eb3f0c",
   "metadata": {},
   "outputs": [],
   "source": [
    "def any_duplicate(L):\n",
    "    L.sort()\n",
    "    for i in range(len(L)-1):\n",
    "        if L[i] ==L[i+1]:\n",
    "            return True\n",
    "    return False"
   ]
  },
  {
   "cell_type": "code",
   "execution_count": 23,
   "id": "db35c2f4-773a-4043-8b95-6f21be79f710",
   "metadata": {},
   "outputs": [
    {
     "data": {
      "text/plain": [
       "False"
      ]
     },
     "execution_count": 23,
     "metadata": {},
     "output_type": "execute_result"
    }
   ],
   "source": [
    "any_duplicate(['a', 'b', 'c', 'd'])"
   ]
  },
  {
   "cell_type": "code",
   "execution_count": 24,
   "id": "e14081cd-6b8a-4b39-b0f1-6fdf179b45ff",
   "metadata": {},
   "outputs": [
    {
     "data": {
      "text/plain": [
       "True"
      ]
     },
     "execution_count": 24,
     "metadata": {},
     "output_type": "execute_result"
    }
   ],
   "source": [
    "any_duplicate(['a', 'b', 'c', 'a'])"
   ]
  },
  {
   "cell_type": "markdown",
   "id": "e133873b-323e-4cc1-b521-495f0e4ce99a",
   "metadata": {},
   "source": [
    "## Question 3: 去掉某个东西"
   ]
  },
  {
   "cell_type": "markdown",
   "id": "047577d7-ed2a-4e24-acce-cb6c38b8de94",
   "metadata": {},
   "source": [
    "* 给你一个 list of integer， 还有一个integer target, 把这个list里面所有的这个target都去掉\n"
   ]
  },
  {
   "cell_type": "code",
   "execution_count": 28,
   "id": "28af73aa-c266-4411-9039-f8396c87c24b",
   "metadata": {},
   "outputs": [],
   "source": [
    "def remove_all(L, target):\n",
    "    while target in L:\n",
    "        L.remove(target)\n",
    "    return L"
   ]
  },
  {
   "cell_type": "code",
   "execution_count": 29,
   "id": "d36cc4bc-31f5-474c-8ee4-95f1775171be",
   "metadata": {},
   "outputs": [
    {
     "data": {
      "text/plain": [
       "[1, 3]"
      ]
     },
     "execution_count": 29,
     "metadata": {},
     "output_type": "execute_result"
    }
   ],
   "source": [
    "remove_all([1, 2, 2, 2, 3], 2)"
   ]
  },
  {
   "cell_type": "markdown",
   "id": "2886706e-2acb-4cc7-9610-83841eb927f3",
   "metadata": {
    "tags": []
   },
   "source": [
    "## Question 4: 返回所有名字"
   ]
  },
  {
   "cell_type": "markdown",
   "id": "c61c25e6-5f5a-4430-8f64-38141c3f4585",
   "metadata": {},
   "source": [
    "* 给你一个list of strings代表人名，再给你一个string target， 你的函数应该返回所有list里面名字以target开头的人的名字\n",
    "* 提示：Python的string有一个method叫startswith，可以判断string是否由某一个string开头\n",
    "* ‘abc’.startswith('a')会返回True"
   ]
  },
  {
   "cell_type": "code",
   "execution_count": 49,
   "id": "91da2066-d324-494e-9b37-990040348609",
   "metadata": {},
   "outputs": [],
   "source": [
    "def filter_name(L, target):\n",
    "    \n",
    "    \"\"\"\n",
    "    >>> filter_name(['lingjie', 'kevin', 'james', 'katrina'], 'k')\n",
    "    ['kevin', 'katrina']\n",
    "    \"\"\"\n",
    "    \n",
    "    res = []\n",
    "    \n",
    "    for i in L:\n",
    "        if i.startswith(target) == True:\n",
    "            res.append(i)\n",
    "    \n",
    "    return res\n",
    "    \n",
    "    "
   ]
  },
  {
   "cell_type": "code",
   "execution_count": 50,
   "id": "893b5385-6f8f-4a66-b893-4526b000b370",
   "metadata": {},
   "outputs": [
    {
     "data": {
      "text/plain": [
       "['kevin', 'katrina']"
      ]
     },
     "execution_count": 50,
     "metadata": {},
     "output_type": "execute_result"
    }
   ],
   "source": [
    "filter_name(['lingjie', 'kevin', 'james', 'katrina'], 'k')"
   ]
  },
  {
   "cell_type": "markdown",
   "id": "122eaf38-83ae-44e6-9864-87b7f7f00947",
   "metadata": {},
   "source": [
    "## Question 5: 返回长度最长的string"
   ]
  },
  {
   "cell_type": "markdown",
   "id": "2cd27555-31d0-4a33-ac92-1eceaf34aa3c",
   "metadata": {},
   "source": [
    "* 给你一个list of strings，返回长度最长的strings\n",
    "* 用至少两种不同的方法\n",
    "* 提示：用dictionary或者不用"
   ]
  },
  {
   "cell_type": "code",
   "execution_count": 66,
   "id": "5b8118a3-5d67-428c-bb3e-1d3b6be45cc2",
   "metadata": {},
   "outputs": [],
   "source": [
    "def longest_strings(L):\n",
    "    \n",
    "    \"\"\"\n",
    "    >>> longest_strings(['a', 'savvy', 'pro', 'kevin'])\n",
    "    ['savvy', 'kevin']\n",
    "    \"\"\"\n",
    "    \n",
    "    res = [L[0]]\n",
    "    \n",
    "    for i in L[1:]:\n",
    "        if len(i) > len(res[0]):\n",
    "            res = [i]\n",
    "        elif len(i) == len (res[0]):\n",
    "            res.append(i)\n",
    "\n",
    "    return res\n",
    "    "
   ]
  },
  {
   "cell_type": "code",
   "execution_count": 69,
   "id": "52a8e27e-cdb7-4eb0-a3f8-05543023c13c",
   "metadata": {},
   "outputs": [
    {
     "data": {
      "text/plain": [
       "['savvy', 'kevin']"
      ]
     },
     "execution_count": 69,
     "metadata": {},
     "output_type": "execute_result"
    }
   ],
   "source": [
    "longest_strings(['a', 'savvy', 'pro', 'kevin'])"
   ]
  },
  {
   "cell_type": "code",
   "execution_count": 64,
   "id": "9f7a89d1-8ae7-4878-8d36-2c4f0e17afe8",
   "metadata": {},
   "outputs": [],
   "source": [
    "def longest_strings(L):\n",
    "    \n",
    "    \"\"\"\n",
    "    >>> longest_strings(['a', 'savvy', 'pro', 'kevin'])\n",
    "    ['savvy', 'kevin']\n",
    "    \"\"\"\n",
    "    d = {}\n",
    "    \n",
    "    for i in L:\n",
    "        k = len(i)\n",
    "        if k not in d:\n",
    "            d[k] = [i]\n",
    "        else:\n",
    "            d[k].append(i)\n",
    "    \n",
    "    print(d)\n",
    "    \n",
    "    return d[max(d.keys())] "
   ]
  },
  {
   "cell_type": "code",
   "execution_count": 65,
   "id": "bea5d798-a2ff-4188-ab6f-b4627f8ff587",
   "metadata": {},
   "outputs": [
    {
     "name": "stdout",
     "output_type": "stream",
     "text": [
      "{1: ['a'], 5: ['savvy', 'kevin'], 3: ['pro']}\n"
     ]
    },
    {
     "data": {
      "text/plain": [
       "['savvy', 'kevin']"
      ]
     },
     "execution_count": 65,
     "metadata": {},
     "output_type": "execute_result"
    }
   ],
   "source": [
    "longest_strings(['a', 'savvy', 'pro', 'kevin'])"
   ]
  },
  {
   "cell_type": "markdown",
   "id": "d7fae698-cd43-40b9-bcac-17eeb83f0188",
   "metadata": {},
   "source": [
    "## Question 6: NumPy综合训练"
   ]
  },
  {
   "cell_type": "code",
   "execution_count": 31,
   "id": "ceddbf02-cd75-407f-a9e7-5e7e305df49d",
   "metadata": {},
   "outputs": [],
   "source": [
    "import numpy as np"
   ]
  },
  {
   "cell_type": "markdown",
   "id": "2b0783de-72a5-4ca2-ab36-9b1cd14091d9",
   "metadata": {},
   "source": [
    "* 6.1 Create a NumPy array with the numbers 0 through 9."
   ]
  },
  {
   "cell_type": "code",
   "execution_count": 32,
   "id": "ff614ddc-6fc1-47f6-b756-7661092359ac",
   "metadata": {},
   "outputs": [
    {
     "name": "stdout",
     "output_type": "stream",
     "text": [
      "[0 1 2 3 4 5 6 7 8 9]\n"
     ]
    }
   ],
   "source": [
    "arr = np.arange(10)\n",
    "print(arr)"
   ]
  },
  {
   "cell_type": "markdown",
   "id": "508affdf-a357-4d6c-8799-b361e62dd467",
   "metadata": {
    "tags": []
   },
   "source": [
    "* 6.2 Create a NumPy array with the numbers 0 through 9, but reverse the order of the elements. （hint: use slicing with -1 as step length）"
   ]
  },
  {
   "cell_type": "code",
   "execution_count": 33,
   "id": "0cbaf23f-6fb6-4551-9bc2-0a2e5bdd0780",
   "metadata": {},
   "outputs": [
    {
     "name": "stdout",
     "output_type": "stream",
     "text": [
      "[9 8 7 6 5 4 3 2 1 0]\n"
     ]
    }
   ],
   "source": [
    "arr = np.arange(10)[::-1]\n",
    "print(arr)"
   ]
  },
  {
   "cell_type": "markdown",
   "id": "e00d4bfb-f672-4174-993b-42cd5ecf00bb",
   "metadata": {},
   "source": [
    "* 6.3 Create a 2D NumPy array with dimensions 3x3 with all elements set to 1. (hint: use np.ones())"
   ]
  },
  {
   "cell_type": "code",
   "execution_count": 34,
   "id": "dacf692b-0115-4971-927b-ed6818c2281b",
   "metadata": {},
   "outputs": [
    {
     "name": "stdout",
     "output_type": "stream",
     "text": [
      "[[1. 1. 1.]\n",
      " [1. 1. 1.]\n",
      " [1. 1. 1.]]\n"
     ]
    }
   ],
   "source": [
    "arr = np.ones((3, 3))\n",
    "print(arr)"
   ]
  },
  {
   "cell_type": "markdown",
   "id": "e63dadc1-321d-44e2-9bb1-9b27eca4df2e",
   "metadata": {},
   "source": [
    "* 6.4 Given a NumPy array a of shape (3, 4), reshape it to have shape (4, 3). (hint: .reshape())"
   ]
  },
  {
   "cell_type": "code",
   "execution_count": 35,
   "id": "f80a17cd-c1fe-4b2b-a23b-670ac7a13e4e",
   "metadata": {},
   "outputs": [],
   "source": [
    "a = np.array([[1, 2, 3, 4],\n",
    "              [5, 6, 7, 8],\n",
    "              [9, 10, 11, 12]])\n",
    "\n",
    "# would like to see:\n",
    "# array([[ 1,  2,  3],\n",
    "#        [ 4,  5,  6],\n",
    "#        [ 7,  8,  9],\n",
    "#        [10, 11, 12]])\n"
   ]
  },
  {
   "cell_type": "code",
   "execution_count": 36,
   "id": "3f2455ac-164f-4008-94ee-814e5f97096a",
   "metadata": {},
   "outputs": [
    {
     "name": "stdout",
     "output_type": "stream",
     "text": [
      "[[ 1  2  3]\n",
      " [ 4  5  6]\n",
      " [ 7  8  9]\n",
      " [10 11 12]]\n"
     ]
    }
   ],
   "source": [
    "a = np.array([[1, 2, 3, 4],\n",
    "              [5, 6, 7, 8],\n",
    "              [9, 10, 11, 12]])\n",
    "\n",
    "reshape_arr = a.reshape(4, 3)\n",
    "print(reshape_arr)"
   ]
  },
  {
   "cell_type": "markdown",
   "id": "838869dc-f9b0-4be3-9dab-f3ad97d03f7f",
   "metadata": {},
   "source": [
    "* 6.5 Given a NumPy array a of shape (3, 3) and a NumPy array b of shape (3,), add b to each row of a. (hint: .reshape() and broadcasting)"
   ]
  },
  {
   "cell_type": "code",
   "execution_count": 37,
   "id": "51ae1664-dbd6-4f0e-9214-39ef641701a7",
   "metadata": {},
   "outputs": [],
   "source": [
    "# example\n",
    "a = np.array([[1, 2, 3],\n",
    "              [4, 5, 6],\n",
    "              [7, 8, 9]])\n",
    "\n",
    "b = np.array([10, 11, 12])"
   ]
  },
  {
   "cell_type": "code",
   "execution_count": 38,
   "id": "e5a6f5d4-408e-4ea9-b4b1-223e927b2c62",
   "metadata": {},
   "outputs": [
    {
     "name": "stdout",
     "output_type": "stream",
     "text": [
      "[[11 12 13]\n",
      " [15 16 17]\n",
      " [19 20 21]]\n"
     ]
    }
   ],
   "source": [
    "a = np.array([[1, 2, 3],\n",
    "              [4, 5, 6],\n",
    "              [7, 8, 9]])\n",
    "\n",
    "b = np.array([10, 11, 12]).reshape(3, 1)\n",
    "\n",
    "result_arr = a + b\n",
    "print(result_arr)"
   ]
  },
  {
   "cell_type": "markdown",
   "id": "93c14f56-0f37-4e08-b071-e0372c7a3bb4",
   "metadata": {},
   "source": [
    "* 6.6 Concatenate two NumPy arrays a and b horizontally. (hint: concatenate(), reshape)"
   ]
  },
  {
   "cell_type": "code",
   "execution_count": 39,
   "id": "38ee0fc8-4f2b-45b0-b382-235ec36c40f4",
   "metadata": {},
   "outputs": [],
   "source": [
    "a = np.array([1, 2, 3])\n",
    "b = np.array([4, 5, 6])\n",
    "# would love to see: array([[1, 2, 3, 4, 5, 6]])\n"
   ]
  },
  {
   "cell_type": "code",
   "execution_count": 40,
   "id": "093443cd-7f1f-46df-9a0c-2b67c1b452c0",
   "metadata": {},
   "outputs": [
    {
     "name": "stdout",
     "output_type": "stream",
     "text": [
      "[[1 2 3 4 5 6]]\n"
     ]
    }
   ],
   "source": [
    "a = np.array([1, 2, 3])\n",
    "b = np.array([4, 5, 6])\n",
    "\n",
    "concat_arr = np.concatenate((a.reshape(1, -1), b.reshape(1, -1)), axis=1)\n",
    "print(concat_arr)"
   ]
  },
  {
   "cell_type": "markdown",
   "id": "b53a009e-177f-4c5a-a52b-c428b2e05a28",
   "metadata": {},
   "source": [
    "* 6.7 Write a function that takes in a NumPy array of integers and returns the unique elements in the array, sorted in descending order. (hint: np.unique() and np.sort() with slicing backward)\n"
   ]
  },
  {
   "cell_type": "code",
   "execution_count": 41,
   "id": "51a76eac-8e79-417a-b426-094ec0b10daa",
   "metadata": {},
   "outputs": [],
   "source": [
    "def unique_descending(arr):\n",
    "    \n",
    "    \"\"\"\n",
    "    >>> arr = np.array([5, 3, 5, 7, 3, 1, 1, 9])\n",
    "    >>> unique_desc = unique_descending(arr)\n",
    "    [9 7 5 3 1]\n",
    "    \"\"\"\n"
   ]
  },
  {
   "cell_type": "code",
   "execution_count": 42,
   "id": "330d98bf-6fc5-4275-9b65-e3536bc393b8",
   "metadata": {},
   "outputs": [
    {
     "name": "stdout",
     "output_type": "stream",
     "text": [
      "[9 7 5 3 1]\n"
     ]
    }
   ],
   "source": [
    "def unique_descending(arr):\n",
    "    unique_arr = np.unique(arr)\n",
    "    return np.sort(unique_arr)[::-1]\n",
    "\n",
    "arr = np.array([5, 3, 5, 7, 3, 1, 1, 9])\n",
    "unique_desc = unique_descending(arr)\n",
    "print(unique_desc)"
   ]
  },
  {
   "cell_type": "markdown",
   "id": "efa3b80e-be92-4b25-9457-cc725d52a943",
   "metadata": {},
   "source": [
    "* 6.8 Write a function that takes in a NumPy array of shape (n, m) and returns a new array with every other row removed. (hint: slicing rows with steplenth 2 but slicing columns with step length 1)"
   ]
  },
  {
   "cell_type": "code",
   "execution_count": 43,
   "id": "b72970e3-585a-42d3-a7cc-3c9d5392f707",
   "metadata": {},
   "outputs": [],
   "source": [
    "def remove_every_other(arr):\n",
    "    \n",
    "    \"\"\"\n",
    "    >>> arr = np.array([[1, 2, 3, 4],\n",
    "                        [5, 6, 7, 8],\n",
    "                        [9, 10, 11, 12],\n",
    "                        [13, 14, 15, 16]])\n",
    "    >>> remove_every_other(arr)\n",
    "    \n",
    "    [[ 1  2  3  4]\n",
    "     [ 9 10 11 12]]\n",
    "    \"\"\""
   ]
  },
  {
   "cell_type": "code",
   "execution_count": 44,
   "id": "06bc56d5-ed79-4193-b31a-0f6e3fa3f2c0",
   "metadata": {},
   "outputs": [
    {
     "name": "stdout",
     "output_type": "stream",
     "text": [
      "[[ 1  2  3  4]\n",
      " [ 9 10 11 12]]\n"
     ]
    }
   ],
   "source": [
    "def remove_every_other(arr):\n",
    "    new_arr = arr[::2, ::]\n",
    "    return new_arr\n",
    "\n",
    "arr = np.array([[1, 2, 3, 4],\n",
    "                [5, 6, 7, 8],\n",
    "                [9, 10, 11, 12],\n",
    "                [13, 14, 15, 16]])\n",
    "result_arr = remove_every_other(arr)\n",
    "print(result_arr)"
   ]
  },
  {
   "cell_type": "code",
   "execution_count": null,
   "id": "2b140955-6316-42ae-8970-9657a16a641e",
   "metadata": {},
   "outputs": [],
   "source": []
  }
 ],
 "metadata": {
  "kernelspec": {
   "display_name": "Python 3 (ipykernel)",
   "language": "python",
   "name": "python3"
  },
  "language_info": {
   "codemirror_mode": {
    "name": "ipython",
    "version": 3
   },
   "file_extension": ".py",
   "mimetype": "text/x-python",
   "name": "python",
   "nbconvert_exporter": "python",
   "pygments_lexer": "ipython3",
   "version": "3.9.7"
  }
 },
 "nbformat": 4,
 "nbformat_minor": 5
}
