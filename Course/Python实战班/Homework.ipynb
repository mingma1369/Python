{
 "cells": [
  {
   "cell_type": "code",
   "execution_count": null,
   "id": "74f7a706-158b-49e1-aa85-e59714dcfb48",
   "metadata": {},
   "outputs": [],
   "source": [
    "# %%\n",
    "\n",
    "people = {1: {'name': 'John', 'age': '27', 'sex': 'Male'},\n",
    "          2: {'name': 'Marie', 'age': '22', 'sex': 'Female'},\n",
    "          3: {'name': 'Luna', 'age': '24', 'sex': 'Female', 'married': 'No'}}\n",
    "\n",
    "people[4] = {'name': 'Peter', 'age': '29', 'sex': 'Male', 'married': 'Yes'}\n",
    "print(people[4])\n",
    "\n",
    "people.keys()\n",
    "\n",
    "people.values()\n",
    "\n",
    "people.items()\n",
    "\n",
    "people[3].keys()\n",
    "\n",
    "\n",
    "# %%\n",
    "\n",
    "\n",
    "people = {1: {'name': 'John', 'age': '27', 'sex': 'Male'},\n",
    "          2: {'name': 'Marie', 'age': '22', 'sex': 'Female'},\n",
    "          3: {'name': 'Luna', 'age': '24', 'sex': 'Female', 'married': 'No'},\n",
    "          4: {'name': 'Peter', 'age': '29', 'sex': 'Male', 'married': 'Yes'}}\n",
    "del people[3]['married']\n",
    "del people[4]['married']\n",
    "print(people[3])\n",
    "print(people[4])"
   ]
  }
 ],
 "metadata": {
  "kernelspec": {
   "display_name": "Python 3 (ipykernel)",
   "language": "python",
   "name": "python3"
  },
  "language_info": {
   "codemirror_mode": {
    "name": "ipython",
    "version": 3
   },
   "file_extension": ".py",
   "mimetype": "text/x-python",
   "name": "python",
   "nbconvert_exporter": "python",
   "pygments_lexer": "ipython3",
   "version": "3.9.7"
  }
 },
 "nbformat": 4,
 "nbformat_minor": 5
}
