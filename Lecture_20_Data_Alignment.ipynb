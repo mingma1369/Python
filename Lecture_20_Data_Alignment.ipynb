{
  "nbformat": 4,
  "nbformat_minor": 0,
  "metadata": {
    "colab": {
      "name": "Lecture_20_Data_Alignment.ipynb",
      "provenance": [],
      "authorship_tag": "ABX9TyOBWJdgOGVnATt6s7GykJkW",
      "include_colab_link": true
    },
    "kernelspec": {
      "name": "python3",
      "display_name": "Python 3"
    },
    "language_info": {
      "name": "python"
    }
  },
  "cells": [
    {
      "cell_type": "markdown",
      "metadata": {
        "id": "view-in-github",
        "colab_type": "text"
      },
      "source": [
        "<a href=\"https://colab.research.google.com/github/mingma1369/Python/blob/main/Lecture_20_Data_Alignment.ipynb\" target=\"_parent\"><img src=\"https://colab.research.google.com/assets/colab-badge.svg\" alt=\"Open In Colab\"/></a>"
      ]
    },
    {
      "cell_type": "code",
      "execution_count": 1,
      "metadata": {
        "id": "NR-S4S4DsyzI"
      },
      "outputs": [],
      "source": [
        "import numpy as np\n",
        "import pandas as pd\n",
        "from pandas import Series,DataFrame"
      ]
    },
    {
      "cell_type": "code",
      "source": [
        "ser1=Series([0,1,2],index=['A','B','C'])\n",
        "ser1"
      ],
      "metadata": {
        "colab": {
          "base_uri": "https://localhost:8080/"
        },
        "id": "-GlEnhbns4pt",
        "outputId": "597d5a8e-2467-457e-d1b4-aa394c7ac074"
      },
      "execution_count": 3,
      "outputs": [
        {
          "output_type": "execute_result",
          "data": {
            "text/plain": [
              "A    0\n",
              "B    1\n",
              "C    2\n",
              "dtype: int64"
            ]
          },
          "metadata": {},
          "execution_count": 3
        }
      ]
    },
    {
      "cell_type": "code",
      "source": [
        "ser2=Series([3,4,5,6],index=['A','B','C','D'])\n",
        "ser2"
      ],
      "metadata": {
        "colab": {
          "base_uri": "https://localhost:8080/"
        },
        "id": "vFlW9sQmtBLK",
        "outputId": "bdad2b4b-e1e5-4281-e53a-863c77e6991d"
      },
      "execution_count": 4,
      "outputs": [
        {
          "output_type": "execute_result",
          "data": {
            "text/plain": [
              "A    3\n",
              "B    4\n",
              "C    5\n",
              "D    6\n",
              "dtype: int64"
            ]
          },
          "metadata": {},
          "execution_count": 4
        }
      ]
    },
    {
      "cell_type": "code",
      "source": [
        "ser1+ser2"
      ],
      "metadata": {
        "id": "DepOCCQ4tMAh",
        "outputId": "295b7c5a-dc66-4667-c98e-c7188144cf96",
        "colab": {
          "base_uri": "https://localhost:8080/"
        }
      },
      "execution_count": 5,
      "outputs": [
        {
          "output_type": "execute_result",
          "data": {
            "text/plain": [
              "A    3.0\n",
              "B    5.0\n",
              "C    7.0\n",
              "D    NaN\n",
              "dtype: float64"
            ]
          },
          "metadata": {},
          "execution_count": 5
        }
      ]
    },
    {
      "cell_type": "code",
      "source": [],
      "metadata": {
        "id": "uzLK7o1itNOy"
      },
      "execution_count": null,
      "outputs": []
    }
  ]
}